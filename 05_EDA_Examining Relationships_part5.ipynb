{
 "cells": [
  {
   "cell_type": "code",
   "execution_count": 1,
   "metadata": {},
   "outputs": [],
   "source": [
    "import pandas as pd \n",
    "import numpy as np \n",
    "import matplotlib.pyplot as plt \n",
    "%matplotlib inline\n",
    "pd.options.display.max_columns=999 \n",
    "plt.style.use('fivethirtyeight')"
   ]
  },
  {
   "cell_type": "markdown",
   "metadata": {},
   "source": [
    "# Case Q→Q: Linear Relationships"
   ]
  },
  {
   "cell_type": "markdown",
   "metadata": {},
   "source": [
    "## Introduction"
   ]
  },
  {
   "cell_type": "markdown",
   "metadata": {},
   "source": [
    "So far we have visualized relationships between two quantitative variables using scatterplots, and described the overall pattern of a relationship by considering its direction, form, and strength. We noted that assessing the strength of a relationship just by looking at the scatterplot is quite difficult, and therefore we need to supplement the scatterplot with some kind of numerical measure that will help us assess the strength.\n",
    "\n",
    "In this part, we will restrict our attention to the **special case of relationships that have a linear form**, since they are quite common and relatively simple to detect. More importantly, there exists a numerical measure that assesses the strength of the linear relationship between two quantitative variables with which we can supplement the scatterplot. We will introduce this numerical measure here and discuss it in detail.\n",
    "\n",
    "Even though from this point on we are going to focus only on linear relationships, it is important to remember that **not every relationship between two quantitative variables has a linear form.** We have actually seen several examples of relationships that are not linear. The statistical tools that will be introduced here are **appropriate only for examining linear relationships,** and as we will see, when they are used in nonlinear situations, these tools can lead to errors in reasoning.\n",
    "\n",
    "Let's start with a motivating example. Consider the following two scatterplots.\n",
    "\n",
    "![image](../img/linear1.png)\n",
    "\n",
    "We can see that in both cases, the direction of the relationship is positive and the form of the relationship is linear. What about the strength? Recall that the strength of a relationship is the extent to which the data follow its form. "
   ]
  },
  {
   "cell_type": "markdown",
   "metadata": {},
   "source": [
    "### Learn By Doing"
   ]
  },
  {
   "cell_type": "markdown",
   "metadata": {},
   "source": [
    "**Question-** Which of the two scatterplots do you think displays a stronger linear relationship?\n",
    "\n",
    "* The top scatterplot \n",
    "* The bottom scatterplot\n",
    "* Both relationships are equally strong"
   ]
  },
  {
   "cell_type": "markdown",
   "metadata": {},
   "source": [
    "**Your Answer-**"
   ]
  },
  {
   "cell_type": "markdown",
   "metadata": {},
   "source": [
    "If you have choosen anything other than the third option then it is incorrect. We tricked you! That was our intention. If you look closely at the two scatterplots, you will notice that they display the same data, but look different, since we used different scales on the axes. Both scatterplots display an equally strong positive linear relationship.\n",
    "\n",
    "The purpose of this example was to illustrate how assessing the strength of the linear relationship from a scatterplot alone is problematic, since our judgment might be affected by the scale on which the values are plotted. This example, therefore, provides a motivation for the need to supplement the scatterplot with a **numerical measure** that will **measure the strength** of the linear relationship between two quantitative variables."
   ]
  },
  {
   "cell_type": "markdown",
   "metadata": {},
   "source": [
    "## Linear Relationships: Correlation"
   ]
  },
  {
   "cell_type": "markdown",
   "metadata": {},
   "source": [
    "### The Correlation Coefficient—r"
   ]
  },
  {
   "cell_type": "markdown",
   "metadata": {},
   "source": [
    "The numerical measure that assesses the strength of a linear relationship is called the **correlation coefficient**, and is denoted by r. We will: \n",
    "\n",
    "* give a definition of the correlation r,\n",
    "* discuss the calculation of r,\n",
    "* explain how to interpret the value of r, and\n",
    "* talk about some of the properties of r.\n",
    "\n",
    "**Definition:** The **correlation coefficient (r)** is a numerical measure that measures the **strength** and **direction** of a linear relationship between two quantitative variables.\n",
    "\n",
    "**Calculation:** r is calculated using the following formula:\n",
    "\n",
    "![image](../img/linear2.png)\n",
    "\n",
    "However, the calculation of the correlation (r) is not the focus of this course. We will use a statistics package to calculate r for us, and the emphasis of this course will be on the interpretation of its value."
   ]
  },
  {
   "cell_type": "markdown",
   "metadata": {},
   "source": [
    "### Interpreting the value of r"
   ]
  },
  {
   "cell_type": "code",
   "execution_count": 2,
   "metadata": {},
   "outputs": [
    {
     "data": {
      "text/html": [
       "<video src=\"../img/linear_video.mp4\" controls  >\n",
       "      Your browser does not support the <code>video</code> element.\n",
       "    </video>"
      ],
      "text/plain": [
       "<IPython.core.display.Video object>"
      ]
     },
     "execution_count": 2,
     "metadata": {},
     "output_type": "execute_result"
    }
   ],
   "source": [
    "from IPython.display import Video\n",
    "Video(\"../img/linear_video.mp4\")"
   ]
  },
  {
   "cell_type": "markdown",
   "metadata": {},
   "source": [
    "### Example: Highway Sign Visibility"
   ]
  },
  {
   "cell_type": "markdown",
   "metadata": {},
   "source": [
    "Earlier, we used the scatterplot below to find a negative linear relationship between the age of a driver and the maximum distance at which a highway sign was legible. What about the strength of the relationship? It turns out that the correlation between the two variables is r = -0.793. \n",
    "\n",
    "![image](../img/linear3.png)\n",
    "\n",
    "Since r < 0, it confirms that the direction of the relationship is negative (although we really didn't need r to tell us that). Since r is relatively close to -1, it suggests that the relationship is moderately strong. In context, the negative correlation confirms that the maximum distance at which a sign is legible generally decreases with age. Since the value of r indicates that the linear relationship is moderately strong, but not perfect, we can expect the maximum distance to vary somewhat, even among drivers of the same age."
   ]
  },
  {
   "cell_type": "markdown",
   "metadata": {},
   "source": [
    "### Example: Statistics Courses"
   ]
  },
  {
   "cell_type": "markdown",
   "metadata": {},
   "source": [
    "A statistics department is interested in tracking the progress of its students from entry until graduation. As part of the study, the department tabulates the performance of 10 students in an introductory course and in an upper-level course required for graduation. What is the relationship between the students' course averages in the two courses? Here is the scatterplot for the data: \n",
    "\n",
    "![image](../img/linear4.png)\n",
    "\n",
    "The scatterplot suggests a relationship that is positive in direction, linear in form, and seems quite strong. The value of the correlation that we find between the two variables is r = 0.931, which is very close to 1, and thus confirms that indeed the linear relationship is very strong."
   ]
  },
  {
   "cell_type": "markdown",
   "metadata": {},
   "source": [
    "#### Comment\n",
    "Note that in both examples we supplemented the scatterplot with the correlation (r). Now that we have the correlation (r), why do we still need to look at a scatterplot when examining the relationship between two quantitative variables?\n",
    "\n",
    "The correlation coefficient can only be interpreted as the measure of the strength of a linear relationship, so we need the scatterplot to verify that the relationship indeed looks linear. This point and its importance will be clearer after we examine a few properties of r."
   ]
  },
  {
   "cell_type": "markdown",
   "metadata": {},
   "source": [
    "## Linear Relationships: Properties of r"
   ]
  },
  {
   "cell_type": "markdown",
   "metadata": {},
   "source": [
    "We now discuss and illustrate several important properties of the correlation coefficient as a numerical measure of the strength of a linear relationship.\n",
    "\n",
    "1. The correlation does not change when the units of measurement of either one of the variables change. In other words, if we change the units of measurement of the explanatory variable and/or the response variable, the change has no effect on the correlation (r).\n",
    "\n",
    "To illustrate, following are two versions of the scatterplot of the relationship between sign legibility distance and driver's age:\n",
    "\n",
    "![image](../img/linear5.png)\n",
    "\n",
    "The top scatterplot displays the original data where the maximum distances is measured in feet. The bottom scatterplot displays the same relationship but with maximum distances changed to meters. Notice that the Y-values have changed, but the correlations are the same. This example illustrates how changing the units of measurement of the response variable has no effect on r, but as we indicated above, the same is true for changing the units of the explanatory variable, or of both variables.\n",
    "\n",
    "This might be a good place to comment that the correlation (r) is unitless. It is just a number.\n",
    "\n",
    "2. The correlation measures only the strength of a linear relationship between two variables. It ignores any other type of relationship, no matter how strong it is. For example, consider the relationship between the average fuel usage of driving a fixed distance in a car, and the speed at which the car drives:\n",
    "\n",
    "![image](../img/linear6.png)\n",
    "\n",
    "Our data describe a fairly simple curvilinear relationship: the amount of fuel consumed decreases rapidly to a minimum for a car driving 60 kilometers per hour, and then increases gradually for speeds exceeding 60 kilometers per hour. The relationship is very strong, as the observations seem to perfectly fit the curve.\n",
    "\n",
    "Although the relationship is strong, the correlation r = -0.172 indicates a weak linear relationship. This makes sense considering that the data fails to adhere closely to a linear form:\n",
    "\n",
    "![image](../img/linear7.png)\n",
    "\n",
    "The correlation is useless for assessing the strength of any type of relationship that is not linear (including relationships that are curvilinear, such as the one in our example). Beware, then, of interpreting the fact that r is close to 0 as an indicator of a weak relationship rather than a weak linear relationship. This example also illustrates how important it is to always look at the data in the scatterplot because, as in our example, there might be a strong nonlinear relationship that r does not indicate.\n",
    "\n",
    "Since the correlation was nearly zero when the form of the relationship was not linear, we might ask if the correlation can be used to determine whether or not a relationship is linear.\n",
    "\n",
    "3. The correlation by itself is not sufficient to determine whether a relationship is linear. To see this, let's consider the study that examined the effect of monetary incentives on the return rate of questionnaires. Below is the scatterplot relating the percentage of participants who completed a survey to the monetary incentive that researchers promised to participants, in which we find a strong curvilinear relationship:\n",
    "\n",
    "![image](../img/linear8.png)\n",
    "\n",
    "The relationship is curvilinear, yet the correlation r = 0.876 is quite close to 1.\n",
    "\n",
    "In the last two examples, we have seen two very strong curvilinear relationships, one with a correlation close to 0 and one with a correlation close to 1. Therefore, the correlation alone does not indicate whether a relationship is linear. The important principle here is:\n",
    "\n",
    "Always look at the data!\n",
    "\n",
    "4. The correlation is heavily influenced by outliers. As you will learn in the next two activities, the way in which the outlier influences the correlation depends upon whether or not the outlier is consistent with the pattern of the linear relationship."
   ]
  },
  {
   "cell_type": "markdown",
   "metadata": {},
   "source": [
    "### Learn By Doing Activity"
   ]
  },
  {
   "cell_type": "markdown",
   "metadata": {},
   "source": [
    "### Scenario: Animal Gestation and Longevity\n",
    "\n",
    "The average gestation period, or time of pregnancy, of an animal is closely related to its longevity —the length of its lifespan. Data on the average gestation period and longevity (in captivity) of 40 different species of animals have been recorded.\n",
    "\n",
    "We first produce a scatterplot to verify that gestation and longevity are nearly linear in their relationship.\n",
    "\n",
    "![image](../img/linear9.png)\n",
    "\n"
   ]
  },
  {
   "cell_type": "markdown",
   "metadata": {},
   "source": [
    "We compute the correlation between gestation period and longevity and find that r = 0.663.\n",
    "\n",
    "**Question-** Based on these findings, what is the strength of the relationship between gestation period and longevity?\n",
    "\n",
    "* Weak and positive\n",
    "* Moderate and positive \n",
    "* Strong and positive\n",
    "* Weak and negative\n",
    "* Moderate and negative\n",
    "* Strong and negative"
   ]
  },
  {
   "cell_type": "markdown",
   "metadata": {},
   "source": [
    "**Your Answer-** "
   ]
  },
  {
   "cell_type": "markdown",
   "metadata": {},
   "source": [
    "Looking at the scatterplot you can see that there is an outlier in both longevity (40 years) and gestation (645 days). Note: This outlier corresponds to the longevity and gestation period of the elephant.\n",
    "\n",
    "**Question-** What do you think will happen to the correlation (0.663) if we remove this outlier?\n",
    "\n",
    "* Increase\n",
    "* Decrease "
   ]
  },
  {
   "cell_type": "markdown",
   "metadata": {},
   "source": [
    "**Your Answer-** "
   ]
  },
  {
   "cell_type": "markdown",
   "metadata": {},
   "source": [
    "### Comment\n",
    "\n",
    "In the last activity, we saw an example where there was a positive linear relationship between the two variables, and including the outlier just \"strengthened\" it. Consider the hypothetical data displayed by the following scatterplot: \n",
    "\n",
    "![image](../img/linear10.png)\n",
    "\n",
    "In this case, the low outlier gives an \"illusion\" of a positive linear relationship, whereas in reality, there is no linear relationship between X and Y."
   ]
  },
  {
   "cell_type": "markdown",
   "metadata": {},
   "source": [
    "### Exercise: Computing a Correlation"
   ]
  },
  {
   "cell_type": "markdown",
   "metadata": {},
   "source": [
    "In this activity we will:\n",
    "\n",
    "* learn how to compute the correlation (r).\n",
    "* practice interpreting the value of the correlation.\n",
    "* see an example of how including an outlier can increase the correlation.\n",
    "\n",
    "Recall the following example: The average gestation period, or time of pregnancy, of an animal is closely related to its longevity —the length of its lifespan. Data on the average gestation period and longevity (in captivity) of 40 different species of animals have been recorded.\n",
    "\n",
    "Our dataset contains the following variables:\n",
    "\n",
    "* **animal:** the name of the animal species.\n",
    "\n",
    "* **gestation:** the average gestation period of the species, in days.\n",
    "\n",
    "* **longevity:** the average longevity of the species, in years."
   ]
  },
  {
   "cell_type": "code",
   "execution_count": 3,
   "metadata": {},
   "outputs": [],
   "source": [
    "animals = pd.read_excel('../Data/animals.xls')"
   ]
  },
  {
   "cell_type": "code",
   "execution_count": 4,
   "metadata": {},
   "outputs": [
    {
     "data": {
      "text/html": [
       "<div>\n",
       "<style scoped>\n",
       "    .dataframe tbody tr th:only-of-type {\n",
       "        vertical-align: middle;\n",
       "    }\n",
       "\n",
       "    .dataframe tbody tr th {\n",
       "        vertical-align: top;\n",
       "    }\n",
       "\n",
       "    .dataframe thead th {\n",
       "        text-align: right;\n",
       "    }\n",
       "</style>\n",
       "<table border=\"1\" class=\"dataframe\">\n",
       "  <thead>\n",
       "    <tr style=\"text-align: right;\">\n",
       "      <th></th>\n",
       "      <th>animal</th>\n",
       "      <th>gestation</th>\n",
       "      <th>longevity</th>\n",
       "    </tr>\n",
       "  </thead>\n",
       "  <tbody>\n",
       "    <tr>\n",
       "      <th>0</th>\n",
       "      <td>baboon</td>\n",
       "      <td>187</td>\n",
       "      <td>20</td>\n",
       "    </tr>\n",
       "    <tr>\n",
       "      <th>1</th>\n",
       "      <td>bear, black</td>\n",
       "      <td>219</td>\n",
       "      <td>18</td>\n",
       "    </tr>\n",
       "    <tr>\n",
       "      <th>2</th>\n",
       "      <td>bear, grizzly</td>\n",
       "      <td>225</td>\n",
       "      <td>25</td>\n",
       "    </tr>\n",
       "    <tr>\n",
       "      <th>3</th>\n",
       "      <td>bear, polar</td>\n",
       "      <td>240</td>\n",
       "      <td>20</td>\n",
       "    </tr>\n",
       "    <tr>\n",
       "      <th>4</th>\n",
       "      <td>beaver</td>\n",
       "      <td>122</td>\n",
       "      <td>5</td>\n",
       "    </tr>\n",
       "  </tbody>\n",
       "</table>\n",
       "</div>"
      ],
      "text/plain": [
       "          animal  gestation  longevity\n",
       "0         baboon        187         20\n",
       "1    bear, black        219         18\n",
       "2  bear, grizzly        225         25\n",
       "3    bear, polar        240         20\n",
       "4         beaver        122          5"
      ]
     },
     "execution_count": 4,
     "metadata": {},
     "output_type": "execute_result"
    }
   ],
   "source": [
    "animals.head()"
   ]
  },
  {
   "cell_type": "markdown",
   "metadata": {},
   "source": [
    "Remember that the correlation is only an appropriate measure of the linear relationship between two quantitative variables. First produce a scatterplot to verify that gestation and longevity are nearly linear in their relationship. "
   ]
  },
  {
   "cell_type": "code",
   "execution_count": 5,
   "metadata": {},
   "outputs": [
    {
     "data": {
      "image/png": "[encoded data removed]",
      "text/plain": [
       "<Figure size 576x432 with 1 Axes>"
      ]
     },
     "metadata": {
      "needs_background": "light"
     },
     "output_type": "display_data"
    }
   ],
   "source": [
    "animals.plot.scatter(x='longevity', y='gestation', figsize=(8,6))\n",
    "plt.xlabel(\"Average Longevity of Species (years)\")\n",
    "plt.ylabel(\"Average Gestation Period of Species (days)\")\n",
    "plt.show()"
   ]
  },
  {
   "cell_type": "code",
   "execution_count": 6,
   "metadata": {},
   "outputs": [
    {
     "data": {
      "image/png": "[encoded data removed]",
      "text/plain": [
       "<Figure size 504x504 with 1 Axes>"
      ]
     },
     "metadata": {
      "needs_background": "light"
     },
     "output_type": "display_data"
    }
   ],
   "source": [
    "# Another way to plot it using seaborn package\n",
    "import seaborn as sns\n",
    "sns.lmplot(x='longevity', y='gestation', height= 7 ,data=animals)\n",
    "plt.xlabel(\"Average Longevity of Species (years)\")\n",
    "plt.ylabel(\"Average Gestation Period of Species (days)\")\n",
    "plt.show()"
   ]
  },
  {
   "cell_type": "markdown",
   "metadata": {},
   "source": [
    "Observe that the relationship between gestation period and longevity is linear and positive. Now we will compute the correlation between gestation period and longevity."
   ]
  },
  {
   "cell_type": "code",
   "execution_count": 7,
   "metadata": {},
   "outputs": [
    {
     "data": {
      "text/html": [
       "<div>\n",
       "<style scoped>\n",
       "    .dataframe tbody tr th:only-of-type {\n",
       "        vertical-align: middle;\n",
       "    }\n",
       "\n",
       "    .dataframe tbody tr th {\n",
       "        vertical-align: top;\n",
       "    }\n",
       "\n",
       "    .dataframe thead th {\n",
       "        text-align: right;\n",
       "    }\n",
       "</style>\n",
       "<table border=\"1\" class=\"dataframe\">\n",
       "  <thead>\n",
       "    <tr style=\"text-align: right;\">\n",
       "      <th></th>\n",
       "      <th>gestation</th>\n",
       "      <th>longevity</th>\n",
       "    </tr>\n",
       "  </thead>\n",
       "  <tbody>\n",
       "    <tr>\n",
       "      <th>gestation</th>\n",
       "      <td>1.00000</td>\n",
       "      <td>0.66324</td>\n",
       "    </tr>\n",
       "    <tr>\n",
       "      <th>longevity</th>\n",
       "      <td>0.66324</td>\n",
       "      <td>1.00000</td>\n",
       "    </tr>\n",
       "  </tbody>\n",
       "</table>\n",
       "</div>"
      ],
      "text/plain": [
       "           gestation  longevity\n",
       "gestation    1.00000    0.66324\n",
       "longevity    0.66324    1.00000"
      ]
     },
     "execution_count": 7,
     "metadata": {},
     "output_type": "execute_result"
    }
   ],
   "source": [
    "# To calculate correlation coefficient r, we can use the pandas corr() method\n",
    "animals.corr()"
   ]
  },
  {
   "cell_type": "markdown",
   "metadata": {},
   "source": [
    "Applying corr() method on a dataframe gives you a pairwise correlation between your columns. \n",
    "Along the diagonal of our matrix we have a value of 1 becuase each column is perfectly correlated with itself."
   ]
  },
  {
   "cell_type": "code",
   "execution_count": 8,
   "metadata": {},
   "outputs": [
    {
     "data": {
      "text/plain": [
       "gestation    0.66324\n",
       "longevity    1.00000\n",
       "Name: longevity, dtype: float64"
      ]
     },
     "execution_count": 8,
     "metadata": {},
     "output_type": "execute_result"
    }
   ],
   "source": [
    "# You can also just select only one column like this if you have two many columns\n",
    "animals.corr()['longevity']"
   ]
  },
  {
   "cell_type": "code",
   "execution_count": 9,
   "metadata": {},
   "outputs": [
    {
     "data": {
      "text/plain": [
       "0.6632396748585049"
      ]
     },
     "execution_count": 9,
     "metadata": {},
     "output_type": "execute_result"
    }
   ],
   "source": [
    "# Another way to find correlation\n",
    "animals['gestation'].corr(animals['longevity'])"
   ]
  },
  {
   "cell_type": "markdown",
   "metadata": {},
   "source": [
    "### Learn By Doing "
   ]
  },
  {
   "cell_type": "markdown",
   "metadata": {},
   "source": [
    "**Question-** Report the correlation between gestation and longevity and comment on the strength and direction of the relationship. Interpret your findings in context."
   ]
  },
  {
   "cell_type": "markdown",
   "metadata": {},
   "source": [
    "**Your Answer-** "
   ]
  },
  {
   "cell_type": "markdown",
   "metadata": {},
   "source": [
    "Now return to the scatterplot that you created earlier. Notice that there is an outlier in both longevity (40 years) and gestation (645 days). Note: This outlier corresponds to the longevity and gestation period of the elephant.\n",
    "\n",
    "**Question-** What do you think will happen to the correlation if we remove this outlier?"
   ]
  },
  {
   "cell_type": "code",
   "execution_count": 10,
   "metadata": {},
   "outputs": [
    {
     "data": {
      "text/html": [
       "<div>\n",
       "<style scoped>\n",
       "    .dataframe tbody tr th:only-of-type {\n",
       "        vertical-align: middle;\n",
       "    }\n",
       "\n",
       "    .dataframe tbody tr th {\n",
       "        vertical-align: top;\n",
       "    }\n",
       "\n",
       "    .dataframe thead th {\n",
       "        text-align: right;\n",
       "    }\n",
       "</style>\n",
       "<table border=\"1\" class=\"dataframe\">\n",
       "  <thead>\n",
       "    <tr style=\"text-align: right;\">\n",
       "      <th></th>\n",
       "      <th>animal</th>\n",
       "      <th>gestation</th>\n",
       "      <th>longevity</th>\n",
       "    </tr>\n",
       "  </thead>\n",
       "  <tbody>\n",
       "    <tr>\n",
       "      <th>0</th>\n",
       "      <td>baboon</td>\n",
       "      <td>187</td>\n",
       "      <td>20</td>\n",
       "    </tr>\n",
       "    <tr>\n",
       "      <th>1</th>\n",
       "      <td>bear, black</td>\n",
       "      <td>219</td>\n",
       "      <td>18</td>\n",
       "    </tr>\n",
       "    <tr>\n",
       "      <th>2</th>\n",
       "      <td>bear, grizzly</td>\n",
       "      <td>225</td>\n",
       "      <td>25</td>\n",
       "    </tr>\n",
       "    <tr>\n",
       "      <th>3</th>\n",
       "      <td>bear, polar</td>\n",
       "      <td>240</td>\n",
       "      <td>20</td>\n",
       "    </tr>\n",
       "    <tr>\n",
       "      <th>4</th>\n",
       "      <td>beaver</td>\n",
       "      <td>122</td>\n",
       "      <td>5</td>\n",
       "    </tr>\n",
       "  </tbody>\n",
       "</table>\n",
       "</div>"
      ],
      "text/plain": [
       "          animal  gestation  longevity\n",
       "0         baboon        187         20\n",
       "1    bear, black        219         18\n",
       "2  bear, grizzly        225         25\n",
       "3    bear, polar        240         20\n",
       "4         beaver        122          5"
      ]
     },
     "execution_count": 10,
     "metadata": {},
     "output_type": "execute_result"
    }
   ],
   "source": [
    "# only select the data for all animals except elephant\n",
    "animals_not_elephant = animals[animals['animal'] != 'elephant']\n",
    "animals_not_elephant.head()"
   ]
  },
  {
   "cell_type": "code",
   "execution_count": 11,
   "metadata": {},
   "outputs": [
    {
     "data": {
      "text/plain": [
       "0.5190389111466764"
      ]
     },
     "execution_count": 11,
     "metadata": {},
     "output_type": "execute_result"
    }
   ],
   "source": [
    "animals_not_elephant['gestation'].corr(animals_not_elephant['longevity'])"
   ]
  },
  {
   "cell_type": "markdown",
   "metadata": {},
   "source": [
    "**Question-** Report the new value for the correlation between gestation and longevity and compare it to the value you found earlier when the outlier was included. What is it about this outlier that results in the fact that its inclusion in the data causes the correlation to increase? (Hint: look at the scatterplot.)"
   ]
  },
  {
   "cell_type": "markdown",
   "metadata": {},
   "source": [
    "**Your Answer-** "
   ]
  },
  {
   "cell_type": "markdown",
   "metadata": {},
   "source": [
    "## Linear Relationships: Regression"
   ]
  },
  {
   "cell_type": "markdown",
   "metadata": {},
   "source": [
    "### Linear Regression: Summarizing the Pattern of the Data with a Line"
   ]
  },
  {
   "cell_type": "markdown",
   "metadata": {},
   "source": [
    "So far we've used the scatterplot to describe the relationship between two quantitative variables, and in the special case of a linear relationship, we have supplemented the scatterplot with the correlation (r). The correlation, however, doesn't fully characterize the linear relationship between two quantitative variables—it only measures the strength and direction. We often want to describe more precisely how one variable changes with the other (by \"more precisely,\" we mean more than just the direction), or predict the value of the response variable for a given value of the explanatory variable. In order to be able to do that, we need to summarize the linear relationship with a line that best fits the linear pattern of the data. In the remainder of this section, we will introduce a way to find such a line, learn how to interpret it, and use it (cautiously) to make predictions.\n",
    "\n",
    "Again, let's start with a motivating example:\n",
    "\n",
    "Earlier, we examined the linear relationship between the age of a driver and the maximum distance at which a highway sign was legible, using both a scatterplot and the correlation coefficient. Suppose a government agency wanted to predict the maximum distance at which the sign would be legible for 60-year-old drivers, and thus make sure that the sign could be used safely and effectively.\n",
    "\n",
    "How would we make this prediction?"
   ]
  },
  {
   "cell_type": "code",
   "execution_count": 12,
   "metadata": {},
   "outputs": [
    {
     "data": {
      "text/html": [
       "<video src=\"../img/linear_video2.mp4\" controls  >\n",
       "      Your browser does not support the <code>video</code> element.\n",
       "    </video>"
      ],
      "text/plain": [
       "<IPython.core.display.Video object>"
      ]
     },
     "execution_count": 12,
     "metadata": {},
     "output_type": "execute_result"
    }
   ],
   "source": [
    "Video('../img/linear_video2.mp4')"
   ]
  },
  {
   "cell_type": "markdown",
   "metadata": {},
   "source": [
    "How and why did we pick this particular line (the one shown in red in the above video) to describe the dependence of the maximum distance at which a sign is legible upon the age of a driver? What line exactly did we choose? We will return to this example once we can answer that question with a bit more precision."
   ]
  },
  {
   "cell_type": "markdown",
   "metadata": {},
   "source": [
    "### Least Squares Regression"
   ]
  },
  {
   "cell_type": "markdown",
   "metadata": {},
   "source": [
    "The technique that specifies the dependence of the response variable on the explanatory variable is called **regression.** When that dependence is linear (which is the case in our examples in this section), the technique is called **linear regression.** Linear regression is therefore the technique of finding the line that best fits the pattern of the linear relationship (or in other words, the line that best describes how the response variable linearly depends on the explanatory variable).\n",
    "\n",
    "To understand how such a line is chosen, consider the following very simplified version of the age-distance example (we left just 6 of the drivers on the scatterplot):\n",
    "\n",
    "![image](../img/linear11.png)\n",
    "\n",
    "There are many lines that look like they would be good candidates to be the line that best fits the data: \n",
    "\n",
    "![image](../img/linear12.png)\n",
    "\n",
    "It is doubtful that everyone would select the same line in the plot above. We need to agree on what we mean by \"best fits the data\"; in other words, we need to agree on a criterion by which we would select this line. We want the line we choose to be close to the data points. In other words, whatever criterion we choose, it had better somehow take into account the vertical deviations of the data points from the line, which are marked with blue arrows in the plot below:\n",
    "\n",
    "![image](../img/linear13.png)\n",
    "\n",
    "The most commonly used criterion is called the **least squares** criterion. This criterion says: Among all the lines that look good on your data, choose the one that has the smallest sum of squared vertical deviations. Visually, each squared deviation is represented by the area of one of the squares in the plot below. Therefore, we are looking for the line that will have the smallest total yellow area.\n",
    "\n",
    "![image](../img/linear14.png)\n",
    "\n",
    "This line is called the **least-squares regression line**, and, as we'll see, it fits the linear pattern of the data very well."
   ]
  },
  {
   "cell_type": "markdown",
   "metadata": {},
   "source": [
    "### Algebra Review"
   ]
  },
  {
   "cell_type": "markdown",
   "metadata": {},
   "source": [
    "For the remainder of this lesson, you'll need to feel comfortable with the algebra of a straight line. In particular you'll need to be familiar with the slope and the intercept in the equation of a line, and their interpretation. If you'd like a refresher on the algebra of a line, keep reading.  Otherwise, continue on to the next topic. "
   ]
  },
  {
   "cell_type": "markdown",
   "metadata": {},
   "source": [
    "### The Algebra of a Line"
   ]
  },
  {
   "cell_type": "markdown",
   "metadata": {},
   "source": [
    "A line is described by a set of points (X,Y) that obey a particular relationship between **X** and **Y**. That relationship is called the equation of the line, which we will express in the following form: **Y** = a + b**X**.  In this equation, a and b are constants that can be either negative or positive. The reason to write the line in this form is that the constants a and b tell us what the line looks like, as follows:\n",
    "\n",
    "1. The **intercept (a)** is the value that **Y** takes when **X = 0**.\n",
    "\n",
    "2. The **slope (b)** is the change in **Y** for every increase of 1 unit in **X**.\n",
    "\n",
    "The slope and intercept are indicated with arrows on the following diagram:\n",
    "\n",
    "![image](../img/linear15.png)\n",
    "\n",
    "Note that if either the intercept (**a**) or the slope (**b**) is negative, the corresponding blue arrow on the diagram above would point downward."
   ]
  },
  {
   "cell_type": "markdown",
   "metadata": {},
   "source": [
    "### Example: 1"
   ]
  },
  {
   "cell_type": "markdown",
   "metadata": {},
   "source": [
    "Consider the line **Y** = 1 + 1/3* **X** . The intercept is 1. The slope is 1/3, and the graph of this line is, therefore:\n",
    "\n",
    "![image](../img/linear16.png)\n"
   ]
  },
  {
   "cell_type": "markdown",
   "metadata": {},
   "source": [
    "### Example: 2"
   ]
  },
  {
   "cell_type": "markdown",
   "metadata": {},
   "source": [
    "Consider the line **Y** = 1 - 1/3* **X**. The intercept is 1. The slope is -1/3, and the graph of this line is, therefore:\n",
    "\n",
    "![image](../img/linear17.png)\n",
    "\n"
   ]
  },
  {
   "cell_type": "markdown",
   "metadata": {},
   "source": [
    "### Linear Relationships: Intercept and Slope"
   ]
  },
  {
   "cell_type": "markdown",
   "metadata": {},
   "source": [
    "Like any other line, the equation of the least-squares regression line for summarizing the linear relationship between the response variable (Y) and the explanatory variable (X) has the form: **Y** = a + b**X**.\n",
    "All we need to do is calculate the intercept **a**, and the slope **b**, which is easily done if we know:\n",
    "\n",
    "![image](../img/linear18.png)\n",
    "\n",
    "### Comments\n",
    "\n",
    "Note that since the formula for the intercept a depends on the value of the slope, b, you need to find b first.\n",
    "The slope of the least squares regression line can be interpreted as the average change in the response variable when the explanatory variable increases by 1 unit."
   ]
  },
  {
   "cell_type": "markdown",
   "metadata": {},
   "source": [
    "### Example: Age-Distance"
   ]
  },
  {
   "cell_type": "markdown",
   "metadata": {},
   "source": [
    "Let's revisit our age-distance example, and find the least-squares regression line. The following output will be helpful in getting the 5 values we need:\n",
    "\n",
    "![image](../img/linear19.png)\n",
    "\n",
    "![image](../img/linear20.png)\n",
    "\n",
    "![image](../img/linear21.png)\n",
    "\n",
    "As we can see, the regression line fits the linear pattern of the data quite well.\n",
    "\n",
    "### Comment\n",
    "As we mentioned before, hand-calculation is not the focus of this course. We wanted you to see one example in which the least squares regression line is calculated by hand, but in general we'll let a statistics package do that for us."
   ]
  },
  {
   "cell_type": "markdown",
   "metadata": {},
   "source": [
    "## Linear Relationships: Prediction"
   ]
  },
  {
   "cell_type": "markdown",
   "metadata": {},
   "source": [
    "Let's go back now to our motivating example, in which we wanted to predict the maximum distance at which a sign is legible for a 60-year-old. Now that we have found the least squares regression line, this prediction becomes quite easy: \n",
    "\n",
    "![image](../img/linear22.png)\n",
    "\n",
    "Practically, what the figure tells us is that in order to find the predicted legibility distance for a 60-year-old, we plug Age = 60 into the regression line equation, to find that:\n",
    "\n",
    "**Predicted distance = 576 + (- 3 * 60) = 396**\n",
    "\n",
    "396 feet is our best prediction for the maximum distance at which a sign is legible for a 60-year-old."
   ]
  },
  {
   "cell_type": "markdown",
   "metadata": {},
   "source": [
    "### Scenario: Progress Until Graduation"
   ]
  },
  {
   "cell_type": "markdown",
   "metadata": {},
   "source": [
    "**Background:** A statistics department is interested in tracking the progress of its students from entry until graduation. As part of the study, the department tabulates the performance of 10 students in an introductory course and in an upper-level course required for graduation. The scatterplot below includes the least squares line (the line that best explains the upper-level course average based on the lower-level course average), and its equation:\n",
    "\n",
    "![image](../img/linear23.png)\n"
   ]
  },
  {
   "cell_type": "markdown",
   "metadata": {},
   "source": [
    "### Did I Get This"
   ]
  },
  {
   "cell_type": "markdown",
   "metadata": {},
   "source": [
    "**Question-** What is the slope of the regression line?\n",
    "\n",
    "* 1.4\n",
    "* −1.4\n",
    "* 1 \n",
    "* −1"
   ]
  },
  {
   "cell_type": "markdown",
   "metadata": {},
   "source": [
    "**Your Answer-** "
   ]
  },
  {
   "cell_type": "markdown",
   "metadata": {},
   "source": [
    "**Question-** Which of the following is the correct interpretation of the slope of the regression line?\n",
    "\n",
    "* A student who performs 1 point better than another on the upper-level course is likely to perform 1 point worse in the introductory course.\n",
    "* A student who performs 1 point worse than another on the upper-level course is likely to perform 1 point better in the introductory course.\n",
    "* A student who performs 1 point better than another in the introductory course is likely to perform 10 − 1.4 = 8.6 points better in the upper-level course.\n",
    "* A student who performs 1 point better than another on the introductory course is likely to perform 1 point better in the upper-level course. \n",
    "\n"
   ]
  },
  {
   "cell_type": "markdown",
   "metadata": {},
   "source": [
    "**Your Answer-** "
   ]
  },
  {
   "cell_type": "markdown",
   "metadata": {},
   "source": [
    "**Question-** A student scored an average of 90 in the introductory course. What score can we expect for this student in the upper-level course?"
   ]
  },
  {
   "cell_type": "markdown",
   "metadata": {},
   "source": [
    "**Your Answer-** "
   ]
  },
  {
   "cell_type": "markdown",
   "metadata": {},
   "source": [
    "### Comment About Predictions"
   ]
  },
  {
   "cell_type": "markdown",
   "metadata": {},
   "source": [
    "Suppose a government agency wanted to design a sign appropriate for an even wider range of drivers than were present in the original study. They want to predict the maximum distance at which the sign would be legible for a 90-year-old. Using the least squares regression line again as our summary of the linear dependence of the distances upon the drivers' ages, the agency predicts that 90-year-old drivers can see the sign at no more than 576 + (- 3 * 90) = 306 feet:\n",
    "\n",
    "![image](../img/linear24.png)\n",
    "\n",
    "(The green segment of the line is the region of ages beyond 82, the age of the oldest individual in the study.)\n",
    "\n",
    "**Question:** Is our prediction for 90-year-old drivers reliable?\n",
    "\n",
    "**Answer:** Our original age data ranged from 18 (youngest driver) to 82 (oldest driver), and our regression line is therefore a summary of the linear relationship in that age range only. When we plug the value 90 into the regression line equation, we are assuming that the same linear relationship extends beyond the range of our age data (18-82) into the green segment. There is no justification for such an assumption. It might be the case that the vision of drivers older than 82 falls off more rapidly than it does for younger drivers. (i.e., the slope changes from -3 to something more negative). Our prediction for age = 90 is therefore not reliable.\n",
    "\n",
    "### In General\n",
    "\n",
    "Prediction for ranges of the explanatory variable that are not in the data is called extrapolation. Since there is no way of knowing whether a relationship holds beyond the range of the explanatory variable in the data, extrapolation is not reliable, and should be avoided. In our example, like most others, extrapolation can lead to very poor or illogical predictions."
   ]
  },
  {
   "cell_type": "markdown",
   "metadata": {},
   "source": [
    "### Learn By Doing Activity"
   ]
  },
  {
   "cell_type": "markdown",
   "metadata": {},
   "source": [
    "### Scenario: Olympic 1,500 Meter Times"
   ]
  },
  {
   "cell_type": "markdown",
   "metadata": {},
   "source": [
    "The modern Olympic Games have changed dramatically since their inception in 1896. For example, many commentators have remarked on the change in the quality of athletic performances from year to year. Regression will allow us to investigate the change in winning times for one event—the 1,500 meter race.\n",
    "\n",
    "Here is a description of the variables:\n",
    "\n",
    "Year: the year of the Olympic Games, from 1896 to 2012.\n",
    "\n",
    "Time: the winning time for the 1,500 meter race, in seconds.\n",
    "\n",
    "First, let’s explore the relationship between the two quantitative variables: year and time. Here is a scatterplot of the two variables.\n",
    "\n",
    "![image](../img/linear25.png)\n",
    "\n",
    "Observe that the form of the relationship between the 1,500 meter race's winning time and the year is linear. The least squares regression line is therefore an appropriate way to summarize the relationship and examine the change in winning times over the course of the last century. We will now find the least squares regression line and plot it on a scatterplot.\n",
    "\n",
    "![image](../img/linear26.png)\n",
    "\n"
   ]
  },
  {
   "cell_type": "markdown",
   "metadata": {},
   "source": [
    "**Question-** Which of the following is the appropriate equation for this least squares regression line?\n",
    "\n",
    "* Time = 916 - 0.35 * Year \n",
    "* Time = -0.35 + 916 * Year\n",
    "* Year = 916 - 0.35 * Time\n",
    "* Year = -0.35 + 916 * Time"
   ]
  },
  {
   "cell_type": "markdown",
   "metadata": {},
   "source": [
    "**Your Answer-** "
   ]
  },
  {
   "cell_type": "markdown",
   "metadata": {},
   "source": [
    "Notice that there is an outlier (Year = 1896). Let's remove the outlier and create the least-squares regression line with the outlier removed. You will now see that the least squares regression line and the values in the equation have changed.\n",
    "\n",
    "![image](../img/linear27.png)\n",
    "\n",
    "New least squares regression equation: Time = 812 - 0.30 * Year"
   ]
  },
  {
   "cell_type": "markdown",
   "metadata": {},
   "source": [
    "**Question-** Our least squares regression line associates years as an explanatory variable, with times in the 1,500 meter race as the response variable. Use the least squares regression line Time = 812 - 0.30 * Year to predict what the 1,500 meter time might be in the 2016 Olympic Games in Rio de Janeiro. Report your answers to TWO decimal places."
   ]
  },
  {
   "cell_type": "markdown",
   "metadata": {},
   "source": [
    "**Your Answer-** "
   ]
  },
  {
   "cell_type": "markdown",
   "metadata": {},
   "source": [
    "### Exercise: Finding a Regression Line"
   ]
  },
  {
   "cell_type": "markdown",
   "metadata": {},
   "source": [
    "In this activity we will:\n",
    "\n",
    "* find a regression line and plot it on the scatterplot.\n",
    "* examine the effect of outliers on the regression line.\n",
    "* use the regression line to make predictions and evaluate how reliable these predictions are.\n",
    "\n",
    "### Background\n",
    "\n",
    "The modern Olympic Games have changed dramatically since their inception in 1896. For example, many commentators have remarked on the change in the quality of athletic performances from year to year. Regression will allow us to investigate the change in winning times for one event—the 1,500 meter race.\n",
    "\n",
    "Our dataset contains the following variables:\n",
    "\n",
    "* Year: the year of the Olympic Games, from 1896 to 2012.\n",
    "\n",
    "* Time: the winning time for the 1,500 meter race, in seconds.\n",
    "\n",
    "First, let's explore the relationship between the two quantitative variables—year and time. Produce a scatterplot and use it to verify that year and time are nearly linear in their relationship."
   ]
  },
  {
   "cell_type": "code",
   "execution_count": 13,
   "metadata": {},
   "outputs": [],
   "source": [
    "olympic = pd.read_excel('../Data/olympics_2012.xls')"
   ]
  },
  {
   "cell_type": "code",
   "execution_count": 14,
   "metadata": {},
   "outputs": [
    {
     "data": {
      "text/html": [
       "<div>\n",
       "<style scoped>\n",
       "    .dataframe tbody tr th:only-of-type {\n",
       "        vertical-align: middle;\n",
       "    }\n",
       "\n",
       "    .dataframe tbody tr th {\n",
       "        vertical-align: top;\n",
       "    }\n",
       "\n",
       "    .dataframe thead th {\n",
       "        text-align: right;\n",
       "    }\n",
       "</style>\n",
       "<table border=\"1\" class=\"dataframe\">\n",
       "  <thead>\n",
       "    <tr style=\"text-align: right;\">\n",
       "      <th></th>\n",
       "      <th>Year</th>\n",
       "      <th>Time</th>\n",
       "    </tr>\n",
       "  </thead>\n",
       "  <tbody>\n",
       "    <tr>\n",
       "      <th>0</th>\n",
       "      <td>1896</td>\n",
       "      <td>273.2</td>\n",
       "    </tr>\n",
       "    <tr>\n",
       "      <th>1</th>\n",
       "      <td>1900</td>\n",
       "      <td>246.0</td>\n",
       "    </tr>\n",
       "    <tr>\n",
       "      <th>2</th>\n",
       "      <td>1904</td>\n",
       "      <td>245.4</td>\n",
       "    </tr>\n",
       "    <tr>\n",
       "      <th>3</th>\n",
       "      <td>1908</td>\n",
       "      <td>243.4</td>\n",
       "    </tr>\n",
       "    <tr>\n",
       "      <th>4</th>\n",
       "      <td>1912</td>\n",
       "      <td>236.8</td>\n",
       "    </tr>\n",
       "  </tbody>\n",
       "</table>\n",
       "</div>"
      ],
      "text/plain": [
       "   Year   Time\n",
       "0  1896  273.2\n",
       "1  1900  246.0\n",
       "2  1904  245.4\n",
       "3  1908  243.4\n",
       "4  1912  236.8"
      ]
     },
     "execution_count": 14,
     "metadata": {},
     "output_type": "execute_result"
    }
   ],
   "source": [
    "olympic.head()"
   ]
  },
  {
   "cell_type": "code",
   "execution_count": 15,
   "metadata": {},
   "outputs": [
    {
     "data": {
      "image/png": "[encoded data removed]",
      "text/plain": [
       "<Figure size 504x504 with 1 Axes>"
      ]
     },
     "metadata": {
      "needs_background": "light"
     },
     "output_type": "display_data"
    }
   ],
   "source": [
    "sns.lmplot(x='Year', y='Time',height= 7,fit_reg=False, data=olympic)\n",
    "plt.xlabel(\"Year of Olympic Games\")\n",
    "plt.ylabel(\"Winning Time of 1500m Race (secs)\")\n",
    "plt.show()"
   ]
  },
  {
   "cell_type": "markdown",
   "metadata": {},
   "source": [
    "Observe that the form of the relationship between the 1,500 meter race's winning time and the year is linear. The least squares regression line is therefore an appropriate way to summarize the relationship and examine the change in winning times over the course of the last century. We will now find the least squares regression line and plot it on a scatterplot."
   ]
  },
  {
   "cell_type": "code",
   "execution_count": 16,
   "metadata": {},
   "outputs": [
    {
     "data": {
      "image/png": "[encoded data removed]",
      "text/plain": [
       "<Figure size 504x504 with 1 Axes>"
      ]
     },
     "metadata": {
      "needs_background": "light"
     },
     "output_type": "display_data"
    }
   ],
   "source": [
    "# Just delete the parameter fit_reg or set it to fit_reg = True\n",
    "sns.lmplot(x='Year', y='Time',height= 7, data=olympic)\n",
    "plt.xlabel(\"Year of Olympic Games\")\n",
    "plt.ylabel(\"Winning Time of 1500m Race (secs)\")\n",
    "plt.show()"
   ]
  },
  {
   "cell_type": "code",
   "execution_count": 17,
   "metadata": {},
   "outputs": [
    {
     "data": {
      "text/plain": [
       "Year    0\n",
       "Time    0\n",
       "dtype: int64"
      ]
     },
     "execution_count": 17,
     "metadata": {},
     "output_type": "execute_result"
    }
   ],
   "source": [
    "# Check for missing values,scikit learn doesn't accept missing values\n",
    "olympic.isnull().sum()"
   ]
  },
  {
   "cell_type": "code",
   "execution_count": 18,
   "metadata": {},
   "outputs": [
    {
     "data": {
      "text/plain": [
       "Year      int64\n",
       "Time    float64\n",
       "dtype: object"
      ]
     },
     "execution_count": 18,
     "metadata": {},
     "output_type": "execute_result"
    }
   ],
   "source": [
    "# check the data type, all the columns should be numerical\n",
    "olympic.dtypes"
   ]
  },
  {
   "cell_type": "code",
   "execution_count": 19,
   "metadata": {},
   "outputs": [],
   "source": [
    "# To fit a linear regression model, we will use the sci-kit Learn library\n",
    "\n",
    "from sklearn.linear_model import LinearRegression\n",
    "\n",
    "from sklearn.model_selection import train_test_split\n",
    "# First seperate the explanatory and response variable\n",
    "X = olympic[['Year']] # Use double bracket to create a dataframe                     \n",
    "y = olympic[['Time']] # which make thing easier for us later\n",
    "\n",
    "# then split the data into training and test set\n",
    "X_train, X_test, y_train, y_test = train_test_split(X, y, test_size=0.30, random_state=42)\n"
   ]
  },
  {
   "cell_type": "code",
   "execution_count": 20,
   "metadata": {},
   "outputs": [
    {
     "data": {
      "text/html": [
       "<div>\n",
       "<style scoped>\n",
       "    .dataframe tbody tr th:only-of-type {\n",
       "        vertical-align: middle;\n",
       "    }\n",
       "\n",
       "    .dataframe tbody tr th {\n",
       "        vertical-align: top;\n",
       "    }\n",
       "\n",
       "    .dataframe thead th {\n",
       "        text-align: right;\n",
       "    }\n",
       "</style>\n",
       "<table border=\"1\" class=\"dataframe\">\n",
       "  <thead>\n",
       "    <tr style=\"text-align: right;\">\n",
       "      <th></th>\n",
       "      <th>Year</th>\n",
       "    </tr>\n",
       "  </thead>\n",
       "  <tbody>\n",
       "    <tr>\n",
       "      <th>24</th>\n",
       "      <td>2004</td>\n",
       "    </tr>\n",
       "    <tr>\n",
       "      <th>1</th>\n",
       "      <td>1900</td>\n",
       "    </tr>\n",
       "    <tr>\n",
       "      <th>4</th>\n",
       "      <td>1912</td>\n",
       "    </tr>\n",
       "    <tr>\n",
       "      <th>5</th>\n",
       "      <td>1920</td>\n",
       "    </tr>\n",
       "    <tr>\n",
       "      <th>2</th>\n",
       "      <td>1904</td>\n",
       "    </tr>\n",
       "  </tbody>\n",
       "</table>\n",
       "</div>"
      ],
      "text/plain": [
       "    Year\n",
       "24  2004\n",
       "1   1900\n",
       "4   1912\n",
       "5   1920\n",
       "2   1904"
      ]
     },
     "execution_count": 20,
     "metadata": {},
     "output_type": "execute_result"
    }
   ],
   "source": [
    "# select the first five values\n",
    "X_train[0:5]"
   ]
  },
  {
   "cell_type": "code",
   "execution_count": 21,
   "metadata": {},
   "outputs": [
    {
     "data": {
      "text/html": [
       "<div>\n",
       "<style scoped>\n",
       "    .dataframe tbody tr th:only-of-type {\n",
       "        vertical-align: middle;\n",
       "    }\n",
       "\n",
       "    .dataframe tbody tr th {\n",
       "        vertical-align: top;\n",
       "    }\n",
       "\n",
       "    .dataframe thead th {\n",
       "        text-align: right;\n",
       "    }\n",
       "</style>\n",
       "<table border=\"1\" class=\"dataframe\">\n",
       "  <thead>\n",
       "    <tr style=\"text-align: right;\">\n",
       "      <th></th>\n",
       "      <th>Time</th>\n",
       "    </tr>\n",
       "  </thead>\n",
       "  <tbody>\n",
       "    <tr>\n",
       "      <th>24</th>\n",
       "      <td>214.19</td>\n",
       "    </tr>\n",
       "    <tr>\n",
       "      <th>1</th>\n",
       "      <td>246.00</td>\n",
       "    </tr>\n",
       "    <tr>\n",
       "      <th>4</th>\n",
       "      <td>236.80</td>\n",
       "    </tr>\n",
       "    <tr>\n",
       "      <th>5</th>\n",
       "      <td>241.80</td>\n",
       "    </tr>\n",
       "    <tr>\n",
       "      <th>2</th>\n",
       "      <td>245.40</td>\n",
       "    </tr>\n",
       "  </tbody>\n",
       "</table>\n",
       "</div>"
      ],
      "text/plain": [
       "      Time\n",
       "24  214.19\n",
       "1   246.00\n",
       "4   236.80\n",
       "5   241.80\n",
       "2   245.40"
      ]
     },
     "execution_count": 21,
     "metadata": {},
     "output_type": "execute_result"
    }
   ],
   "source": [
    "y_train[0:5]"
   ]
  },
  {
   "cell_type": "code",
   "execution_count": 22,
   "metadata": {},
   "outputs": [],
   "source": [
    "# Initiate a Linear Regression class\n",
    "lr = LinearRegression()\n",
    "# Fit a linear regression model using the training data\n",
    "lr.fit(X_train[['Year']], y_train['Time']) # Here we are using a double bracket \n",
    "                                           # for the explanatory variable because \n",
    "                                           # scikit learn expect a 2D array intead of 1D \n",
    "# Make predictions on the test data \n",
    "predictions  = lr.predict(X_test[['Year']])"
   ]
  },
  {
   "cell_type": "code",
   "execution_count": 23,
   "metadata": {},
   "outputs": [
    {
     "data": {
      "text/plain": [
       "829.9472365521711"
      ]
     },
     "execution_count": 23,
     "metadata": {},
     "output_type": "execute_result"
    }
   ],
   "source": [
    "# find the intercept(a)\n",
    "lr.intercept_"
   ]
  },
  {
   "cell_type": "code",
   "execution_count": 24,
   "metadata": {},
   "outputs": [
    {
     "data": {
      "text/plain": [
       "array([-0.30866802])"
      ]
     },
     "execution_count": 24,
     "metadata": {},
     "output_type": "execute_result"
    }
   ],
   "source": [
    "# find the coefficient(b)\n",
    "lr.coef_"
   ]
  },
  {
   "cell_type": "markdown",
   "metadata": {},
   "source": [
    "### Learn By Doing"
   ]
  },
  {
   "cell_type": "markdown",
   "metadata": {},
   "source": [
    "**Question-** Give the equation for the least squares regression line, and interpret it in context."
   ]
  },
  {
   "cell_type": "markdown",
   "metadata": {},
   "source": [
    "**Your Answer-** "
   ]
  },
  {
   "cell_type": "markdown",
   "metadata": {},
   "source": [
    "Notice that there is an outlier. Remove the outlier then find the coef and intercept of the line. "
   ]
  },
  {
   "cell_type": "code",
   "execution_count": 25,
   "metadata": {},
   "outputs": [
    {
     "data": {
      "text/plain": [
       "1896"
      ]
     },
     "execution_count": 25,
     "metadata": {},
     "output_type": "execute_result"
    }
   ],
   "source": [
    "# find the minimum value \n",
    "olympic['Year'].min()"
   ]
  },
  {
   "cell_type": "code",
   "execution_count": 26,
   "metadata": {},
   "outputs": [
    {
     "data": {
      "text/plain": [
       "1900"
      ]
     },
     "execution_count": 26,
     "metadata": {},
     "output_type": "execute_result"
    }
   ],
   "source": [
    "# Remove the outlier\n",
    "olympic_new = olympic[olympic['Year'] != 1896]\n",
    "# find the minimum value now \n",
    "olympic_new['Year'].min()"
   ]
  },
  {
   "cell_type": "markdown",
   "metadata": {},
   "source": [
    "**1. Perform all the above steps to plot the data with this new dataframe (olympic_new), fit a linear regression model and find the slope and intercept.Then comment on the effect of the outlier**"
   ]
  },
  {
   "cell_type": "markdown",
   "metadata": {},
   "source": [
    "**2. Our least squares regression line associates years as an explanatory variable, with times in the 1,500 meter race as the response variable. Use the least squares regression line you found after removing the outlier to predict the 1,500 meter time in the 2016 Olympic Games in Rio de Janeiro. Comment on your prediction.**"
   ]
  },
  {
   "cell_type": "code",
   "execution_count": null,
   "metadata": {},
   "outputs": [],
   "source": []
  },
  {
   "cell_type": "code",
   "execution_count": null,
   "metadata": {},
   "outputs": [],
   "source": []
  },
  {
   "cell_type": "code",
   "execution_count": null,
   "metadata": {},
   "outputs": [],
   "source": []
  },
  {
   "cell_type": "code",
   "execution_count": null,
   "metadata": {},
   "outputs": [],
   "source": []
  },
  {
   "cell_type": "code",
   "execution_count": null,
   "metadata": {},
   "outputs": [],
   "source": []
  },
  {
   "cell_type": "markdown",
   "metadata": {},
   "source": [
    "### Let's Summarize\n",
    "\n",
    "* A special case of the relationship between two quantitative variables is the **linear** relationship. In this case, a straight line simply and adequately summarizes the relationship.\n",
    "\n",
    "* When the scatterplot displays a linear relationship, we supplement it with the **correlation coefficient (r)**, which measures the **strength** and direction of a linear relationship between two quantitative variables. The correlation ranges between -1 and 1. Values near -1 indicate a strong negative linear relationship, values near 0 indicate a weak linear relationship, and values near 1 indicate a strong positive linear relationship.\n",
    "\n",
    "* The correlation is only an appropriate numerical measure for linear relationships, and is sensitive to outliers. Therefore, the correlation should only be used as a supplement to a scatterplot (after we look at the data).\n",
    "\n",
    "* The most commonly used criterion for finding a line that summarizes the pattern of a linear relationship is \"least squares.\" The **least squares regression line** has the smallest sum of squared vertical deviations of the data points from the line.\n",
    "\n",
    "* The slope of the least squares regression line can be interpreted as the average change in the response variable when the explanatory variable increases by 1 unit.\n",
    "\n",
    "* The least squares regression line predicts the value of the response variable for a given value of the explanatory variable. **Extrapolation** is prediction of values of the explanatory variable that fall outside the range of the data. Since there is no way of knowing whether a relationship holds beyond the range of the explanatory variable in the data, extrapolation is not reliable, and should be avoided.\n"
   ]
  },
  {
   "cell_type": "markdown",
   "metadata": {},
   "source": [
    "# Causation"
   ]
  },
  {
   "cell_type": "markdown",
   "metadata": {},
   "source": [
    "## Causation and Lurking Variables: Introduction"
   ]
  },
  {
   "cell_type": "markdown",
   "metadata": {},
   "source": [
    "### Introduction"
   ]
  },
  {
   "cell_type": "markdown",
   "metadata": {},
   "source": [
    "So far we have discussed different ways in which data can be used to explore the relationship (or association) between two variables. To frame our discussion we followed the role-type classification table:\n",
    "\n",
    "![image](../img/role_type5.png)\n",
    "\n",
    "and we have now completed learning how to explore the relationship in cases C→Q, C→C, and Q→Q. (As noted before, case Q→C will not be discussed in this course.) When we explore the relationship between two variables, there is often a temptation to conclude from the observed relationship that changes in the explanatory variable cause changes in the response variable. In other words, you might be tempted to interpret the observed association as causation. The purpose of this part of the course is to convince you that this kind of interpretation is often wrong! The motto of this section is one of the most fundamental principles of this course:\n",
    "\n",
    "**Principle**\n",
    "\n",
    "Association **does not** imply causation!"
   ]
  },
  {
   "cell_type": "markdown",
   "metadata": {},
   "source": [
    "## Causation and Lurking Variables: Impact on X and Y"
   ]
  },
  {
   "cell_type": "markdown",
   "metadata": {},
   "source": [
    "### Example: Fire Damage\n"
   ]
  },
  {
   "cell_type": "markdown",
   "metadata": {},
   "source": [
    "The scatterplot below illustrates how the number of firefighters sent to fires (X) is related to the amount of damage caused by fires (Y) in a certain city.\n",
    "\n",
    "![image](../img/causation1.png)\n",
    "\n",
    "The scatterplot clearly displays a fairly strong (slightly curved) **positive** relationship between the two variables. Would it, then, be reasonable to conclude that sending more firefighters to a fire causes more damage, or that the city should send fewer firefighters to a fire, in order to decrease the amount of damage done by the fire? Of course not! So what is going on here?\n",
    "\n",
    "There is a **third variable in the background**—the seriousness of the fire—that is responsible for the observed relationship. More serious fires require more firefighters, and also cause more damage.\n",
    "\n",
    "The following figure will help you visualize this situation:\n",
    "\n",
    "![image](../img/causation2.png)\n",
    "\n",
    "Here, the seriousness of the fire is a **lurking variable.** **A lurking variable** is a variable that is not among the explanatory or response variables in a study, but could substantially affect your interpretation of the relationship among those variables.\n",
    "\n",
    "In particular, as in our example, the lurking variable might have an effect on both the explanatory and the response variables. This common effect creates the observed association between the explanatory and response variables, even though there is no causal link between them. This possibility, that there might be a lurking variable (which we might not be thinking about) that is responsible for the observed relationship leads to our principle:\n",
    "\n",
    "**Principle**\n",
    "\n",
    "Association **does not** imply causation!"
   ]
  },
  {
   "cell_type": "markdown",
   "metadata": {},
   "source": [
    "## Causation and Lurking Variables: Confounds"
   ]
  },
  {
   "cell_type": "markdown",
   "metadata": {},
   "source": [
    "The next example will illustrate another way in which a lurking variable might interfere and prevent us from reaching any causal conclusions.\n",
    "\n",
    "### Example: SAT Test\n",
    "\n",
    "For U.S. colleges and universities, a standard entrance examination is the SAT test. The side-by-side boxplots below provide evidence of a relationship between the student's country of origin (the United States or another country) and the student's SAT Math score.\n",
    "\n",
    "![image](../img/causation3.png)\n",
    "\n",
    "The distribution of international students' scores is higher than that of U.S. students. The international students' median score (about 700) exceeds the third quartile of U.S. students' scores. Can we conclude that the country of origin is the **cause** of the difference in SAT Math scores, and that students in the United States are weaker at math than students in other countries?\n",
    "\n",
    "No, not necessarily. While it might be true that U.S. students differ in math ability from other students—i.e. due to differences in educational systems—we can't conclude that a student's country of origin is the cause of the disparity. One important **lurking variable** that might explain the observed relationship is the educational level of the two populations taking the SAT Math test. In the United States, the SAT is a standard test, and therefore a broad cross-section of all U.S. students (in terms of educational level) take this test. Among all international students, on the other hand, only those who plan on coming to the U.S. to study, which is usually a more selected subgroup, take the test.\n",
    "\n",
    "The following figure will help you visualize this explanation:\n",
    "\n",
    "![image](../img/causation4.png)\n",
    "\n",
    "Here, the explanatory variable (X) **may** have a causal relationship with the response variable (Y), but the lurking variable might be a contributing factor as well, which makes it very hard to isolate the effect of the explanatory variable and prove that it has a causal link with the response variable. In this case, we say that the lurking variable is **confounded** with the explanatory variable, since their effects on the response variable cannot be distinguished from each other.\n",
    "\n",
    "Note that in each of the above two examples, the lurking variable interacts differently with the variables studied. In example 1, the lurking variable has an effect on both the explanatory and the response variables, creating the illusion that there is a causal link between them. In example two, the lurking variable is confounded with the explanatory variable, making it hard to assess the isolated effect of the explanatory variable on the response variable.\n",
    "\n",
    "The distinction between these two types of interactions is not as important as the fact that in either case, the observed association can be at least partially explained by the lurking variable. The most important message from these two examples is therefore: **An observed association between two variables is not enough evidence that there is a causal relationship between them.**\n",
    "\n",
    "In other words ...\n",
    "\n",
    "**Principle**\n",
    "\n",
    "Association **does not** imply causation!"
   ]
  },
  {
   "cell_type": "markdown",
   "metadata": {},
   "source": [
    "### Learn By Doing"
   ]
  },
  {
   "cell_type": "markdown",
   "metadata": {},
   "source": [
    "Research has suggested that there is a correlation between Internet usage and obesity. Using this information, a fictional study found a correlation of r = 0.79 between the number of hours of daily Internet usage and Body Mass Index, a measure of body weight.\n",
    "\n",
    "Which of the following is true? select all that apply.\n",
    "\n",
    "* There is a pretty strong positive linear relationship between the number of hours spent on the Internet and the Body Mass Index scores.\n",
    "* Using the Internet causes people to gain weight.\n",
    "* Physical activity is a possible “lurking” variable behind this relationship, since people who spend a large amount of time using the Internet may be more likely to be less physically active."
   ]
  },
  {
   "cell_type": "markdown",
   "metadata": {},
   "source": [
    "**Your Answer-** "
   ]
  },
  {
   "cell_type": "markdown",
   "metadata": {},
   "source": [
    "The tourism industry hires a marketing company to promote overseas vacations. The marketing company's research shows a +0.72 correlation between the number of overseas vacations booked and amount of free time, in days, people have each year. Therefore, the marketing company decides to develop an advertising campaign aimed specifically at people who have lots of free time.\n",
    "\n",
    "Which of the following is true about this decision?\n",
    "\n",
    "* The decision may not be a good one, since it is possible that there is a “lurking” variable, such as income, behind both the number of booked overseas vacations and the number of free days people have each year. correct\n",
    "* The decision is a good one, since we know that the number of free days people have causes them to book more vacations.\n",
    "* The decision is a good one, since there is a strong positive relationship between number of booked vacations and the amount of free days people have each year."
   ]
  },
  {
   "cell_type": "markdown",
   "metadata": {},
   "source": [
    "**Your Answer-** "
   ]
  },
  {
   "cell_type": "markdown",
   "metadata": {},
   "source": [
    "### Learn By Doing Activity"
   ]
  },
  {
   "cell_type": "markdown",
   "metadata": {},
   "source": [
    "### Scenario: Light and Nearsightedness"
   ]
  },
  {
   "cell_type": "markdown",
   "metadata": {},
   "source": [
    "When we practiced exploring the relationship between two categorical variables, we looked at a study in which the type of light in young children's rooms when they sleep was examined, along with their later nearsightedness, or myopia.\n",
    "\n",
    "Here is the two-way table that summarizes the collected data:\n",
    "    \n",
    "![image](../img/causation5.png)\n",
    "\n",
    "The conditional percentages allow us to compare the distribution of later nearsightedness among children who were exposed to each of the three nighttime light levels:\n",
    "\n",
    "![image](../img/causation6.png)\n",
    "\n",
    "The striking finding was that children who slept with lamps on were more than 5 times more likely to be nearsighted later in life (54.7% vs. 9.9%). Based upon this data alone, parents might discontinue using night-lights and lamps with young children."
   ]
  },
  {
   "cell_type": "markdown",
   "metadata": {},
   "source": [
    "**Question-** Do the data provide evidence that early light exposure causes myopia?"
   ]
  },
  {
   "cell_type": "markdown",
   "metadata": {},
   "source": [
    "**Your Answer-** "
   ]
  },
  {
   "cell_type": "markdown",
   "metadata": {},
   "source": [
    "**Question-** What is a likely lurking variable in this case that could explain this observed relationship? (Hint: this lurking variable affects both the type of light with which a child sleeps and the child's later nearsightedness.)"
   ]
  },
  {
   "cell_type": "markdown",
   "metadata": {},
   "source": [
    "**Your Answer-** "
   ]
  },
  {
   "cell_type": "markdown",
   "metadata": {},
   "source": [
    "**Our Answer-** A lurking variable that can very likely explain the observed relationship in this case is the nearsightedness of the child's parents (one or both). If the parents are nearsighted, then their child is more likely to be nearsighted due to genetic factors. Also, nearsighted parents are more likely to leave more light near their sleeping children to make it easier to care for them at night."
   ]
  },
  {
   "cell_type": "markdown",
   "metadata": {},
   "source": [
    "## Causation and Lurking Variables: Simpson's Paradox"
   ]
  },
  {
   "cell_type": "markdown",
   "metadata": {},
   "source": [
    "So far, we have:\n",
    "\n",
    "* discussed what lurking variables are,\n",
    "* demonstrated different ways in which the lurking variables can interact with the two studied variables, and\n",
    "* understood that the existence of a possible lurking variable is the main reason why we say that association does not imply causation.\n",
    "\n",
    "As you recall, a lurking variable, by definition, is a variable that was not included in the study, but could have a substantial effect on our understanding of the relationship between the two studied variables.\n",
    "\n",
    "What if we did include a lurking variable in our study? What kind of effect could that have on our understanding of the relationship? These are the questions we are going to discuss next.\n",
    "\n",
    "Let's start with an example:\n",
    "\n",
    "### Example: Hospital Death Rates\n",
    "\n",
    "**Background:** A government study collected data on the death rates in nearly 6,000 hospitals in the United States. These results were then challenged by researchers, who said that the federal analyses failed to take into account the variation among hospitals in the severity of patients' illnesses when they were hospitalized. As a result, said the researchers, some hospitals were treated unfairly in the findings, which named hospitals with higher-than-expected death rates. What the researchers meant is that when the federal government explored the relationship between the two variables—hospital and death rate—**it also should have included in the study (or taken into account) the lurking variable—severity of illness.**\n",
    "\n",
    "We will use a simplified version of this study to illustrate the researchers' claim, and see what the possible effect could be of including a lurking variable in a study. (Reference: Moore and McCabe (2003). Introduction to the Practice of Statistics.)\n",
    "\n",
    "Consider the following two-way table, which summarizes the data about the status of patients who were admitted to two hospitals in a certain city (Hospital A and Hospital B). Note that since the purpose of the study is to examine whether there is a \"hospital effect\" on patients' status, \"Hospital is the explanatory variable, and \"Patient's Status\" is the response variable.\n",
    "\n",
    "![image](../img/causation7.png)\n",
    "\n",
    "When we supplement the two-way table with the conditional percents within each hospital:\n",
    "\n",
    "![image](../img/causation8.png)\n",
    "\n",
    "we find that Hospital A has a higher death rate (3%) than Hospital B (2%). Should we jump to the conclusion that a sick patient admitted to Hospital A is 50% more likely to die than if he/she were admitted to Hospital B? **Not so fast ...**\n",
    "\n",
    "Maybe Hospital A gets most of the severe cases, and that explains why it has a higher death rate. In order to explore this, we need to **include (or account for) the lurking variable \"severity of illness\" in our analysis.** To do this, we go back to the two-way table and split it up to look separately at patents who are severely ill, and patients who are not.\n",
    "\n",
    "![image](../img/causation9.png)\n",
    "\n",
    "As we can see, Hospital A did admit many more severely ill patients than Hospital B (1,500 vs. 200). In fact, from the way the totals were split, we see that in Hospital A, severely ill patients were a much higher proportion of the patients—1,500 out of a total of 2,100 patients. In contrast, only 200 out of 800 patients at Hospital B were severely ill. To better see the effect of including the lurking variable, we need to supplement each of the two new two-way tables with its conditional percentages:\n",
    "\n",
    "![image](../img/causation10.png)\n",
    "\n",
    "Note that despite our earlier finding that overall Hospital A has a higher death rate (3% vs. 2%), when we take into account the lurking variable, we find that actually it is Hospital B that has the higher death rate both among the severely ill patients (4% vs. 3.8%) and among the not severely ill patients (1.3% vs. 1%). **Thus, we see that adding a lurking variable can change the direction of an association.**\n",
    "\n",
    "Whenever including a lurking variable causes us to rethink the direction of an association, this is called **Simpson's paradox.**\n",
    "\n",
    "The possibility that a lurking variable can have such a dramatic effect is another reason we must adhere to the principle:\n",
    "\n",
    "**Principle**\n",
    "\n",
    "Association **does not** imply causation!"
   ]
  },
  {
   "cell_type": "markdown",
   "metadata": {},
   "source": [
    "## Causation and Lurking Variables: Summary"
   ]
  },
  {
   "cell_type": "markdown",
   "metadata": {},
   "source": [
    "It is not always the case that including a lurking variable makes us rethink the direction of the association. In the next example we will see how including a lurking variable just helps us gain a deeper understanding of the observed relationship."
   ]
  },
  {
   "cell_type": "markdown",
   "metadata": {},
   "source": [
    "### Example: College Entrance Exams"
   ]
  },
  {
   "cell_type": "markdown",
   "metadata": {},
   "source": [
    "As discussed earlier, in the United States, the SAT is a widely used college entrance examination, required by the most prestigious schools. In some states, a different college entrance examination is prevalent, the ACT."
   ]
  },
  {
   "cell_type": "markdown",
   "metadata": {},
   "source": [
    "### Including a Lurking Variable"
   ]
  },
  {
   "cell_type": "code",
   "execution_count": 28,
   "metadata": {},
   "outputs": [
    {
     "data": {
      "text/html": [
       "<video src=\"../img/causation_video.mp4\" controls  >\n",
       "      Your browser does not support the <code>video</code> element.\n",
       "    </video>"
      ],
      "text/plain": [
       "<IPython.core.display.Video object>"
      ]
     },
     "execution_count": 28,
     "metadata": {},
     "output_type": "execute_result"
    }
   ],
   "source": [
    "Video('../img/causation_video.mp4')"
   ]
  },
  {
   "cell_type": "markdown",
   "metadata": {},
   "source": [
    "The last two examples showed us that including a lurking variable in our exploration may:\n",
    "\n",
    "* lead us to rethink the direction of an association (as in the Hospital/Death Rate example) or,\n",
    "* help us to gain a deeper understanding of the relationship between variables (as in the SAT/ACT example).\n",
    "\n",
    "### Scenario: Simpson's Paradox\n",
    "\n",
    "Recall that an instance of Simpson's paradox occurs whenever including a lurking variable causes you to rethink the direction of an association. In this activity, we will reinforce our understanding of Simpson's paradox.\n",
    "\n",
    "The following scatterplot displays the relationship between two quantitative variables, X and Y:\n",
    "\n",
    "![image](../img/causation11.png)\n",
    "\n",
    "This graphical display indicates that the overall relationship between X and Y is negative.\n",
    "\n",
    "In each of the four labeled scatterplots below, we included a different lurking variable, which separates the data points into two groups, blue points and red points. Your task is to look at all four displays and decide in which case including the lurking variable leads to an instance of Simpson's paradox.\n",
    "\n",
    "**Question-** Which scatterplot is an example of Simpson's paradox?\n",
    "\n",
    "![image](../img/causation12.png)\n",
    "\n",
    "* Scatterplot A\n",
    "* Scatterplot B \n",
    "* Scatterplot C\n",
    "* Scatterplot D"
   ]
  },
  {
   "cell_type": "markdown",
   "metadata": {},
   "source": [
    "**Your Answer-** "
   ]
  },
  {
   "cell_type": "markdown",
   "metadata": {},
   "source": [
    "**Question-** A study was done on the graduation rates (graduate in 4 years versus did not graduate) from two universities: Mode College and Median University. Data were collected for the year 2012 in a variety of majors, and it was found that Mode College does better overall (i.e., has a higher percentage of students who graduate in 4 years). However, in each of the majors separately, Median University does better.\n",
    "\n",
    "Which of the following is true? Select all that apply.\n",
    "\n",
    "* This is an example of Simpson's Paradox.\n",
    "* This is an example of a negative association between variables.\n",
    "* This situation is mathematically impossible.\n",
    "* “Type of major” could be a lurking variable in this example."
   ]
  },
  {
   "cell_type": "markdown",
   "metadata": {},
   "source": [
    "**Your Answer-** "
   ]
  },
  {
   "cell_type": "markdown",
   "metadata": {},
   "source": [
    "### Let's Summarize\n",
    "\n",
    "* A **lurking variable** is a variable that was not included in your analysis, but that could substantially change your interpretation of the data if it were included.\n",
    "\n",
    "* Because of the possibility of lurking variables, we adhere to the principle that **association does not imply causation.**\n",
    "\n",
    "* Including a lurking variable in our exploration may:\n",
    "    * help us to gain a deeper understanding of the relationship between variables, or\n",
    "    * lead us to rethink the direction of an association.\n",
    "    \n",
    "* Whenever including a lurking variable causes us to rethink the direction of an association, this is an instance of Simpson's paradox."
   ]
  },
  {
   "cell_type": "code",
   "execution_count": null,
   "metadata": {},
   "outputs": [],
   "source": []
  }
 ],
 "metadata": {
  "kernelspec": {
   "display_name": "Python 3",
   "language": "python",
   "name": "python3"
  },
  "language_info": {
   "codemirror_mode": {
    "name": "ipython",
    "version": 3
   },
   "file_extension": ".py",
   "mimetype": "text/x-python",
   "name": "python",
   "nbconvert_exporter": "python",
   "pygments_lexer": "ipython3",
   "version": "3.7.6"
  },
  "varInspector": {
   "cols": {
    "lenName": 16,
    "lenType": 16,
    "lenVar": 40
   },
   "kernels_config": {
    "python": {
     "delete_cmd_postfix": "",
     "delete_cmd_prefix": "del ",
     "library": "var_list.py",
     "varRefreshCmd": "print(var_dic_list())"
    },
    "r": {
     "delete_cmd_postfix": ") ",
     "delete_cmd_prefix": "rm(",
     "library": "var_list.r",
     "varRefreshCmd": "cat(var_dic_list()) "
    }
   },
   "types_to_exclude": [
    "module",
    "function",
    "builtin_function_or_method",
    "instance",
    "_Feature"
   ],
   "window_display": false
  }
 },
 "nbformat": 4,
 "nbformat_minor": 2
}
