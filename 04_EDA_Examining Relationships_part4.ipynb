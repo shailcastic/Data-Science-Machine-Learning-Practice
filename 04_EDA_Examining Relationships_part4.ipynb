{
 "cells": [
  {
   "cell_type": "code",
   "execution_count": 1,
   "metadata": {},
   "outputs": [],
   "source": [
    "import pandas as pd \n",
    "import numpy as np \n",
    "import matplotlib.pyplot as plt \n",
    "%matplotlib inline\n",
    "pd.options.display.max_columns=999 \n",
    "plt.style.use('fivethirtyeight')"
   ]
  },
  {
   "cell_type": "markdown",
   "metadata": {},
   "source": [
    "# Case Q→Q: Scatterplots"
   ]
  },
  {
   "cell_type": "markdown",
   "metadata": {},
   "source": [
    "## Case Q→Q: Two Quantitative Variables"
   ]
  },
  {
   "cell_type": "markdown",
   "metadata": {},
   "source": [
    "Here again is the role-type classification table for framing our discussion about the relationship between two variables: \n",
    "    \n",
    "![image](../img/role_type4.png) \n",
    "\n",
    "We are done with cases C→Q and C→C, and now we will move on to case Q→Q, where we examine the relationship between two quantitative variables."
   ]
  },
  {
   "cell_type": "markdown",
   "metadata": {},
   "source": [
    "## Scatterplot: Introduction"
   ]
  },
  {
   "cell_type": "markdown",
   "metadata": {},
   "source": [
    "In the previous two cases we had a categorical explanatory variable, and therefore exploring the relationship between the two variables was done by comparing the distribution of the response variable for each category of the explanatory variable:\n",
    "\n",
    "* In case C→Q we compared distributions of the quantitative response.\n",
    "* In case C→C we compared distributions of the categorical response.\n",
    "\n",
    "Case Q→Q is different in the sense that both variables (in particular the explanatory variable) are quantitative, and therefore, as you'll discover, this case will require a different kind of treatment and tools. Let's start with an example:"
   ]
  },
  {
   "cell_type": "markdown",
   "metadata": {},
   "source": [
    "### Example: Highway Signs"
   ]
  },
  {
   "cell_type": "markdown",
   "metadata": {},
   "source": [
    "A Pennsylvania research firm conducted a study in which 30 drivers (of ages 18 to 82 years old) were sampled, and for each one, the maximum distance (in feet) at which he/she could read a newly designed sign was determined. The goal of this study was to explore the relationship between a driver's age and the maximum distance at which signs were legible, and then use the study's findings to improve safety for older drivers. (Reference: Utts and Heckard, Mind on Statistics (2002). Originally source: Data collected by Last Resource, Inc, Bellfonte, PA.)\n",
    "\n",
    "Since the purpose of this study is to explore the effect of age on maximum legibility distance,\n",
    "\n",
    "* the **explanatory** variable is **Age**, and\n",
    "* the **response** variable is **Distance.**\n",
    "\n",
    "Here is what the raw data look like:\n",
    "    \n",
    "![image](../img/highway_sign1.png)\n",
    "\n",
    "Note that the data structure is such that for each individual (in this case driver 1....driver 30) we have a pair of values (in this case representing the driver's age and distance). We can therefore think about these data as 30 pairs of values: (18, 510), (32, 410), (55, 420), ... , (82, 360).\n",
    "\n",
    "The first step in exploring the relationship between driver age and sign legibility distance is to create an appropriate and informative graphical display. The appropriate graphical display for examining the relationship between two quantitative variables is the **scatterplot.** Here is how a scatterplot is constructed for our example:\n",
    "\n",
    "To create a scatterplot, each pair of values is plotted, so that the value of the explanatory variable (X) is plotted on the horizontal axis, and the value of the response variable (Y) is plotted on the vertical axis. In other words, each individual (driver, in our example) appears on the scatterplot as a single point whose X-coordinate is the value of the explanatory variable for that individual, and whose Y-coordinate is the value of the response variable. Here is an illustration:\n",
    "\n",
    "![image](../img/highway_sign2.png)\n",
    "\n",
    "And here is the completed scatterplot:\n",
    "\n",
    "![image](../img/highway_sign3.png)\n",
    "\n",
    "### Comment\n",
    "It is important to mention again that when creating a scatterplot, the explanatory variable should always be plotted on the horizontal X-axis, and the response variable should be plotted on the vertical Y-axis. If in a specific example we do not have a clear distinction between explanatory and response variables, each of the variables can be plotted on either axis."
   ]
  },
  {
   "cell_type": "markdown",
   "metadata": {},
   "source": [
    "## Interpreting the Scatterplot"
   ]
  },
  {
   "cell_type": "markdown",
   "metadata": {},
   "source": [
    "How do we explore the relationship between two quantitative variables using the scatterplot? What should we look at, or pay attention to?\n",
    "\n",
    "Recall that when we described the distribution of a single quantitative variable with a histogram, we described the overall pattern of the distribution (shape, center, spread) and any deviations from that pattern (outliers). We do the **same thing with the scatterplot.**\n",
    "\n",
    "The following figure summarizes this point:\n",
    "\n",
    "![image](../img/scatter1.png)\n",
    "\n",
    "As the figure explains, when describing the **overall pattern** of the relationship we look at its direction, form and strength.\n",
    "\n",
    "* The **direction** of the relationship can be positive, negative, or neither:\n",
    "\n",
    "![image](../img/scatter2.png)\n",
    "\n",
    "A **positive (or increasing) relationship** means that an increase in one of the variables is associated with an increase in the other.\n",
    "\n",
    "A **negative (or decreasing) relationship** means that an increase in one of the variables is associated with a decrease in the other.\n",
    "\n",
    "Not all relationships can be classified as either positive or negative.\n",
    "\n",
    "* The **form** of the relationship is its general shape. When identifying the form, we try to find the simplest way to describe the shape of the scatterplot. There are many possible forms. Here are a couple that are quite common:\n",
    "\n",
    "Relationships with a **linear** form are most simply described as points scattered about a line:\n",
    "\n",
    "![image](../img/scatter3.png)\n",
    "\n",
    "\n",
    "Relationships with a **curvilinear form** are most simply described as points dispersed around the same curved line:\n",
    "\n",
    "![image](../img/scatter4.png)\n",
    "\n",
    "There are many other possible forms for the relationship between two quantitative variables, but linear and curvilinear forms are quite common and easy to identify. Another form-related pattern that we should be aware of is clusters in the data:\n",
    "\n",
    "![image](../img/scatter5.png)\n",
    "\n",
    "* The **strength** of the relationship is determined by how closely the data follow the form of the relationship. Let's look, for example, at the following two scatterplots displaying positive, linear relationships:\n",
    "\n",
    "![image](../img/scatter6.png)\n",
    "\n",
    "The strength of the relationship is determined by how closely the data points follow the form. We can see that in the top scatterplot the data points follow the linear pattern quite closely. This is an example of a strong relationship. In the bottom scatterplot, the points also follow the linear pattern, but much less closely, and therefore we can say that the relationship is weaker. In general, though, assessing the strength of a relationship just by looking at the scatterplot is quite problematic, and we need a numerical measure to help us with that. We will discuss that later in this section.\n",
    "\n",
    "Data points that **deviate from the pattern** of the relationship are called **outliers.** We will see several examples of outliers during this section. Two outliers are illustrated in the scatterplot below:\n",
    "\n",
    "![image](../img/scatter7.png)\n",
    "\n",
    "Let's go back now to our example, and use the scatterplot to examine the relationship between the age of the driver and the maximum sign legibility distance. Here is the scatterplot:\n",
    "\n",
    "![image](../img/scatter8.png)\n",
    "\n",
    "The direction of the relationship is **negative**, which makes sense in context, since as you get older your eyesight weakens, and in particular older drivers tend to be able to read signs only at lesser distances. An arrow drawn over the scatterplot illustrates the negative direction of this relationship:\n",
    "\n",
    "![image](../img/scatter9.png)\n",
    "\n",
    "The form of the relationship seems to be **linear.** Notice how the points tend to be scattered about the line. Although, as we mentioned earlier, it is problematic to assess the strength without a numerical measure, the relationship appears to be **moderately strong**, as the data is fairly tightly scattered about the line. Finally, all the data points seem to \"obey\" the pattern—there **do not appear to be any outliers.**\n",
    "\n"
   ]
  },
  {
   "cell_type": "markdown",
   "metadata": {},
   "source": [
    "## Scatterplot: Examples"
   ]
  },
  {
   "cell_type": "markdown",
   "metadata": {},
   "source": [
    "### Example: Average Gestation Period"
   ]
  },
  {
   "cell_type": "markdown",
   "metadata": {},
   "source": [
    "The average gestation period, or time of pregnancy, of an animal is closely related to its longevity (the length of its lifespan.) Data on the average gestation period and longevity (in captivity) of 40 different species of animals have been examined, with the purpose of examining how the gestation period of an animal is related to (or can be predicted from) its longevity. (Source: Rossman and Chance. (2001). Workshop statistics: Discovery with data and Minitab. Original source: The 1993 world almanac and book of facts).\n",
    "\n",
    "Here is the scatterplot of the data.\n",
    "\n",
    "![image](../img/scatter10.png)\n",
    "\n",
    "What can we learn about the relationship from the scatterplot? The direction of the relationship is positive, which means that animals with longer life spans tend to have longer times of pregnancy (this makes intuitive sense). An arrow drawn over the scatterplot below illustrates this:\n",
    "\n",
    "![image](../img/scatter11.png)\n",
    "\n",
    "The form of the relationship is again essentially **linear.** There appears to be **one outlier**, indicating an animal with an exceptionally long longevity and gestation period. (This animal happens to be the elephant.) Note that while this outlier definitely deviates from the rest of the data in term of its magnitude, it **does** follow the direction of the data.\n",
    "\n",
    "**Comment:** Another feature of the scatterplot that is worth observing is how the variation in gestation increases as longevity increases. This fact is illustrated by the two red vertical lines at the bottom left part of the graph. Note that the gestation periods for animals who live 5 years range from about 30 days up to about 120 days. On the other hand, the gestation period of animals who live 12 years varies much more, and ranges from about 60 days up to more than400 days."
   ]
  },
  {
   "cell_type": "markdown",
   "metadata": {},
   "source": [
    "### Example: Fuel Usage"
   ]
  },
  {
   "cell_type": "markdown",
   "metadata": {},
   "source": [
    "As a third example, consider the relationship between the average amount of fuel used (in liters) to drive a fixed distance in a car (100 kilometers), and the speed at which the car is driven (in kilometers per hour). (Source: Moore and McCabe, (2003). Introduction to the practice of statistics. Original source: T.N. Lam. (1985). \"Estimating fuel consumption for engine size,\" Journal of Transportation Engineering, vol. 111)\n",
    "\n",
    "![image](../img/scatter12.png)\n",
    "\n",
    "The data describe a relationship that decreases and then increases—the amount of fuel consumed decreases rapidly to a minimum for a car driving 60 kilometers per hour, and then increases gradually for speeds exceeding 60 kilometers per hour. This suggests that the speed at which a car economizes on fuel the most is about 60 km/h. This forms a curvilinear relationship that seems to be very strong, as the observations seem to perfectly fit the curve. Finally, there do not appear to be any outliers."
   ]
  },
  {
   "cell_type": "markdown",
   "metadata": {},
   "source": [
    "### Learn By Doing"
   ]
  },
  {
   "cell_type": "markdown",
   "metadata": {},
   "source": [
    "A study examined how the percentage of participants who completed a survey is related to the monetary incentive that researchers promised to participants. Consider the relationship between these two quantitative variables, displayed in the scatterplot below.\n",
    "\n",
    "![image](../img/scatter13.png)\n",
    "\n",
    "\n",
    "**Question-** What is the direction of this relationship?\n",
    "* positive \n",
    "* negative\n",
    "* neither positive nor negative"
   ]
  },
  {
   "cell_type": "markdown",
   "metadata": {},
   "source": [
    "**Your Answer-** "
   ]
  },
  {
   "cell_type": "markdown",
   "metadata": {},
   "source": [
    "**Question-** In the context of this example, when researchers promised higher payments, what happened to the percentage of participants who completed the survey?\n",
    "\n",
    "* increased \n",
    "* remained the same\n",
    "* decreased"
   ]
  },
  {
   "cell_type": "markdown",
   "metadata": {},
   "source": [
    "**Your Answer-** "
   ]
  },
  {
   "cell_type": "markdown",
   "metadata": {},
   "source": [
    "**Question-** What is the form of the relationship?\n",
    "\n",
    "* linear\n",
    "* curvilinear \n",
    "* neither linear nor curvilinear"
   ]
  },
  {
   "cell_type": "markdown",
   "metadata": {},
   "source": [
    "**Your Answer-** "
   ]
  },
  {
   "cell_type": "markdown",
   "metadata": {},
   "source": [
    "**Question-** Based on the form of the relationship as it is illustrated above, is this a weak relationship or a strong relationship?\n",
    "\n",
    "* strong \n",
    "* weak"
   ]
  },
  {
   "cell_type": "markdown",
   "metadata": {},
   "source": [
    "**Your Answer-** "
   ]
  },
  {
   "cell_type": "markdown",
   "metadata": {},
   "source": [
    "### Comment\n",
    "\n",
    "The example in the last activity provides a great opportunity for interpretation of the form of the relationship in context. Recall that the example examined how the percentage of participants who completed a survey is affected by the monetary incentive that researchers promised to participants. Here again is the scatterplot that displays the relationship:\n",
    "\n",
    "![image](../img/scatter14.png)\n",
    "\n",
    "The positive relationship definitely makes sense in context, but what is the interpretation of the curvilinear form in the context of the problem? How can we explain (in context) the fact that the relationship seems at first to be increasing very rapidly, but then slows down? The following graph will help us:\n",
    "\n",
    "![image](../img/scatter15.png)\n",
    "\n",
    "Note that when the monetary incentive increases from $0 to $10, the percentage of returned surveys increases sharply—an increase of 27% (from 16% to 43%). However, the same increase of 10 dollar from 30 dollar to 40 dollar doesn't result in the same dramatic increase in the percentage of returned surveys—it results in an increase of only 3 percent (from 54 percent to 57 percent). \n",
    "The form displays the phenomenon of \"diminishing returns\"—a return rate that after a certain point fails to increase proportionately to additional outlays of investment. 10 dollar is worth more to people relative to 0 dollar than it is relative to 30 dollar."
   ]
  },
  {
   "cell_type": "markdown",
   "metadata": {},
   "source": [
    "## Scatterplot: Labeled"
   ]
  },
  {
   "cell_type": "markdown",
   "metadata": {},
   "source": [
    "### A Labeled Scatterplot"
   ]
  },
  {
   "cell_type": "markdown",
   "metadata": {},
   "source": [
    "In certain circumstances, it may be reasonable to indicate different subgroups or categories within the data on the scatterplot, by labeling each subgroup differently. The result is called a labeled scatterplot, and can provide further insight about the relationship we are exploring. Here is an example.\n",
    "\n",
    "### Example: Hot Dogs\n",
    "\n",
    "Recall the hot dog example from case C→Q, in which 54 major hot dog brands were examined. In this study, both the **calorie content** and the **sodium level** of each brand was recorded, as well as the **type** of hot dog: beef, poultry, and meat (mostly pork and beef, but up to 15% poultry meat). In this example, we will explore the relationship between the sodium level and calorie content of hot dogs, and we will label the three different types of hot dogs to create a labeled scatterplot."
   ]
  },
  {
   "cell_type": "code",
   "execution_count": 2,
   "metadata": {},
   "outputs": [
    {
     "data": {
      "text/html": [
       "<video src=\"../img/hotdog_video.mp4\" controls  >\n",
       "      Your browser does not support the <code>video</code> element.\n",
       "    </video>"
      ],
      "text/plain": [
       "<IPython.core.display.Video object>"
      ]
     },
     "execution_count": 2,
     "metadata": {},
     "output_type": "execute_result"
    }
   ],
   "source": [
    "from IPython.display import Video\n",
    "\n",
    "Video(\"../img/hotdog_video.mp4\")"
   ]
  },
  {
   "cell_type": "markdown",
   "metadata": {},
   "source": [
    "### Scenario: Height, Weight, and Gender"
   ]
  },
  {
   "cell_type": "markdown",
   "metadata": {},
   "source": [
    "In this activity, we look at height and weight data that were collected from 57 males and 24 females, and use the data to explore how the weight of a person is related to (or affected by) his or her height. This implies that height will be our explanatory variable and weight will be our response variable. We will then look at gender, and see how labeling this third variable contributes to our understanding of the form of the relationship.\n",
    "\n",
    "Here is the scatterplot to examine how weight is related to height, ignoring gender.\n",
    "\n",
    "![image](../img/scatter16.png)"
   ]
  },
  {
   "cell_type": "markdown",
   "metadata": {},
   "source": [
    "### Learn By Doing"
   ]
  },
  {
   "cell_type": "markdown",
   "metadata": {},
   "source": [
    "**Question-** What is the direction of the relationship between height and weight?\n",
    "\n",
    "* Positive \n",
    "* Negative"
   ]
  },
  {
   "cell_type": "markdown",
   "metadata": {},
   "source": [
    "**Your Answer-** "
   ]
  },
  {
   "cell_type": "markdown",
   "metadata": {},
   "source": [
    "So far we have studied the relationship between height and weight for all of the males and females together. It may be interesting to examine whether the relationship between height and weight is different for males and females. To visualize the effect of the third variable, gender, we will indicate in the scatterplot which observations are males (blue) and which are females (red). \n",
    "\n",
    "![image](../img/scatter17.png)"
   ]
  },
  {
   "cell_type": "markdown",
   "metadata": {},
   "source": [
    "**Question-** True or false? The weight of females increases with an increase in height as quickly as the weight of males increases with a corresponding increase in height.\n",
    "\n",
    "* True\n",
    "* False "
   ]
  },
  {
   "cell_type": "markdown",
   "metadata": {},
   "source": [
    "**Your Answer-** "
   ]
  },
  {
   "cell_type": "markdown",
   "metadata": {},
   "source": [
    "### Let's Summarize\n",
    "\n",
    "* The relationship between two quantitative variables is visually displayed using the scatterplot, where each point represents an individual. We always plot the explanatory variable on the horizontal X axis, and the response variable on the vertical Y axis.\n",
    "* When we explore a relationship using the scatterplot, we should describe the overall pattern of the relationship and any deviations from that pattern. To describe the overall pattern consider the direction, form and strength of the relationship. Assessing the strength just by looking at the scatterplot can be problematic; using a numerical measure to determine strength will be discussed later in this course.\n",
    "* Adding labels to the scatterplot that indicate different groups or categories within the data might help us get more insight about the relationship we are exploring."
   ]
  },
  {
   "cell_type": "markdown",
   "metadata": {},
   "source": [
    "## Exercise: Creating a Scatterplot"
   ]
  },
  {
   "cell_type": "markdown",
   "metadata": {},
   "source": [
    "In this exercise, we will:\n",
    "\n",
    "* learn how to create a scatterplot.\n",
    "* use the scatterplot to examine the relationship between two quantitative variables.\n",
    "* learn how to create a labeled scatterplot.\n",
    "* use the labeled scatterplot to better understand the form of a relationship.\n",
    "\n",
    "In this activity, we look at height and weight data that were collected from 57 males and 24 females, and use the data to explore how the weight of a person is related to (or affected by) his or her height. This implies that height will be our explanatory variable and weight will be our response variable. We will then look at gender, and see how labeling this third variable contributes to our understanding of the form of the relationship.\n",
    "\n"
   ]
  },
  {
   "cell_type": "code",
   "execution_count": 3,
   "metadata": {},
   "outputs": [],
   "source": [
    "height = pd.read_excel('../Data/height.xls')"
   ]
  },
  {
   "cell_type": "code",
   "execution_count": 4,
   "metadata": {},
   "outputs": [
    {
     "data": {
      "text/html": [
       "<div>\n",
       "<style scoped>\n",
       "    .dataframe tbody tr th:only-of-type {\n",
       "        vertical-align: middle;\n",
       "    }\n",
       "\n",
       "    .dataframe tbody tr th {\n",
       "        vertical-align: top;\n",
       "    }\n",
       "\n",
       "    .dataframe thead th {\n",
       "        text-align: right;\n",
       "    }\n",
       "</style>\n",
       "<table border=\"1\" class=\"dataframe\">\n",
       "  <thead>\n",
       "    <tr style=\"text-align: right;\">\n",
       "      <th></th>\n",
       "      <th>gender</th>\n",
       "      <th>height</th>\n",
       "      <th>weight</th>\n",
       "    </tr>\n",
       "  </thead>\n",
       "  <tbody>\n",
       "    <tr>\n",
       "      <th>0</th>\n",
       "      <td>0</td>\n",
       "      <td>72</td>\n",
       "      <td>155</td>\n",
       "    </tr>\n",
       "    <tr>\n",
       "      <th>1</th>\n",
       "      <td>0</td>\n",
       "      <td>67</td>\n",
       "      <td>145</td>\n",
       "    </tr>\n",
       "    <tr>\n",
       "      <th>2</th>\n",
       "      <td>0</td>\n",
       "      <td>65</td>\n",
       "      <td>125</td>\n",
       "    </tr>\n",
       "    <tr>\n",
       "      <th>3</th>\n",
       "      <td>1</td>\n",
       "      <td>67</td>\n",
       "      <td>120</td>\n",
       "    </tr>\n",
       "    <tr>\n",
       "      <th>4</th>\n",
       "      <td>1</td>\n",
       "      <td>63</td>\n",
       "      <td>105</td>\n",
       "    </tr>\n",
       "  </tbody>\n",
       "</table>\n",
       "</div>"
      ],
      "text/plain": [
       "   gender  height  weight\n",
       "0       0      72     155\n",
       "1       0      67     145\n",
       "2       0      65     125\n",
       "3       1      67     120\n",
       "4       1      63     105"
      ]
     },
     "execution_count": 4,
     "metadata": {},
     "output_type": "execute_result"
    }
   ],
   "source": [
    "height.head()"
   ]
  },
  {
   "cell_type": "markdown",
   "metadata": {},
   "source": [
    "Where 0 = male, 1 = female."
   ]
  },
  {
   "cell_type": "code",
   "execution_count": 5,
   "metadata": {},
   "outputs": [
    {
     "data": {
      "image/png": "[encoded data removed]",
      "text/plain": [
       "<Figure size 576x432 with 1 Axes>"
      ]
     },
     "metadata": {
      "needs_background": "light"
     },
     "output_type": "display_data"
    }
   ],
   "source": [
    "height.plot.scatter(x='height', y='weight', figsize=(8,6))\n",
    "plt.xlabel(\"Height (inches)\")\n",
    "plt.ylabel(\"Weight (lbs)\")\n",
    "plt.show()"
   ]
  },
  {
   "cell_type": "markdown",
   "metadata": {},
   "source": [
    "**Question-** Describe the relationship between the height and weight of the subjects suggested by the data. Consider the pattern of the data—mainly direction and form—and any deviations from this pattern, such as outliers."
   ]
  },
  {
   "cell_type": "markdown",
   "metadata": {},
   "source": [
    "**Your Answer-** "
   ]
  },
  {
   "cell_type": "markdown",
   "metadata": {},
   "source": [
    "So far we have studied the relationship between height and weight for all of the males and females together. It may be interesting to examine whether the relationship between height and weight is different for males and females. To visualize the effect of the third variable, gender, we will indicate in the scatterplot which observations are males and which are females. "
   ]
  },
  {
   "cell_type": "code",
   "execution_count": 12,
   "metadata": {},
   "outputs": [
    {
     "data": {
      "image/png": "[encoded data removed]",
      "text/plain": [
       "<Figure size 576x432 with 1 Axes>"
      ]
     },
     "metadata": {
      "needs_background": "light"
     },
     "output_type": "display_data"
    }
   ],
   "source": [
    "fig, ax = plt.subplots(figsize=(8,6))\n",
    "sc = ax.scatter(x='height', y='weight', c='gender', data=height)\n",
    "_ = ax.set(xlabel = 'Height(inches)', ylabel = 'weight(lbs)') \n",
    "_ =  ax.legend(*sc.legend_elements())"
   ]
  },
  {
   "cell_type": "code",
   "execution_count": 15,
   "metadata": {},
   "outputs": [
    {
     "data": {
      "image/png": "[encoded data removed]",
      "text/plain": [
       "<Figure size 554.625x504 with 1 Axes>"
      ]
     },
     "metadata": {
      "needs_background": "light"
     },
     "output_type": "display_data"
    }
   ],
   "source": [
    "# easier way to do it using seaborn library\n",
    "import seaborn as sns \n",
    "sns.lmplot(x='height', y='weight', hue='gender',height=7,fit_reg=False, data=height);"
   ]
  },
  {
   "cell_type": "markdown",
   "metadata": {},
   "source": [
    "**Question-** \n",
    "Consider how taking gender into account adds to our understanding of the overall form of the relationship. Address any interesting differences between the clusters associated with the two genders. More specifically, address the following two questions:(A) Where do the males and females fall on the scatterplot with respect to height and weight. Explain why you think this is so. (B) Does it look like the weight of females increases with an increase in height as quickly as the weight of males increases with a corresponding increase in height?"
   ]
  },
  {
   "cell_type": "markdown",
   "metadata": {},
   "source": [
    "**Your Answer-** "
   ]
  },
  {
   "cell_type": "code",
   "execution_count": null,
   "metadata": {},
   "outputs": [],
   "source": []
  }
 ],
 "metadata": {
  "kernelspec": {
   "display_name": "Python 3",
   "language": "python",
   "name": "python3"
  },
  "language_info": {
   "codemirror_mode": {
    "name": "ipython",
    "version": 3
   },
   "file_extension": ".py",
   "mimetype": "text/x-python",
   "name": "python",
   "nbconvert_exporter": "python",
   "pygments_lexer": "ipython3",
   "version": "3.7.6"
  },
  "varInspector": {
   "cols": {
    "lenName": 16,
    "lenType": 16,
    "lenVar": 40
   },
   "kernels_config": {
    "python": {
     "delete_cmd_postfix": "",
     "delete_cmd_prefix": "del ",
     "library": "var_list.py",
     "varRefreshCmd": "print(var_dic_list())"
    },
    "r": {
     "delete_cmd_postfix": ") ",
     "delete_cmd_prefix": "rm(",
     "library": "var_list.r",
     "varRefreshCmd": "cat(var_dic_list()) "
    }
   },
   "types_to_exclude": [
    "module",
    "function",
    "builtin_function_or_method",
    "instance",
    "_Feature"
   ],
   "window_display": false
  }
 },
 "nbformat": 4,
 "nbformat_minor": 2
}
