{
 "cells": [
  {
   "cell_type": "code",
   "execution_count": 1,
   "metadata": {},
   "outputs": [],
   "source": [
    "import os"
   ]
  },
  {
   "cell_type": "code",
   "execution_count": 2,
   "metadata": {},
   "outputs": [],
   "source": [
    "os.chdir(\"C:\\\\Users\\\\SHAILESH TIWARI\\\\Python Files\\\\DataSources\")"
   ]
  },
  {
   "cell_type": "code",
   "execution_count": 3,
   "metadata": {},
   "outputs": [
    {
     "data": {
      "text/plain": [
       "'C:\\\\Users\\\\SHAILESH TIWARI\\\\Python Files\\\\DataSources'"
      ]
     },
     "execution_count": 3,
     "metadata": {},
     "output_type": "execute_result"
    }
   ],
   "source": [
    "os.getcwd()"
   ]
  },
  {
   "cell_type": "code",
   "execution_count": 4,
   "metadata": {},
   "outputs": [],
   "source": [
    "import pandas as pd\n",
    "import matplotlib.pyplot as plt"
   ]
  },
  {
   "cell_type": "code",
   "execution_count": 5,
   "metadata": {},
   "outputs": [],
   "source": [
    "import numpy as np"
   ]
  },
  {
   "cell_type": "code",
   "execution_count": 6,
   "metadata": {},
   "outputs": [],
   "source": [
    "dataset = pd.read_csv(\"airline_passengers.csv\")"
   ]
  },
  {
   "cell_type": "code",
   "execution_count": 7,
   "metadata": {},
   "outputs": [
    {
     "data": {
      "text/html": [
       "<div>\n",
       "<style scoped>\n",
       "    .dataframe tbody tr th:only-of-type {\n",
       "        vertical-align: middle;\n",
       "    }\n",
       "\n",
       "    .dataframe tbody tr th {\n",
       "        vertical-align: top;\n",
       "    }\n",
       "\n",
       "    .dataframe thead th {\n",
       "        text-align: right;\n",
       "    }\n",
       "</style>\n",
       "<table border=\"1\" class=\"dataframe\">\n",
       "  <thead>\n",
       "    <tr style=\"text-align: right;\">\n",
       "      <th></th>\n",
       "      <th>Month</th>\n",
       "      <th>Thousands of Passengers</th>\n",
       "    </tr>\n",
       "  </thead>\n",
       "  <tbody>\n",
       "    <tr>\n",
       "      <th>0</th>\n",
       "      <td>1949-01</td>\n",
       "      <td>112</td>\n",
       "    </tr>\n",
       "    <tr>\n",
       "      <th>1</th>\n",
       "      <td>1949-02</td>\n",
       "      <td>118</td>\n",
       "    </tr>\n",
       "    <tr>\n",
       "      <th>2</th>\n",
       "      <td>1949-03</td>\n",
       "      <td>132</td>\n",
       "    </tr>\n",
       "    <tr>\n",
       "      <th>3</th>\n",
       "      <td>1949-04</td>\n",
       "      <td>129</td>\n",
       "    </tr>\n",
       "    <tr>\n",
       "      <th>4</th>\n",
       "      <td>1949-05</td>\n",
       "      <td>121</td>\n",
       "    </tr>\n",
       "    <tr>\n",
       "      <th>...</th>\n",
       "      <td>...</td>\n",
       "      <td>...</td>\n",
       "    </tr>\n",
       "    <tr>\n",
       "      <th>139</th>\n",
       "      <td>1960-08</td>\n",
       "      <td>606</td>\n",
       "    </tr>\n",
       "    <tr>\n",
       "      <th>140</th>\n",
       "      <td>1960-09</td>\n",
       "      <td>508</td>\n",
       "    </tr>\n",
       "    <tr>\n",
       "      <th>141</th>\n",
       "      <td>1960-10</td>\n",
       "      <td>461</td>\n",
       "    </tr>\n",
       "    <tr>\n",
       "      <th>142</th>\n",
       "      <td>1960-11</td>\n",
       "      <td>390</td>\n",
       "    </tr>\n",
       "    <tr>\n",
       "      <th>143</th>\n",
       "      <td>1960-12</td>\n",
       "      <td>432</td>\n",
       "    </tr>\n",
       "  </tbody>\n",
       "</table>\n",
       "<p>144 rows × 2 columns</p>\n",
       "</div>"
      ],
      "text/plain": [
       "       Month  Thousands of Passengers\n",
       "0    1949-01                      112\n",
       "1    1949-02                      118\n",
       "2    1949-03                      132\n",
       "3    1949-04                      129\n",
       "4    1949-05                      121\n",
       "..       ...                      ...\n",
       "139  1960-08                      606\n",
       "140  1960-09                      508\n",
       "141  1960-10                      461\n",
       "142  1960-11                      390\n",
       "143  1960-12                      432\n",
       "\n",
       "[144 rows x 2 columns]"
      ]
     },
     "execution_count": 7,
     "metadata": {},
     "output_type": "execute_result"
    }
   ],
   "source": [
    "dataset"
   ]
  },
  {
   "cell_type": "code",
   "execution_count": 8,
   "metadata": {},
   "outputs": [
    {
     "data": {
      "text/plain": [
       "<AxesSubplot:>"
      ]
     },
     "execution_count": 8,
     "metadata": {},
     "output_type": "execute_result"
    },
    {
     "data": {
      "image/png": "[encoded data removed]",
      "text/plain": [
       "<Figure size 432x288 with 1 Axes>"
      ]
     },
     "metadata": {
      "needs_background": "light"
     },
     "output_type": "display_data"
    }
   ],
   "source": [
    "dataset.plot()"
   ]
  },
  {
   "cell_type": "code",
   "execution_count": 9,
   "metadata": {},
   "outputs": [
    {
     "name": "stdout",
     "output_type": "stream",
     "text": [
      "<class 'pandas.core.frame.DataFrame'>\n",
      "RangeIndex: 144 entries, 0 to 143\n",
      "Data columns (total 2 columns):\n",
      " #   Column                   Non-Null Count  Dtype \n",
      "---  ------                   --------------  ----- \n",
      " 0   Month                    144 non-null    object\n",
      " 1   Thousands of Passengers  144 non-null    int64 \n",
      "dtypes: int64(1), object(1)\n",
      "memory usage: 2.4+ KB\n"
     ]
    }
   ],
   "source": [
    "dataset.info()"
   ]
  },
  {
   "cell_type": "code",
   "execution_count": 11,
   "metadata": {},
   "outputs": [],
   "source": [
    "dataset['Month'] = pd.to_datetime(dataset['Month'])"
   ]
  },
  {
   "cell_type": "code",
   "execution_count": 13,
   "metadata": {},
   "outputs": [
    {
     "name": "stdout",
     "output_type": "stream",
     "text": [
      "<class 'pandas.core.frame.DataFrame'>\n",
      "RangeIndex: 144 entries, 0 to 143\n",
      "Data columns (total 2 columns):\n",
      " #   Column                   Non-Null Count  Dtype         \n",
      "---  ------                   --------------  -----         \n",
      " 0   Month                    144 non-null    datetime64[ns]\n",
      " 1   Thousands of Passengers  144 non-null    int64         \n",
      "dtypes: datetime64[ns](1), int64(1)\n",
      "memory usage: 2.4 KB\n"
     ]
    }
   ],
   "source": [
    "dataset.info()"
   ]
  },
  {
   "cell_type": "code",
   "execution_count": 15,
   "metadata": {},
   "outputs": [],
   "source": [
    "dataset.set_index('Month', inplace= True)"
   ]
  },
  {
   "cell_type": "code",
   "execution_count": 16,
   "metadata": {},
   "outputs": [
    {
     "data": {
      "text/html": [
       "<div>\n",
       "<style scoped>\n",
       "    .dataframe tbody tr th:only-of-type {\n",
       "        vertical-align: middle;\n",
       "    }\n",
       "\n",
       "    .dataframe tbody tr th {\n",
       "        vertical-align: top;\n",
       "    }\n",
       "\n",
       "    .dataframe thead th {\n",
       "        text-align: right;\n",
       "    }\n",
       "</style>\n",
       "<table border=\"1\" class=\"dataframe\">\n",
       "  <thead>\n",
       "    <tr style=\"text-align: right;\">\n",
       "      <th></th>\n",
       "      <th>Thousands of Passengers</th>\n",
       "    </tr>\n",
       "    <tr>\n",
       "      <th>Month</th>\n",
       "      <th></th>\n",
       "    </tr>\n",
       "  </thead>\n",
       "  <tbody>\n",
       "    <tr>\n",
       "      <th>1949-01-01</th>\n",
       "      <td>112</td>\n",
       "    </tr>\n",
       "    <tr>\n",
       "      <th>1949-02-01</th>\n",
       "      <td>118</td>\n",
       "    </tr>\n",
       "    <tr>\n",
       "      <th>1949-03-01</th>\n",
       "      <td>132</td>\n",
       "    </tr>\n",
       "    <tr>\n",
       "      <th>1949-04-01</th>\n",
       "      <td>129</td>\n",
       "    </tr>\n",
       "    <tr>\n",
       "      <th>1949-05-01</th>\n",
       "      <td>121</td>\n",
       "    </tr>\n",
       "    <tr>\n",
       "      <th>...</th>\n",
       "      <td>...</td>\n",
       "    </tr>\n",
       "    <tr>\n",
       "      <th>1960-08-01</th>\n",
       "      <td>606</td>\n",
       "    </tr>\n",
       "    <tr>\n",
       "      <th>1960-09-01</th>\n",
       "      <td>508</td>\n",
       "    </tr>\n",
       "    <tr>\n",
       "      <th>1960-10-01</th>\n",
       "      <td>461</td>\n",
       "    </tr>\n",
       "    <tr>\n",
       "      <th>1960-11-01</th>\n",
       "      <td>390</td>\n",
       "    </tr>\n",
       "    <tr>\n",
       "      <th>1960-12-01</th>\n",
       "      <td>432</td>\n",
       "    </tr>\n",
       "  </tbody>\n",
       "</table>\n",
       "<p>144 rows × 1 columns</p>\n",
       "</div>"
      ],
      "text/plain": [
       "            Thousands of Passengers\n",
       "Month                              \n",
       "1949-01-01                      112\n",
       "1949-02-01                      118\n",
       "1949-03-01                      132\n",
       "1949-04-01                      129\n",
       "1949-05-01                      121\n",
       "...                             ...\n",
       "1960-08-01                      606\n",
       "1960-09-01                      508\n",
       "1960-10-01                      461\n",
       "1960-11-01                      390\n",
       "1960-12-01                      432\n",
       "\n",
       "[144 rows x 1 columns]"
      ]
     },
     "execution_count": 16,
     "metadata": {},
     "output_type": "execute_result"
    }
   ],
   "source": [
    "dataset"
   ]
  },
  {
   "cell_type": "code",
   "execution_count": 17,
   "metadata": {},
   "outputs": [
    {
     "data": {
      "text/plain": [
       "<AxesSubplot:xlabel='Month'>"
      ]
     },
     "execution_count": 17,
     "metadata": {},
     "output_type": "execute_result"
    },
    {
     "data": {
      "image/png": "[encoded data removed]",
      "text/plain": [
       "<Figure size 432x288 with 1 Axes>"
      ]
     },
     "metadata": {
      "needs_background": "light"
     },
     "output_type": "display_data"
    }
   ],
   "source": [
    "dataset.plot()"
   ]
  },
  {
   "cell_type": "code",
   "execution_count": 18,
   "metadata": {},
   "outputs": [
    {
     "data": {
      "image/png": "[encoded data removed]",
      "text/plain": [
       "<Figure size 432x288 with 4 Axes>"
      ]
     },
     "execution_count": 18,
     "metadata": {},
     "output_type": "execute_result"
    },
    {
     "data": {
      "image/png": "[encoded data removed]",
      "text/plain": [
       "<Figure size 432x288 with 4 Axes>"
      ]
     },
     "metadata": {
      "needs_background": "light"
     },
     "output_type": "display_data"
    }
   ],
   "source": [
    "from statsmodels.tsa.seasonal import seasonal_decompose\n",
    "decomposition = seasonal_decompose(dataset['Thousands of Passengers'], period=12) #yearly data\n",
    "decomposition.plot() #for checking the components of the data"
   ]
  },
  {
   "cell_type": "code",
   "execution_count": 19,
   "metadata": {},
   "outputs": [],
   "source": [
    "from statsmodels.tsa.stattools import adfuller  # to check the stationarity of the data"
   ]
  },
  {
   "cell_type": "code",
   "execution_count": 20,
   "metadata": {},
   "outputs": [
    {
     "data": {
      "text/plain": [
       "(0.8153688792060456,\n",
       " 0.991880243437641,\n",
       " 13,\n",
       " 130,\n",
       " {'1%': -3.4816817173418295,\n",
       "  '5%': -2.8840418343195267,\n",
       "  '10%': -2.578770059171598},\n",
       " 996.692930839019)"
      ]
     },
     "execution_count": 20,
     "metadata": {},
     "output_type": "execute_result"
    }
   ],
   "source": [
    "adfuller(dataset['Thousands of Passengers'])"
   ]
  },
  {
   "cell_type": "code",
   "execution_count": 21,
   "metadata": {},
   "outputs": [],
   "source": [
    "def adf_check(time_series):  #fi=unction for better visual results\n",
    "    result = adfuller(time_series)\n",
    "    print(\"AUGMENTED DICKEY FULLER TEST\")\n",
    "    labels = ['ADF Test Statistic','P-value','#Lags','No of obs']\n",
    "    for value,label in zip(result,labels):\n",
    "        print(label + ':' + str(value))\n",
    "    if result[1]<=0.05:\n",
    "        print(\"time series is stationary\")\n",
    "    else:\n",
    "        print(\"time series is not stationary\")"
   ]
  },
  {
   "cell_type": "code",
   "execution_count": 23,
   "metadata": {},
   "outputs": [
    {
     "name": "stdout",
     "output_type": "stream",
     "text": [
      "AUGMENTED DICKEY FULLER TEST\n",
      "ADF Test Statistic:0.8153688792060456\n",
      "P-value:0.991880243437641\n",
      "#Lags:13\n",
      "No of obs:130\n",
      "time series is not stationary\n"
     ]
    }
   ],
   "source": [
    "adf_check(dataset['Thousands of Passengers'])\n",
    "#if P value >0.05 data be non stationary and we can use ARIMA \n",
    "#If P value < 0.05 data be stationary and we can use ARMA "
   ]
  },
  {
   "cell_type": "code",
   "execution_count": 24,
   "metadata": {},
   "outputs": [],
   "source": [
    "dataset['Thousands of Passengers first diff']=dataset['Thousands of Passengers']-dataset['Thousands of Passengers'].shift(1) # taking the difference of the data"
   ]
  },
  {
   "cell_type": "code",
   "execution_count": 25,
   "metadata": {},
   "outputs": [
    {
     "data": {
      "text/html": [
       "<div>\n",
       "<style scoped>\n",
       "    .dataframe tbody tr th:only-of-type {\n",
       "        vertical-align: middle;\n",
       "    }\n",
       "\n",
       "    .dataframe tbody tr th {\n",
       "        vertical-align: top;\n",
       "    }\n",
       "\n",
       "    .dataframe thead th {\n",
       "        text-align: right;\n",
       "    }\n",
       "</style>\n",
       "<table border=\"1\" class=\"dataframe\">\n",
       "  <thead>\n",
       "    <tr style=\"text-align: right;\">\n",
       "      <th></th>\n",
       "      <th>Thousands of Passengers</th>\n",
       "      <th>Thousands of Passengers first diff</th>\n",
       "    </tr>\n",
       "    <tr>\n",
       "      <th>Month</th>\n",
       "      <th></th>\n",
       "      <th></th>\n",
       "    </tr>\n",
       "  </thead>\n",
       "  <tbody>\n",
       "    <tr>\n",
       "      <th>1949-01-01</th>\n",
       "      <td>112</td>\n",
       "      <td>NaN</td>\n",
       "    </tr>\n",
       "    <tr>\n",
       "      <th>1949-02-01</th>\n",
       "      <td>118</td>\n",
       "      <td>6.0</td>\n",
       "    </tr>\n",
       "    <tr>\n",
       "      <th>1949-03-01</th>\n",
       "      <td>132</td>\n",
       "      <td>14.0</td>\n",
       "    </tr>\n",
       "    <tr>\n",
       "      <th>1949-04-01</th>\n",
       "      <td>129</td>\n",
       "      <td>-3.0</td>\n",
       "    </tr>\n",
       "    <tr>\n",
       "      <th>1949-05-01</th>\n",
       "      <td>121</td>\n",
       "      <td>-8.0</td>\n",
       "    </tr>\n",
       "    <tr>\n",
       "      <th>...</th>\n",
       "      <td>...</td>\n",
       "      <td>...</td>\n",
       "    </tr>\n",
       "    <tr>\n",
       "      <th>1960-08-01</th>\n",
       "      <td>606</td>\n",
       "      <td>-16.0</td>\n",
       "    </tr>\n",
       "    <tr>\n",
       "      <th>1960-09-01</th>\n",
       "      <td>508</td>\n",
       "      <td>-98.0</td>\n",
       "    </tr>\n",
       "    <tr>\n",
       "      <th>1960-10-01</th>\n",
       "      <td>461</td>\n",
       "      <td>-47.0</td>\n",
       "    </tr>\n",
       "    <tr>\n",
       "      <th>1960-11-01</th>\n",
       "      <td>390</td>\n",
       "      <td>-71.0</td>\n",
       "    </tr>\n",
       "    <tr>\n",
       "      <th>1960-12-01</th>\n",
       "      <td>432</td>\n",
       "      <td>42.0</td>\n",
       "    </tr>\n",
       "  </tbody>\n",
       "</table>\n",
       "<p>144 rows × 2 columns</p>\n",
       "</div>"
      ],
      "text/plain": [
       "            Thousands of Passengers  Thousands of Passengers first diff\n",
       "Month                                                                  \n",
       "1949-01-01                      112                                 NaN\n",
       "1949-02-01                      118                                 6.0\n",
       "1949-03-01                      132                                14.0\n",
       "1949-04-01                      129                                -3.0\n",
       "1949-05-01                      121                                -8.0\n",
       "...                             ...                                 ...\n",
       "1960-08-01                      606                               -16.0\n",
       "1960-09-01                      508                               -98.0\n",
       "1960-10-01                      461                               -47.0\n",
       "1960-11-01                      390                               -71.0\n",
       "1960-12-01                      432                                42.0\n",
       "\n",
       "[144 rows x 2 columns]"
      ]
     },
     "execution_count": 25,
     "metadata": {},
     "output_type": "execute_result"
    }
   ],
   "source": [
    "dataset"
   ]
  },
  {
   "cell_type": "code",
   "execution_count": 26,
   "metadata": {},
   "outputs": [
    {
     "name": "stdout",
     "output_type": "stream",
     "text": [
      "AUGMENTED DICKEY FULLER TEST\n",
      "ADF Test Statistic:-2.8292668241699817\n",
      "P-value:0.05421329028382789\n",
      "#Lags:12\n",
      "No of obs:130\n",
      "time series is not stationary\n"
     ]
    }
   ],
   "source": [
    "adf_check(dataset['Thousands of Passengers first diff'].dropna())"
   ]
  },
  {
   "cell_type": "code",
   "execution_count": 27,
   "metadata": {},
   "outputs": [],
   "source": [
    "dataset['Thousands of Passengers second diff']=dataset['Thousands of Passengers first diff']-dataset['Thousands of Passengers first diff'].shift(1)"
   ]
  },
  {
   "cell_type": "code",
   "execution_count": 28,
   "metadata": {},
   "outputs": [
    {
     "data": {
      "text/html": [
       "<div>\n",
       "<style scoped>\n",
       "    .dataframe tbody tr th:only-of-type {\n",
       "        vertical-align: middle;\n",
       "    }\n",
       "\n",
       "    .dataframe tbody tr th {\n",
       "        vertical-align: top;\n",
       "    }\n",
       "\n",
       "    .dataframe thead th {\n",
       "        text-align: right;\n",
       "    }\n",
       "</style>\n",
       "<table border=\"1\" class=\"dataframe\">\n",
       "  <thead>\n",
       "    <tr style=\"text-align: right;\">\n",
       "      <th></th>\n",
       "      <th>Thousands of Passengers</th>\n",
       "      <th>Thousands of Passengers first diff</th>\n",
       "      <th>Thousands of Passengers second diff</th>\n",
       "    </tr>\n",
       "    <tr>\n",
       "      <th>Month</th>\n",
       "      <th></th>\n",
       "      <th></th>\n",
       "      <th></th>\n",
       "    </tr>\n",
       "  </thead>\n",
       "  <tbody>\n",
       "    <tr>\n",
       "      <th>1949-01-01</th>\n",
       "      <td>112</td>\n",
       "      <td>NaN</td>\n",
       "      <td>NaN</td>\n",
       "    </tr>\n",
       "    <tr>\n",
       "      <th>1949-02-01</th>\n",
       "      <td>118</td>\n",
       "      <td>6.0</td>\n",
       "      <td>NaN</td>\n",
       "    </tr>\n",
       "    <tr>\n",
       "      <th>1949-03-01</th>\n",
       "      <td>132</td>\n",
       "      <td>14.0</td>\n",
       "      <td>8.0</td>\n",
       "    </tr>\n",
       "    <tr>\n",
       "      <th>1949-04-01</th>\n",
       "      <td>129</td>\n",
       "      <td>-3.0</td>\n",
       "      <td>-17.0</td>\n",
       "    </tr>\n",
       "    <tr>\n",
       "      <th>1949-05-01</th>\n",
       "      <td>121</td>\n",
       "      <td>-8.0</td>\n",
       "      <td>-5.0</td>\n",
       "    </tr>\n",
       "    <tr>\n",
       "      <th>...</th>\n",
       "      <td>...</td>\n",
       "      <td>...</td>\n",
       "      <td>...</td>\n",
       "    </tr>\n",
       "    <tr>\n",
       "      <th>1960-08-01</th>\n",
       "      <td>606</td>\n",
       "      <td>-16.0</td>\n",
       "      <td>-103.0</td>\n",
       "    </tr>\n",
       "    <tr>\n",
       "      <th>1960-09-01</th>\n",
       "      <td>508</td>\n",
       "      <td>-98.0</td>\n",
       "      <td>-82.0</td>\n",
       "    </tr>\n",
       "    <tr>\n",
       "      <th>1960-10-01</th>\n",
       "      <td>461</td>\n",
       "      <td>-47.0</td>\n",
       "      <td>51.0</td>\n",
       "    </tr>\n",
       "    <tr>\n",
       "      <th>1960-11-01</th>\n",
       "      <td>390</td>\n",
       "      <td>-71.0</td>\n",
       "      <td>-24.0</td>\n",
       "    </tr>\n",
       "    <tr>\n",
       "      <th>1960-12-01</th>\n",
       "      <td>432</td>\n",
       "      <td>42.0</td>\n",
       "      <td>113.0</td>\n",
       "    </tr>\n",
       "  </tbody>\n",
       "</table>\n",
       "<p>144 rows × 3 columns</p>\n",
       "</div>"
      ],
      "text/plain": [
       "            Thousands of Passengers  Thousands of Passengers first diff  \\\n",
       "Month                                                                     \n",
       "1949-01-01                      112                                 NaN   \n",
       "1949-02-01                      118                                 6.0   \n",
       "1949-03-01                      132                                14.0   \n",
       "1949-04-01                      129                                -3.0   \n",
       "1949-05-01                      121                                -8.0   \n",
       "...                             ...                                 ...   \n",
       "1960-08-01                      606                               -16.0   \n",
       "1960-09-01                      508                               -98.0   \n",
       "1960-10-01                      461                               -47.0   \n",
       "1960-11-01                      390                               -71.0   \n",
       "1960-12-01                      432                                42.0   \n",
       "\n",
       "            Thousands of Passengers second diff  \n",
       "Month                                            \n",
       "1949-01-01                                  NaN  \n",
       "1949-02-01                                  NaN  \n",
       "1949-03-01                                  8.0  \n",
       "1949-04-01                                -17.0  \n",
       "1949-05-01                                 -5.0  \n",
       "...                                         ...  \n",
       "1960-08-01                               -103.0  \n",
       "1960-09-01                                -82.0  \n",
       "1960-10-01                                 51.0  \n",
       "1960-11-01                                -24.0  \n",
       "1960-12-01                                113.0  \n",
       "\n",
       "[144 rows x 3 columns]"
      ]
     },
     "execution_count": 28,
     "metadata": {},
     "output_type": "execute_result"
    }
   ],
   "source": [
    "dataset"
   ]
  },
  {
   "cell_type": "code",
   "execution_count": null,
   "metadata": {},
   "outputs": [],
   "source": []
  },
  {
   "cell_type": "code",
   "execution_count": 29,
   "metadata": {},
   "outputs": [
    {
     "name": "stdout",
     "output_type": "stream",
     "text": [
      "AUGMENTED DICKEY FULLER TEST\n",
      "ADF Test Statistic:-16.384231542468523\n",
      "P-value:2.7328918500141235e-29\n",
      "#Lags:11\n",
      "No of obs:130\n",
      "time series is stationary\n"
     ]
    }
   ],
   "source": [
    "adf_check(dataset['Thousands of Passengers second diff'].dropna())"
   ]
  },
  {
   "cell_type": "code",
   "execution_count": 31,
   "metadata": {},
   "outputs": [
    {
     "data": {
      "image/png": "[encoded data removed]",
      "text/plain": [
       "<Figure size 432x288 with 4 Axes>"
      ]
     },
     "execution_count": 31,
     "metadata": {},
     "output_type": "execute_result"
    },
    {
     "data": {
      "image/png": "[encoded data removed]",
      "text/plain": [
       "<Figure size 432x288 with 4 Axes>"
      ]
     },
     "metadata": {
      "needs_background": "light"
     },
     "output_type": "display_data"
    }
   ],
   "source": [
    "from statsmodels.tsa.seasonal import seasonal_decompose\n",
    "decomposition = seasonal_decompose(dataset['Thousands of Passengers second diff'].dropna(), period=12) #yearly data\n",
    "decomposition.plot()"
   ]
  },
  {
   "cell_type": "code",
   "execution_count": 32,
   "metadata": {},
   "outputs": [],
   "source": [
    "#d=2 finding capital P as there is seasonality in data as well"
   ]
  },
  {
   "cell_type": "code",
   "execution_count": 33,
   "metadata": {},
   "outputs": [],
   "source": [
    "dataset['Seasonal Diff'] = dataset['Thousands of Passengers']-dataset['Thousands of Passengers'].shift(12)\n"
   ]
  },
  {
   "cell_type": "code",
   "execution_count": 34,
   "metadata": {},
   "outputs": [
    {
     "data": {
      "text/html": [
       "<div>\n",
       "<style scoped>\n",
       "    .dataframe tbody tr th:only-of-type {\n",
       "        vertical-align: middle;\n",
       "    }\n",
       "\n",
       "    .dataframe tbody tr th {\n",
       "        vertical-align: top;\n",
       "    }\n",
       "\n",
       "    .dataframe thead th {\n",
       "        text-align: right;\n",
       "    }\n",
       "</style>\n",
       "<table border=\"1\" class=\"dataframe\">\n",
       "  <thead>\n",
       "    <tr style=\"text-align: right;\">\n",
       "      <th></th>\n",
       "      <th>Thousands of Passengers</th>\n",
       "      <th>Thousands of Passengers first diff</th>\n",
       "      <th>Thousands of Passengers second diff</th>\n",
       "      <th>Seasonal Diff</th>\n",
       "    </tr>\n",
       "    <tr>\n",
       "      <th>Month</th>\n",
       "      <th></th>\n",
       "      <th></th>\n",
       "      <th></th>\n",
       "      <th></th>\n",
       "    </tr>\n",
       "  </thead>\n",
       "  <tbody>\n",
       "    <tr>\n",
       "      <th>1949-01-01</th>\n",
       "      <td>112</td>\n",
       "      <td>NaN</td>\n",
       "      <td>NaN</td>\n",
       "      <td>NaN</td>\n",
       "    </tr>\n",
       "    <tr>\n",
       "      <th>1949-02-01</th>\n",
       "      <td>118</td>\n",
       "      <td>6.0</td>\n",
       "      <td>NaN</td>\n",
       "      <td>NaN</td>\n",
       "    </tr>\n",
       "    <tr>\n",
       "      <th>1949-03-01</th>\n",
       "      <td>132</td>\n",
       "      <td>14.0</td>\n",
       "      <td>8.0</td>\n",
       "      <td>NaN</td>\n",
       "    </tr>\n",
       "    <tr>\n",
       "      <th>1949-04-01</th>\n",
       "      <td>129</td>\n",
       "      <td>-3.0</td>\n",
       "      <td>-17.0</td>\n",
       "      <td>NaN</td>\n",
       "    </tr>\n",
       "    <tr>\n",
       "      <th>1949-05-01</th>\n",
       "      <td>121</td>\n",
       "      <td>-8.0</td>\n",
       "      <td>-5.0</td>\n",
       "      <td>NaN</td>\n",
       "    </tr>\n",
       "    <tr>\n",
       "      <th>...</th>\n",
       "      <td>...</td>\n",
       "      <td>...</td>\n",
       "      <td>...</td>\n",
       "      <td>...</td>\n",
       "    </tr>\n",
       "    <tr>\n",
       "      <th>1960-08-01</th>\n",
       "      <td>606</td>\n",
       "      <td>-16.0</td>\n",
       "      <td>-103.0</td>\n",
       "      <td>47.0</td>\n",
       "    </tr>\n",
       "    <tr>\n",
       "      <th>1960-09-01</th>\n",
       "      <td>508</td>\n",
       "      <td>-98.0</td>\n",
       "      <td>-82.0</td>\n",
       "      <td>45.0</td>\n",
       "    </tr>\n",
       "    <tr>\n",
       "      <th>1960-10-01</th>\n",
       "      <td>461</td>\n",
       "      <td>-47.0</td>\n",
       "      <td>51.0</td>\n",
       "      <td>54.0</td>\n",
       "    </tr>\n",
       "    <tr>\n",
       "      <th>1960-11-01</th>\n",
       "      <td>390</td>\n",
       "      <td>-71.0</td>\n",
       "      <td>-24.0</td>\n",
       "      <td>28.0</td>\n",
       "    </tr>\n",
       "    <tr>\n",
       "      <th>1960-12-01</th>\n",
       "      <td>432</td>\n",
       "      <td>42.0</td>\n",
       "      <td>113.0</td>\n",
       "      <td>27.0</td>\n",
       "    </tr>\n",
       "  </tbody>\n",
       "</table>\n",
       "<p>144 rows × 4 columns</p>\n",
       "</div>"
      ],
      "text/plain": [
       "            Thousands of Passengers  Thousands of Passengers first diff  \\\n",
       "Month                                                                     \n",
       "1949-01-01                      112                                 NaN   \n",
       "1949-02-01                      118                                 6.0   \n",
       "1949-03-01                      132                                14.0   \n",
       "1949-04-01                      129                                -3.0   \n",
       "1949-05-01                      121                                -8.0   \n",
       "...                             ...                                 ...   \n",
       "1960-08-01                      606                               -16.0   \n",
       "1960-09-01                      508                               -98.0   \n",
       "1960-10-01                      461                               -47.0   \n",
       "1960-11-01                      390                               -71.0   \n",
       "1960-12-01                      432                                42.0   \n",
       "\n",
       "            Thousands of Passengers second diff  Seasonal Diff  \n",
       "Month                                                           \n",
       "1949-01-01                                  NaN            NaN  \n",
       "1949-02-01                                  NaN            NaN  \n",
       "1949-03-01                                  8.0            NaN  \n",
       "1949-04-01                                -17.0            NaN  \n",
       "1949-05-01                                 -5.0            NaN  \n",
       "...                                         ...            ...  \n",
       "1960-08-01                               -103.0           47.0  \n",
       "1960-09-01                                -82.0           45.0  \n",
       "1960-10-01                                 51.0           54.0  \n",
       "1960-11-01                                -24.0           28.0  \n",
       "1960-12-01                                113.0           27.0  \n",
       "\n",
       "[144 rows x 4 columns]"
      ]
     },
     "execution_count": 34,
     "metadata": {},
     "output_type": "execute_result"
    }
   ],
   "source": [
    "dataset"
   ]
  },
  {
   "cell_type": "code",
   "execution_count": 35,
   "metadata": {},
   "outputs": [],
   "source": [
    "#dataset.to_csv('file name.csv') # saving the dataset to the csv file"
   ]
  },
  {
   "cell_type": "code",
   "execution_count": 36,
   "metadata": {},
   "outputs": [
    {
     "name": "stdout",
     "output_type": "stream",
     "text": [
      "AUGMENTED DICKEY FULLER TEST\n",
      "ADF Test Statistic:-3.3830207264924796\n",
      "P-value:0.011551493085515008\n",
      "#Lags:1\n",
      "No of obs:130\n",
      "time series is stationary\n"
     ]
    }
   ],
   "source": [
    "adf_check(dataset['Seasonal Diff'].dropna())"
   ]
  },
  {
   "cell_type": "code",
   "execution_count": 37,
   "metadata": {},
   "outputs": [],
   "source": [
    "#D=1 for seasonality"
   ]
  },
  {
   "cell_type": "code",
   "execution_count": 38,
   "metadata": {},
   "outputs": [],
   "source": [
    "from statsmodels.graphics.tsaplots import plot_acf,plot_pacf"
   ]
  },
  {
   "cell_type": "code",
   "execution_count": 39,
   "metadata": {},
   "outputs": [],
   "source": [
    "#plot_pacf(dataset['Thousands of Passengers second diff'].dropna(), lags=14)\n"
   ]
  },
  {
   "cell_type": "code",
   "execution_count": 40,
   "metadata": {},
   "outputs": [
    {
     "data": {
      "image/png": "[encoded data removed]",
      "text/plain": [
       "<Figure size 432x288 with 1 Axes>"
      ]
     },
     "execution_count": 40,
     "metadata": {},
     "output_type": "execute_result"
    },
    {
     "data": {
      "image/png": "[encoded data removed]",
      "text/plain": [
       "<Figure size 432x288 with 1 Axes>"
      ]
     },
     "metadata": {
      "needs_background": "light"
     },
     "output_type": "display_data"
    }
   ],
   "source": [
    "plot_pacf(dataset['Seasonal Diff'].dropna(),lags=14)\n",
    "#P=1"
   ]
  },
  {
   "cell_type": "code",
   "execution_count": 32,
   "metadata": {},
   "outputs": [
    {
     "data": {
      "image/png": "[encoded data removed]",
      "text/plain": [
       "<Figure size 432x288 with 1 Axes>"
      ]
     },
     "execution_count": 32,
     "metadata": {},
     "output_type": "execute_result"
    },
    {
     "data": {
      "image/png": "[encoded data removed]",
      "text/plain": [
       "<Figure size 432x288 with 1 Axes>"
      ]
     },
     "metadata": {
      "needs_background": "light"
     },
     "output_type": "display_data"
    }
   ],
   "source": [
    "plot_acf(dataset['Thousands of Passengers'].dropna(),lags=14)\n",
    "#p=1 "
   ]
  },
  {
   "cell_type": "code",
   "execution_count": 41,
   "metadata": {},
   "outputs": [
    {
     "data": {
      "image/png": "[encoded data removed]",
      "text/plain": [
       "<Figure size 432x288 with 1 Axes>"
      ]
     },
     "execution_count": 41,
     "metadata": {},
     "output_type": "execute_result"
    },
    {
     "data": {
      "image/png": "[encoded data removed]",
      "text/plain": [
       "<Figure size 432x288 with 1 Axes>"
      ]
     },
     "metadata": {
      "needs_background": "light"
     },
     "output_type": "display_data"
    }
   ],
   "source": [
    "plot_acf(dataset['Seasonal Diff'].dropna(),lags=14)\n",
    "#Q=2 seasons"
   ]
  },
  {
   "cell_type": "code",
   "execution_count": 42,
   "metadata": {},
   "outputs": [],
   "source": [
    "# model application\n",
    "from statsmodels.tsa.arima_model import ARIMA\n",
    "import statsmodels.api as sm"
   ]
  },
  {
   "cell_type": "code",
   "execution_count": 43,
   "metadata": {},
   "outputs": [
    {
     "name": "stderr",
     "output_type": "stream",
     "text": [
      "C:\\Users\\SHAILESH TIWARI\\anaconda3\\lib\\site-packages\\statsmodels\\tsa\\base\\tsa_model.py:524: ValueWarning: No frequency information was provided, so inferred frequency MS will be used.\n",
      "  warnings.warn('No frequency information was'\n",
      "C:\\Users\\SHAILESH TIWARI\\anaconda3\\lib\\site-packages\\statsmodels\\tsa\\base\\tsa_model.py:524: ValueWarning: No frequency information was provided, so inferred frequency MS will be used.\n",
      "  warnings.warn('No frequency information was'\n",
      "C:\\Users\\SHAILESH TIWARI\\anaconda3\\lib\\site-packages\\statsmodels\\tsa\\statespace\\sarimax.py:1009: UserWarning: Non-invertible starting seasonal moving average Using zeros as starting parameters.\n",
      "  warn('Non-invertible starting seasonal moving average'\n",
      "C:\\Users\\SHAILESH TIWARI\\anaconda3\\lib\\site-packages\\statsmodels\\base\\model.py:566: ConvergenceWarning: Maximum Likelihood optimization failed to converge. Check mle_retvals\n",
      "  warnings.warn(\"Maximum Likelihood optimization failed to \"\n"
     ]
    },
    {
     "name": "stdout",
     "output_type": "stream",
     "text": [
      "                                        SARIMAX Results                                        \n",
      "===============================================================================================\n",
      "Dep. Variable:                 Thousands of Passengers   No. Observations:                  144\n",
      "Model:             SARIMAX(0, 2, 0)x(1, 2, [1, 2], 12)   Log Likelihood                -532.999\n",
      "Date:                                 Sat, 19 Feb 2022   AIC                           1073.999\n",
      "Time:                                         22:52:57   BIC                           1085.081\n",
      "Sample:                                     01-01-1949   HQIC                          1078.499\n",
      "                                          - 12-01-1960                                         \n",
      "Covariance Type:                                   opg                                         \n",
      "==============================================================================\n",
      "                 coef    std err          z      P>|z|      [0.025      0.975]\n",
      "------------------------------------------------------------------------------\n",
      "ar.S.L12       0.4764      0.587      0.811      0.417      -0.675       1.628\n",
      "ma.S.L12      -1.8832     28.262     -0.067      0.947     -57.276      53.510\n",
      "ma.S.L24       0.9943     29.953      0.033      0.974     -57.713      59.702\n",
      "sigma2       329.6861   9712.527      0.034      0.973   -1.87e+04    1.94e+04\n",
      "===================================================================================\n",
      "Ljung-Box (L1) (Q):                  53.32   Jarque-Bera (JB):                59.46\n",
      "Prob(Q):                              0.00   Prob(JB):                         0.00\n",
      "Heteroskedasticity (H):               2.84   Skew:                             0.36\n",
      "Prob(H) (two-sided):                  0.00   Kurtosis:                         6.40\n",
      "===================================================================================\n",
      "\n",
      "Warnings:\n",
      "[1] Covariance matrix calculated using the outer product of gradients (complex-step).\n"
     ]
    }
   ],
   "source": [
    "model =sm.tsa.statespace.SARIMAX(dataset['Thousands of Passengers'],order=(0,2,0),seasonal_order=(1,2,2,12))\n",
    "results = model.fit()\n",
    "print(results.summary())"
   ]
  },
  {
   "cell_type": "code",
   "execution_count": 44,
   "metadata": {},
   "outputs": [],
   "source": [
    "dataset['Forecast']= results.predict(start=130,end=144,dynamic = True)"
   ]
  },
  {
   "cell_type": "code",
   "execution_count": 45,
   "metadata": {},
   "outputs": [
    {
     "data": {
      "text/plain": [
       "144"
      ]
     },
     "execution_count": 45,
     "metadata": {},
     "output_type": "execute_result"
    }
   ],
   "source": [
    "len(dataset)"
   ]
  },
  {
   "cell_type": "code",
   "execution_count": 46,
   "metadata": {},
   "outputs": [
    {
     "data": {
      "text/html": [
       "<div>\n",
       "<style scoped>\n",
       "    .dataframe tbody tr th:only-of-type {\n",
       "        vertical-align: middle;\n",
       "    }\n",
       "\n",
       "    .dataframe tbody tr th {\n",
       "        vertical-align: top;\n",
       "    }\n",
       "\n",
       "    .dataframe thead th {\n",
       "        text-align: right;\n",
       "    }\n",
       "</style>\n",
       "<table border=\"1\" class=\"dataframe\">\n",
       "  <thead>\n",
       "    <tr style=\"text-align: right;\">\n",
       "      <th></th>\n",
       "      <th>Thousands of Passengers</th>\n",
       "      <th>Thousands of Passengers first diff</th>\n",
       "      <th>Thousands of Passengers second diff</th>\n",
       "      <th>Seasonal Diff</th>\n",
       "      <th>Forecast</th>\n",
       "    </tr>\n",
       "    <tr>\n",
       "      <th>Month</th>\n",
       "      <th></th>\n",
       "      <th></th>\n",
       "      <th></th>\n",
       "      <th></th>\n",
       "      <th></th>\n",
       "    </tr>\n",
       "  </thead>\n",
       "  <tbody>\n",
       "    <tr>\n",
       "      <th>1949-01-01</th>\n",
       "      <td>112</td>\n",
       "      <td>NaN</td>\n",
       "      <td>NaN</td>\n",
       "      <td>NaN</td>\n",
       "      <td>NaN</td>\n",
       "    </tr>\n",
       "    <tr>\n",
       "      <th>1949-02-01</th>\n",
       "      <td>118</td>\n",
       "      <td>6.0</td>\n",
       "      <td>NaN</td>\n",
       "      <td>NaN</td>\n",
       "      <td>NaN</td>\n",
       "    </tr>\n",
       "    <tr>\n",
       "      <th>1949-03-01</th>\n",
       "      <td>132</td>\n",
       "      <td>14.0</td>\n",
       "      <td>8.0</td>\n",
       "      <td>NaN</td>\n",
       "      <td>NaN</td>\n",
       "    </tr>\n",
       "    <tr>\n",
       "      <th>1949-04-01</th>\n",
       "      <td>129</td>\n",
       "      <td>-3.0</td>\n",
       "      <td>-17.0</td>\n",
       "      <td>NaN</td>\n",
       "      <td>NaN</td>\n",
       "    </tr>\n",
       "    <tr>\n",
       "      <th>1949-05-01</th>\n",
       "      <td>121</td>\n",
       "      <td>-8.0</td>\n",
       "      <td>-5.0</td>\n",
       "      <td>NaN</td>\n",
       "      <td>NaN</td>\n",
       "    </tr>\n",
       "    <tr>\n",
       "      <th>...</th>\n",
       "      <td>...</td>\n",
       "      <td>...</td>\n",
       "      <td>...</td>\n",
       "      <td>...</td>\n",
       "      <td>...</td>\n",
       "    </tr>\n",
       "    <tr>\n",
       "      <th>1960-08-01</th>\n",
       "      <td>606</td>\n",
       "      <td>-16.0</td>\n",
       "      <td>-103.0</td>\n",
       "      <td>47.0</td>\n",
       "      <td>577.982113</td>\n",
       "    </tr>\n",
       "    <tr>\n",
       "      <th>1960-09-01</th>\n",
       "      <td>508</td>\n",
       "      <td>-98.0</td>\n",
       "      <td>-82.0</td>\n",
       "      <td>45.0</td>\n",
       "      <td>472.448788</td>\n",
       "    </tr>\n",
       "    <tr>\n",
       "      <th>1960-10-01</th>\n",
       "      <td>461</td>\n",
       "      <td>-47.0</td>\n",
       "      <td>51.0</td>\n",
       "      <td>54.0</td>\n",
       "      <td>407.608306</td>\n",
       "    </tr>\n",
       "    <tr>\n",
       "      <th>1960-11-01</th>\n",
       "      <td>390</td>\n",
       "      <td>-71.0</td>\n",
       "      <td>-24.0</td>\n",
       "      <td>28.0</td>\n",
       "      <td>346.432172</td>\n",
       "    </tr>\n",
       "    <tr>\n",
       "      <th>1960-12-01</th>\n",
       "      <td>432</td>\n",
       "      <td>42.0</td>\n",
       "      <td>113.0</td>\n",
       "      <td>27.0</td>\n",
       "      <td>375.241265</td>\n",
       "    </tr>\n",
       "  </tbody>\n",
       "</table>\n",
       "<p>144 rows × 5 columns</p>\n",
       "</div>"
      ],
      "text/plain": [
       "            Thousands of Passengers  Thousands of Passengers first diff  \\\n",
       "Month                                                                     \n",
       "1949-01-01                      112                                 NaN   \n",
       "1949-02-01                      118                                 6.0   \n",
       "1949-03-01                      132                                14.0   \n",
       "1949-04-01                      129                                -3.0   \n",
       "1949-05-01                      121                                -8.0   \n",
       "...                             ...                                 ...   \n",
       "1960-08-01                      606                               -16.0   \n",
       "1960-09-01                      508                               -98.0   \n",
       "1960-10-01                      461                               -47.0   \n",
       "1960-11-01                      390                               -71.0   \n",
       "1960-12-01                      432                                42.0   \n",
       "\n",
       "            Thousands of Passengers second diff  Seasonal Diff    Forecast  \n",
       "Month                                                                       \n",
       "1949-01-01                                  NaN            NaN         NaN  \n",
       "1949-02-01                                  NaN            NaN         NaN  \n",
       "1949-03-01                                  8.0            NaN         NaN  \n",
       "1949-04-01                                -17.0            NaN         NaN  \n",
       "1949-05-01                                 -5.0            NaN         NaN  \n",
       "...                                         ...            ...         ...  \n",
       "1960-08-01                               -103.0           47.0  577.982113  \n",
       "1960-09-01                                -82.0           45.0  472.448788  \n",
       "1960-10-01                                 51.0           54.0  407.608306  \n",
       "1960-11-01                                -24.0           28.0  346.432172  \n",
       "1960-12-01                                113.0           27.0  375.241265  \n",
       "\n",
       "[144 rows x 5 columns]"
      ]
     },
     "execution_count": 46,
     "metadata": {},
     "output_type": "execute_result"
    }
   ],
   "source": [
    "dataset"
   ]
  },
  {
   "cell_type": "code",
   "execution_count": 47,
   "metadata": {},
   "outputs": [
    {
     "data": {
      "text/plain": [
       "<AxesSubplot:xlabel='Month'>"
      ]
     },
     "execution_count": 47,
     "metadata": {},
     "output_type": "execute_result"
    },
    {
     "data": {
      "image/png": "[encoded data removed]",
      "text/plain": [
       "<Figure size 432x288 with 1 Axes>"
      ]
     },
     "metadata": {
      "needs_background": "light"
     },
     "output_type": "display_data"
    }
   ],
   "source": [
    "dataset[['Thousands of Passengers','Forecast']].plot()"
   ]
  },
  {
   "cell_type": "code",
   "execution_count": 48,
   "metadata": {},
   "outputs": [],
   "source": [
    "from pandas.tseries.offsets import DateOffset #for future dates predictions adding dates here\n",
    "future_dates= [dataset.index[-1]+ DateOffset(months=x) for x in range(0,24)]"
   ]
  },
  {
   "cell_type": "code",
   "execution_count": 49,
   "metadata": {},
   "outputs": [],
   "source": [
    "future_dates_df=pd.DataFrame(index=future_dates[1:],columns=dataset.columns)"
   ]
  },
  {
   "cell_type": "code",
   "execution_count": 50,
   "metadata": {},
   "outputs": [
    {
     "data": {
      "text/html": [
       "<div>\n",
       "<style scoped>\n",
       "    .dataframe tbody tr th:only-of-type {\n",
       "        vertical-align: middle;\n",
       "    }\n",
       "\n",
       "    .dataframe tbody tr th {\n",
       "        vertical-align: top;\n",
       "    }\n",
       "\n",
       "    .dataframe thead th {\n",
       "        text-align: right;\n",
       "    }\n",
       "</style>\n",
       "<table border=\"1\" class=\"dataframe\">\n",
       "  <thead>\n",
       "    <tr style=\"text-align: right;\">\n",
       "      <th></th>\n",
       "      <th>Thousands of Passengers</th>\n",
       "      <th>Thousands of Passengers first diff</th>\n",
       "      <th>Thousands of Passengers second diff</th>\n",
       "      <th>Seasonal Diff</th>\n",
       "      <th>Forecast</th>\n",
       "    </tr>\n",
       "  </thead>\n",
       "  <tbody>\n",
       "    <tr>\n",
       "      <th>1961-01-01</th>\n",
       "      <td>NaN</td>\n",
       "      <td>NaN</td>\n",
       "      <td>NaN</td>\n",
       "      <td>NaN</td>\n",
       "      <td>NaN</td>\n",
       "    </tr>\n",
       "    <tr>\n",
       "      <th>1961-02-01</th>\n",
       "      <td>NaN</td>\n",
       "      <td>NaN</td>\n",
       "      <td>NaN</td>\n",
       "      <td>NaN</td>\n",
       "      <td>NaN</td>\n",
       "    </tr>\n",
       "    <tr>\n",
       "      <th>1961-03-01</th>\n",
       "      <td>NaN</td>\n",
       "      <td>NaN</td>\n",
       "      <td>NaN</td>\n",
       "      <td>NaN</td>\n",
       "      <td>NaN</td>\n",
       "    </tr>\n",
       "    <tr>\n",
       "      <th>1961-04-01</th>\n",
       "      <td>NaN</td>\n",
       "      <td>NaN</td>\n",
       "      <td>NaN</td>\n",
       "      <td>NaN</td>\n",
       "      <td>NaN</td>\n",
       "    </tr>\n",
       "    <tr>\n",
       "      <th>1961-05-01</th>\n",
       "      <td>NaN</td>\n",
       "      <td>NaN</td>\n",
       "      <td>NaN</td>\n",
       "      <td>NaN</td>\n",
       "      <td>NaN</td>\n",
       "    </tr>\n",
       "    <tr>\n",
       "      <th>1961-06-01</th>\n",
       "      <td>NaN</td>\n",
       "      <td>NaN</td>\n",
       "      <td>NaN</td>\n",
       "      <td>NaN</td>\n",
       "      <td>NaN</td>\n",
       "    </tr>\n",
       "    <tr>\n",
       "      <th>1961-07-01</th>\n",
       "      <td>NaN</td>\n",
       "      <td>NaN</td>\n",
       "      <td>NaN</td>\n",
       "      <td>NaN</td>\n",
       "      <td>NaN</td>\n",
       "    </tr>\n",
       "    <tr>\n",
       "      <th>1961-08-01</th>\n",
       "      <td>NaN</td>\n",
       "      <td>NaN</td>\n",
       "      <td>NaN</td>\n",
       "      <td>NaN</td>\n",
       "      <td>NaN</td>\n",
       "    </tr>\n",
       "    <tr>\n",
       "      <th>1961-09-01</th>\n",
       "      <td>NaN</td>\n",
       "      <td>NaN</td>\n",
       "      <td>NaN</td>\n",
       "      <td>NaN</td>\n",
       "      <td>NaN</td>\n",
       "    </tr>\n",
       "    <tr>\n",
       "      <th>1961-10-01</th>\n",
       "      <td>NaN</td>\n",
       "      <td>NaN</td>\n",
       "      <td>NaN</td>\n",
       "      <td>NaN</td>\n",
       "      <td>NaN</td>\n",
       "    </tr>\n",
       "    <tr>\n",
       "      <th>1961-11-01</th>\n",
       "      <td>NaN</td>\n",
       "      <td>NaN</td>\n",
       "      <td>NaN</td>\n",
       "      <td>NaN</td>\n",
       "      <td>NaN</td>\n",
       "    </tr>\n",
       "    <tr>\n",
       "      <th>1961-12-01</th>\n",
       "      <td>NaN</td>\n",
       "      <td>NaN</td>\n",
       "      <td>NaN</td>\n",
       "      <td>NaN</td>\n",
       "      <td>NaN</td>\n",
       "    </tr>\n",
       "    <tr>\n",
       "      <th>1962-01-01</th>\n",
       "      <td>NaN</td>\n",
       "      <td>NaN</td>\n",
       "      <td>NaN</td>\n",
       "      <td>NaN</td>\n",
       "      <td>NaN</td>\n",
       "    </tr>\n",
       "    <tr>\n",
       "      <th>1962-02-01</th>\n",
       "      <td>NaN</td>\n",
       "      <td>NaN</td>\n",
       "      <td>NaN</td>\n",
       "      <td>NaN</td>\n",
       "      <td>NaN</td>\n",
       "    </tr>\n",
       "    <tr>\n",
       "      <th>1962-03-01</th>\n",
       "      <td>NaN</td>\n",
       "      <td>NaN</td>\n",
       "      <td>NaN</td>\n",
       "      <td>NaN</td>\n",
       "      <td>NaN</td>\n",
       "    </tr>\n",
       "    <tr>\n",
       "      <th>1962-04-01</th>\n",
       "      <td>NaN</td>\n",
       "      <td>NaN</td>\n",
       "      <td>NaN</td>\n",
       "      <td>NaN</td>\n",
       "      <td>NaN</td>\n",
       "    </tr>\n",
       "    <tr>\n",
       "      <th>1962-05-01</th>\n",
       "      <td>NaN</td>\n",
       "      <td>NaN</td>\n",
       "      <td>NaN</td>\n",
       "      <td>NaN</td>\n",
       "      <td>NaN</td>\n",
       "    </tr>\n",
       "    <tr>\n",
       "      <th>1962-06-01</th>\n",
       "      <td>NaN</td>\n",
       "      <td>NaN</td>\n",
       "      <td>NaN</td>\n",
       "      <td>NaN</td>\n",
       "      <td>NaN</td>\n",
       "    </tr>\n",
       "    <tr>\n",
       "      <th>1962-07-01</th>\n",
       "      <td>NaN</td>\n",
       "      <td>NaN</td>\n",
       "      <td>NaN</td>\n",
       "      <td>NaN</td>\n",
       "      <td>NaN</td>\n",
       "    </tr>\n",
       "    <tr>\n",
       "      <th>1962-08-01</th>\n",
       "      <td>NaN</td>\n",
       "      <td>NaN</td>\n",
       "      <td>NaN</td>\n",
       "      <td>NaN</td>\n",
       "      <td>NaN</td>\n",
       "    </tr>\n",
       "    <tr>\n",
       "      <th>1962-09-01</th>\n",
       "      <td>NaN</td>\n",
       "      <td>NaN</td>\n",
       "      <td>NaN</td>\n",
       "      <td>NaN</td>\n",
       "      <td>NaN</td>\n",
       "    </tr>\n",
       "    <tr>\n",
       "      <th>1962-10-01</th>\n",
       "      <td>NaN</td>\n",
       "      <td>NaN</td>\n",
       "      <td>NaN</td>\n",
       "      <td>NaN</td>\n",
       "      <td>NaN</td>\n",
       "    </tr>\n",
       "    <tr>\n",
       "      <th>1962-11-01</th>\n",
       "      <td>NaN</td>\n",
       "      <td>NaN</td>\n",
       "      <td>NaN</td>\n",
       "      <td>NaN</td>\n",
       "      <td>NaN</td>\n",
       "    </tr>\n",
       "  </tbody>\n",
       "</table>\n",
       "</div>"
      ],
      "text/plain": [
       "           Thousands of Passengers Thousands of Passengers first diff  \\\n",
       "1961-01-01                     NaN                                NaN   \n",
       "1961-02-01                     NaN                                NaN   \n",
       "1961-03-01                     NaN                                NaN   \n",
       "1961-04-01                     NaN                                NaN   \n",
       "1961-05-01                     NaN                                NaN   \n",
       "1961-06-01                     NaN                                NaN   \n",
       "1961-07-01                     NaN                                NaN   \n",
       "1961-08-01                     NaN                                NaN   \n",
       "1961-09-01                     NaN                                NaN   \n",
       "1961-10-01                     NaN                                NaN   \n",
       "1961-11-01                     NaN                                NaN   \n",
       "1961-12-01                     NaN                                NaN   \n",
       "1962-01-01                     NaN                                NaN   \n",
       "1962-02-01                     NaN                                NaN   \n",
       "1962-03-01                     NaN                                NaN   \n",
       "1962-04-01                     NaN                                NaN   \n",
       "1962-05-01                     NaN                                NaN   \n",
       "1962-06-01                     NaN                                NaN   \n",
       "1962-07-01                     NaN                                NaN   \n",
       "1962-08-01                     NaN                                NaN   \n",
       "1962-09-01                     NaN                                NaN   \n",
       "1962-10-01                     NaN                                NaN   \n",
       "1962-11-01                     NaN                                NaN   \n",
       "\n",
       "           Thousands of Passengers second diff Seasonal Diff Forecast  \n",
       "1961-01-01                                 NaN           NaN      NaN  \n",
       "1961-02-01                                 NaN           NaN      NaN  \n",
       "1961-03-01                                 NaN           NaN      NaN  \n",
       "1961-04-01                                 NaN           NaN      NaN  \n",
       "1961-05-01                                 NaN           NaN      NaN  \n",
       "1961-06-01                                 NaN           NaN      NaN  \n",
       "1961-07-01                                 NaN           NaN      NaN  \n",
       "1961-08-01                                 NaN           NaN      NaN  \n",
       "1961-09-01                                 NaN           NaN      NaN  \n",
       "1961-10-01                                 NaN           NaN      NaN  \n",
       "1961-11-01                                 NaN           NaN      NaN  \n",
       "1961-12-01                                 NaN           NaN      NaN  \n",
       "1962-01-01                                 NaN           NaN      NaN  \n",
       "1962-02-01                                 NaN           NaN      NaN  \n",
       "1962-03-01                                 NaN           NaN      NaN  \n",
       "1962-04-01                                 NaN           NaN      NaN  \n",
       "1962-05-01                                 NaN           NaN      NaN  \n",
       "1962-06-01                                 NaN           NaN      NaN  \n",
       "1962-07-01                                 NaN           NaN      NaN  \n",
       "1962-08-01                                 NaN           NaN      NaN  \n",
       "1962-09-01                                 NaN           NaN      NaN  \n",
       "1962-10-01                                 NaN           NaN      NaN  \n",
       "1962-11-01                                 NaN           NaN      NaN  "
      ]
     },
     "execution_count": 50,
     "metadata": {},
     "output_type": "execute_result"
    }
   ],
   "source": [
    "future_dates_df"
   ]
  },
  {
   "cell_type": "code",
   "execution_count": 51,
   "metadata": {},
   "outputs": [],
   "source": [
    "future_df=pd.concat([dataset,future_dates_df])"
   ]
  },
  {
   "cell_type": "code",
   "execution_count": 52,
   "metadata": {},
   "outputs": [
    {
     "data": {
      "text/html": [
       "<div>\n",
       "<style scoped>\n",
       "    .dataframe tbody tr th:only-of-type {\n",
       "        vertical-align: middle;\n",
       "    }\n",
       "\n",
       "    .dataframe tbody tr th {\n",
       "        vertical-align: top;\n",
       "    }\n",
       "\n",
       "    .dataframe thead th {\n",
       "        text-align: right;\n",
       "    }\n",
       "</style>\n",
       "<table border=\"1\" class=\"dataframe\">\n",
       "  <thead>\n",
       "    <tr style=\"text-align: right;\">\n",
       "      <th></th>\n",
       "      <th>Thousands of Passengers</th>\n",
       "      <th>Thousands of Passengers first diff</th>\n",
       "      <th>Thousands of Passengers second diff</th>\n",
       "      <th>Seasonal Diff</th>\n",
       "      <th>Forecast</th>\n",
       "    </tr>\n",
       "  </thead>\n",
       "  <tbody>\n",
       "    <tr>\n",
       "      <th>1949-01-01</th>\n",
       "      <td>112</td>\n",
       "      <td>NaN</td>\n",
       "      <td>NaN</td>\n",
       "      <td>NaN</td>\n",
       "      <td>NaN</td>\n",
       "    </tr>\n",
       "    <tr>\n",
       "      <th>1949-02-01</th>\n",
       "      <td>118</td>\n",
       "      <td>6.0</td>\n",
       "      <td>NaN</td>\n",
       "      <td>NaN</td>\n",
       "      <td>NaN</td>\n",
       "    </tr>\n",
       "    <tr>\n",
       "      <th>1949-03-01</th>\n",
       "      <td>132</td>\n",
       "      <td>14.0</td>\n",
       "      <td>8.0</td>\n",
       "      <td>NaN</td>\n",
       "      <td>NaN</td>\n",
       "    </tr>\n",
       "    <tr>\n",
       "      <th>1949-04-01</th>\n",
       "      <td>129</td>\n",
       "      <td>-3.0</td>\n",
       "      <td>-17.0</td>\n",
       "      <td>NaN</td>\n",
       "      <td>NaN</td>\n",
       "    </tr>\n",
       "    <tr>\n",
       "      <th>1949-05-01</th>\n",
       "      <td>121</td>\n",
       "      <td>-8.0</td>\n",
       "      <td>-5.0</td>\n",
       "      <td>NaN</td>\n",
       "      <td>NaN</td>\n",
       "    </tr>\n",
       "    <tr>\n",
       "      <th>...</th>\n",
       "      <td>...</td>\n",
       "      <td>...</td>\n",
       "      <td>...</td>\n",
       "      <td>...</td>\n",
       "      <td>...</td>\n",
       "    </tr>\n",
       "    <tr>\n",
       "      <th>1962-07-01</th>\n",
       "      <td>NaN</td>\n",
       "      <td>NaN</td>\n",
       "      <td>NaN</td>\n",
       "      <td>NaN</td>\n",
       "      <td>NaN</td>\n",
       "    </tr>\n",
       "    <tr>\n",
       "      <th>1962-08-01</th>\n",
       "      <td>NaN</td>\n",
       "      <td>NaN</td>\n",
       "      <td>NaN</td>\n",
       "      <td>NaN</td>\n",
       "      <td>NaN</td>\n",
       "    </tr>\n",
       "    <tr>\n",
       "      <th>1962-09-01</th>\n",
       "      <td>NaN</td>\n",
       "      <td>NaN</td>\n",
       "      <td>NaN</td>\n",
       "      <td>NaN</td>\n",
       "      <td>NaN</td>\n",
       "    </tr>\n",
       "    <tr>\n",
       "      <th>1962-10-01</th>\n",
       "      <td>NaN</td>\n",
       "      <td>NaN</td>\n",
       "      <td>NaN</td>\n",
       "      <td>NaN</td>\n",
       "      <td>NaN</td>\n",
       "    </tr>\n",
       "    <tr>\n",
       "      <th>1962-11-01</th>\n",
       "      <td>NaN</td>\n",
       "      <td>NaN</td>\n",
       "      <td>NaN</td>\n",
       "      <td>NaN</td>\n",
       "      <td>NaN</td>\n",
       "    </tr>\n",
       "  </tbody>\n",
       "</table>\n",
       "<p>167 rows × 5 columns</p>\n",
       "</div>"
      ],
      "text/plain": [
       "           Thousands of Passengers  Thousands of Passengers first diff  \\\n",
       "1949-01-01                     112                                 NaN   \n",
       "1949-02-01                     118                                 6.0   \n",
       "1949-03-01                     132                                14.0   \n",
       "1949-04-01                     129                                -3.0   \n",
       "1949-05-01                     121                                -8.0   \n",
       "...                            ...                                 ...   \n",
       "1962-07-01                     NaN                                 NaN   \n",
       "1962-08-01                     NaN                                 NaN   \n",
       "1962-09-01                     NaN                                 NaN   \n",
       "1962-10-01                     NaN                                 NaN   \n",
       "1962-11-01                     NaN                                 NaN   \n",
       "\n",
       "            Thousands of Passengers second diff  Seasonal Diff  Forecast  \n",
       "1949-01-01                                  NaN            NaN       NaN  \n",
       "1949-02-01                                  NaN            NaN       NaN  \n",
       "1949-03-01                                  8.0            NaN       NaN  \n",
       "1949-04-01                                -17.0            NaN       NaN  \n",
       "1949-05-01                                 -5.0            NaN       NaN  \n",
       "...                                         ...            ...       ...  \n",
       "1962-07-01                                  NaN            NaN       NaN  \n",
       "1962-08-01                                  NaN            NaN       NaN  \n",
       "1962-09-01                                  NaN            NaN       NaN  \n",
       "1962-10-01                                  NaN            NaN       NaN  \n",
       "1962-11-01                                  NaN            NaN       NaN  \n",
       "\n",
       "[167 rows x 5 columns]"
      ]
     },
     "execution_count": 52,
     "metadata": {},
     "output_type": "execute_result"
    }
   ],
   "source": [
    "future_df"
   ]
  },
  {
   "cell_type": "code",
   "execution_count": 53,
   "metadata": {},
   "outputs": [],
   "source": [
    "#book: business analytics by dinesh kumar"
   ]
  },
  {
   "cell_type": "code",
   "execution_count": 54,
   "metadata": {},
   "outputs": [
    {
     "name": "stderr",
     "output_type": "stream",
     "text": [
      "C:\\Users\\SHAILESH TIWARI\\anaconda3\\lib\\site-packages\\statsmodels\\tsa\\statespace\\kalman_filter.py:2290: ValueWarning: Dynamic prediction specified to begin during out-of-sample forecasting period, and so has no effect.\n",
      "  warn('Dynamic prediction specified to begin during'\n"
     ]
    },
    {
     "data": {
      "text/plain": [
       "<AxesSubplot:>"
      ]
     },
     "execution_count": 54,
     "metadata": {},
     "output_type": "execute_result"
    },
    {
     "data": {
      "image/png": "[encoded data removed]",
      "text/plain": [
       "<Figure size 432x288 with 1 Axes>"
      ]
     },
     "metadata": {
      "needs_background": "light"
     },
     "output_type": "display_data"
    }
   ],
   "source": [
    "future_df['Forecast']=results.predict(start=145,end=165,dynamic=True)\n",
    "future_df[['Thousands of Passengers','Forecast']].plot()"
   ]
  },
  {
   "cell_type": "code",
   "execution_count": null,
   "metadata": {},
   "outputs": [],
   "source": []
  },
  {
   "cell_type": "code",
   "execution_count": 148,
   "metadata": {},
   "outputs": [],
   "source": [
    "df = pd.read_csv(\"airline_passengers.csv\")"
   ]
  },
  {
   "cell_type": "code",
   "execution_count": 149,
   "metadata": {},
   "outputs": [
    {
     "data": {
      "text/html": [
       "<div>\n",
       "<style scoped>\n",
       "    .dataframe tbody tr th:only-of-type {\n",
       "        vertical-align: middle;\n",
       "    }\n",
       "\n",
       "    .dataframe tbody tr th {\n",
       "        vertical-align: top;\n",
       "    }\n",
       "\n",
       "    .dataframe thead th {\n",
       "        text-align: right;\n",
       "    }\n",
       "</style>\n",
       "<table border=\"1\" class=\"dataframe\">\n",
       "  <thead>\n",
       "    <tr style=\"text-align: right;\">\n",
       "      <th></th>\n",
       "      <th>Month</th>\n",
       "      <th>Thousands of Passengers</th>\n",
       "    </tr>\n",
       "  </thead>\n",
       "  <tbody>\n",
       "    <tr>\n",
       "      <th>0</th>\n",
       "      <td>1949-01</td>\n",
       "      <td>112</td>\n",
       "    </tr>\n",
       "    <tr>\n",
       "      <th>1</th>\n",
       "      <td>1949-02</td>\n",
       "      <td>118</td>\n",
       "    </tr>\n",
       "    <tr>\n",
       "      <th>2</th>\n",
       "      <td>1949-03</td>\n",
       "      <td>132</td>\n",
       "    </tr>\n",
       "    <tr>\n",
       "      <th>3</th>\n",
       "      <td>1949-04</td>\n",
       "      <td>129</td>\n",
       "    </tr>\n",
       "    <tr>\n",
       "      <th>4</th>\n",
       "      <td>1949-05</td>\n",
       "      <td>121</td>\n",
       "    </tr>\n",
       "    <tr>\n",
       "      <th>...</th>\n",
       "      <td>...</td>\n",
       "      <td>...</td>\n",
       "    </tr>\n",
       "    <tr>\n",
       "      <th>139</th>\n",
       "      <td>1960-08</td>\n",
       "      <td>606</td>\n",
       "    </tr>\n",
       "    <tr>\n",
       "      <th>140</th>\n",
       "      <td>1960-09</td>\n",
       "      <td>508</td>\n",
       "    </tr>\n",
       "    <tr>\n",
       "      <th>141</th>\n",
       "      <td>1960-10</td>\n",
       "      <td>461</td>\n",
       "    </tr>\n",
       "    <tr>\n",
       "      <th>142</th>\n",
       "      <td>1960-11</td>\n",
       "      <td>390</td>\n",
       "    </tr>\n",
       "    <tr>\n",
       "      <th>143</th>\n",
       "      <td>1960-12</td>\n",
       "      <td>432</td>\n",
       "    </tr>\n",
       "  </tbody>\n",
       "</table>\n",
       "<p>144 rows × 2 columns</p>\n",
       "</div>"
      ],
      "text/plain": [
       "       Month  Thousands of Passengers\n",
       "0    1949-01                      112\n",
       "1    1949-02                      118\n",
       "2    1949-03                      132\n",
       "3    1949-04                      129\n",
       "4    1949-05                      121\n",
       "..       ...                      ...\n",
       "139  1960-08                      606\n",
       "140  1960-09                      508\n",
       "141  1960-10                      461\n",
       "142  1960-11                      390\n",
       "143  1960-12                      432\n",
       "\n",
       "[144 rows x 2 columns]"
      ]
     },
     "execution_count": 149,
     "metadata": {},
     "output_type": "execute_result"
    }
   ],
   "source": [
    "df"
   ]
  },
  {
   "cell_type": "code",
   "execution_count": 150,
   "metadata": {},
   "outputs": [],
   "source": [
    "import numpy as np\n",
    "import pandas as pd\n",
    "import seaborn as sns\n",
    "import matplotlib.pyplot as plt\n",
    "%matplotlib inline "
   ]
  },
  {
   "cell_type": "code",
   "execution_count": 151,
   "metadata": {},
   "outputs": [],
   "source": [
    "from sklearn.preprocessing import MinMaxScaler\n",
    "scaler = MinMaxScaler()\n",
    "scaler1 = MinMaxScaler()"
   ]
  },
  {
   "cell_type": "code",
   "execution_count": 153,
   "metadata": {},
   "outputs": [],
   "source": [
    "#df.iloc[:,[1]]"
   ]
  },
  {
   "cell_type": "code",
   "execution_count": 154,
   "metadata": {},
   "outputs": [],
   "source": [
    "df.iloc[:,[1]] = scaler1.fit_transform(df.iloc[:,[1]])"
   ]
  },
  {
   "cell_type": "code",
   "execution_count": 161,
   "metadata": {},
   "outputs": [
    {
     "data": {
      "text/html": [
       "<div>\n",
       "<style scoped>\n",
       "    .dataframe tbody tr th:only-of-type {\n",
       "        vertical-align: middle;\n",
       "    }\n",
       "\n",
       "    .dataframe tbody tr th {\n",
       "        vertical-align: top;\n",
       "    }\n",
       "\n",
       "    .dataframe thead th {\n",
       "        text-align: right;\n",
       "    }\n",
       "</style>\n",
       "<table border=\"1\" class=\"dataframe\">\n",
       "  <thead>\n",
       "    <tr style=\"text-align: right;\">\n",
       "      <th></th>\n",
       "      <th>Month</th>\n",
       "      <th>Thousands of Passengers</th>\n",
       "      <th>Output</th>\n",
       "    </tr>\n",
       "  </thead>\n",
       "  <tbody>\n",
       "    <tr>\n",
       "      <th>0</th>\n",
       "      <td>1949-01</td>\n",
       "      <td>0.015444</td>\n",
       "      <td>0.015444</td>\n",
       "    </tr>\n",
       "    <tr>\n",
       "      <th>1</th>\n",
       "      <td>1949-02</td>\n",
       "      <td>0.027027</td>\n",
       "      <td>0.027027</td>\n",
       "    </tr>\n",
       "  </tbody>\n",
       "</table>\n",
       "</div>"
      ],
      "text/plain": [
       "     Month  Thousands of Passengers    Output\n",
       "0  1949-01                 0.015444  0.015444\n",
       "1  1949-02                 0.027027  0.027027"
      ]
     },
     "execution_count": 161,
     "metadata": {},
     "output_type": "execute_result"
    }
   ],
   "source": [
    "df.head(2)"
   ]
  },
  {
   "cell_type": "code",
   "execution_count": 160,
   "metadata": {},
   "outputs": [],
   "source": [
    "df[\"Output\"] = df['Thousands of Passengers']"
   ]
  },
  {
   "cell_type": "code",
   "execution_count": 162,
   "metadata": {},
   "outputs": [],
   "source": [
    "lookback_span = 7\n",
    "future_span = 0\n",
    "test_data = 5"
   ]
  },
  {
   "cell_type": "code",
   "execution_count": 176,
   "metadata": {},
   "outputs": [
    {
     "data": {
      "text/plain": [
       "(137, 137)"
      ]
     },
     "execution_count": 176,
     "metadata": {},
     "output_type": "execute_result"
    }
   ],
   "source": [
    "# Creating a data structure with 50 timesteps and 1 output\n",
    "y = []\n",
    "X = []\n",
    "\n",
    "for i in range (lookback_span, len(df)):\n",
    "    y.append(df.iloc[:,2][i])\n",
    "    X.append(df.iloc[:,1][i-lookback_span:i])\n",
    "    \n",
    "len(X), len(y)"
   ]
  },
  {
   "cell_type": "code",
   "execution_count": 177,
   "metadata": {},
   "outputs": [
    {
     "data": {
      "text/plain": [
       "(137, 5, 142)"
      ]
     },
     "execution_count": 177,
     "metadata": {},
     "output_type": "execute_result"
    }
   ],
   "source": [
    "train = int(len(df) -lookback_span-future_span)\n",
    "test= test_data\n",
    "train, test , train+test"
   ]
  },
  {
   "cell_type": "code",
   "execution_count": 178,
   "metadata": {},
   "outputs": [
    {
     "data": {
      "text/plain": [
       "((137, 7), (137,))"
      ]
     },
     "execution_count": 178,
     "metadata": {},
     "output_type": "execute_result"
    }
   ],
   "source": [
    "X= np.array(X)\n",
    "y = np.array(y)\n",
    "X.shape, y.shape"
   ]
  },
  {
   "cell_type": "code",
   "execution_count": 179,
   "metadata": {},
   "outputs": [
    {
     "data": {
      "text/plain": [
       "137"
      ]
     },
     "execution_count": 179,
     "metadata": {},
     "output_type": "execute_result"
    }
   ],
   "source": [
    "len(y)-future_span"
   ]
  },
  {
   "cell_type": "code",
   "execution_count": 180,
   "metadata": {},
   "outputs": [
    {
     "data": {
      "image/png": "[encoded data removed]",
      "text/plain": [
       "<Figure size 1080x576 with 1 Axes>"
      ]
     },
     "metadata": {
      "needs_background": "light"
     },
     "output_type": "display_data"
    }
   ],
   "source": [
    "# Print the training Data Prediction on X_train  and y_train\n",
    "plt.figure(figsize=(15,8))\n",
    "plt.grid()\n",
    "plt.plot(scaler1.inverse_transform(y.reshape(-1,1)),color='green' )\n",
    "#plt.plot(scaler1.inverse_transform(y.reshape(-1,1)),color='green', marker='o', linestyle='--',linewidth=.005, markersize=5 )\n",
    "plt.show()"
   ]
  },
  {
   "cell_type": "code",
   "execution_count": 181,
   "metadata": {},
   "outputs": [],
   "source": [
    "X_train =X[: len(X)-future_span]\n",
    "X_test = X[len(X)-test_data:]\n",
    "y_train = y[: len(y)-future_span]\n",
    "y_test = y[len(y)- test_data:]"
   ]
  },
  {
   "cell_type": "code",
   "execution_count": 182,
   "metadata": {},
   "outputs": [],
   "source": [
    "X_train = X_train.reshape(-1,lookback_span,1)\n",
    "X_test = X_test.reshape(-1,lookback_span,1)\n",
    "y_train = y_train.reshape (-1,1)\n",
    "y_test =y_test.reshape(-1,1)"
   ]
  },
  {
   "cell_type": "code",
   "execution_count": 183,
   "metadata": {},
   "outputs": [],
   "source": [
    "import tensorflow as tf\n",
    "import keras\n",
    "import time"
   ]
  },
  {
   "cell_type": "code",
   "execution_count": null,
   "metadata": {},
   "outputs": [],
   "source": []
  },
  {
   "cell_type": "code",
   "execution_count": 184,
   "metadata": {},
   "outputs": [],
   "source": [
    "from keras.models import Sequential \n",
    "from keras.layers import Input, LSTM, Dropout, Activation, Dense, Flatten\n",
    "from keras.activations import linear, relu, tanh, sigmoid \n",
    "from keras.optimizers import adam_v2, rmsprop_v2, adadelta_v2, adagrad_v2\n",
    "from keras.losses import mse, mean_absolute_error\n",
    "from keras.metrics import accuracy"
   ]
  },
  {
   "cell_type": "code",
   "execution_count": 185,
   "metadata": {},
   "outputs": [
    {
     "name": "stdout",
     "output_type": "stream",
     "text": [
      "compilation time :  0.0049970149993896484\n",
      "Model: \"sequential_11\"\n",
      "_________________________________________________________________\n",
      " Layer (type)                Output Shape              Param #   \n",
      "=================================================================\n",
      " lstm_44 (LSTM)              (None, 7, 128)            66560     \n",
      "                                                                 \n",
      " dropout_44 (Dropout)        (None, 7, 128)            0         \n",
      "                                                                 \n",
      " lstm_45 (LSTM)              (None, 7, 32)             20608     \n",
      "                                                                 \n",
      " dropout_45 (Dropout)        (None, 7, 32)             0         \n",
      "                                                                 \n",
      " lstm_46 (LSTM)              (None, 7, 256)            295936    \n",
      "                                                                 \n",
      " dropout_46 (Dropout)        (None, 7, 256)            0         \n",
      "                                                                 \n",
      " lstm_47 (LSTM)              (None, 32)                36992     \n",
      "                                                                 \n",
      " dropout_47 (Dropout)        (None, 32)                0         \n",
      "                                                                 \n",
      " dense_7 (Dense)             (None, 1)                 33        \n",
      "                                                                 \n",
      "=================================================================\n",
      "Total params: 420,129\n",
      "Trainable params: 420,129\n",
      "Non-trainable params: 0\n",
      "_________________________________________________________________\n"
     ]
    }
   ],
   "source": [
    "#Step 2 Build Model\n",
    "model = Sequential()\n",
    "\n",
    "model.add(LSTM( 128, return_sequences=True, input_shape = X_train[0].shape))\n",
    "#model.add(LSTM( input_dim=lookback_span*2, output_dim=50, return_sequences=True))\n",
    "model.add(Dropout(0.2))\n",
    "model.add(LSTM(32,return_sequences=True))\n",
    "model.add(Dropout(0.2))\n",
    "model.add(LSTM(256,return_sequences=True))\n",
    "model.add(Dropout(0.2))\n",
    "model.add(LSTM(32,return_sequences=False))\n",
    "model.add(Dropout(0.2))\n",
    "model.add(Dense(1, activation='linear'))\n",
    "#model.add(Activaton('linear'))    #'linear'\n",
    "\n",
    "start = time.time()\n",
    "model.compile(loss='mse', optimizer='rmsprop')\n",
    "print ('compilation time : ', time.time() - start)\n",
    "\n",
    "model.summary()"
   ]
  },
  {
   "cell_type": "code",
   "execution_count": 186,
   "metadata": {},
   "outputs": [
    {
     "data": {
      "text/plain": [
       "((137, 7, 1),\n",
       " (5, 7, 1),\n",
       " (137, 1),\n",
       " (5, 1),\n",
       " numpy.ndarray,\n",
       " numpy.ndarray,\n",
       " numpy.ndarray,\n",
       " numpy.ndarray)"
      ]
     },
     "execution_count": 186,
     "metadata": {},
     "output_type": "execute_result"
    }
   ],
   "source": [
    "X_train.shape, X_test.shape, y_train.shape, y_test.shape, type(X_train), type(X_test), type(y_train), type(y_test)"
   ]
  },
  {
   "cell_type": "code",
   "execution_count": 192,
   "metadata": {},
   "outputs": [],
   "source": [
    "model.compile(optimizer='rmsprop', loss='mse' , metrics=['accuracy'] )   #, metrics=['accuracy']"
   ]
  },
  {
   "cell_type": "code",
   "execution_count": 193,
   "metadata": {},
   "outputs": [
    {
     "data": {
      "text/plain": [
       "array([[0.08494208],\n",
       "       [0.06177606],\n",
       "       [0.02895753],\n",
       "       [0.        ],\n",
       "       [0.02702703],\n",
       "       [0.02123552],\n",
       "       [0.04247104],\n",
       "       [0.07142857],\n",
       "       [0.05984556],\n",
       "       [0.04054054],\n",
       "       [0.08687259],\n",
       "       [0.12741313],\n",
       "       [0.12741313],\n",
       "       [0.1042471 ],\n",
       "       [0.05598456],\n",
       "       [0.01930502],\n",
       "       [0.06949807],\n",
       "       [0.07915058],\n",
       "       [0.08880309],\n",
       "       [0.14285714],\n",
       "       [0.11389961],\n",
       "       [0.13127413],\n",
       "       [0.14285714],\n",
       "       [0.18339768],\n",
       "       [0.18339768],\n",
       "       [0.15444015],\n",
       "       [0.11196911],\n",
       "       [0.08108108],\n",
       "       [0.11969112],\n",
       "       [0.12934363],\n",
       "       [0.14671815],\n",
       "       [0.17181467],\n",
       "       [0.14864865],\n",
       "       [0.15250965],\n",
       "       [0.22007722],\n",
       "       [0.24324324],\n",
       "       [0.26640927],\n",
       "       [0.2027027 ],\n",
       "       [0.16795367],\n",
       "       [0.13127413],\n",
       "       [0.17374517],\n",
       "       [0.17760618],\n",
       "       [0.17760618],\n",
       "       [0.25482625],\n",
       "       [0.25289575],\n",
       "       [0.24131274],\n",
       "       [0.26833977],\n",
       "       [0.30888031],\n",
       "       [0.32432432],\n",
       "       [0.25675676],\n",
       "       [0.20656371],\n",
       "       [0.14671815],\n",
       "       [0.18725869],\n",
       "       [0.19305019],\n",
       "       [0.16216216],\n",
       "       [0.25289575],\n",
       "       [0.23745174],\n",
       "       [0.25096525],\n",
       "       [0.30888031],\n",
       "       [0.38223938],\n",
       "       [0.36486486],\n",
       "       [0.2992278 ],\n",
       "       [0.24131274],\n",
       "       [0.19111969],\n",
       "       [0.24131274],\n",
       "       [0.26640927],\n",
       "       [0.24903475],\n",
       "       [0.31467181],\n",
       "       [0.31853282],\n",
       "       [0.32046332],\n",
       "       [0.40733591],\n",
       "       [0.5019305 ],\n",
       "       [0.46911197],\n",
       "       [0.4015444 ],\n",
       "       [0.32818533],\n",
       "       [0.25675676],\n",
       "       [0.33590734],\n",
       "       [0.34749035],\n",
       "       [0.33397683],\n",
       "       [0.41119691],\n",
       "       [0.4034749 ],\n",
       "       [0.41312741],\n",
       "       [0.52123552],\n",
       "       [0.5965251 ],\n",
       "       [0.58108108],\n",
       "       [0.48455598],\n",
       "       [0.38996139],\n",
       "       [0.32239382],\n",
       "       [0.38996139],\n",
       "       [0.40733591],\n",
       "       [0.38030888],\n",
       "       [0.48648649],\n",
       "       [0.47104247],\n",
       "       [0.48455598],\n",
       "       [0.61389961],\n",
       "       [0.6969112 ],\n",
       "       [0.7007722 ],\n",
       "       [0.57915058],\n",
       "       [0.46911197],\n",
       "       [0.38803089],\n",
       "       [0.44787645],\n",
       "       [0.45559846],\n",
       "       [0.41312741],\n",
       "       [0.4980695 ],\n",
       "       [0.47104247],\n",
       "       [0.5       ],\n",
       "       [0.63899614],\n",
       "       [0.74710425],\n",
       "       [0.77413127],\n",
       "       [0.57915058],\n",
       "       [0.49227799],\n",
       "       [0.3976834 ],\n",
       "       [0.44980695],\n",
       "       [0.49420849],\n",
       "       [0.45945946],\n",
       "       [0.58301158],\n",
       "       [0.56370656],\n",
       "       [0.61003861],\n",
       "       [0.71042471],\n",
       "       [0.85714286],\n",
       "       [0.87837838],\n",
       "       [0.69305019],\n",
       "       [0.58494208],\n",
       "       [0.4980695 ],\n",
       "       [0.58108108],\n",
       "       [0.6042471 ],\n",
       "       [0.55405405],\n",
       "       [0.60810811],\n",
       "       [0.68918919],\n",
       "       [0.71042471],\n",
       "       [0.83204633],\n",
       "       [1.        ],\n",
       "       [0.96911197],\n",
       "       [0.77992278],\n",
       "       [0.68918919],\n",
       "       [0.55212355],\n",
       "       [0.63320463]])"
      ]
     },
     "execution_count": 193,
     "metadata": {},
     "output_type": "execute_result"
    }
   ],
   "source": [
    "y_train"
   ]
  },
  {
   "cell_type": "code",
   "execution_count": 211,
   "metadata": {},
   "outputs": [
    {
     "name": "stdout",
     "output_type": "stream",
     "text": [
      "Epoch 1/200\n",
      "5/5 [==============================] - 0s 74ms/step - loss: 0.0058 - accuracy: 0.0146 - val_loss: 0.0052 - val_accuracy: 0.0000e+00\n",
      "Epoch 2/200\n",
      "5/5 [==============================] - 0s 67ms/step - loss: 0.0070 - accuracy: 0.0146 - val_loss: 0.0045 - val_accuracy: 0.0000e+00\n",
      "Epoch 3/200\n",
      "5/5 [==============================] - 0s 67ms/step - loss: 0.0044 - accuracy: 0.0146 - val_loss: 0.0026 - val_accuracy: 0.0000e+00\n",
      "Epoch 4/200\n",
      "5/5 [==============================] - 0s 67ms/step - loss: 0.0066 - accuracy: 0.0146 - val_loss: 0.0031 - val_accuracy: 0.0000e+00\n",
      "Epoch 5/200\n",
      "5/5 [==============================] - 0s 67ms/step - loss: 0.0044 - accuracy: 0.0146 - val_loss: 0.0032 - val_accuracy: 0.0000e+00\n",
      "Epoch 6/200\n",
      "5/5 [==============================] - 0s 66ms/step - loss: 0.0072 - accuracy: 0.0146 - val_loss: 0.0138 - val_accuracy: 0.0000e+00\n",
      "Epoch 7/200\n",
      "5/5 [==============================] - 0s 66ms/step - loss: 0.0079 - accuracy: 0.0146 - val_loss: 0.0096 - val_accuracy: 0.0000e+00\n",
      "Epoch 8/200\n",
      "5/5 [==============================] - 0s 69ms/step - loss: 0.0063 - accuracy: 0.0146 - val_loss: 0.0027 - val_accuracy: 0.0000e+00\n",
      "Epoch 9/200\n",
      "5/5 [==============================] - 0s 66ms/step - loss: 0.0068 - accuracy: 0.0146 - val_loss: 0.0028 - val_accuracy: 0.0000e+00\n",
      "Epoch 10/200\n",
      "5/5 [==============================] - 0s 65ms/step - loss: 0.0046 - accuracy: 0.0146 - val_loss: 0.0028 - val_accuracy: 0.0000e+00\n",
      "Epoch 11/200\n",
      "5/5 [==============================] - 0s 71ms/step - loss: 0.0085 - accuracy: 0.0146 - val_loss: 0.0135 - val_accuracy: 0.0000e+00\n",
      "Epoch 12/200\n",
      "5/5 [==============================] - 0s 67ms/step - loss: 0.0080 - accuracy: 0.0146 - val_loss: 0.0023 - val_accuracy: 0.0000e+00\n",
      "Epoch 13/200\n",
      "5/5 [==============================] - 0s 71ms/step - loss: 0.0059 - accuracy: 0.0146 - val_loss: 0.0063 - val_accuracy: 0.0000e+00\n",
      "Epoch 14/200\n",
      "5/5 [==============================] - 0s 79ms/step - loss: 0.0070 - accuracy: 0.0146 - val_loss: 0.0045 - val_accuracy: 0.0000e+00\n",
      "Epoch 15/200\n",
      "5/5 [==============================] - 0s 71ms/step - loss: 0.0052 - accuracy: 0.0146 - val_loss: 0.0031 - val_accuracy: 0.0000e+00\n",
      "Epoch 16/200\n",
      "5/5 [==============================] - 0s 72ms/step - loss: 0.0049 - accuracy: 0.0146 - val_loss: 0.0044 - val_accuracy: 0.0000e+00\n",
      "Epoch 17/200\n",
      "5/5 [==============================] - 0s 74ms/step - loss: 0.0062 - accuracy: 0.0146 - val_loss: 0.0073 - val_accuracy: 0.0000e+00\n",
      "Epoch 18/200\n",
      "5/5 [==============================] - 0s 84ms/step - loss: 0.0054 - accuracy: 0.0146 - val_loss: 0.0027 - val_accuracy: 0.0000e+00\n",
      "Epoch 19/200\n",
      "5/5 [==============================] - 0s 72ms/step - loss: 0.0055 - accuracy: 0.0146 - val_loss: 0.0182 - val_accuracy: 0.0000e+00\n",
      "Epoch 20/200\n",
      "5/5 [==============================] - 0s 73ms/step - loss: 0.0061 - accuracy: 0.0146 - val_loss: 0.0029 - val_accuracy: 0.0000e+00\n",
      "Epoch 21/200\n",
      "5/5 [==============================] - 0s 72ms/step - loss: 0.0060 - accuracy: 0.0146 - val_loss: 0.0053 - val_accuracy: 0.0000e+00\n",
      "Epoch 22/200\n",
      "5/5 [==============================] - 0s 71ms/step - loss: 0.0055 - accuracy: 0.0146 - val_loss: 0.0087 - val_accuracy: 0.0000e+00\n",
      "Epoch 23/200\n",
      "5/5 [==============================] - 0s 73ms/step - loss: 0.0052 - accuracy: 0.0146 - val_loss: 0.0029 - val_accuracy: 0.0000e+00\n",
      "Epoch 24/200\n",
      "5/5 [==============================] - 0s 71ms/step - loss: 0.0052 - accuracy: 0.0146 - val_loss: 0.0088 - val_accuracy: 0.0000e+00\n",
      "Epoch 25/200\n",
      "5/5 [==============================] - 0s 75ms/step - loss: 0.0052 - accuracy: 0.0146 - val_loss: 0.0039 - val_accuracy: 0.0000e+00\n",
      "Epoch 26/200\n",
      "5/5 [==============================] - 0s 71ms/step - loss: 0.0049 - accuracy: 0.0146 - val_loss: 0.0190 - val_accuracy: 0.0000e+00\n",
      "Epoch 27/200\n",
      "5/5 [==============================] - 0s 68ms/step - loss: 0.0080 - accuracy: 0.0146 - val_loss: 0.0110 - val_accuracy: 0.0000e+00\n",
      "Epoch 28/200\n",
      "5/5 [==============================] - 0s 69ms/step - loss: 0.0048 - accuracy: 0.0146 - val_loss: 0.0059 - val_accuracy: 0.0000e+00\n",
      "Epoch 29/200\n",
      "5/5 [==============================] - 0s 71ms/step - loss: 0.0050 - accuracy: 0.0146 - val_loss: 0.0031 - val_accuracy: 0.0000e+00\n",
      "Epoch 30/200\n",
      "5/5 [==============================] - 0s 71ms/step - loss: 0.0057 - accuracy: 0.0146 - val_loss: 0.0026 - val_accuracy: 0.0000e+00\n",
      "Epoch 31/200\n",
      "5/5 [==============================] - 0s 69ms/step - loss: 0.0060 - accuracy: 0.0146 - val_loss: 0.0086 - val_accuracy: 0.0000e+00\n",
      "Epoch 32/200\n",
      "5/5 [==============================] - 0s 71ms/step - loss: 0.0046 - accuracy: 0.0146 - val_loss: 0.0022 - val_accuracy: 0.0000e+00\n",
      "Epoch 33/200\n",
      "5/5 [==============================] - 0s 71ms/step - loss: 0.0054 - accuracy: 0.0146 - val_loss: 0.0035 - val_accuracy: 0.0000e+00\n",
      "Epoch 34/200\n",
      "5/5 [==============================] - 0s 73ms/step - loss: 0.0052 - accuracy: 0.0146 - val_loss: 0.0088 - val_accuracy: 0.0000e+00\n",
      "Epoch 35/200\n",
      "5/5 [==============================] - 0s 68ms/step - loss: 0.0067 - accuracy: 0.0146 - val_loss: 0.0080 - val_accuracy: 0.0000e+00\n",
      "Epoch 36/200\n",
      "5/5 [==============================] - 0s 70ms/step - loss: 0.0049 - accuracy: 0.0146 - val_loss: 0.0036 - val_accuracy: 0.0000e+00\n",
      "Epoch 37/200\n",
      "5/5 [==============================] - 0s 69ms/step - loss: 0.0052 - accuracy: 0.0146 - val_loss: 0.0094 - val_accuracy: 0.0000e+00\n",
      "Epoch 38/200\n",
      "5/5 [==============================] - 0s 89ms/step - loss: 0.0063 - accuracy: 0.0146 - val_loss: 0.0083 - val_accuracy: 0.0000e+00\n",
      "Epoch 39/200\n",
      "5/5 [==============================] - 0s 85ms/step - loss: 0.0049 - accuracy: 0.0146 - val_loss: 0.0260 - val_accuracy: 0.0000e+00\n",
      "Epoch 40/200\n",
      "5/5 [==============================] - 0s 92ms/step - loss: 0.0072 - accuracy: 0.0146 - val_loss: 0.0077 - val_accuracy: 0.0000e+00\n",
      "Epoch 41/200\n",
      "5/5 [==============================] - 0s 82ms/step - loss: 0.0052 - accuracy: 0.0146 - val_loss: 0.0136 - val_accuracy: 0.0000e+00\n",
      "Epoch 42/200\n",
      "5/5 [==============================] - 0s 74ms/step - loss: 0.0054 - accuracy: 0.0146 - val_loss: 0.0034 - val_accuracy: 0.0000e+00\n",
      "Epoch 43/200\n",
      "5/5 [==============================] - 0s 72ms/step - loss: 0.0053 - accuracy: 0.0146 - val_loss: 0.0035 - val_accuracy: 0.0000e+00\n",
      "Epoch 44/200\n",
      "5/5 [==============================] - 0s 69ms/step - loss: 0.0057 - accuracy: 0.0146 - val_loss: 0.0031 - val_accuracy: 0.0000e+00\n",
      "Epoch 45/200\n",
      "5/5 [==============================] - 0s 71ms/step - loss: 0.0038 - accuracy: 0.0146 - val_loss: 0.0046 - val_accuracy: 0.0000e+00\n",
      "Epoch 46/200\n",
      "5/5 [==============================] - 0s 71ms/step - loss: 0.0047 - accuracy: 0.0146 - val_loss: 0.0022 - val_accuracy: 0.0000e+00\n",
      "Epoch 47/200\n",
      "5/5 [==============================] - 0s 72ms/step - loss: 0.0055 - accuracy: 0.0146 - val_loss: 0.0176 - val_accuracy: 0.0000e+00\n",
      "Epoch 48/200\n",
      "5/5 [==============================] - 0s 69ms/step - loss: 0.0062 - accuracy: 0.0146 - val_loss: 0.0051 - val_accuracy: 0.0000e+00\n",
      "Epoch 49/200\n",
      "5/5 [==============================] - 0s 76ms/step - loss: 0.0060 - accuracy: 0.0146 - val_loss: 0.0051 - val_accuracy: 0.0000e+00\n",
      "Epoch 50/200\n",
      "5/5 [==============================] - 0s 86ms/step - loss: 0.0046 - accuracy: 0.0146 - val_loss: 0.0023 - val_accuracy: 0.0000e+00\n",
      "Epoch 51/200\n",
      "5/5 [==============================] - 0s 72ms/step - loss: 0.0055 - accuracy: 0.0146 - val_loss: 0.0032 - val_accuracy: 0.0000e+00\n",
      "Epoch 52/200\n",
      "5/5 [==============================] - 0s 79ms/step - loss: 0.0046 - accuracy: 0.0146 - val_loss: 0.0065 - val_accuracy: 0.0000e+00\n",
      "Epoch 53/200\n",
      "5/5 [==============================] - 0s 74ms/step - loss: 0.0045 - accuracy: 0.0146 - val_loss: 0.0030 - val_accuracy: 0.0000e+00\n",
      "Epoch 54/200\n",
      "5/5 [==============================] - 0s 73ms/step - loss: 0.0055 - accuracy: 0.0146 - val_loss: 0.0054 - val_accuracy: 0.0000e+00\n",
      "Epoch 55/200\n",
      "5/5 [==============================] - 0s 69ms/step - loss: 0.0042 - accuracy: 0.0146 - val_loss: 0.0029 - val_accuracy: 0.0000e+00\n",
      "Epoch 56/200\n",
      "5/5 [==============================] - 0s 74ms/step - loss: 0.0037 - accuracy: 0.0146 - val_loss: 0.0048 - val_accuracy: 0.0000e+00\n",
      "Epoch 57/200\n"
     ]
    },
    {
     "name": "stdout",
     "output_type": "stream",
     "text": [
      "5/5 [==============================] - 0s 73ms/step - loss: 0.0056 - accuracy: 0.0146 - val_loss: 0.0044 - val_accuracy: 0.0000e+00\n",
      "Epoch 58/200\n",
      "5/5 [==============================] - 0s 71ms/step - loss: 0.0068 - accuracy: 0.0146 - val_loss: 0.0046 - val_accuracy: 0.0000e+00\n",
      "Epoch 59/200\n",
      "5/5 [==============================] - 0s 72ms/step - loss: 0.0063 - accuracy: 0.0146 - val_loss: 0.0028 - val_accuracy: 0.0000e+00\n",
      "Epoch 60/200\n",
      "5/5 [==============================] - 0s 77ms/step - loss: 0.0052 - accuracy: 0.0146 - val_loss: 0.0035 - val_accuracy: 0.0000e+00\n",
      "Epoch 61/200\n",
      "5/5 [==============================] - 0s 72ms/step - loss: 0.0040 - accuracy: 0.0146 - val_loss: 0.0058 - val_accuracy: 0.0000e+00\n",
      "Epoch 62/200\n",
      "5/5 [==============================] - 0s 72ms/step - loss: 0.0053 - accuracy: 0.0146 - val_loss: 0.0115 - val_accuracy: 0.0000e+00\n",
      "Epoch 63/200\n",
      "5/5 [==============================] - 0s 71ms/step - loss: 0.0048 - accuracy: 0.0146 - val_loss: 0.0023 - val_accuracy: 0.0000e+00\n",
      "Epoch 64/200\n",
      "5/5 [==============================] - 0s 71ms/step - loss: 0.0051 - accuracy: 0.0146 - val_loss: 0.0156 - val_accuracy: 0.0000e+00\n",
      "Epoch 65/200\n",
      "5/5 [==============================] - 0s 81ms/step - loss: 0.0061 - accuracy: 0.0146 - val_loss: 0.0028 - val_accuracy: 0.0000e+00\n",
      "Epoch 66/200\n",
      "5/5 [==============================] - 0s 75ms/step - loss: 0.0047 - accuracy: 0.0146 - val_loss: 0.0035 - val_accuracy: 0.0000e+00\n",
      "Epoch 67/200\n",
      "5/5 [==============================] - 0s 75ms/step - loss: 0.0040 - accuracy: 0.0146 - val_loss: 0.0108 - val_accuracy: 0.0000e+00\n",
      "Epoch 68/200\n",
      "5/5 [==============================] - 0s 72ms/step - loss: 0.0051 - accuracy: 0.0146 - val_loss: 0.0027 - val_accuracy: 0.0000e+00\n",
      "Epoch 69/200\n",
      "5/5 [==============================] - 0s 85ms/step - loss: 0.0038 - accuracy: 0.0146 - val_loss: 0.0019 - val_accuracy: 0.0000e+00\n",
      "Epoch 70/200\n",
      "5/5 [==============================] - 0s 69ms/step - loss: 0.0043 - accuracy: 0.0146 - val_loss: 0.0151 - val_accuracy: 0.0000e+00\n",
      "Epoch 71/200\n",
      "5/5 [==============================] - 0s 72ms/step - loss: 0.0047 - accuracy: 0.0146 - val_loss: 0.0055 - val_accuracy: 0.0000e+00\n",
      "Epoch 72/200\n",
      "5/5 [==============================] - 0s 78ms/step - loss: 0.0044 - accuracy: 0.0146 - val_loss: 0.0025 - val_accuracy: 0.0000e+00\n",
      "Epoch 73/200\n",
      "5/5 [==============================] - 0s 79ms/step - loss: 0.0074 - accuracy: 0.0146 - val_loss: 0.0046 - val_accuracy: 0.0000e+00\n",
      "Epoch 74/200\n",
      "5/5 [==============================] - 0s 76ms/step - loss: 0.0057 - accuracy: 0.0146 - val_loss: 0.0023 - val_accuracy: 0.0000e+00\n",
      "Epoch 75/200\n",
      "5/5 [==============================] - 0s 73ms/step - loss: 0.0061 - accuracy: 0.0146 - val_loss: 0.0039 - val_accuracy: 0.0000e+00\n",
      "Epoch 76/200\n",
      "5/5 [==============================] - 0s 73ms/step - loss: 0.0062 - accuracy: 0.0146 - val_loss: 0.0164 - val_accuracy: 0.0000e+00\n",
      "Epoch 77/200\n",
      "5/5 [==============================] - 0s 71ms/step - loss: 0.0047 - accuracy: 0.0146 - val_loss: 0.0075 - val_accuracy: 0.0000e+00\n",
      "Epoch 78/200\n",
      "5/5 [==============================] - 0s 71ms/step - loss: 0.0053 - accuracy: 0.0146 - val_loss: 0.0037 - val_accuracy: 0.0000e+00\n",
      "Epoch 79/200\n",
      "5/5 [==============================] - 0s 72ms/step - loss: 0.0044 - accuracy: 0.0146 - val_loss: 0.0031 - val_accuracy: 0.0000e+00\n",
      "Epoch 80/200\n",
      "5/5 [==============================] - 0s 79ms/step - loss: 0.0045 - accuracy: 0.0146 - val_loss: 0.0022 - val_accuracy: 0.0000e+00\n",
      "Epoch 81/200\n",
      "5/5 [==============================] - 0s 72ms/step - loss: 0.0048 - accuracy: 0.0146 - val_loss: 0.0040 - val_accuracy: 0.0000e+00\n",
      "Epoch 82/200\n",
      "5/5 [==============================] - 0s 75ms/step - loss: 0.0045 - accuracy: 0.0146 - val_loss: 0.0019 - val_accuracy: 0.0000e+00\n",
      "Epoch 83/200\n",
      "5/5 [==============================] - 0s 77ms/step - loss: 0.0058 - accuracy: 0.0146 - val_loss: 0.0026 - val_accuracy: 0.0000e+00\n",
      "Epoch 84/200\n",
      "5/5 [==============================] - 0s 72ms/step - loss: 0.0038 - accuracy: 0.0146 - val_loss: 0.0039 - val_accuracy: 0.0000e+00\n",
      "Epoch 85/200\n",
      "5/5 [==============================] - 0s 72ms/step - loss: 0.0048 - accuracy: 0.0146 - val_loss: 0.0055 - val_accuracy: 0.0000e+00\n",
      "Epoch 86/200\n",
      "5/5 [==============================] - 0s 71ms/step - loss: 0.0057 - accuracy: 0.0146 - val_loss: 0.0040 - val_accuracy: 0.0000e+00\n",
      "Epoch 87/200\n",
      "5/5 [==============================] - 0s 71ms/step - loss: 0.0044 - accuracy: 0.0146 - val_loss: 0.0101 - val_accuracy: 0.0000e+00\n",
      "Epoch 88/200\n",
      "5/5 [==============================] - 0s 71ms/step - loss: 0.0050 - accuracy: 0.0146 - val_loss: 0.0112 - val_accuracy: 0.0000e+00\n",
      "Epoch 89/200\n",
      "5/5 [==============================] - 0s 73ms/step - loss: 0.0046 - accuracy: 0.0146 - val_loss: 0.0032 - val_accuracy: 0.0000e+00\n",
      "Epoch 90/200\n",
      "5/5 [==============================] - 0s 74ms/step - loss: 0.0049 - accuracy: 0.0146 - val_loss: 0.0051 - val_accuracy: 0.0000e+00\n",
      "Epoch 91/200\n",
      "5/5 [==============================] - 0s 74ms/step - loss: 0.0051 - accuracy: 0.0146 - val_loss: 0.0125 - val_accuracy: 0.0000e+00\n",
      "Epoch 92/200\n",
      "5/5 [==============================] - 0s 69ms/step - loss: 0.0048 - accuracy: 0.0146 - val_loss: 0.0103 - val_accuracy: 0.0000e+00\n",
      "Epoch 93/200\n",
      "5/5 [==============================] - 0s 72ms/step - loss: 0.0056 - accuracy: 0.0146 - val_loss: 0.0027 - val_accuracy: 0.0000e+00\n",
      "Epoch 94/200\n",
      "5/5 [==============================] - 0s 77ms/step - loss: 0.0047 - accuracy: 0.0146 - val_loss: 0.0113 - val_accuracy: 0.0000e+00\n",
      "Epoch 95/200\n",
      "5/5 [==============================] - 0s 91ms/step - loss: 0.0045 - accuracy: 0.0146 - val_loss: 0.0062 - val_accuracy: 0.0000e+00\n",
      "Epoch 96/200\n",
      "5/5 [==============================] - 0s 74ms/step - loss: 0.0047 - accuracy: 0.0146 - val_loss: 0.0138 - val_accuracy: 0.0000e+00\n",
      "Epoch 97/200\n",
      "5/5 [==============================] - 0s 70ms/step - loss: 0.0053 - accuracy: 0.0146 - val_loss: 0.0112 - val_accuracy: 0.0000e+00\n",
      "Epoch 98/200\n",
      "5/5 [==============================] - 0s 73ms/step - loss: 0.0037 - accuracy: 0.0146 - val_loss: 0.0112 - val_accuracy: 0.0000e+00\n",
      "Epoch 99/200\n",
      "5/5 [==============================] - 0s 71ms/step - loss: 0.0051 - accuracy: 0.0146 - val_loss: 0.0038 - val_accuracy: 0.0000e+00\n",
      "Epoch 100/200\n",
      "5/5 [==============================] - 0s 74ms/step - loss: 0.0052 - accuracy: 0.0146 - val_loss: 0.0038 - val_accuracy: 0.0000e+00\n",
      "Epoch 101/200\n",
      "5/5 [==============================] - 0s 76ms/step - loss: 0.0048 - accuracy: 0.0146 - val_loss: 0.0058 - val_accuracy: 0.0000e+00\n",
      "Epoch 102/200\n",
      "5/5 [==============================] - 0s 71ms/step - loss: 0.0047 - accuracy: 0.0146 - val_loss: 0.0058 - val_accuracy: 0.0000e+00\n",
      "Epoch 103/200\n",
      "5/5 [==============================] - 0s 72ms/step - loss: 0.0049 - accuracy: 0.0146 - val_loss: 0.0027 - val_accuracy: 0.0000e+00\n",
      "Epoch 104/200\n",
      "5/5 [==============================] - 0s 76ms/step - loss: 0.0054 - accuracy: 0.0146 - val_loss: 0.0071 - val_accuracy: 0.0000e+00\n",
      "Epoch 105/200\n",
      "5/5 [==============================] - 0s 71ms/step - loss: 0.0047 - accuracy: 0.0146 - val_loss: 0.0029 - val_accuracy: 0.0000e+00\n",
      "Epoch 106/200\n",
      "5/5 [==============================] - 0s 71ms/step - loss: 0.0045 - accuracy: 0.0146 - val_loss: 0.0211 - val_accuracy: 0.0000e+00\n",
      "Epoch 107/200\n",
      "5/5 [==============================] - 0s 83ms/step - loss: 0.0045 - accuracy: 0.0146 - val_loss: 0.0027 - val_accuracy: 0.0000e+00\n",
      "Epoch 108/200\n",
      "5/5 [==============================] - 0s 71ms/step - loss: 0.0037 - accuracy: 0.0146 - val_loss: 0.0021 - val_accuracy: 0.0000e+00\n",
      "Epoch 109/200\n",
      "5/5 [==============================] - 0s 74ms/step - loss: 0.0044 - accuracy: 0.0146 - val_loss: 0.0118 - val_accuracy: 0.0000e+00\n",
      "Epoch 110/200\n",
      "5/5 [==============================] - 0s 73ms/step - loss: 0.0050 - accuracy: 0.0146 - val_loss: 0.0036 - val_accuracy: 0.0000e+00\n",
      "Epoch 111/200\n",
      "5/5 [==============================] - 0s 72ms/step - loss: 0.0045 - accuracy: 0.0146 - val_loss: 0.0202 - val_accuracy: 0.0000e+00\n",
      "Epoch 112/200\n",
      "5/5 [==============================] - 0s 74ms/step - loss: 0.0057 - accuracy: 0.0146 - val_loss: 0.0071 - val_accuracy: 0.0000e+00\n",
      "Epoch 113/200\n"
     ]
    },
    {
     "name": "stdout",
     "output_type": "stream",
     "text": [
      "5/5 [==============================] - 0s 70ms/step - loss: 0.0055 - accuracy: 0.0146 - val_loss: 0.0018 - val_accuracy: 0.0000e+00\n",
      "Epoch 114/200\n",
      "5/5 [==============================] - 0s 80ms/step - loss: 0.0041 - accuracy: 0.0146 - val_loss: 0.0035 - val_accuracy: 0.0000e+00\n",
      "Epoch 115/200\n",
      "5/5 [==============================] - 0s 70ms/step - loss: 0.0044 - accuracy: 0.0146 - val_loss: 0.0314 - val_accuracy: 0.0000e+00\n",
      "Epoch 116/200\n",
      "5/5 [==============================] - 0s 71ms/step - loss: 0.0066 - accuracy: 0.0146 - val_loss: 0.0031 - val_accuracy: 0.0000e+00\n",
      "Epoch 117/200\n",
      "5/5 [==============================] - 0s 70ms/step - loss: 0.0043 - accuracy: 0.0146 - val_loss: 0.0027 - val_accuracy: 0.0000e+00\n",
      "Epoch 118/200\n",
      "5/5 [==============================] - 0s 69ms/step - loss: 0.0052 - accuracy: 0.0146 - val_loss: 0.0075 - val_accuracy: 0.0000e+00\n",
      "Epoch 119/200\n",
      "5/5 [==============================] - 0s 70ms/step - loss: 0.0045 - accuracy: 0.0146 - val_loss: 0.0059 - val_accuracy: 0.0000e+00\n",
      "Epoch 120/200\n",
      "5/5 [==============================] - 0s 70ms/step - loss: 0.0039 - accuracy: 0.0146 - val_loss: 0.0019 - val_accuracy: 0.0000e+00\n",
      "Epoch 121/200\n",
      "5/5 [==============================] - 0s 74ms/step - loss: 0.0048 - accuracy: 0.0146 - val_loss: 0.0035 - val_accuracy: 0.0000e+00\n",
      "Epoch 122/200\n",
      "5/5 [==============================] - 0s 72ms/step - loss: 0.0041 - accuracy: 0.0146 - val_loss: 0.0078 - val_accuracy: 0.0000e+00\n",
      "Epoch 123/200\n",
      "5/5 [==============================] - 0s 69ms/step - loss: 0.0047 - accuracy: 0.0146 - val_loss: 0.0072 - val_accuracy: 0.0000e+00\n",
      "Epoch 124/200\n",
      "5/5 [==============================] - 0s 75ms/step - loss: 0.0048 - accuracy: 0.0146 - val_loss: 0.0030 - val_accuracy: 0.0000e+00\n",
      "Epoch 125/200\n",
      "5/5 [==============================] - 0s 72ms/step - loss: 0.0053 - accuracy: 0.0146 - val_loss: 0.0035 - val_accuracy: 0.0000e+00\n",
      "Epoch 126/200\n",
      "5/5 [==============================] - 0s 70ms/step - loss: 0.0048 - accuracy: 0.0146 - val_loss: 0.0033 - val_accuracy: 0.0000e+00\n",
      "Epoch 127/200\n",
      "5/5 [==============================] - 0s 70ms/step - loss: 0.0057 - accuracy: 0.0146 - val_loss: 0.0019 - val_accuracy: 0.0000e+00\n",
      "Epoch 128/200\n",
      "5/5 [==============================] - 0s 69ms/step - loss: 0.0045 - accuracy: 0.0146 - val_loss: 0.0027 - val_accuracy: 0.0000e+00\n",
      "Epoch 129/200\n",
      "5/5 [==============================] - 0s 73ms/step - loss: 0.0039 - accuracy: 0.0146 - val_loss: 0.0039 - val_accuracy: 0.0000e+00\n",
      "Epoch 130/200\n",
      "5/5 [==============================] - 0s 71ms/step - loss: 0.0056 - accuracy: 0.0146 - val_loss: 0.0070 - val_accuracy: 0.0000e+00\n",
      "Epoch 131/200\n",
      "5/5 [==============================] - 0s 77ms/step - loss: 0.0045 - accuracy: 0.0146 - val_loss: 0.0066 - val_accuracy: 0.0000e+00\n",
      "Epoch 132/200\n",
      "5/5 [==============================] - 0s 71ms/step - loss: 0.0040 - accuracy: 0.0146 - val_loss: 0.0052 - val_accuracy: 0.0000e+00\n",
      "Epoch 133/200\n",
      "5/5 [==============================] - 0s 75ms/step - loss: 0.0052 - accuracy: 0.0146 - val_loss: 0.0018 - val_accuracy: 0.0000e+00\n",
      "Epoch 134/200\n",
      "5/5 [==============================] - 0s 71ms/step - loss: 0.0044 - accuracy: 0.0146 - val_loss: 0.0095 - val_accuracy: 0.0000e+00\n",
      "Epoch 135/200\n",
      "5/5 [==============================] - 0s 74ms/step - loss: 0.0044 - accuracy: 0.0146 - val_loss: 0.0041 - val_accuracy: 0.0000e+00\n",
      "Epoch 136/200\n",
      "5/5 [==============================] - 0s 75ms/step - loss: 0.0042 - accuracy: 0.0146 - val_loss: 0.0048 - val_accuracy: 0.0000e+00\n",
      "Epoch 137/200\n",
      "5/5 [==============================] - 0s 80ms/step - loss: 0.0036 - accuracy: 0.0146 - val_loss: 0.0123 - val_accuracy: 0.0000e+00\n",
      "Epoch 138/200\n",
      "5/5 [==============================] - 0s 76ms/step - loss: 0.0055 - accuracy: 0.0146 - val_loss: 0.0039 - val_accuracy: 0.0000e+00\n",
      "Epoch 139/200\n",
      "5/5 [==============================] - 0s 72ms/step - loss: 0.0037 - accuracy: 0.0146 - val_loss: 0.0018 - val_accuracy: 0.0000e+00\n",
      "Epoch 140/200\n",
      "5/5 [==============================] - 0s 73ms/step - loss: 0.0040 - accuracy: 0.0146 - val_loss: 0.0120 - val_accuracy: 0.0000e+00\n",
      "Epoch 141/200\n",
      "5/5 [==============================] - 0s 76ms/step - loss: 0.0054 - accuracy: 0.0146 - val_loss: 0.0023 - val_accuracy: 0.0000e+00\n",
      "Epoch 142/200\n",
      "5/5 [==============================] - 0s 73ms/step - loss: 0.0036 - accuracy: 0.0146 - val_loss: 0.0058 - val_accuracy: 0.0000e+00\n",
      "Epoch 143/200\n",
      "5/5 [==============================] - 0s 73ms/step - loss: 0.0042 - accuracy: 0.0146 - val_loss: 0.0022 - val_accuracy: 0.0000e+00\n",
      "Epoch 144/200\n",
      "5/5 [==============================] - 0s 78ms/step - loss: 0.0041 - accuracy: 0.0146 - val_loss: 0.0020 - val_accuracy: 0.0000e+00\n",
      "Epoch 145/200\n",
      "5/5 [==============================] - 0s 72ms/step - loss: 0.0043 - accuracy: 0.0146 - val_loss: 0.0104 - val_accuracy: 0.0000e+00\n",
      "Epoch 146/200\n",
      "5/5 [==============================] - 0s 73ms/step - loss: 0.0038 - accuracy: 0.0146 - val_loss: 0.0080 - val_accuracy: 0.0000e+00\n",
      "Epoch 147/200\n",
      "5/5 [==============================] - 0s 72ms/step - loss: 0.0047 - accuracy: 0.0146 - val_loss: 0.0020 - val_accuracy: 0.0000e+00\n",
      "Epoch 148/200\n",
      "5/5 [==============================] - 0s 70ms/step - loss: 0.0041 - accuracy: 0.0146 - val_loss: 0.0117 - val_accuracy: 0.0000e+00\n",
      "Epoch 149/200\n",
      "5/5 [==============================] - 0s 70ms/step - loss: 0.0061 - accuracy: 0.0146 - val_loss: 0.0032 - val_accuracy: 0.0000e+00\n",
      "Epoch 150/200\n",
      "5/5 [==============================] - 0s 84ms/step - loss: 0.0053 - accuracy: 0.0146 - val_loss: 0.0021 - val_accuracy: 0.0000e+00\n",
      "Epoch 151/200\n",
      "5/5 [==============================] - 0s 73ms/step - loss: 0.0041 - accuracy: 0.0146 - val_loss: 0.0083 - val_accuracy: 0.0000e+00\n",
      "Epoch 152/200\n",
      "5/5 [==============================] - 0s 70ms/step - loss: 0.0051 - accuracy: 0.0146 - val_loss: 0.0030 - val_accuracy: 0.0000e+00\n",
      "Epoch 153/200\n",
      "5/5 [==============================] - 0s 74ms/step - loss: 0.0050 - accuracy: 0.0146 - val_loss: 0.0039 - val_accuracy: 0.0000e+00\n",
      "Epoch 154/200\n",
      "5/5 [==============================] - 0s 70ms/step - loss: 0.0037 - accuracy: 0.0146 - val_loss: 0.0019 - val_accuracy: 0.0000e+00\n",
      "Epoch 155/200\n",
      "5/5 [==============================] - 0s 76ms/step - loss: 0.0047 - accuracy: 0.0146 - val_loss: 0.0089 - val_accuracy: 0.0000e+00\n",
      "Epoch 156/200\n",
      "5/5 [==============================] - 0s 69ms/step - loss: 0.0040 - accuracy: 0.0146 - val_loss: 0.0059 - val_accuracy: 0.0000e+00\n",
      "Epoch 157/200\n",
      "5/5 [==============================] - 0s 74ms/step - loss: 0.0048 - accuracy: 0.0146 - val_loss: 0.0017 - val_accuracy: 0.0000e+00\n",
      "Epoch 158/200\n",
      "5/5 [==============================] - 0s 73ms/step - loss: 0.0042 - accuracy: 0.0146 - val_loss: 0.0023 - val_accuracy: 0.0000e+00\n",
      "Epoch 159/200\n",
      "5/5 [==============================] - 0s 69ms/step - loss: 0.0051 - accuracy: 0.0146 - val_loss: 0.0030 - val_accuracy: 0.0000e+00\n",
      "Epoch 160/200\n",
      "5/5 [==============================] - 0s 71ms/step - loss: 0.0052 - accuracy: 0.0146 - val_loss: 0.0040 - val_accuracy: 0.0000e+00\n",
      "Epoch 161/200\n",
      "5/5 [==============================] - 0s 72ms/step - loss: 0.0039 - accuracy: 0.0146 - val_loss: 0.0017 - val_accuracy: 0.0000e+00\n",
      "Epoch 162/200\n",
      "5/5 [==============================] - 0s 70ms/step - loss: 0.0039 - accuracy: 0.0146 - val_loss: 0.0035 - val_accuracy: 0.0000e+00\n",
      "Epoch 163/200\n",
      "5/5 [==============================] - 0s 74ms/step - loss: 0.0047 - accuracy: 0.0146 - val_loss: 0.0057 - val_accuracy: 0.0000e+00\n",
      "Epoch 164/200\n",
      "5/5 [==============================] - 0s 72ms/step - loss: 0.0045 - accuracy: 0.0146 - val_loss: 0.0058 - val_accuracy: 0.0000e+00\n",
      "Epoch 165/200\n",
      "5/5 [==============================] - 0s 74ms/step - loss: 0.0046 - accuracy: 0.0146 - val_loss: 0.0041 - val_accuracy: 0.0000e+00\n",
      "Epoch 166/200\n",
      "5/5 [==============================] - 0s 69ms/step - loss: 0.0047 - accuracy: 0.0146 - val_loss: 0.0067 - val_accuracy: 0.0000e+00\n",
      "Epoch 167/200\n",
      "5/5 [==============================] - 0s 73ms/step - loss: 0.0051 - accuracy: 0.0146 - val_loss: 0.0049 - val_accuracy: 0.0000e+00\n",
      "Epoch 168/200\n",
      "5/5 [==============================] - 0s 74ms/step - loss: 0.0044 - accuracy: 0.0146 - val_loss: 0.0139 - val_accuracy: 0.0000e+00\n",
      "Epoch 169/200\n"
     ]
    },
    {
     "name": "stdout",
     "output_type": "stream",
     "text": [
      "5/5 [==============================] - 0s 75ms/step - loss: 0.0055 - accuracy: 0.0146 - val_loss: 0.0054 - val_accuracy: 0.0000e+00\n",
      "Epoch 170/200\n",
      "5/5 [==============================] - 0s 71ms/step - loss: 0.0045 - accuracy: 0.0146 - val_loss: 0.0027 - val_accuracy: 0.0000e+00\n",
      "Epoch 171/200\n",
      "5/5 [==============================] - 0s 65ms/step - loss: 0.0039 - accuracy: 0.0146 - val_loss: 0.0016 - val_accuracy: 0.0000e+00\n",
      "Epoch 172/200\n",
      "5/5 [==============================] - 0s 67ms/step - loss: 0.0040 - accuracy: 0.0146 - val_loss: 0.0052 - val_accuracy: 0.0000e+00\n",
      "Epoch 173/200\n",
      "5/5 [==============================] - 0s 65ms/step - loss: 0.0030 - accuracy: 0.0146 - val_loss: 9.6161e-04 - val_accuracy: 0.0000e+00\n",
      "Epoch 174/200\n",
      "5/5 [==============================] - 0s 69ms/step - loss: 0.0029 - accuracy: 0.0146 - val_loss: 0.0101 - val_accuracy: 0.0000e+00\n",
      "Epoch 175/200\n",
      "5/5 [==============================] - 0s 68ms/step - loss: 0.0033 - accuracy: 0.0146 - val_loss: 0.0015 - val_accuracy: 0.0000e+00\n",
      "Epoch 176/200\n",
      "5/5 [==============================] - 0s 81ms/step - loss: 0.0040 - accuracy: 0.0146 - val_loss: 0.0013 - val_accuracy: 0.0000e+00\n",
      "Epoch 177/200\n",
      "5/5 [==============================] - 0s 69ms/step - loss: 0.0056 - accuracy: 0.0146 - val_loss: 0.0015 - val_accuracy: 0.0000e+00\n",
      "Epoch 178/200\n",
      "5/5 [==============================] - 0s 68ms/step - loss: 0.0049 - accuracy: 0.0146 - val_loss: 0.0024 - val_accuracy: 0.0000e+00\n",
      "Epoch 179/200\n",
      "5/5 [==============================] - 0s 69ms/step - loss: 0.0037 - accuracy: 0.0146 - val_loss: 0.0016 - val_accuracy: 0.0000e+00\n",
      "Epoch 180/200\n",
      "5/5 [==============================] - 0s 67ms/step - loss: 0.0039 - accuracy: 0.0146 - val_loss: 0.0049 - val_accuracy: 0.0000e+00\n",
      "Epoch 181/200\n",
      "5/5 [==============================] - 0s 70ms/step - loss: 0.0034 - accuracy: 0.0146 - val_loss: 0.0039 - val_accuracy: 0.0000e+00\n",
      "Epoch 182/200\n",
      "5/5 [==============================] - 0s 77ms/step - loss: 0.0035 - accuracy: 0.0146 - val_loss: 0.0011 - val_accuracy: 0.0000e+00\n",
      "Epoch 183/200\n",
      "5/5 [==============================] - 0s 71ms/step - loss: 0.0031 - accuracy: 0.0146 - val_loss: 0.0037 - val_accuracy: 0.0000e+00\n",
      "Epoch 184/200\n",
      "5/5 [==============================] - 0s 74ms/step - loss: 0.0044 - accuracy: 0.0146 - val_loss: 0.0015 - val_accuracy: 0.0000e+00\n",
      "Epoch 185/200\n",
      "5/5 [==============================] - 0s 73ms/step - loss: 0.0037 - accuracy: 0.0146 - val_loss: 0.0077 - val_accuracy: 0.0000e+00\n",
      "Epoch 186/200\n",
      "5/5 [==============================] - 0s 73ms/step - loss: 0.0039 - accuracy: 0.0146 - val_loss: 0.0038 - val_accuracy: 0.0000e+00\n",
      "Epoch 187/200\n",
      "5/5 [==============================] - 0s 70ms/step - loss: 0.0029 - accuracy: 0.0146 - val_loss: 0.0014 - val_accuracy: 0.0000e+00\n",
      "Epoch 188/200\n",
      "5/5 [==============================] - 0s 72ms/step - loss: 0.0039 - accuracy: 0.0146 - val_loss: 0.0073 - val_accuracy: 0.0000e+00\n",
      "Epoch 189/200\n",
      "5/5 [==============================] - 0s 71ms/step - loss: 0.0041 - accuracy: 0.0146 - val_loss: 0.0018 - val_accuracy: 0.0000e+00\n",
      "Epoch 190/200\n",
      "5/5 [==============================] - 0s 89ms/step - loss: 0.0042 - accuracy: 0.0146 - val_loss: 0.0015 - val_accuracy: 0.0000e+00\n",
      "Epoch 191/200\n",
      "5/5 [==============================] - 0s 76ms/step - loss: 0.0042 - accuracy: 0.0146 - val_loss: 0.0030 - val_accuracy: 0.0000e+00\n",
      "Epoch 192/200\n",
      "5/5 [==============================] - 0s 73ms/step - loss: 0.0041 - accuracy: 0.0146 - val_loss: 0.0014 - val_accuracy: 0.0000e+00\n",
      "Epoch 193/200\n",
      "5/5 [==============================] - 0s 75ms/step - loss: 0.0047 - accuracy: 0.0146 - val_loss: 0.0039 - val_accuracy: 0.0000e+00\n",
      "Epoch 194/200\n",
      "5/5 [==============================] - 0s 74ms/step - loss: 0.0039 - accuracy: 0.0146 - val_loss: 8.5331e-04 - val_accuracy: 0.0000e+00\n",
      "Epoch 195/200\n",
      "5/5 [==============================] - 0s 68ms/step - loss: 0.0031 - accuracy: 0.0146 - val_loss: 0.0013 - val_accuracy: 0.0000e+00\n",
      "Epoch 196/200\n",
      "5/5 [==============================] - 0s 72ms/step - loss: 0.0033 - accuracy: 0.0146 - val_loss: 0.0017 - val_accuracy: 0.0000e+00\n",
      "Epoch 197/200\n",
      "5/5 [==============================] - 0s 77ms/step - loss: 0.0041 - accuracy: 0.0146 - val_loss: 0.0022 - val_accuracy: 0.0000e+00\n",
      "Epoch 198/200\n",
      "5/5 [==============================] - 0s 70ms/step - loss: 0.0041 - accuracy: 0.0146 - val_loss: 9.7899e-04 - val_accuracy: 0.0000e+00\n",
      "Epoch 199/200\n",
      "5/5 [==============================] - 0s 74ms/step - loss: 0.0051 - accuracy: 0.0146 - val_loss: 0.0032 - val_accuracy: 0.0000e+00\n",
      "Epoch 200/200\n",
      "5/5 [==============================] - 0s 72ms/step - loss: 0.0042 - accuracy: 0.0146 - val_loss: 0.0010 - val_accuracy: 0.0000e+00\n"
     ]
    }
   ],
   "source": [
    "history = model.fit(X_train, y_train, epochs=200,validation_data=[X_test, y_test] )  #validation_data=[X_test, y_test]"
   ]
  },
  {
   "cell_type": "code",
   "execution_count": 212,
   "metadata": {},
   "outputs": [
    {
     "data": {
      "text/plain": [
       "(0.0029195796232670546, 0.0008533118525519967)"
      ]
     },
     "execution_count": 212,
     "metadata": {},
     "output_type": "execute_result"
    }
   ],
   "source": [
    "min (history.history['loss']),  min (history.history['val_loss'])"
   ]
  },
  {
   "cell_type": "code",
   "execution_count": 213,
   "metadata": {},
   "outputs": [
    {
     "data": {
      "text/plain": [
       "[<matplotlib.lines.Line2D at 0x25a5a2d8c40>]"
      ]
     },
     "execution_count": 213,
     "metadata": {},
     "output_type": "execute_result"
    },
    {
     "data": {
      "image/png": "[encoded data removed]",
      "text/plain": [
       "<Figure size 432x288 with 1 Axes>"
      ]
     },
     "metadata": {
      "needs_background": "light"
     },
     "output_type": "display_data"
    }
   ],
   "source": [
    "plt.plot (history.history['loss'])\n",
    "#plt.plot (history.history['val_loss'])"
   ]
  },
  {
   "cell_type": "code",
   "execution_count": 214,
   "metadata": {},
   "outputs": [
    {
     "data": {
      "text/plain": [
       "[<matplotlib.lines.Line2D at 0x25a419a2220>]"
      ]
     },
     "execution_count": 214,
     "metadata": {},
     "output_type": "execute_result"
    },
    {
     "data": {
      "image/png": "[encoded data removed]",
      "text/plain": [
       "<Figure size 432x288 with 1 Axes>"
      ]
     },
     "metadata": {
      "needs_background": "light"
     },
     "output_type": "display_data"
    }
   ],
   "source": [
    "plt.plot (history.history['val_loss'])"
   ]
  },
  {
   "cell_type": "code",
   "execution_count": null,
   "metadata": {},
   "outputs": [],
   "source": []
  },
  {
   "cell_type": "code",
   "execution_count": 215,
   "metadata": {},
   "outputs": [
    {
     "data": {
      "text/plain": [
       "array([[138.7114  ],\n",
       "       [143.23656 ],\n",
       "       [136.87888 ],\n",
       "       [124.431175],\n",
       "       [113.27893 ],\n",
       "       [117.9187  ],\n",
       "       [118.144325],\n",
       "       [122.83777 ],\n",
       "       [131.78886 ],\n",
       "       [130.80714 ],\n",
       "       [125.27904 ],\n",
       "       [138.51917 ],\n",
       "       [157.47662 ],\n",
       "       [163.5942  ],\n",
       "       [156.0467  ],\n",
       "       [136.97171 ],\n",
       "       [123.10304 ],\n",
       "       [136.46295 ],\n",
       "       [144.21585 ],\n",
       "       [148.42409 ],\n",
       "       [166.47856 ],\n",
       "       [157.87234 ],\n",
       "       [165.2796  ],\n",
       "       [171.28235 ],\n",
       "       [191.3953  ],\n",
       "       [194.62843 ],\n",
       "       [183.18356 ],\n",
       "       [163.9235  ],\n",
       "       [152.35345 ],\n",
       "       [165.96695 ],\n",
       "       [173.30678 ],\n",
       "       [180.0917  ],\n",
       "       [188.45724 ],\n",
       "       [177.74007 ],\n",
       "       [179.43488 ],\n",
       "       [211.1486  ],\n",
       "       [225.36159 ],\n",
       "       [238.6047  ],\n",
       "       [200.79062 ],\n",
       "       [186.4076  ],\n",
       "       [175.50958 ],\n",
       "       [197.88159 ],\n",
       "       [202.97809 ],\n",
       "       [202.18683 ],\n",
       "       [233.96613 ],\n",
       "       [228.68974 ],\n",
       "       [223.93936 ],\n",
       "       [237.40121 ],\n",
       "       [261.64545 ],\n",
       "       [272.1647  ],\n",
       "       [233.41682 ],\n",
       "       [210.285   ],\n",
       "       [188.6259  ],\n",
       "       [208.2991  ],\n",
       "       [213.9873  ],\n",
       "       [201.75572 ],\n",
       "       [235.97354 ],\n",
       "       [223.82858 ],\n",
       "       [233.29138 ],\n",
       "       [261.9708  ],\n",
       "       [305.00613 ],\n",
       "       [278.11926 ],\n",
       "       [241.97623 ],\n",
       "       [214.12483 ],\n",
       "       [210.40468 ],\n",
       "       [237.84506 ],\n",
       "       [251.26314 ],\n",
       "       [245.3294  ],\n",
       "       [274.85358 ],\n",
       "       [264.2954  ],\n",
       "       [268.16983 ],\n",
       "       [327.2657  ],\n",
       "       [381.90033 ],\n",
       "       [317.0831  ],\n",
       "       [283.77618 ],\n",
       "       [250.19975 ],\n",
       "       [249.6439  ],\n",
       "       [281.18994 ],\n",
       "       [290.56558 ],\n",
       "       [295.02838 ],\n",
       "       [337.6132  ],\n",
       "       [309.4     ],\n",
       "       [324.94986 ],\n",
       "       [406.3821  ],\n",
       "       [430.79208 ],\n",
       "       [384.17975 ],\n",
       "       [318.384   ],\n",
       "       [286.52798 ],\n",
       "       [288.17538 ],\n",
       "       [296.4617  ],\n",
       "       [306.45294 ],\n",
       "       [318.65042 ],\n",
       "       [389.55554 ],\n",
       "       [346.5891  ],\n",
       "       [373.612   ],\n",
       "       [469.78662 ],\n",
       "       [481.65244 ],\n",
       "       [447.9222  ],\n",
       "       [361.4117  ],\n",
       "       [317.33185 ],\n",
       "       [317.51053 ],\n",
       "       [319.61673 ],\n",
       "       [321.3582  ],\n",
       "       [339.64676 ],\n",
       "       [389.60156 ],\n",
       "       [362.00467 ],\n",
       "       [393.5812  ],\n",
       "       [487.25333 ],\n",
       "       [512.9039  ],\n",
       "       [473.19092 ],\n",
       "       [335.8812  ],\n",
       "       [286.20013 ],\n",
       "       [318.21954 ],\n",
       "       [330.60876 ],\n",
       "       [331.61975 ],\n",
       "       [375.53156 ],\n",
       "       [442.41495 ],\n",
       "       [397.7924  ],\n",
       "       [460.69833 ],\n",
       "       [506.04865 ],\n",
       "       [577.5432  ],\n",
       "       [503.3487  ],\n",
       "       [426.3183  ],\n",
       "       [355.5184  ],\n",
       "       [366.92633 ],\n",
       "       [369.06943 ],\n",
       "       [394.82837 ],\n",
       "       [421.96436 ],\n",
       "       [436.53317 ],\n",
       "       [480.55936 ],\n",
       "       [481.01855 ],\n",
       "       [561.33813 ],\n",
       "       [593.8498  ],\n",
       "       [510.3858  ],\n",
       "       [455.0301  ],\n",
       "       [398.1687  ],\n",
       "       [398.8244  ]], dtype=float32)"
      ]
     },
     "execution_count": 215,
     "metadata": {},
     "output_type": "execute_result"
    }
   ],
   "source": [
    "scaler1.inverse_transform(model.predict (X_train))"
   ]
  },
  {
   "cell_type": "code",
   "execution_count": 216,
   "metadata": {},
   "outputs": [
    {
     "data": {
      "image/png": "[encoded data removed]",
      "text/plain": [
       "<Figure size 1080x576 with 1 Axes>"
      ]
     },
     "metadata": {
      "needs_background": "light"
     },
     "output_type": "display_data"
    }
   ],
   "source": [
    "# Print the training Data Prediction on X_train  and y_train\n",
    "plt.figure(figsize=(15,8))\n",
    "plt.grid()\n",
    "plt.plot([i for i in range (len(y_train))] , scaler1.inverse_transform(model.predict (X_train) ), marker=\"^\")\n",
    "plt.plot([i for i in range (len(y_train))], scaler1.inverse_transform(y_train),marker=\".\"  )\n",
    "#plt.plot(y_test)\n",
    "plt.show()"
   ]
  },
  {
   "cell_type": "code",
   "execution_count": 218,
   "metadata": {},
   "outputs": [],
   "source": [
    "#pred = model.predict(X_test)\n",
    "#scaler.inverse_transform(pred)"
   ]
  },
  {
   "cell_type": "code",
   "execution_count": null,
   "metadata": {},
   "outputs": [],
   "source": []
  }
 ],
 "metadata": {
  "kernelspec": {
   "display_name": "Python 3 (ipykernel)",
   "language": "python",
   "name": "python3"
  },
  "language_info": {
   "codemirror_mode": {
    "name": "ipython",
    "version": 3
   },
   "file_extension": ".py",
   "mimetype": "text/x-python",
   "name": "python",
   "nbconvert_exporter": "python",
   "pygments_lexer": "ipython3",
   "version": "3.9.7"
  }
 },
 "nbformat": 4,
 "nbformat_minor": 2
}
