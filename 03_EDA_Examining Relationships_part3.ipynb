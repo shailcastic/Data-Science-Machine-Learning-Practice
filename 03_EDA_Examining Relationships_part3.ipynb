{
 "cells": [
  {
   "cell_type": "code",
   "execution_count": 1,
   "metadata": {},
   "outputs": [],
   "source": [
    "import pandas as pd \n",
    "import numpy as np \n",
    "import matplotlib.pyplot as plt \n",
    "%matplotlib inline\n",
    "pd.options.display.max_columns=999 \n",
    "plt.style.use('fivethirtyeight')"
   ]
  },
  {
   "cell_type": "markdown",
   "metadata": {},
   "source": [
    "# Examining Relationships Overview"
   ]
  },
  {
   "cell_type": "markdown",
   "metadata": {},
   "source": [
    "So far we have dealt with data obtained from one variable (either categorical or quantitative), and learned how to describe the distribution of the variable using the appropriate visual displays and numerical measures. In this section, examining relationships, we will look at two variables at a time and, as the title suggests, explore the relationship between them using (as before) visual displays and numerical summaries. This module starts with a section that gives general definitions, lays out the framework for the whole module, and lists the different cases that the module will cover."
   ]
  },
  {
   "cell_type": "markdown",
   "metadata": {},
   "source": [
    "## Exploring Two Variables: Explanatory and Response"
   ]
  },
  {
   "cell_type": "markdown",
   "metadata": {},
   "source": [
    "While it is fundamentally important to know how to describe the distribution of a single variable, most studies pose research questions that involve exploring the relationship between two variables using the collected data.\n",
    "\n",
    "Here are a few examples of such research questions with the two variables highlighted:\n"
   ]
  },
  {
   "cell_type": "markdown",
   "metadata": {},
   "source": [
    "### Examples"
   ]
  },
  {
   "cell_type": "markdown",
   "metadata": {},
   "source": [
    "1. Is there a relationship between gender and test scores on a particular standardized test?\n",
    "\n",
    "Other ways of phrasing the same research question:\n",
    "\n",
    "* Is performance on the test related to gender?\n",
    "* Is there a gender effect on test scores?\n",
    "* Are there differences in test scores between males and females?\n",
    "\n",
    "2.How is the number of calories in a hot dog related to (or affected by) the type of hot dog (beef, meat or poultry)? In other words, are there differences in the number of calories among the three types of hot dogs?\n",
    "\n",
    "3.Is there a relationship between the type of light a baby sleeps with (no light, night-light, lamp) and whether or not the child develops nearsightedness?\n",
    "\n",
    "4.Are the smoking habits of a person (yes, no) related to the person's gender?\n",
    "\n",
    "5.How well can we predict a student's freshman year GPA from his/her SAT score?\n",
    "\n",
    "6.What is the relationship between driver's age and sign legibility distance (the maximum distance at which the driver can read a sign)?\n",
    "\n",
    "7.Is there a relationship between the time a person has practiced driving while having a learner's permit, and whether or not this person passed the driving test?\n",
    "\n",
    "8.Can you predict a person's favorite type of music (classical, rock, jazz) based on his/her IQ level?\n",
    "\n",
    "In most studies involving two variables, each of the variables has a role. We distinguish between:\n",
    "* the explanatory variable (also commonly referred to as the independent variable)-—the variable that claims to explain, predict or affect the response; and\n",
    "* the response variable (also commonly referred to as the dependent variable)-—the outcome of the study.\n",
    "\n",
    "Typically the explanatory (or independent) variable is denoted by **X**, while the response (or dependent) variable is denoted by **Y**."
   ]
  },
  {
   "cell_type": "markdown",
   "metadata": {},
   "source": [
    "## Explanatory and Response Variables"
   ]
  },
  {
   "cell_type": "markdown",
   "metadata": {},
   "source": [
    "In this course, we will use the terms explanatory and response variables, instead of independent and dependent variables.\n",
    "\n",
    "Now let's go back to some of the examples and classify the two relevant variables according to their roles in the study:"
   ]
  },
  {
   "cell_type": "markdown",
   "metadata": {},
   "source": [
    "### Example 1"
   ]
  },
  {
   "cell_type": "markdown",
   "metadata": {},
   "source": [
    "We want to explore whether the outcome of the study—the score on a test—is affected by the test-taker's gender.\n",
    "\n",
    "Therefore:\n",
    "\n",
    "* **Gender** is the **explanatory**\n",
    "* **Test score** is the **response**"
   ]
  },
  {
   "cell_type": "markdown",
   "metadata": {},
   "source": [
    "### Example: 3"
   ]
  },
  {
   "cell_type": "markdown",
   "metadata": {},
   "source": [
    "In this study we explore whether the nearsightedness of a person can be explained by the type of light that person slept with as a baby.\n",
    "\n",
    "Therefore:\n",
    "\n",
    "* **Light type** is the explanatory\n",
    "* **Nearsightedness** is the response"
   ]
  },
  {
   "cell_type": "markdown",
   "metadata": {},
   "source": [
    "### Example: 5"
   ]
  },
  {
   "cell_type": "markdown",
   "metadata": {},
   "source": [
    "Here we are examining whether a student's SAT score is a good predictor for the student's GPA freshman year.\n",
    "\n",
    "Therefore:\n",
    "\n",
    "* **SAT score** is the explanatory\n",
    "* **GPA of freshman year** is the response"
   ]
  },
  {
   "cell_type": "markdown",
   "metadata": {},
   "source": [
    "### Example: 7"
   ]
  },
  {
   "cell_type": "markdown",
   "metadata": {},
   "source": [
    "Here we are examining whether a person's outcome on the driving test (pass/fail) can be explained by the length of time this person has practiced driving prior to the test.\n",
    "\n",
    "Therefore:\n",
    "\n",
    "* **Time** is the explanatory\n",
    "* **Driving test outcome** is the response"
   ]
  },
  {
   "cell_type": "markdown",
   "metadata": {},
   "source": [
    "### Many Students Wonder ..."
   ]
  },
  {
   "cell_type": "markdown",
   "metadata": {},
   "source": [
    "**Question:** Is the role classification of variables always clear? In other words, is it always clear which of the variables is the explanatory and which is the response?\n",
    "\n",
    "**Answer:** No. There are studies in which the role classification is not really clear. This mainly happens in cases when both variables are categorical or both are quantitative. An example is a study that explores the relationship between students' SAT Math and SAT Verbal scores. In cases like this, any classification choice would be fine (as long as it is consistent throughout the analysis). "
   ]
  },
  {
   "cell_type": "markdown",
   "metadata": {},
   "source": [
    "## The Role-Type Classification"
   ]
  },
  {
   "cell_type": "markdown",
   "metadata": {},
   "source": [
    "If we further classify each of the two relevant variables according to type (categorical or quantitative), we get the following 4 possibilities for \"role-type classification\"\n",
    "\n",
    "* Categorical explanatory and quantitative response\n",
    "* Categorical explanatory and categorical response\n",
    "* Quantitative explanatory and quantitative response\n",
    "* Quantitative explanatory and categorical response\n",
    "\n",
    "This role-type classification can be summarized and easily visualized in the following table (note that the explanatory variable is always listed first):"
   ]
  },
  {
   "cell_type": "markdown",
   "metadata": {},
   "source": [
    "![image](../img/role_type.png)"
   ]
  },
  {
   "cell_type": "markdown",
   "metadata": {},
   "source": [
    "This role-type classification serves as the infrastructure for this entire section. In each of the 4 cases, different statistical tools (displays and numerical measures) should be used in order to explore the relationship between the two variables.\n",
    "\n",
    "This suggests the following important principle:\n",
    "\n",
    "**Principle**\n",
    "\n",
    "When confronted with a research question that involves exploring the relationship between two variables, the first and most crucial step is to determine which of the 4 cases represents the data structure of the problem. In other words, the first step should be classifying the two relevant variables according to their role and type, and only then can we determine what statistical tools should be used to analyze them.\n",
    "\n",
    "Now let's go back to our 8 examples and determine which of the 4 cases represents the data structure of each:"
   ]
  },
  {
   "cell_type": "markdown",
   "metadata": {},
   "source": [
    "### Example: 1"
   ]
  },
  {
   "cell_type": "markdown",
   "metadata": {},
   "source": [
    "* **Gender** is the **explanatory** variable and it is **categorical.**\n",
    "* **Test score** is the **response** variable and it is **quantitative.**\n",
    "\n",
    "Therefore this is an example of **case C→Q.**"
   ]
  },
  {
   "cell_type": "markdown",
   "metadata": {},
   "source": [
    "### Example: 3"
   ]
  },
  {
   "cell_type": "markdown",
   "metadata": {},
   "source": [
    "* **Light Type** is the **explanatory** variable and it is **categorical.**\n",
    "* **Nearsightedness** is the **response** variable and it is **categorical.**\n",
    "\n",
    "Therefore this is an example of **case C→C.**"
   ]
  },
  {
   "cell_type": "markdown",
   "metadata": {},
   "source": [
    "### Example: 5"
   ]
  },
  {
   "cell_type": "markdown",
   "metadata": {},
   "source": [
    "* **SAT Score** is the **explanatory** variable and it is **quantitative.**\n",
    "* **GPA of Freshman Year** is the **response** variable and it is **quantitative.**\n",
    "\n",
    "Therefore this is an example of **case Q→Q.**"
   ]
  },
  {
   "cell_type": "markdown",
   "metadata": {},
   "source": [
    "### Example: 7"
   ]
  },
  {
   "cell_type": "markdown",
   "metadata": {},
   "source": [
    "* **Time** is the **explanatory** variable and it is **quantitative.**\n",
    "* **Driving Test Outcome** is the **response** variable and it is **categorical.**\n",
    "\n",
    "Therefore this is an example of **case Q→C.**"
   ]
  },
  {
   "cell_type": "markdown",
   "metadata": {},
   "source": [
    "# Case C→Q: Introduction"
   ]
  },
  {
   "cell_type": "markdown",
   "metadata": {},
   "source": [
    "## Case C→Q: Categorical Explanatory Variable and Quantitative Response Variable"
   ]
  },
  {
   "cell_type": "markdown",
   "metadata": {},
   "source": [
    "Recall the role-type classification table for framing our discussion about the relationship between two variables:"
   ]
  },
  {
   "cell_type": "markdown",
   "metadata": {},
   "source": [
    "![image](../img/role_type2.png)"
   ]
  },
  {
   "cell_type": "markdown",
   "metadata": {},
   "source": [
    "We are now ready to start with Case C→Q, exploring the relationship between two variables where the explanatory variable is categorical, and the response variable is quantitative. As you'll discover, exploring relationships of this type is something we've already discussed in this course, but we didn't frame the discussion this way. "
   ]
  },
  {
   "cell_type": "markdown",
   "metadata": {},
   "source": [
    "### Example: Hot Dogs"
   ]
  },
  {
   "cell_type": "markdown",
   "metadata": {},
   "source": [
    "**Background:** \n",
    "People who are concerned about their health may prefer hot dogs that are low in calories. A study was conducted by a concerned health group in which 54 major hot dog brands were examined, and their calorie contents recorded. In addition, each brand was classified by type: beef, poultry, and meat (mostly pork and beef, but up to 15% poultry meat). The purpose of the study was to examine whether the number of calories a hot dog has is related to (or affected by) its type. (Reference: Moore, David S., and George P. McCabe (1989). Introduction to the Practice of Statistics. Original source: Consumer Reports, June 1986, pp. 366-367.)\n",
    "\n",
    "Answering this question requires us to examine the relationship between the categorical variable, Type and the quantitative variable Calories. Because the question of interest is whether the type of hot dog affects calorie content,\n",
    "\n",
    "the **explanatory** variable is **Type**, and\n",
    "\n",
    "the **response** variable is **Calories.**\n",
    "\n",
    "Here is what the raw data look like: "
   ]
  },
  {
   "cell_type": "markdown",
   "metadata": {},
   "source": [
    "![image](../img/hot_dog1.png)"
   ]
  },
  {
   "cell_type": "markdown",
   "metadata": {},
   "source": [
    "The raw data are a list of types and calorie contents, and are not very useful in that form. To explore how the number of calories is related to the type of hot dog, we need an informative visual display of the data that will compare the three types of hot dogs with respect to their calorie content.\n",
    "\n",
    "The visual display that we'll use is **side-by-side boxplots** (which we've seen before). The side-by-side boxplots will allow us to compare the distribution of calorie counts within each category of the explanatory variable, hot dog type:"
   ]
  },
  {
   "cell_type": "markdown",
   "metadata": {},
   "source": [
    "![image](../img/hot_dog2.png)"
   ]
  },
  {
   "cell_type": "markdown",
   "metadata": {},
   "source": [
    "As before, we supplement the side-by-side boxplots with the descriptive statistics of the calorie content (response) for each type of hot dog separately (i.e., for each level of the explanatory variable separately):"
   ]
  },
  {
   "cell_type": "markdown",
   "metadata": {},
   "source": [
    "![image](../img/hot_dogs3.png)"
   ]
  },
  {
   "cell_type": "markdown",
   "metadata": {},
   "source": [
    "Let's summarize the results we got and interpret them in the context of the question we posed:\n",
    "\n",
    "By examining the three side-by-side boxplots and the numerical summaries, we see at once that poultry hot dogs, as a group, contain fewer calories than those made of beef or meat. The median number of calories in poultry hot dogs (113) is less than the median (and even the first quartile) of either of the other two distributions (medians 152.5 and 153). The spread of the three distributions is about the same, if IQR is considered (all slightly above 40), but the (full) ranges vary slightly more (beef: 80, meat: 88, poultry: 66). The general recommendation to the health-conscious consumer is to eat poultry hot dogs. It should be noted, though, that since each of the three types of hot dogs shows quite a large spread among brands, simply buying a poultry hot dog does not guarantee a low-calorie food.\n",
    "\n",
    "What we learn from this example is that when exploring the relationship between a categorical explanatory variable and a quantitative response (Case C→Q), we essentially **compare the distributions of the quantitative response for each category of the explanatory variable** using side-by-side boxplots supplemented by descriptive statistics. Recall that we have actually done this before when we talked about the boxplot and argued that boxplots are most useful when presented side by side for comparing distributions of two or more groups. This is exactly what we are doing here!"
   ]
  },
  {
   "cell_type": "markdown",
   "metadata": {},
   "source": [
    "## Case C→Q: Applications"
   ]
  },
  {
   "cell_type": "markdown",
   "metadata": {},
   "source": [
    "### Example: SSHA"
   ]
  },
  {
   "cell_type": "markdown",
   "metadata": {},
   "source": [
    "The Survey of Study Habits and Attitudes (SSHA) is a psychological test designed to measure the motivation, study habits, and attitudes toward learning of college students. Is there a relationship between gender and SSHA scores? In other words, is there a \"gender effect\" on SSHA scores? Data were collected from 40 randomly selected college students, and here is what the raw data look like: "
   ]
  },
  {
   "cell_type": "markdown",
   "metadata": {},
   "source": [
    "![image](../img/ssha.png)"
   ]
  },
  {
   "cell_type": "markdown",
   "metadata": {},
   "source": [
    "Side-by-side boxplots supplemented by descriptive statistics allow us to compare the distribution of SSHA scores within each category of the explanatory variable—gender: "
   ]
  },
  {
   "cell_type": "markdown",
   "metadata": {},
   "source": [
    "![image](../img/ssha2.png)\n",
    "![image](../img/ssha3.png)"
   ]
  },
  {
   "cell_type": "markdown",
   "metadata": {},
   "source": [
    "### Learn By Doing\n",
    "In the following activities, let's explore the Survey of Study Habits and Attitudes (SSHA) to determine if there is there a \"gender effect\" on SSHA scores.  "
   ]
  },
  {
   "cell_type": "markdown",
   "metadata": {},
   "source": [
    "**Question-** Do females or males have a higher median SSHA score?\n",
    "* Females\n",
    "* Males"
   ]
  },
  {
   "cell_type": "markdown",
   "metadata": {},
   "source": [
    "**Your Answer-** "
   ]
  },
  {
   "cell_type": "markdown",
   "metadata": {},
   "source": [
    "**Question-** Do females or males have higher variability in SSHA scores?"
   ]
  },
  {
   "cell_type": "markdown",
   "metadata": {},
   "source": [
    "**Your Answer-** "
   ]
  },
  {
   "cell_type": "markdown",
   "metadata": {},
   "source": [
    "### Let's Summarize \n",
    "\n",
    "* The relationship between a categorical explanatory variable and a quantitative response variable is summarized using:\n",
    "    * Data display: side-by-side boxplots\n",
    "    * Numerical summaries: descriptive statistics\n",
    "* Exploring the relationship between a categorical explanatory variable and a quantitative response variable amounts to comparing the distributions of the quantitative response for each category of the explanatory variable. In particular, we look at how the distribution of the response variable differs between the values of the explanatory variable."
   ]
  },
  {
   "cell_type": "markdown",
   "metadata": {},
   "source": [
    "# Case C→C "
   ]
  },
  {
   "cell_type": "markdown",
   "metadata": {},
   "source": [
    "## Case C→C: Two-Way Tables"
   ]
  },
  {
   "cell_type": "markdown",
   "metadata": {},
   "source": [
    "### Case C→C: Two Categorical Variables"
   ]
  },
  {
   "cell_type": "markdown",
   "metadata": {},
   "source": [
    "Recall the role-type classification table for framing our discussion about the relationship between two variables:"
   ]
  },
  {
   "cell_type": "markdown",
   "metadata": {},
   "source": [
    "![image](../img/role_type3.png)"
   ]
  },
  {
   "cell_type": "markdown",
   "metadata": {},
   "source": [
    "We are done with case C→Q, and will now move on to case C→C, where we examine the relationship between two categorical variables.\n",
    "\n",
    "Earlier in the course, (when we discussed the distribution of a **single** categorical variable) we examined the data obtained when a random sample of 1,200 U.S. college students were asked about their body image (underweight, overweight, or about right.) We are now returning to this example, to address the following question:\n",
    "\n",
    "If we had separated our sample of 1,200 U.S. college students by gender and looked at **males and females** separately, would we have found a similar distribution across body-image categories? More specifically, are men and women just as likely to think their weight is about right? Among those students who do not think their weight is about right, is there a difference between the genders in feelings about body image?\n",
    "\n",
    "Answering these questions requires us to **examine the relationship between two categorical variables**, gender and body image. Because the question of interest is whether there is a gender effect on body image,\n",
    "\n",
    "* the **explanatory** variable is **gender**, and\n",
    "* the **response** variable is **body image**.\n",
    "\n",
    "Here is what the raw data look like when we include the gender of each student:"
   ]
  },
  {
   "cell_type": "markdown",
   "metadata": {},
   "source": [
    "![image](../img/gender_body1.png)"
   ]
  },
  {
   "cell_type": "markdown",
   "metadata": {},
   "source": [
    "Once again the raw data is a long list of 1,200 genders and responses, and thus not very useful in that form. To start our exploration of how body image is related to gender, we need an informative display that summarizes the data. In order to summarize the relationship between two categorical variables, we create a display called a **two-way table.**\n",
    "\n",
    "Here is the two-way table for our example:"
   ]
  },
  {
   "cell_type": "markdown",
   "metadata": {},
   "source": [
    "![image](../img/gender_body2.png)"
   ]
  },
  {
   "cell_type": "markdown",
   "metadata": {},
   "source": [
    "The table has the possible genders in the rows, and the possible responses regarding body image in the columns. At each intersection between row and column, we put the counts for how many times that combination of gender and body image occurred in the data. We sum across the rows to fill in the Total column, and we sum across the columns to fill in the Total row. "
   ]
  },
  {
   "cell_type": "markdown",
   "metadata": {},
   "source": [
    "### Learn By Doing"
   ]
  },
  {
   "cell_type": "markdown",
   "metadata": {},
   "source": [
    "**Question-** How many females in our sample feel that they are underweight?\n",
    "\n",
    "* 37 \n",
    "* 110\n",
    "* 163\n",
    "* 760"
   ]
  },
  {
   "cell_type": "markdown",
   "metadata": {},
   "source": [
    "**Your Answer-** "
   ]
  },
  {
   "cell_type": "markdown",
   "metadata": {},
   "source": [
    "**Question-** How many males in our sample feel that they are about right?\n",
    "\n",
    "* 295 \n",
    "* 440\n",
    "* 560\n",
    "* 855"
   ]
  },
  {
   "cell_type": "markdown",
   "metadata": {},
   "source": [
    "**Your answer-** "
   ]
  },
  {
   "cell_type": "markdown",
   "metadata": {},
   "source": [
    "**Question-** What is the total number of females in our sample?\n",
    "\n",
    "* 440\n",
    "* 560\n",
    "* 760 \n",
    "* 1200"
   ]
  },
  {
   "cell_type": "markdown",
   "metadata": {},
   "source": [
    "**Your Answer-** "
   ]
  },
  {
   "cell_type": "markdown",
   "metadata": {},
   "source": [
    "**Question-** What is the total number of students who feel they are overweight?\n",
    "* 110\n",
    "* 163\n",
    "* 235 \n",
    "* 1200 "
   ]
  },
  {
   "cell_type": "markdown",
   "metadata": {},
   "source": [
    "**Your Answer-** "
   ]
  },
  {
   "cell_type": "markdown",
   "metadata": {},
   "source": [
    "### Comment"
   ]
  },
  {
   "cell_type": "markdown",
   "metadata": {},
   "source": [
    "Note that from the way the two-way table is constructed, the Total row or column is a summary of one of the two categorical variables, ignoring the other. In our example:\n",
    "\n",
    "* The Total row gives the summary of the categorical variable body image:\n",
    "    \n",
    "![image](../img/gender_body3.png)\n",
    "\n",
    "(These are the same counts we got earlier in the course when we looked at the single categorical variable body image, and did not consider gender.)\n",
    "\n",
    "* The Total column gives the summary of the categorical variable gender:\n",
    "    \n",
    "![image](../img/gender_body4.png)\n",
    "\n",
    "\n"
   ]
  },
  {
   "cell_type": "markdown",
   "metadata": {},
   "source": [
    "## Case C→C: Conditional Percents"
   ]
  },
  {
   "cell_type": "markdown",
   "metadata": {},
   "source": [
    "So far, we have organized the raw data in a much more informative display—the two-way table:\n",
    "\n",
    "![image](../img/gender_body2.png)\n",
    "\n",
    "Remember, though, that our primary goal is to explore how body image is related to gender. Exploring the relationship between two categorical variables (in this case, body image and gender) amounts to comparing the distributions of the response variable (in this case, body image) across the different values of the explanatory variable (in this case, males and females):\n",
    "\n",
    "![image](../img/gender_body5.png)\n",
    "\n",
    "Note that it doesn't make sense to compare raw counts, because there are more females than males overall. So, for example, it is not very informative to say, \"There are 560 females who responded 'about right' compared to only 295 males,\" since the 560 females are out of a total of 760, and the 295 males are out of a total of only 440.\n",
    "\n",
    "We need to supplement our display, the two-way table, with some numerical summaries that will allow us to compare the distributions. These numerical summaries are found by simply **converting the counts to percentages within (or restricted to) each value of the explanatory variable separately.**\n",
    "\n",
    "In our example, we look at each gender separately and convert the counts to percentages **within that gender.** Let's start with females:\n",
    "\n",
    "![image](../img/gender_body6.png)\n",
    "\n",
    "Note that each count is converted to a percentage by dividing by the total number of females, 760. These numerical summaries are called conditional percentages, since we find them by \"conditioning\" on one of the genders.\n",
    "\n"
   ]
  },
  {
   "cell_type": "markdown",
   "metadata": {},
   "source": [
    "### Learn By Doing"
   ]
  },
  {
   "cell_type": "markdown",
   "metadata": {},
   "source": [
    "Now complete the table by computing the conditional percentages for the males.\n",
    "\n",
    "**Question-** What is the correct number for the cell indicated by the question mark?\n",
    "\n",
    "![image](../img/gender_body7.png)\n",
    "\n",
    "* 295/560 = 52.7%\n",
    "* 295/855 = 34.5%\n",
    "* 295/440 = 67% \n",
    "* 295/1200 = 24.6% "
   ]
  },
  {
   "cell_type": "markdown",
   "metadata": {},
   "source": [
    "**Your Answer-** "
   ]
  },
  {
   "cell_type": "markdown",
   "metadata": {},
   "source": [
    "Complete the table by computing the conditional percentages for the males.\n",
    "\n",
    "**Question-** What is the correct number for the cell indicated by the question mark?\n",
    "\n",
    "![image](../img/gender_body8.png)\n",
    "\n",
    "* 72/235 = 30.6%\n",
    "* 72/440 = 16.4% \n",
    "* 72/1200 = 6%\n",
    "* 72/163 = 44.2%"
   ]
  },
  {
   "cell_type": "markdown",
   "metadata": {},
   "source": [
    "**Your Answer-**"
   ]
  },
  {
   "cell_type": "markdown",
   "metadata": {},
   "source": [
    "Complete the table by computing the conditional percentages for the males.\n",
    "\n",
    "**Question-** What is the correct number for the cell indicated by the question mark?\n",
    "\n",
    "![image](../img/gender_body9.png)\n",
    "\n",
    "* 73/440 = 16.6% \n",
    "* 73/110 = 66.4%\n",
    "* 73/760 = 9.6%\n",
    "* 73/1200 = 6.1% \n",
    "\n"
   ]
  },
  {
   "cell_type": "markdown",
   "metadata": {},
   "source": [
    "**Your Answer-** "
   ]
  },
  {
   "cell_type": "markdown",
   "metadata": {},
   "source": [
    "Here is the completed table:"
   ]
  },
  {
   "cell_type": "markdown",
   "metadata": {},
   "source": [
    "![image](../img/gender_body10.png)"
   ]
  },
  {
   "cell_type": "markdown",
   "metadata": {},
   "source": [
    "### Comments"
   ]
  },
  {
   "cell_type": "markdown",
   "metadata": {},
   "source": [
    "1. In our example, we chose to organize the data with the explanatory variable gender in rows and the response variable body image in columns, and thus our conditional percentages were row percentages, calculated within each row separately. Similarly, if the explanatory variable happens to sit in columns and the response variable in rows, our conditional percentages will be column percentages, calculated within each column separately. For an example, see the \"Did I Get This?\" exercises below.\n",
    "\n",
    "2. Another way to visualize the conditional percentages, instead of in a table, is to use a double bar chart. This display is quite common in newspapers.\n",
    "\n",
    "![image](../img/gender_body11.png)\n",
    "\n",
    "Now that we have summarized the relationship between the categorical variables gender and body image, let's go back and interpret the results in the context of the questions that we posed.\n"
   ]
  },
  {
   "cell_type": "markdown",
   "metadata": {},
   "source": [
    "### Learn By Doing"
   ]
  },
  {
   "cell_type": "markdown",
   "metadata": {},
   "source": [
    "**Question-** The results suggest that the proportion of males who are happy with their body weight is _________ than among female students.\n",
    "\n",
    "* slightly greater\n",
    "* slightly less"
   ]
  },
  {
   "cell_type": "markdown",
   "metadata": {},
   "source": [
    "**Your Answer-** "
   ]
  },
  {
   "cell_type": "markdown",
   "metadata": {},
   "source": [
    "**Question-** Females who are not happy with their body weight more often feel they are __________ . \n",
    "\n",
    "* about right\n",
    "* overweight \n",
    "* underweight"
   ]
  },
  {
   "cell_type": "markdown",
   "metadata": {},
   "source": [
    "**Your Answer-** "
   ]
  },
  {
   "cell_type": "markdown",
   "metadata": {},
   "source": [
    "**Question-** Males who are not happy with their body weight feel they are overweight __________ they feel they are underweight. \n",
    "\n",
    "* about as often as \n",
    "* much more often than\n",
    "* much less often than"
   ]
  },
  {
   "cell_type": "markdown",
   "metadata": {},
   "source": [
    "**Your Answer-** "
   ]
  },
  {
   "cell_type": "markdown",
   "metadata": {},
   "source": [
    "### Scenario: Smoking Habits"
   ]
  },
  {
   "cell_type": "markdown",
   "metadata": {},
   "source": [
    "Suppose a study were done to answer the question: \"Is the smoking of students related to their parents' smoking habits?\" in which data were collected from 5,375 students and organized in the following two-way table: \n",
    "\n",
    "![image](../img/student_parent_smoking1.png)"
   ]
  },
  {
   "cell_type": "markdown",
   "metadata": {},
   "source": [
    "We would like to learn about the relationship between the two categorical variables \"parents' smoking\" and \"students' smoking.\" More specifically, we want to explore whether parents' smoking habits affect their children's smoking habits\n",
    "\n",
    "**Question-** In this situation, what is the explanatory variable?\n",
    "\n",
    "* students' smoking\n",
    "* parents' smoking"
   ]
  },
  {
   "cell_type": "markdown",
   "metadata": {},
   "source": [
    "**Your Answer-** "
   ]
  },
  {
   "cell_type": "markdown",
   "metadata": {},
   "source": [
    "**Question-** What is the response variable?\n",
    "\n",
    "* students' smoking \n",
    "* parents' smoking "
   ]
  },
  {
   "cell_type": "markdown",
   "metadata": {},
   "source": [
    "**Your Answer-** "
   ]
  },
  {
   "cell_type": "markdown",
   "metadata": {},
   "source": [
    "**Question-** Based on your answer to the question above, which of the following three tables is the appropriate table of conditional percentages with which to supplement the above contingency table?\n",
    "\n",
    "![image](../img/student_parent_smoking2.png)\n",
    "![image](../img/student_parent_smoking3.png)\n",
    "\n",
    "* Table A\n",
    "* Table B \n",
    "* Table C"
   ]
  },
  {
   "cell_type": "markdown",
   "metadata": {},
   "source": [
    "**Your Answer-** "
   ]
  },
  {
   "cell_type": "markdown",
   "metadata": {},
   "source": [
    "### Scenario: Night Lights"
   ]
  },
  {
   "cell_type": "markdown",
   "metadata": {},
   "source": [
    "An Associated Press article captured the attention of readers with the headline \"Night lights bad for kids?\" The article was based on a 1999 study at the University of Pennsylvania and Children's Hospital of Philadelphia, in which parents were surveyed about the lighting conditions under which their children slept between birth and age 2 (lamp, night-light, or no light) and whether or not their children developed nearsightedness (myopia). The purpose of the study was to explore the effect of a young child's nighttime exposure to light on later nearsightedness. There were 479 subjects included in the study.  \n",
    "\n",
    "A summary of the two-way table is below.\n",
    "\n",
    "![image](../img/night_lights1.png)"
   ]
  },
  {
   "cell_type": "markdown",
   "metadata": {},
   "source": [
    "**Question-** How many children were exposed to no light at all?\n",
    "\n",
    "* 137\n",
    "* 172 \n",
    "* 232\n",
    "* 342 "
   ]
  },
  {
   "cell_type": "markdown",
   "metadata": {},
   "source": [
    "**Your Answer-** "
   ]
  },
  {
   "cell_type": "markdown",
   "metadata": {},
   "source": [
    "**Question-** Among the children who were exposed to no light at all, what percentage developed nearsightedness?\n",
    "\n",
    "* 9.88 \n",
    "* 34.05\n",
    "* 45.33\n",
    "* 90.12 "
   ]
  },
  {
   "cell_type": "markdown",
   "metadata": {},
   "source": [
    "**Your Answer-** "
   ]
  },
  {
   "cell_type": "markdown",
   "metadata": {},
   "source": [
    "**Question-** Among the children who slept with a lamp, what percentage developed nearsightedness?\n",
    "\n",
    "* 9.88\n",
    "* 45.33\n",
    "* 54.67 \n",
    "* 65.95 "
   ]
  },
  {
   "cell_type": "markdown",
   "metadata": {},
   "source": [
    "**Your Answer-** "
   ]
  },
  {
   "cell_type": "markdown",
   "metadata": {},
   "source": [
    "### Let's Summarize\n",
    "\n",
    "* The relationship between two categorical variables is summarized using:\n",
    "    * **Data display:** two-way table, supplemented by\n",
    "    * **Numerical summaries:** conditional percentages.\n",
    "\n",
    "* Conditional percentages are calculated for each value of the explanatory variable separately. They can be row percents, if the explanatory variable \"sits\" in the rows, or column percents, if the explanatory variable \"sits\" in the columns.\n",
    "\n",
    "* When we try to understand the relationship between two categorical variables, we compare the distributions of the response variable for values of the explanatory variable. In particular, we look at how the pattern of conditional percentages differs between the values of the explanatory variable. "
   ]
  },
  {
   "cell_type": "markdown",
   "metadata": {},
   "source": [
    "## Exercise: Building A Two-Way Table"
   ]
  },
  {
   "cell_type": "markdown",
   "metadata": {},
   "source": [
    "An Associated Press article captured the attention of readers with the headline \"Night lights bad for kids?\" The article was based on a 1999 study at the University of Pennsylvania and Children's Hospital of Philadelphia, in which parents were surveyed about the lighting conditions under which their children slept between birth and age 2 (lamp, night-light, or no light) and whether or not their children developed nearsightedness (myopia). The purpose of the study was to explore the effect of a young child's nighttime exposure to light on later nearsightedness.\n",
    "\n",
    "In this activity, we will use the collected data to:\n",
    "\n",
    "* learn how to build a two-way table and compute conditional percentages.\n",
    "* interpret the data in terms of the relationship between a young child's nighttime exposure to light and later nearsightedness."
   ]
  },
  {
   "cell_type": "code",
   "execution_count": 2,
   "metadata": {},
   "outputs": [],
   "source": [
    "nightlight = pd.read_excel('../Data/nightlight.xls')"
   ]
  },
  {
   "cell_type": "code",
   "execution_count": 3,
   "metadata": {},
   "outputs": [
    {
     "data": {
      "text/html": [
       "<div>\n",
       "<style scoped>\n",
       "    .dataframe tbody tr th:only-of-type {\n",
       "        vertical-align: middle;\n",
       "    }\n",
       "\n",
       "    .dataframe tbody tr th {\n",
       "        vertical-align: top;\n",
       "    }\n",
       "\n",
       "    .dataframe thead th {\n",
       "        text-align: right;\n",
       "    }\n",
       "</style>\n",
       "<table border=\"1\" class=\"dataframe\">\n",
       "  <thead>\n",
       "    <tr style=\"text-align: right;\">\n",
       "      <th></th>\n",
       "      <th>Light</th>\n",
       "      <th>Nearsightedness</th>\n",
       "    </tr>\n",
       "  </thead>\n",
       "  <tbody>\n",
       "    <tr>\n",
       "      <th>0</th>\n",
       "      <td>no light</td>\n",
       "      <td>No</td>\n",
       "    </tr>\n",
       "    <tr>\n",
       "      <th>1</th>\n",
       "      <td>night light</td>\n",
       "      <td>No</td>\n",
       "    </tr>\n",
       "    <tr>\n",
       "      <th>2</th>\n",
       "      <td>lamp</td>\n",
       "      <td>No</td>\n",
       "    </tr>\n",
       "    <tr>\n",
       "      <th>3</th>\n",
       "      <td>no light</td>\n",
       "      <td>No</td>\n",
       "    </tr>\n",
       "    <tr>\n",
       "      <th>4</th>\n",
       "      <td>no light</td>\n",
       "      <td>No</td>\n",
       "    </tr>\n",
       "  </tbody>\n",
       "</table>\n",
       "</div>"
      ],
      "text/plain": [
       "         Light Nearsightedness\n",
       "0     no light              No\n",
       "1  night light              No\n",
       "2         lamp              No\n",
       "3     no light              No\n",
       "4     no light              No"
      ]
     },
     "execution_count": 3,
     "metadata": {},
     "output_type": "execute_result"
    }
   ],
   "source": [
    "nightlight.head()"
   ]
  },
  {
   "cell_type": "code",
   "execution_count": 4,
   "metadata": {},
   "outputs": [
    {
     "data": {
      "text/plain": [
       "Light              0\n",
       "Nearsightedness    0\n",
       "dtype: int64"
      ]
     },
     "execution_count": 4,
     "metadata": {},
     "output_type": "execute_result"
    }
   ],
   "source": [
    "nightlight.isnull().sum()"
   ]
  },
  {
   "cell_type": "code",
   "execution_count": 5,
   "metadata": {},
   "outputs": [
    {
     "data": {
      "text/html": [
       "<div>\n",
       "<style scoped>\n",
       "    .dataframe tbody tr th:only-of-type {\n",
       "        vertical-align: middle;\n",
       "    }\n",
       "\n",
       "    .dataframe tbody tr th {\n",
       "        vertical-align: top;\n",
       "    }\n",
       "\n",
       "    .dataframe thead th {\n",
       "        text-align: right;\n",
       "    }\n",
       "</style>\n",
       "<table border=\"1\" class=\"dataframe\">\n",
       "  <thead>\n",
       "    <tr style=\"text-align: right;\">\n",
       "      <th>Nearsightedness</th>\n",
       "      <th>No</th>\n",
       "      <th>Yes</th>\n",
       "    </tr>\n",
       "    <tr>\n",
       "      <th>Light</th>\n",
       "      <th></th>\n",
       "      <th></th>\n",
       "    </tr>\n",
       "  </thead>\n",
       "  <tbody>\n",
       "    <tr>\n",
       "      <th>lamp</th>\n",
       "      <td>34</td>\n",
       "      <td>41</td>\n",
       "    </tr>\n",
       "    <tr>\n",
       "      <th>night light</th>\n",
       "      <td>153</td>\n",
       "      <td>79</td>\n",
       "    </tr>\n",
       "    <tr>\n",
       "      <th>no light</th>\n",
       "      <td>155</td>\n",
       "      <td>17</td>\n",
       "    </tr>\n",
       "  </tbody>\n",
       "</table>\n",
       "</div>"
      ],
      "text/plain": [
       "Nearsightedness   No  Yes\n",
       "Light                    \n",
       "lamp              34   41\n",
       "night light      153   79\n",
       "no light         155   17"
      ]
     },
     "execution_count": 5,
     "metadata": {},
     "output_type": "execute_result"
    }
   ],
   "source": [
    "# To create a two-way table we can use the pandas pivot_table function\n",
    "nightlight_pivot = nightlight.pivot_table(index='Light', columns='Nearsightedness',\n",
    "                                         aggfunc='size')\n",
    "nightlight_pivot"
   ]
  },
  {
   "cell_type": "code",
   "execution_count": 6,
   "metadata": {},
   "outputs": [
    {
     "data": {
      "text/html": [
       "<div>\n",
       "<style scoped>\n",
       "    .dataframe tbody tr th:only-of-type {\n",
       "        vertical-align: middle;\n",
       "    }\n",
       "\n",
       "    .dataframe tbody tr th {\n",
       "        vertical-align: top;\n",
       "    }\n",
       "\n",
       "    .dataframe thead th {\n",
       "        text-align: right;\n",
       "    }\n",
       "</style>\n",
       "<table border=\"1\" class=\"dataframe\">\n",
       "  <thead>\n",
       "    <tr style=\"text-align: right;\">\n",
       "      <th>Nearsightedness</th>\n",
       "      <th>No</th>\n",
       "      <th>Yes</th>\n",
       "    </tr>\n",
       "    <tr>\n",
       "      <th>Light</th>\n",
       "      <th></th>\n",
       "      <th></th>\n",
       "    </tr>\n",
       "  </thead>\n",
       "  <tbody>\n",
       "    <tr>\n",
       "      <th>lamp</th>\n",
       "      <td>45.33</td>\n",
       "      <td>54.67</td>\n",
       "    </tr>\n",
       "    <tr>\n",
       "      <th>night light</th>\n",
       "      <td>65.95</td>\n",
       "      <td>34.05</td>\n",
       "    </tr>\n",
       "    <tr>\n",
       "      <th>no light</th>\n",
       "      <td>90.12</td>\n",
       "      <td>9.88</td>\n",
       "    </tr>\n",
       "  </tbody>\n",
       "</table>\n",
       "</div>"
      ],
      "text/plain": [
       "Nearsightedness     No    Yes\n",
       "Light                        \n",
       "lamp             45.33  54.67\n",
       "night light      65.95  34.05\n",
       "no light         90.12   9.88"
      ]
     },
     "execution_count": 6,
     "metadata": {},
     "output_type": "execute_result"
    }
   ],
   "source": [
    "# to calculate the conditional percentages, we can use apply function in pandas\n",
    "\n",
    "nightlight_cond_percent = nightlight_pivot.apply(lambda x: round(x/ nightlight_pivot.sum(axis=1)*100, 2))\n",
    "nightlight_cond_percent"
   ]
  },
  {
   "cell_type": "markdown",
   "metadata": {},
   "source": [
    "Here we are using anonymous function lambda. We are taking each values from a row, divide it by the sum of all the values in that row by specifying axis=1. Axis=1 tells pandas to do row wise calculation. And then multiplying the \n",
    "result by 100. And at last we are rounding the values to two decimal places."
   ]
  },
  {
   "cell_type": "code",
   "execution_count": 7,
   "metadata": {},
   "outputs": [
    {
     "data": {
      "image/png": "[encoded data removed]",
      "text/plain": [
       "<Figure size 432x288 with 1 Axes>"
      ]
     },
     "metadata": {
      "needs_background": "light"
     },
     "output_type": "display_data"
    }
   ],
   "source": [
    "# To display the data we will use the grouped bar chart\n",
    "nightlight_cond_percent.plot.bar();"
   ]
  },
  {
   "cell_type": "markdown",
   "metadata": {},
   "source": [
    "**Question-** Compare the distribution of nearsightedness between those exposed to lamp light, a night-light, or no light at all. What do the conditional percentages derived from the data suggest about the relationship between early nighttime exposure to light and later myopia? Should parents worry about using night-lights and lamps with young children?"
   ]
  },
  {
   "cell_type": "markdown",
   "metadata": {},
   "source": [
    "**Your Answer-** "
   ]
  },
  {
   "cell_type": "code",
   "execution_count": null,
   "metadata": {},
   "outputs": [],
   "source": []
  }
 ],
 "metadata": {
  "kernelspec": {
   "display_name": "Python 3",
   "language": "python",
   "name": "python3"
  },
  "language_info": {
   "codemirror_mode": {
    "name": "ipython",
    "version": 3
   },
   "file_extension": ".py",
   "mimetype": "text/x-python",
   "name": "python",
   "nbconvert_exporter": "python",
   "pygments_lexer": "ipython3",
   "version": "3.7.6"
  },
  "varInspector": {
   "cols": {
    "lenName": 16,
    "lenType": 16,
    "lenVar": 40
   },
   "kernels_config": {
    "python": {
     "delete_cmd_postfix": "",
     "delete_cmd_prefix": "del ",
     "library": "var_list.py",
     "varRefreshCmd": "print(var_dic_list())"
    },
    "r": {
     "delete_cmd_postfix": ") ",
     "delete_cmd_prefix": "rm(",
     "library": "var_list.r",
     "varRefreshCmd": "cat(var_dic_list()) "
    }
   },
   "types_to_exclude": [
    "module",
    "function",
    "builtin_function_or_method",
    "instance",
    "_Feature"
   ],
   "window_display": false
  }
 },
 "nbformat": 4,
 "nbformat_minor": 2
}
