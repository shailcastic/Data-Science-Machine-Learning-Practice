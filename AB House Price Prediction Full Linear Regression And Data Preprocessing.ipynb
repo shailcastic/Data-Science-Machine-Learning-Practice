{
 "cells": [
  {
   "cell_type": "code",
   "execution_count": 1,
   "metadata": {},
   "outputs": [],
   "source": [
    "import os\n",
    "os.chdir('C:\\\\Users\\\\SHAILESH TIWARI\\\\Python Files\\\\DataSources')"
   ]
  },
  {
   "cell_type": "code",
   "execution_count": 2,
   "metadata": {},
   "outputs": [],
   "source": [
    "import pandas as pd\n",
    "import seaborn as sns\n",
    "import numpy as np\n",
    "import matplotlib.pyplot as plt"
   ]
  },
  {
   "cell_type": "code",
   "execution_count": 3,
   "metadata": {},
   "outputs": [],
   "source": [
    "data=pd.read_csv(\"House Price.csv\")"
   ]
  },
  {
   "cell_type": "code",
   "execution_count": 4,
   "metadata": {},
   "outputs": [
    {
     "data": {
      "text/html": [
       "<div>\n",
       "<style scoped>\n",
       "    .dataframe tbody tr th:only-of-type {\n",
       "        vertical-align: middle;\n",
       "    }\n",
       "\n",
       "    .dataframe tbody tr th {\n",
       "        vertical-align: top;\n",
       "    }\n",
       "\n",
       "    .dataframe thead th {\n",
       "        text-align: right;\n",
       "    }\n",
       "</style>\n",
       "<table border=\"1\" class=\"dataframe\">\n",
       "  <thead>\n",
       "    <tr style=\"text-align: right;\">\n",
       "      <th></th>\n",
       "      <th>Id</th>\n",
       "      <th>LotFrontage</th>\n",
       "      <th>LotArea</th>\n",
       "      <th>Alley</th>\n",
       "      <th>MasVnrArea</th>\n",
       "      <th>1stFlrSF</th>\n",
       "      <th>2ndFlrSF</th>\n",
       "      <th>GrLivArea</th>\n",
       "      <th>GarageType</th>\n",
       "      <th>GarageArea</th>\n",
       "      <th>SalePrice</th>\n",
       "    </tr>\n",
       "  </thead>\n",
       "  <tbody>\n",
       "    <tr>\n",
       "      <th>0</th>\n",
       "      <td>1</td>\n",
       "      <td>65.0</td>\n",
       "      <td>8450</td>\n",
       "      <td>NaN</td>\n",
       "      <td>196.0</td>\n",
       "      <td>856</td>\n",
       "      <td>854</td>\n",
       "      <td>1710</td>\n",
       "      <td>Attchd</td>\n",
       "      <td>548</td>\n",
       "      <td>208500</td>\n",
       "    </tr>\n",
       "    <tr>\n",
       "      <th>1</th>\n",
       "      <td>2</td>\n",
       "      <td>80.0</td>\n",
       "      <td>9600</td>\n",
       "      <td>NaN</td>\n",
       "      <td>0.0</td>\n",
       "      <td>1262</td>\n",
       "      <td>0</td>\n",
       "      <td>1262</td>\n",
       "      <td>Attchd</td>\n",
       "      <td>460</td>\n",
       "      <td>181500</td>\n",
       "    </tr>\n",
       "    <tr>\n",
       "      <th>2</th>\n",
       "      <td>3</td>\n",
       "      <td>68.0</td>\n",
       "      <td>11250</td>\n",
       "      <td>NaN</td>\n",
       "      <td>162.0</td>\n",
       "      <td>920</td>\n",
       "      <td>866</td>\n",
       "      <td>1786</td>\n",
       "      <td>Attchd</td>\n",
       "      <td>608</td>\n",
       "      <td>223500</td>\n",
       "    </tr>\n",
       "    <tr>\n",
       "      <th>3</th>\n",
       "      <td>4</td>\n",
       "      <td>60.0</td>\n",
       "      <td>9550</td>\n",
       "      <td>NaN</td>\n",
       "      <td>0.0</td>\n",
       "      <td>961</td>\n",
       "      <td>756</td>\n",
       "      <td>1717</td>\n",
       "      <td>Detchd</td>\n",
       "      <td>642</td>\n",
       "      <td>140000</td>\n",
       "    </tr>\n",
       "    <tr>\n",
       "      <th>4</th>\n",
       "      <td>5</td>\n",
       "      <td>84.0</td>\n",
       "      <td>14260</td>\n",
       "      <td>NaN</td>\n",
       "      <td>350.0</td>\n",
       "      <td>1145</td>\n",
       "      <td>1053</td>\n",
       "      <td>2198</td>\n",
       "      <td>Attchd</td>\n",
       "      <td>836</td>\n",
       "      <td>250000</td>\n",
       "    </tr>\n",
       "  </tbody>\n",
       "</table>\n",
       "</div>"
      ],
      "text/plain": [
       "   Id  LotFrontage  LotArea Alley  MasVnrArea  1stFlrSF  2ndFlrSF  GrLivArea  \\\n",
       "0   1         65.0     8450   NaN       196.0       856       854       1710   \n",
       "1   2         80.0     9600   NaN         0.0      1262         0       1262   \n",
       "2   3         68.0    11250   NaN       162.0       920       866       1786   \n",
       "3   4         60.0     9550   NaN         0.0       961       756       1717   \n",
       "4   5         84.0    14260   NaN       350.0      1145      1053       2198   \n",
       "\n",
       "  GarageType  GarageArea  SalePrice  \n",
       "0     Attchd         548     208500  \n",
       "1     Attchd         460     181500  \n",
       "2     Attchd         608     223500  \n",
       "3     Detchd         642     140000  \n",
       "4     Attchd         836     250000  "
      ]
     },
     "execution_count": 4,
     "metadata": {},
     "output_type": "execute_result"
    }
   ],
   "source": [
    "data.head()"
   ]
  },
  {
   "cell_type": "code",
   "execution_count": 5,
   "metadata": {},
   "outputs": [
    {
     "data": {
      "text/html": [
       "<div>\n",
       "<style scoped>\n",
       "    .dataframe tbody tr th:only-of-type {\n",
       "        vertical-align: middle;\n",
       "    }\n",
       "\n",
       "    .dataframe tbody tr th {\n",
       "        vertical-align: top;\n",
       "    }\n",
       "\n",
       "    .dataframe thead th {\n",
       "        text-align: right;\n",
       "    }\n",
       "</style>\n",
       "<table border=\"1\" class=\"dataframe\">\n",
       "  <thead>\n",
       "    <tr style=\"text-align: right;\">\n",
       "      <th></th>\n",
       "      <th>Id</th>\n",
       "      <th>LotFrontage</th>\n",
       "      <th>LotArea</th>\n",
       "      <th>Alley</th>\n",
       "      <th>MasVnrArea</th>\n",
       "      <th>1stFlrSF</th>\n",
       "      <th>2ndFlrSF</th>\n",
       "      <th>GrLivArea</th>\n",
       "      <th>GarageType</th>\n",
       "      <th>GarageArea</th>\n",
       "      <th>SalePrice</th>\n",
       "    </tr>\n",
       "  </thead>\n",
       "  <tbody>\n",
       "    <tr>\n",
       "      <th>1455</th>\n",
       "      <td>1456</td>\n",
       "      <td>62.0</td>\n",
       "      <td>7917</td>\n",
       "      <td>NaN</td>\n",
       "      <td>0.0</td>\n",
       "      <td>953</td>\n",
       "      <td>694</td>\n",
       "      <td>1647</td>\n",
       "      <td>Attchd</td>\n",
       "      <td>460</td>\n",
       "      <td>175000</td>\n",
       "    </tr>\n",
       "    <tr>\n",
       "      <th>1456</th>\n",
       "      <td>1457</td>\n",
       "      <td>85.0</td>\n",
       "      <td>13175</td>\n",
       "      <td>NaN</td>\n",
       "      <td>119.0</td>\n",
       "      <td>2073</td>\n",
       "      <td>0</td>\n",
       "      <td>2073</td>\n",
       "      <td>Attchd</td>\n",
       "      <td>500</td>\n",
       "      <td>210000</td>\n",
       "    </tr>\n",
       "    <tr>\n",
       "      <th>1457</th>\n",
       "      <td>1458</td>\n",
       "      <td>66.0</td>\n",
       "      <td>9042</td>\n",
       "      <td>NaN</td>\n",
       "      <td>0.0</td>\n",
       "      <td>1188</td>\n",
       "      <td>1152</td>\n",
       "      <td>2340</td>\n",
       "      <td>Attchd</td>\n",
       "      <td>252</td>\n",
       "      <td>266500</td>\n",
       "    </tr>\n",
       "    <tr>\n",
       "      <th>1458</th>\n",
       "      <td>1459</td>\n",
       "      <td>68.0</td>\n",
       "      <td>9717</td>\n",
       "      <td>NaN</td>\n",
       "      <td>0.0</td>\n",
       "      <td>1078</td>\n",
       "      <td>0</td>\n",
       "      <td>1078</td>\n",
       "      <td>Attchd</td>\n",
       "      <td>240</td>\n",
       "      <td>142125</td>\n",
       "    </tr>\n",
       "    <tr>\n",
       "      <th>1459</th>\n",
       "      <td>1460</td>\n",
       "      <td>75.0</td>\n",
       "      <td>9937</td>\n",
       "      <td>NaN</td>\n",
       "      <td>0.0</td>\n",
       "      <td>1256</td>\n",
       "      <td>0</td>\n",
       "      <td>1256</td>\n",
       "      <td>Attchd</td>\n",
       "      <td>276</td>\n",
       "      <td>147500</td>\n",
       "    </tr>\n",
       "  </tbody>\n",
       "</table>\n",
       "</div>"
      ],
      "text/plain": [
       "        Id  LotFrontage  LotArea Alley  MasVnrArea  1stFlrSF  2ndFlrSF  \\\n",
       "1455  1456         62.0     7917   NaN         0.0       953       694   \n",
       "1456  1457         85.0    13175   NaN       119.0      2073         0   \n",
       "1457  1458         66.0     9042   NaN         0.0      1188      1152   \n",
       "1458  1459         68.0     9717   NaN         0.0      1078         0   \n",
       "1459  1460         75.0     9937   NaN         0.0      1256         0   \n",
       "\n",
       "      GrLivArea GarageType  GarageArea  SalePrice  \n",
       "1455       1647     Attchd         460     175000  \n",
       "1456       2073     Attchd         500     210000  \n",
       "1457       2340     Attchd         252     266500  \n",
       "1458       1078     Attchd         240     142125  \n",
       "1459       1256     Attchd         276     147500  "
      ]
     },
     "execution_count": 5,
     "metadata": {},
     "output_type": "execute_result"
    }
   ],
   "source": [
    "data.tail()"
   ]
  },
  {
   "cell_type": "code",
   "execution_count": 6,
   "metadata": {},
   "outputs": [
    {
     "data": {
      "text/plain": [
       "Index(['Id', 'LotFrontage', 'LotArea', 'Alley', 'MasVnrArea', '1stFlrSF',\n",
       "       '2ndFlrSF', 'GrLivArea', 'GarageType', 'GarageArea', 'SalePrice'],\n",
       "      dtype='object')"
      ]
     },
     "execution_count": 6,
     "metadata": {},
     "output_type": "execute_result"
    }
   ],
   "source": [
    "data.columns"
   ]
  },
  {
   "cell_type": "code",
   "execution_count": 7,
   "metadata": {},
   "outputs": [
    {
     "data": {
      "text/plain": [
       "(1460, 11)"
      ]
     },
     "execution_count": 7,
     "metadata": {},
     "output_type": "execute_result"
    }
   ],
   "source": [
    "data.shape"
   ]
  },
  {
   "cell_type": "code",
   "execution_count": 8,
   "metadata": {},
   "outputs": [
    {
     "data": {
      "text/plain": [
       "Id                0\n",
       "LotFrontage     259\n",
       "LotArea           0\n",
       "Alley          1369\n",
       "MasVnrArea        8\n",
       "1stFlrSF          0\n",
       "2ndFlrSF          0\n",
       "GrLivArea         0\n",
       "GarageType       81\n",
       "GarageArea        0\n",
       "SalePrice         0\n",
       "dtype: int64"
      ]
     },
     "execution_count": 8,
     "metadata": {},
     "output_type": "execute_result"
    }
   ],
   "source": [
    "data.isnull().sum()"
   ]
  },
  {
   "cell_type": "code",
   "execution_count": 9,
   "metadata": {},
   "outputs": [
    {
     "name": "stdout",
     "output_type": "stream",
     "text": [
      "<class 'pandas.core.frame.DataFrame'>\n",
      "RangeIndex: 1460 entries, 0 to 1459\n",
      "Data columns (total 11 columns):\n",
      " #   Column       Non-Null Count  Dtype  \n",
      "---  ------       --------------  -----  \n",
      " 0   Id           1460 non-null   int64  \n",
      " 1   LotFrontage  1201 non-null   float64\n",
      " 2   LotArea      1460 non-null   int64  \n",
      " 3   Alley        91 non-null     object \n",
      " 4   MasVnrArea   1452 non-null   float64\n",
      " 5   1stFlrSF     1460 non-null   int64  \n",
      " 6   2ndFlrSF     1460 non-null   int64  \n",
      " 7   GrLivArea    1460 non-null   int64  \n",
      " 8   GarageType   1379 non-null   object \n",
      " 9   GarageArea   1460 non-null   int64  \n",
      " 10  SalePrice    1460 non-null   int64  \n",
      "dtypes: float64(2), int64(7), object(2)\n",
      "memory usage: 125.6+ KB\n"
     ]
    }
   ],
   "source": [
    "data.info()"
   ]
  },
  {
   "cell_type": "code",
   "execution_count": 10,
   "metadata": {},
   "outputs": [
    {
     "data": {
      "text/html": [
       "<div>\n",
       "<style scoped>\n",
       "    .dataframe tbody tr th:only-of-type {\n",
       "        vertical-align: middle;\n",
       "    }\n",
       "\n",
       "    .dataframe tbody tr th {\n",
       "        vertical-align: top;\n",
       "    }\n",
       "\n",
       "    .dataframe thead th {\n",
       "        text-align: right;\n",
       "    }\n",
       "</style>\n",
       "<table border=\"1\" class=\"dataframe\">\n",
       "  <thead>\n",
       "    <tr style=\"text-align: right;\">\n",
       "      <th></th>\n",
       "      <th>Id</th>\n",
       "      <th>LotFrontage</th>\n",
       "      <th>LotArea</th>\n",
       "      <th>MasVnrArea</th>\n",
       "      <th>1stFlrSF</th>\n",
       "      <th>2ndFlrSF</th>\n",
       "      <th>GrLivArea</th>\n",
       "      <th>GarageArea</th>\n",
       "      <th>SalePrice</th>\n",
       "    </tr>\n",
       "  </thead>\n",
       "  <tbody>\n",
       "    <tr>\n",
       "      <th>count</th>\n",
       "      <td>1460.000000</td>\n",
       "      <td>1201.000000</td>\n",
       "      <td>1460.000000</td>\n",
       "      <td>1452.000000</td>\n",
       "      <td>1460.000000</td>\n",
       "      <td>1460.000000</td>\n",
       "      <td>1460.000000</td>\n",
       "      <td>1460.000000</td>\n",
       "      <td>1460.000000</td>\n",
       "    </tr>\n",
       "    <tr>\n",
       "      <th>mean</th>\n",
       "      <td>730.500000</td>\n",
       "      <td>70.049958</td>\n",
       "      <td>10516.828082</td>\n",
       "      <td>103.685262</td>\n",
       "      <td>1162.626712</td>\n",
       "      <td>346.992466</td>\n",
       "      <td>1515.463699</td>\n",
       "      <td>472.980137</td>\n",
       "      <td>180921.195890</td>\n",
       "    </tr>\n",
       "    <tr>\n",
       "      <th>std</th>\n",
       "      <td>421.610009</td>\n",
       "      <td>24.284752</td>\n",
       "      <td>9981.264932</td>\n",
       "      <td>181.066207</td>\n",
       "      <td>386.587738</td>\n",
       "      <td>436.528436</td>\n",
       "      <td>525.480383</td>\n",
       "      <td>213.804841</td>\n",
       "      <td>79442.502883</td>\n",
       "    </tr>\n",
       "    <tr>\n",
       "      <th>min</th>\n",
       "      <td>1.000000</td>\n",
       "      <td>21.000000</td>\n",
       "      <td>1300.000000</td>\n",
       "      <td>0.000000</td>\n",
       "      <td>334.000000</td>\n",
       "      <td>0.000000</td>\n",
       "      <td>334.000000</td>\n",
       "      <td>0.000000</td>\n",
       "      <td>34900.000000</td>\n",
       "    </tr>\n",
       "    <tr>\n",
       "      <th>25%</th>\n",
       "      <td>365.750000</td>\n",
       "      <td>59.000000</td>\n",
       "      <td>7553.500000</td>\n",
       "      <td>0.000000</td>\n",
       "      <td>882.000000</td>\n",
       "      <td>0.000000</td>\n",
       "      <td>1129.500000</td>\n",
       "      <td>334.500000</td>\n",
       "      <td>129975.000000</td>\n",
       "    </tr>\n",
       "    <tr>\n",
       "      <th>50%</th>\n",
       "      <td>730.500000</td>\n",
       "      <td>69.000000</td>\n",
       "      <td>9478.500000</td>\n",
       "      <td>0.000000</td>\n",
       "      <td>1087.000000</td>\n",
       "      <td>0.000000</td>\n",
       "      <td>1464.000000</td>\n",
       "      <td>480.000000</td>\n",
       "      <td>163000.000000</td>\n",
       "    </tr>\n",
       "    <tr>\n",
       "      <th>75%</th>\n",
       "      <td>1095.250000</td>\n",
       "      <td>80.000000</td>\n",
       "      <td>11601.500000</td>\n",
       "      <td>166.000000</td>\n",
       "      <td>1391.250000</td>\n",
       "      <td>728.000000</td>\n",
       "      <td>1776.750000</td>\n",
       "      <td>576.000000</td>\n",
       "      <td>214000.000000</td>\n",
       "    </tr>\n",
       "    <tr>\n",
       "      <th>max</th>\n",
       "      <td>1460.000000</td>\n",
       "      <td>313.000000</td>\n",
       "      <td>215245.000000</td>\n",
       "      <td>1600.000000</td>\n",
       "      <td>4692.000000</td>\n",
       "      <td>2065.000000</td>\n",
       "      <td>5642.000000</td>\n",
       "      <td>1418.000000</td>\n",
       "      <td>755000.000000</td>\n",
       "    </tr>\n",
       "  </tbody>\n",
       "</table>\n",
       "</div>"
      ],
      "text/plain": [
       "                Id  LotFrontage        LotArea   MasVnrArea     1stFlrSF  \\\n",
       "count  1460.000000  1201.000000    1460.000000  1452.000000  1460.000000   \n",
       "mean    730.500000    70.049958   10516.828082   103.685262  1162.626712   \n",
       "std     421.610009    24.284752    9981.264932   181.066207   386.587738   \n",
       "min       1.000000    21.000000    1300.000000     0.000000   334.000000   \n",
       "25%     365.750000    59.000000    7553.500000     0.000000   882.000000   \n",
       "50%     730.500000    69.000000    9478.500000     0.000000  1087.000000   \n",
       "75%    1095.250000    80.000000   11601.500000   166.000000  1391.250000   \n",
       "max    1460.000000   313.000000  215245.000000  1600.000000  4692.000000   \n",
       "\n",
       "          2ndFlrSF    GrLivArea   GarageArea      SalePrice  \n",
       "count  1460.000000  1460.000000  1460.000000    1460.000000  \n",
       "mean    346.992466  1515.463699   472.980137  180921.195890  \n",
       "std     436.528436   525.480383   213.804841   79442.502883  \n",
       "min       0.000000   334.000000     0.000000   34900.000000  \n",
       "25%       0.000000  1129.500000   334.500000  129975.000000  \n",
       "50%       0.000000  1464.000000   480.000000  163000.000000  \n",
       "75%     728.000000  1776.750000   576.000000  214000.000000  \n",
       "max    2065.000000  5642.000000  1418.000000  755000.000000  "
      ]
     },
     "execution_count": 10,
     "metadata": {},
     "output_type": "execute_result"
    }
   ],
   "source": [
    "data.describe()"
   ]
  },
  {
   "cell_type": "code",
   "execution_count": 11,
   "metadata": {},
   "outputs": [
    {
     "data": {
      "text/plain": [
       "int64      7\n",
       "float64    2\n",
       "object     2\n",
       "dtype: int64"
      ]
     },
     "execution_count": 11,
     "metadata": {},
     "output_type": "execute_result"
    }
   ],
   "source": [
    "s1=data.dtypes\n",
    "s1.groupby(s1).count()"
   ]
  },
  {
   "cell_type": "code",
   "execution_count": 12,
   "metadata": {},
   "outputs": [
    {
     "data": {
      "text/plain": [
       "Id               int64\n",
       "LotFrontage    float64\n",
       "LotArea          int64\n",
       "Alley           object\n",
       "MasVnrArea     float64\n",
       "1stFlrSF         int64\n",
       "2ndFlrSF         int64\n",
       "GrLivArea        int64\n",
       "GarageType      object\n",
       "GarageArea       int64\n",
       "SalePrice        int64\n",
       "dtype: object"
      ]
     },
     "execution_count": 12,
     "metadata": {},
     "output_type": "execute_result"
    }
   ],
   "source": [
    "data.dtypes"
   ]
  },
  {
   "cell_type": "code",
   "execution_count": 13,
   "metadata": {},
   "outputs": [
    {
     "data": {
      "text/plain": [
       "Alley          1369\n",
       "LotFrontage     259\n",
       "GarageType       81\n",
       "MasVnrArea        8\n",
       "Id                0\n",
       "LotArea           0\n",
       "1stFlrSF          0\n",
       "2ndFlrSF          0\n",
       "GrLivArea         0\n",
       "GarageArea        0\n",
       "SalePrice         0\n",
       "dtype: int64"
      ]
     },
     "execution_count": 13,
     "metadata": {},
     "output_type": "execute_result"
    }
   ],
   "source": [
    "data.isnull().sum().sort_values(ascending = False).head(20)"
   ]
  },
  {
   "cell_type": "code",
   "execution_count": 14,
   "metadata": {},
   "outputs": [
    {
     "name": "stderr",
     "output_type": "stream",
     "text": [
      "C:\\Users\\SHAILESH TIWARI\\anaconda3\\lib\\site-packages\\seaborn\\distributions.py:2619: FutureWarning: `distplot` is a deprecated function and will be removed in a future version. Please adapt your code to use either `displot` (a figure-level function with similar flexibility) or `histplot` (an axes-level function for histograms).\n",
      "  warnings.warn(msg, FutureWarning)\n"
     ]
    },
    {
     "data": {
      "text/plain": [
       "<matplotlib.axes._subplots.AxesSubplot at 0x23d5f1f7c88>"
      ]
     },
     "execution_count": 14,
     "metadata": {},
     "output_type": "execute_result"
    },
    {
     "data": {
      "image/png": "[encoded data removed]",
      "text/plain": [
       "<Figure size 432x288 with 1 Axes>"
      ]
     },
     "metadata": {
      "needs_background": "light"
     },
     "output_type": "display_data"
    }
   ],
   "source": [
    "sns.distplot(data['SalePrice'])"
   ]
  },
  {
   "cell_type": "code",
   "execution_count": 20,
   "metadata": {},
   "outputs": [
    {
     "data": {
      "text/plain": [
       "<matplotlib.axes._subplots.AxesSubplot at 0x23d620c8fc8>"
      ]
     },
     "execution_count": 20,
     "metadata": {},
     "output_type": "execute_result"
    },
    {
     "data": {
      "image/png": "[encoded data removed]",
      "text/plain": [
       "<Figure size 432x288 with 1 Axes>"
      ]
     },
     "metadata": {
      "needs_background": "light"
     },
     "output_type": "display_data"
    }
   ],
   "source": [
    "sns.boxplot(x='LotArea',y='SalePrice',data=data,color='Green',dodge=False)"
   ]
  },
  {
   "cell_type": "code",
   "execution_count": 21,
   "metadata": {},
   "outputs": [],
   "source": [
    "# Log is used to respond to skewness towards large values #log transformation\n",
    "data[\"SalePrice\"] = np.log1p(data[\"SalePrice\"])\n",
    "y = data['SalePrice'].reset_index(drop=True)"
   ]
  },
  {
   "cell_type": "code",
   "execution_count": 22,
   "metadata": {},
   "outputs": [
    {
     "data": {
      "text/plain": [
       "0       12.247699\n",
       "1       12.109016\n",
       "2       12.317171\n",
       "3       11.849405\n",
       "4       12.429220\n",
       "          ...    \n",
       "1455    12.072547\n",
       "1456    12.254868\n",
       "1457    12.493133\n",
       "1458    11.864469\n",
       "1459    11.901590\n",
       "Name: SalePrice, Length: 1460, dtype: float64"
      ]
     },
     "execution_count": 22,
     "metadata": {},
     "output_type": "execute_result"
    }
   ],
   "source": [
    "y"
   ]
  },
  {
   "cell_type": "code",
   "execution_count": 23,
   "metadata": {},
   "outputs": [
    {
     "data": {
      "text/plain": [
       "<matplotlib.axes._subplots.AxesSubplot at 0x23d6a116888>"
      ]
     },
     "execution_count": 23,
     "metadata": {},
     "output_type": "execute_result"
    },
    {
     "data": {
      "image/png": "[encoded data removed]",
      "text/plain": [
       "<Figure size 288x288 with 1 Axes>"
      ]
     },
     "metadata": {
      "needs_background": "light"
     },
     "output_type": "display_data"
    }
   ],
   "source": [
    "data[\"SalePrice\"].hist(bins=25, figsize=(4,4))"
   ]
  },
  {
   "cell_type": "code",
   "execution_count": 24,
   "metadata": {},
   "outputs": [
    {
     "data": {
      "text/plain": [
       "Id            -0.017942\n",
       "LotArea        0.257320\n",
       "2ndFlrSF       0.319300\n",
       "LotFrontage    0.355879\n",
       "MasVnrArea     0.430809\n",
       "1stFlrSF       0.596981\n",
       "GarageArea     0.650888\n",
       "GrLivArea      0.700927\n",
       "SalePrice      1.000000\n",
       "Name: SalePrice, dtype: float64"
      ]
     },
     "execution_count": 24,
     "metadata": {},
     "output_type": "execute_result"
    }
   ],
   "source": [
    "corr_matrix = data.corr(method='pearson')\n",
    "corr_matrix['SalePrice'].sort_values(kind=\"quicksort\")"
   ]
  },
  {
   "cell_type": "code",
   "execution_count": 25,
   "metadata": {},
   "outputs": [
    {
     "data": {
      "text/plain": [
       "<matplotlib.axes._subplots.AxesSubplot at 0x23d73427e88>"
      ]
     },
     "execution_count": 25,
     "metadata": {},
     "output_type": "execute_result"
    },
    {
     "data": {
      "image/png": "[encoded data removed]",
      "text/plain": [
       "<Figure size 1080x144 with 1 Axes>"
      ]
     },
     "metadata": {
      "needs_background": "light"
     },
     "output_type": "display_data"
    }
   ],
   "source": [
    "data[\"2ndFlrSF\"].hist(bins=30, figsize=(15,2))"
   ]
  },
  {
   "cell_type": "code",
   "execution_count": 26,
   "metadata": {},
   "outputs": [
    {
     "name": "stderr",
     "output_type": "stream",
     "text": [
      "C:\\Users\\SHAILESH TIWARI\\anaconda3\\lib\\site-packages\\numpy\\core\\_asarray.py:83: VisibleDeprecationWarning: Creating an ndarray from ragged nested sequences (which is a list-or-tuple of lists-or-tuples-or ndarrays with different lengths or shapes) is deprecated. If you meant to do this, you must specify 'dtype=object' when creating the ndarray\n",
      "  return array(a, dtype, copy=False, order=order)\n"
     ]
    },
    {
     "data": {
      "text/plain": [
       "<matplotlib.axes._subplots.AxesSubplot at 0x23d735f07c8>"
      ]
     },
     "execution_count": 26,
     "metadata": {},
     "output_type": "execute_result"
    },
    {
     "data": {
      "image/png": "[encoded data removed]",
      "text/plain": [
       "<Figure size 1080x504 with 1 Axes>"
      ]
     },
     "metadata": {
      "needs_background": "light"
     },
     "output_type": "display_data"
    }
   ],
   "source": [
    "data.boxplot(figsize=(15,7), column=['LotArea','LotFrontage','GarageArea','GrLivArea'])"
   ]
  },
  {
   "cell_type": "code",
   "execution_count": 27,
   "metadata": {},
   "outputs": [
    {
     "name": "stderr",
     "output_type": "stream",
     "text": [
      "C:\\Users\\SHAILESH TIWARI\\anaconda3\\lib\\site-packages\\numpy\\core\\_asarray.py:83: VisibleDeprecationWarning: Creating an ndarray from ragged nested sequences (which is a list-or-tuple of lists-or-tuples-or ndarrays with different lengths or shapes) is deprecated. If you meant to do this, you must specify 'dtype=object' when creating the ndarray\n",
      "  return array(a, dtype, copy=False, order=order)\n"
     ]
    },
    {
     "data": {
      "text/plain": [
       "<matplotlib.axes._subplots.AxesSubplot at 0x23d736bcf48>"
      ]
     },
     "execution_count": 27,
     "metadata": {},
     "output_type": "execute_result"
    },
    {
     "data": {
      "image/png": "[encoded data removed]",
      "text/plain": [
       "<Figure size 1080x504 with 1 Axes>"
      ]
     },
     "metadata": {
      "needs_background": "light"
     },
     "output_type": "display_data"
    }
   ],
   "source": [
    "data.boxplot(figsize=(15,7), column=['2ndFlrSF','MasVnrArea'])"
   ]
  },
  {
   "cell_type": "code",
   "execution_count": 28,
   "metadata": {},
   "outputs": [
    {
     "data": {
      "text/html": [
       "<div>\n",
       "<style scoped>\n",
       "    .dataframe tbody tr th:only-of-type {\n",
       "        vertical-align: middle;\n",
       "    }\n",
       "\n",
       "    .dataframe tbody tr th {\n",
       "        vertical-align: top;\n",
       "    }\n",
       "\n",
       "    .dataframe thead th {\n",
       "        text-align: right;\n",
       "    }\n",
       "</style>\n",
       "<table border=\"1\" class=\"dataframe\">\n",
       "  <thead>\n",
       "    <tr style=\"text-align: right;\">\n",
       "      <th></th>\n",
       "      <th>Id</th>\n",
       "      <th>LotFrontage</th>\n",
       "      <th>LotArea</th>\n",
       "      <th>Alley</th>\n",
       "      <th>MasVnrArea</th>\n",
       "      <th>1stFlrSF</th>\n",
       "      <th>2ndFlrSF</th>\n",
       "      <th>GrLivArea</th>\n",
       "      <th>GarageType</th>\n",
       "      <th>GarageArea</th>\n",
       "      <th>SalePrice</th>\n",
       "    </tr>\n",
       "  </thead>\n",
       "  <tbody>\n",
       "    <tr>\n",
       "      <th>58</th>\n",
       "      <td>59</td>\n",
       "      <td>66.0</td>\n",
       "      <td>13682</td>\n",
       "      <td>NaN</td>\n",
       "      <td>1031.0</td>\n",
       "      <td>1426</td>\n",
       "      <td>1519</td>\n",
       "      <td>2945</td>\n",
       "      <td>BuiltIn</td>\n",
       "      <td>641</td>\n",
       "      <td>12.991756</td>\n",
       "    </tr>\n",
       "    <tr>\n",
       "      <th>118</th>\n",
       "      <td>119</td>\n",
       "      <td>90.0</td>\n",
       "      <td>12376</td>\n",
       "      <td>NaN</td>\n",
       "      <td>0.0</td>\n",
       "      <td>1699</td>\n",
       "      <td>1523</td>\n",
       "      <td>3222</td>\n",
       "      <td>Attchd</td>\n",
       "      <td>594</td>\n",
       "      <td>12.676079</td>\n",
       "    </tr>\n",
       "    <tr>\n",
       "      <th>185</th>\n",
       "      <td>186</td>\n",
       "      <td>90.0</td>\n",
       "      <td>22950</td>\n",
       "      <td>NaN</td>\n",
       "      <td>0.0</td>\n",
       "      <td>1518</td>\n",
       "      <td>1518</td>\n",
       "      <td>3608</td>\n",
       "      <td>Detchd</td>\n",
       "      <td>840</td>\n",
       "      <td>13.071072</td>\n",
       "    </tr>\n",
       "    <tr>\n",
       "      <th>304</th>\n",
       "      <td>305</td>\n",
       "      <td>87.0</td>\n",
       "      <td>18386</td>\n",
       "      <td>NaN</td>\n",
       "      <td>0.0</td>\n",
       "      <td>1675</td>\n",
       "      <td>1818</td>\n",
       "      <td>3493</td>\n",
       "      <td>Attchd</td>\n",
       "      <td>870</td>\n",
       "      <td>12.594734</td>\n",
       "    </tr>\n",
       "    <tr>\n",
       "      <th>523</th>\n",
       "      <td>524</td>\n",
       "      <td>130.0</td>\n",
       "      <td>40094</td>\n",
       "      <td>NaN</td>\n",
       "      <td>762.0</td>\n",
       "      <td>3138</td>\n",
       "      <td>1538</td>\n",
       "      <td>4676</td>\n",
       "      <td>BuiltIn</td>\n",
       "      <td>884</td>\n",
       "      <td>12.126764</td>\n",
       "    </tr>\n",
       "    <tr>\n",
       "      <th>691</th>\n",
       "      <td>692</td>\n",
       "      <td>104.0</td>\n",
       "      <td>21535</td>\n",
       "      <td>NaN</td>\n",
       "      <td>1170.0</td>\n",
       "      <td>2444</td>\n",
       "      <td>1872</td>\n",
       "      <td>4316</td>\n",
       "      <td>Attchd</td>\n",
       "      <td>832</td>\n",
       "      <td>13.534474</td>\n",
       "    </tr>\n",
       "    <tr>\n",
       "      <th>745</th>\n",
       "      <td>746</td>\n",
       "      <td>NaN</td>\n",
       "      <td>8963</td>\n",
       "      <td>NaN</td>\n",
       "      <td>289.0</td>\n",
       "      <td>1175</td>\n",
       "      <td>1540</td>\n",
       "      <td>2715</td>\n",
       "      <td>BuiltIn</td>\n",
       "      <td>831</td>\n",
       "      <td>12.610874</td>\n",
       "    </tr>\n",
       "    <tr>\n",
       "      <th>769</th>\n",
       "      <td>770</td>\n",
       "      <td>47.0</td>\n",
       "      <td>53504</td>\n",
       "      <td>NaN</td>\n",
       "      <td>603.0</td>\n",
       "      <td>1690</td>\n",
       "      <td>1589</td>\n",
       "      <td>3279</td>\n",
       "      <td>BuiltIn</td>\n",
       "      <td>841</td>\n",
       "      <td>13.195616</td>\n",
       "    </tr>\n",
       "    <tr>\n",
       "      <th>1169</th>\n",
       "      <td>1170</td>\n",
       "      <td>118.0</td>\n",
       "      <td>35760</td>\n",
       "      <td>NaN</td>\n",
       "      <td>1378.0</td>\n",
       "      <td>1831</td>\n",
       "      <td>1796</td>\n",
       "      <td>3627</td>\n",
       "      <td>Attchd</td>\n",
       "      <td>807</td>\n",
       "      <td>13.345509</td>\n",
       "    </tr>\n",
       "    <tr>\n",
       "      <th>1182</th>\n",
       "      <td>1183</td>\n",
       "      <td>160.0</td>\n",
       "      <td>15623</td>\n",
       "      <td>NaN</td>\n",
       "      <td>0.0</td>\n",
       "      <td>2411</td>\n",
       "      <td>2065</td>\n",
       "      <td>4476</td>\n",
       "      <td>Attchd</td>\n",
       "      <td>813</td>\n",
       "      <td>13.521141</td>\n",
       "    </tr>\n",
       "    <tr>\n",
       "      <th>1360</th>\n",
       "      <td>1361</td>\n",
       "      <td>51.0</td>\n",
       "      <td>9842</td>\n",
       "      <td>NaN</td>\n",
       "      <td>0.0</td>\n",
       "      <td>990</td>\n",
       "      <td>1611</td>\n",
       "      <td>2601</td>\n",
       "      <td>BuiltIn</td>\n",
       "      <td>621</td>\n",
       "      <td>12.149508</td>\n",
       "    </tr>\n",
       "  </tbody>\n",
       "</table>\n",
       "</div>"
      ],
      "text/plain": [
       "        Id  LotFrontage  LotArea Alley  MasVnrArea  1stFlrSF  2ndFlrSF  \\\n",
       "58      59         66.0    13682   NaN      1031.0      1426      1519   \n",
       "118    119         90.0    12376   NaN         0.0      1699      1523   \n",
       "185    186         90.0    22950   NaN         0.0      1518      1518   \n",
       "304    305         87.0    18386   NaN         0.0      1675      1818   \n",
       "523    524        130.0    40094   NaN       762.0      3138      1538   \n",
       "691    692        104.0    21535   NaN      1170.0      2444      1872   \n",
       "745    746          NaN     8963   NaN       289.0      1175      1540   \n",
       "769    770         47.0    53504   NaN       603.0      1690      1589   \n",
       "1169  1170        118.0    35760   NaN      1378.0      1831      1796   \n",
       "1182  1183        160.0    15623   NaN         0.0      2411      2065   \n",
       "1360  1361         51.0     9842   NaN         0.0       990      1611   \n",
       "\n",
       "      GrLivArea GarageType  GarageArea  SalePrice  \n",
       "58         2945    BuiltIn         641  12.991756  \n",
       "118        3222     Attchd         594  12.676079  \n",
       "185        3608     Detchd         840  13.071072  \n",
       "304        3493     Attchd         870  12.594734  \n",
       "523        4676    BuiltIn         884  12.126764  \n",
       "691        4316     Attchd         832  13.534474  \n",
       "745        2715    BuiltIn         831  12.610874  \n",
       "769        3279    BuiltIn         841  13.195616  \n",
       "1169       3627     Attchd         807  13.345509  \n",
       "1182       4476     Attchd         813  13.521141  \n",
       "1360       2601    BuiltIn         621  12.149508  "
      ]
     },
     "execution_count": 28,
     "metadata": {},
     "output_type": "execute_result"
    }
   ],
   "source": [
    "data[data['2ndFlrSF'] > 1500]"
   ]
  },
  {
   "cell_type": "code",
   "execution_count": 29,
   "metadata": {},
   "outputs": [],
   "source": [
    "#dropping the column\n",
    "data.drop(['Id'], axis = 1, inplace = True)"
   ]
  },
  {
   "cell_type": "code",
   "execution_count": 30,
   "metadata": {},
   "outputs": [
    {
     "data": {
      "text/html": [
       "<div>\n",
       "<style scoped>\n",
       "    .dataframe tbody tr th:only-of-type {\n",
       "        vertical-align: middle;\n",
       "    }\n",
       "\n",
       "    .dataframe tbody tr th {\n",
       "        vertical-align: top;\n",
       "    }\n",
       "\n",
       "    .dataframe thead th {\n",
       "        text-align: right;\n",
       "    }\n",
       "</style>\n",
       "<table border=\"1\" class=\"dataframe\">\n",
       "  <thead>\n",
       "    <tr style=\"text-align: right;\">\n",
       "      <th></th>\n",
       "      <th>LotFrontage</th>\n",
       "      <th>LotArea</th>\n",
       "      <th>Alley</th>\n",
       "      <th>MasVnrArea</th>\n",
       "      <th>1stFlrSF</th>\n",
       "      <th>2ndFlrSF</th>\n",
       "      <th>GrLivArea</th>\n",
       "      <th>GarageType</th>\n",
       "      <th>GarageArea</th>\n",
       "      <th>SalePrice</th>\n",
       "    </tr>\n",
       "  </thead>\n",
       "  <tbody>\n",
       "    <tr>\n",
       "      <th>0</th>\n",
       "      <td>65.0</td>\n",
       "      <td>8450</td>\n",
       "      <td>NaN</td>\n",
       "      <td>196.0</td>\n",
       "      <td>856</td>\n",
       "      <td>854</td>\n",
       "      <td>1710</td>\n",
       "      <td>Attchd</td>\n",
       "      <td>548</td>\n",
       "      <td>12.247699</td>\n",
       "    </tr>\n",
       "    <tr>\n",
       "      <th>1</th>\n",
       "      <td>80.0</td>\n",
       "      <td>9600</td>\n",
       "      <td>NaN</td>\n",
       "      <td>0.0</td>\n",
       "      <td>1262</td>\n",
       "      <td>0</td>\n",
       "      <td>1262</td>\n",
       "      <td>Attchd</td>\n",
       "      <td>460</td>\n",
       "      <td>12.109016</td>\n",
       "    </tr>\n",
       "    <tr>\n",
       "      <th>2</th>\n",
       "      <td>68.0</td>\n",
       "      <td>11250</td>\n",
       "      <td>NaN</td>\n",
       "      <td>162.0</td>\n",
       "      <td>920</td>\n",
       "      <td>866</td>\n",
       "      <td>1786</td>\n",
       "      <td>Attchd</td>\n",
       "      <td>608</td>\n",
       "      <td>12.317171</td>\n",
       "    </tr>\n",
       "    <tr>\n",
       "      <th>3</th>\n",
       "      <td>60.0</td>\n",
       "      <td>9550</td>\n",
       "      <td>NaN</td>\n",
       "      <td>0.0</td>\n",
       "      <td>961</td>\n",
       "      <td>756</td>\n",
       "      <td>1717</td>\n",
       "      <td>Detchd</td>\n",
       "      <td>642</td>\n",
       "      <td>11.849405</td>\n",
       "    </tr>\n",
       "    <tr>\n",
       "      <th>4</th>\n",
       "      <td>84.0</td>\n",
       "      <td>14260</td>\n",
       "      <td>NaN</td>\n",
       "      <td>350.0</td>\n",
       "      <td>1145</td>\n",
       "      <td>1053</td>\n",
       "      <td>2198</td>\n",
       "      <td>Attchd</td>\n",
       "      <td>836</td>\n",
       "      <td>12.429220</td>\n",
       "    </tr>\n",
       "    <tr>\n",
       "      <th>...</th>\n",
       "      <td>...</td>\n",
       "      <td>...</td>\n",
       "      <td>...</td>\n",
       "      <td>...</td>\n",
       "      <td>...</td>\n",
       "      <td>...</td>\n",
       "      <td>...</td>\n",
       "      <td>...</td>\n",
       "      <td>...</td>\n",
       "      <td>...</td>\n",
       "    </tr>\n",
       "    <tr>\n",
       "      <th>1455</th>\n",
       "      <td>62.0</td>\n",
       "      <td>7917</td>\n",
       "      <td>NaN</td>\n",
       "      <td>0.0</td>\n",
       "      <td>953</td>\n",
       "      <td>694</td>\n",
       "      <td>1647</td>\n",
       "      <td>Attchd</td>\n",
       "      <td>460</td>\n",
       "      <td>12.072547</td>\n",
       "    </tr>\n",
       "    <tr>\n",
       "      <th>1456</th>\n",
       "      <td>85.0</td>\n",
       "      <td>13175</td>\n",
       "      <td>NaN</td>\n",
       "      <td>119.0</td>\n",
       "      <td>2073</td>\n",
       "      <td>0</td>\n",
       "      <td>2073</td>\n",
       "      <td>Attchd</td>\n",
       "      <td>500</td>\n",
       "      <td>12.254868</td>\n",
       "    </tr>\n",
       "    <tr>\n",
       "      <th>1457</th>\n",
       "      <td>66.0</td>\n",
       "      <td>9042</td>\n",
       "      <td>NaN</td>\n",
       "      <td>0.0</td>\n",
       "      <td>1188</td>\n",
       "      <td>1152</td>\n",
       "      <td>2340</td>\n",
       "      <td>Attchd</td>\n",
       "      <td>252</td>\n",
       "      <td>12.493133</td>\n",
       "    </tr>\n",
       "    <tr>\n",
       "      <th>1458</th>\n",
       "      <td>68.0</td>\n",
       "      <td>9717</td>\n",
       "      <td>NaN</td>\n",
       "      <td>0.0</td>\n",
       "      <td>1078</td>\n",
       "      <td>0</td>\n",
       "      <td>1078</td>\n",
       "      <td>Attchd</td>\n",
       "      <td>240</td>\n",
       "      <td>11.864469</td>\n",
       "    </tr>\n",
       "    <tr>\n",
       "      <th>1459</th>\n",
       "      <td>75.0</td>\n",
       "      <td>9937</td>\n",
       "      <td>NaN</td>\n",
       "      <td>0.0</td>\n",
       "      <td>1256</td>\n",
       "      <td>0</td>\n",
       "      <td>1256</td>\n",
       "      <td>Attchd</td>\n",
       "      <td>276</td>\n",
       "      <td>11.901590</td>\n",
       "    </tr>\n",
       "  </tbody>\n",
       "</table>\n",
       "<p>1460 rows × 10 columns</p>\n",
       "</div>"
      ],
      "text/plain": [
       "      LotFrontage  LotArea Alley  MasVnrArea  1stFlrSF  2ndFlrSF  GrLivArea  \\\n",
       "0            65.0     8450   NaN       196.0       856       854       1710   \n",
       "1            80.0     9600   NaN         0.0      1262         0       1262   \n",
       "2            68.0    11250   NaN       162.0       920       866       1786   \n",
       "3            60.0     9550   NaN         0.0       961       756       1717   \n",
       "4            84.0    14260   NaN       350.0      1145      1053       2198   \n",
       "...           ...      ...   ...         ...       ...       ...        ...   \n",
       "1455         62.0     7917   NaN         0.0       953       694       1647   \n",
       "1456         85.0    13175   NaN       119.0      2073         0       2073   \n",
       "1457         66.0     9042   NaN         0.0      1188      1152       2340   \n",
       "1458         68.0     9717   NaN         0.0      1078         0       1078   \n",
       "1459         75.0     9937   NaN         0.0      1256         0       1256   \n",
       "\n",
       "     GarageType  GarageArea  SalePrice  \n",
       "0        Attchd         548  12.247699  \n",
       "1        Attchd         460  12.109016  \n",
       "2        Attchd         608  12.317171  \n",
       "3        Detchd         642  11.849405  \n",
       "4        Attchd         836  12.429220  \n",
       "...         ...         ...        ...  \n",
       "1455     Attchd         460  12.072547  \n",
       "1456     Attchd         500  12.254868  \n",
       "1457     Attchd         252  12.493133  \n",
       "1458     Attchd         240  11.864469  \n",
       "1459     Attchd         276  11.901590  \n",
       "\n",
       "[1460 rows x 10 columns]"
      ]
     },
     "execution_count": 30,
     "metadata": {},
     "output_type": "execute_result"
    }
   ],
   "source": [
    "data"
   ]
  },
  {
   "cell_type": "code",
   "execution_count": 31,
   "metadata": {},
   "outputs": [
    {
     "data": {
      "text/plain": [
       "<bound method Series.count of 0       NaN\n",
       "1       NaN\n",
       "2       NaN\n",
       "3       NaN\n",
       "4       NaN\n",
       "       ... \n",
       "1455    NaN\n",
       "1456    NaN\n",
       "1457    NaN\n",
       "1458    NaN\n",
       "1459    NaN\n",
       "Name: Alley, Length: 1460, dtype: object>"
      ]
     },
     "execution_count": 31,
     "metadata": {},
     "output_type": "execute_result"
    }
   ],
   "source": [
    "data['Alley'].count"
   ]
  },
  {
   "cell_type": "code",
   "execution_count": 32,
   "metadata": {},
   "outputs": [
    {
     "data": {
      "text/html": [
       "<div>\n",
       "<style scoped>\n",
       "    .dataframe tbody tr th:only-of-type {\n",
       "        vertical-align: middle;\n",
       "    }\n",
       "\n",
       "    .dataframe tbody tr th {\n",
       "        vertical-align: top;\n",
       "    }\n",
       "\n",
       "    .dataframe thead th {\n",
       "        text-align: right;\n",
       "    }\n",
       "</style>\n",
       "<table border=\"1\" class=\"dataframe\">\n",
       "  <thead>\n",
       "    <tr style=\"text-align: right;\">\n",
       "      <th></th>\n",
       "      <th>Total</th>\n",
       "      <th>%</th>\n",
       "    </tr>\n",
       "  </thead>\n",
       "  <tbody>\n",
       "    <tr>\n",
       "      <th>Alley</th>\n",
       "      <td>1369</td>\n",
       "      <td>93.8</td>\n",
       "    </tr>\n",
       "    <tr>\n",
       "      <th>LotFrontage</th>\n",
       "      <td>259</td>\n",
       "      <td>17.7</td>\n",
       "    </tr>\n",
       "    <tr>\n",
       "      <th>GarageType</th>\n",
       "      <td>81</td>\n",
       "      <td>5.5</td>\n",
       "    </tr>\n",
       "    <tr>\n",
       "      <th>MasVnrArea</th>\n",
       "      <td>8</td>\n",
       "      <td>0.5</td>\n",
       "    </tr>\n",
       "    <tr>\n",
       "      <th>LotArea</th>\n",
       "      <td>0</td>\n",
       "      <td>0.0</td>\n",
       "    </tr>\n",
       "  </tbody>\n",
       "</table>\n",
       "</div>"
      ],
      "text/plain": [
       "             Total     %\n",
       "Alley         1369  93.8\n",
       "LotFrontage    259  17.7\n",
       "GarageType      81   5.5\n",
       "MasVnrArea       8   0.5\n",
       "LotArea          0   0.0"
      ]
     },
     "execution_count": 32,
     "metadata": {},
     "output_type": "execute_result"
    }
   ],
   "source": [
    "total = data.isnull().sum().sort_values(ascending=False)\n",
    "percent_1 = data.isnull().sum()/data.isnull().count()*100\n",
    "percent_2 = (round(percent_1, 1)).sort_values(ascending=False)\n",
    "missing_data = pd.concat([total, percent_2], axis=1, keys=['Total', '%'])\n",
    "missing_data.head(5)"
   ]
  },
  {
   "cell_type": "code",
   "execution_count": 33,
   "metadata": {},
   "outputs": [],
   "source": [
    "#dropping the column\n",
    "data.drop(['Alley'], axis = 1, inplace = True)"
   ]
  },
  {
   "cell_type": "code",
   "execution_count": 34,
   "metadata": {},
   "outputs": [
    {
     "data": {
      "text/html": [
       "<div>\n",
       "<style scoped>\n",
       "    .dataframe tbody tr th:only-of-type {\n",
       "        vertical-align: middle;\n",
       "    }\n",
       "\n",
       "    .dataframe tbody tr th {\n",
       "        vertical-align: top;\n",
       "    }\n",
       "\n",
       "    .dataframe thead th {\n",
       "        text-align: right;\n",
       "    }\n",
       "</style>\n",
       "<table border=\"1\" class=\"dataframe\">\n",
       "  <thead>\n",
       "    <tr style=\"text-align: right;\">\n",
       "      <th></th>\n",
       "      <th>LotFrontage</th>\n",
       "      <th>LotArea</th>\n",
       "      <th>MasVnrArea</th>\n",
       "      <th>1stFlrSF</th>\n",
       "      <th>2ndFlrSF</th>\n",
       "      <th>GrLivArea</th>\n",
       "      <th>GarageType</th>\n",
       "      <th>GarageArea</th>\n",
       "      <th>SalePrice</th>\n",
       "    </tr>\n",
       "  </thead>\n",
       "  <tbody>\n",
       "    <tr>\n",
       "      <th>0</th>\n",
       "      <td>65.0</td>\n",
       "      <td>8450</td>\n",
       "      <td>196.0</td>\n",
       "      <td>856</td>\n",
       "      <td>854</td>\n",
       "      <td>1710</td>\n",
       "      <td>Attchd</td>\n",
       "      <td>548</td>\n",
       "      <td>12.247699</td>\n",
       "    </tr>\n",
       "    <tr>\n",
       "      <th>1</th>\n",
       "      <td>80.0</td>\n",
       "      <td>9600</td>\n",
       "      <td>0.0</td>\n",
       "      <td>1262</td>\n",
       "      <td>0</td>\n",
       "      <td>1262</td>\n",
       "      <td>Attchd</td>\n",
       "      <td>460</td>\n",
       "      <td>12.109016</td>\n",
       "    </tr>\n",
       "    <tr>\n",
       "      <th>2</th>\n",
       "      <td>68.0</td>\n",
       "      <td>11250</td>\n",
       "      <td>162.0</td>\n",
       "      <td>920</td>\n",
       "      <td>866</td>\n",
       "      <td>1786</td>\n",
       "      <td>Attchd</td>\n",
       "      <td>608</td>\n",
       "      <td>12.317171</td>\n",
       "    </tr>\n",
       "    <tr>\n",
       "      <th>3</th>\n",
       "      <td>60.0</td>\n",
       "      <td>9550</td>\n",
       "      <td>0.0</td>\n",
       "      <td>961</td>\n",
       "      <td>756</td>\n",
       "      <td>1717</td>\n",
       "      <td>Detchd</td>\n",
       "      <td>642</td>\n",
       "      <td>11.849405</td>\n",
       "    </tr>\n",
       "    <tr>\n",
       "      <th>4</th>\n",
       "      <td>84.0</td>\n",
       "      <td>14260</td>\n",
       "      <td>350.0</td>\n",
       "      <td>1145</td>\n",
       "      <td>1053</td>\n",
       "      <td>2198</td>\n",
       "      <td>Attchd</td>\n",
       "      <td>836</td>\n",
       "      <td>12.429220</td>\n",
       "    </tr>\n",
       "    <tr>\n",
       "      <th>5</th>\n",
       "      <td>85.0</td>\n",
       "      <td>14115</td>\n",
       "      <td>0.0</td>\n",
       "      <td>796</td>\n",
       "      <td>566</td>\n",
       "      <td>1362</td>\n",
       "      <td>Attchd</td>\n",
       "      <td>480</td>\n",
       "      <td>11.870607</td>\n",
       "    </tr>\n",
       "    <tr>\n",
       "      <th>6</th>\n",
       "      <td>75.0</td>\n",
       "      <td>10084</td>\n",
       "      <td>186.0</td>\n",
       "      <td>1694</td>\n",
       "      <td>0</td>\n",
       "      <td>1694</td>\n",
       "      <td>Attchd</td>\n",
       "      <td>636</td>\n",
       "      <td>12.634606</td>\n",
       "    </tr>\n",
       "    <tr>\n",
       "      <th>7</th>\n",
       "      <td>NaN</td>\n",
       "      <td>10382</td>\n",
       "      <td>240.0</td>\n",
       "      <td>1107</td>\n",
       "      <td>983</td>\n",
       "      <td>2090</td>\n",
       "      <td>Attchd</td>\n",
       "      <td>484</td>\n",
       "      <td>12.206078</td>\n",
       "    </tr>\n",
       "    <tr>\n",
       "      <th>8</th>\n",
       "      <td>51.0</td>\n",
       "      <td>6120</td>\n",
       "      <td>0.0</td>\n",
       "      <td>1022</td>\n",
       "      <td>752</td>\n",
       "      <td>1774</td>\n",
       "      <td>Detchd</td>\n",
       "      <td>468</td>\n",
       "      <td>11.774528</td>\n",
       "    </tr>\n",
       "    <tr>\n",
       "      <th>9</th>\n",
       "      <td>50.0</td>\n",
       "      <td>7420</td>\n",
       "      <td>0.0</td>\n",
       "      <td>1077</td>\n",
       "      <td>0</td>\n",
       "      <td>1077</td>\n",
       "      <td>Attchd</td>\n",
       "      <td>205</td>\n",
       "      <td>11.678448</td>\n",
       "    </tr>\n",
       "  </tbody>\n",
       "</table>\n",
       "</div>"
      ],
      "text/plain": [
       "   LotFrontage  LotArea  MasVnrArea  1stFlrSF  2ndFlrSF  GrLivArea GarageType  \\\n",
       "0         65.0     8450       196.0       856       854       1710     Attchd   \n",
       "1         80.0     9600         0.0      1262         0       1262     Attchd   \n",
       "2         68.0    11250       162.0       920       866       1786     Attchd   \n",
       "3         60.0     9550         0.0       961       756       1717     Detchd   \n",
       "4         84.0    14260       350.0      1145      1053       2198     Attchd   \n",
       "5         85.0    14115         0.0       796       566       1362     Attchd   \n",
       "6         75.0    10084       186.0      1694         0       1694     Attchd   \n",
       "7          NaN    10382       240.0      1107       983       2090     Attchd   \n",
       "8         51.0     6120         0.0      1022       752       1774     Detchd   \n",
       "9         50.0     7420         0.0      1077         0       1077     Attchd   \n",
       "\n",
       "   GarageArea  SalePrice  \n",
       "0         548  12.247699  \n",
       "1         460  12.109016  \n",
       "2         608  12.317171  \n",
       "3         642  11.849405  \n",
       "4         836  12.429220  \n",
       "5         480  11.870607  \n",
       "6         636  12.634606  \n",
       "7         484  12.206078  \n",
       "8         468  11.774528  \n",
       "9         205  11.678448  "
      ]
     },
     "execution_count": 34,
     "metadata": {},
     "output_type": "execute_result"
    }
   ],
   "source": [
    "data.head(10)"
   ]
  },
  {
   "cell_type": "code",
   "execution_count": 35,
   "metadata": {},
   "outputs": [
    {
     "data": {
      "text/plain": [
       "array(['LotFrontage', 'LotArea', 'MasVnrArea', '1stFlrSF', '2ndFlrSF',\n",
       "       'GrLivArea', 'GarageType', 'GarageArea', 'SalePrice'], dtype=object)"
      ]
     },
     "execution_count": 35,
     "metadata": {},
     "output_type": "execute_result"
    }
   ],
   "source": [
    "data.columns.values"
   ]
  },
  {
   "cell_type": "code",
   "execution_count": 36,
   "metadata": {},
   "outputs": [],
   "source": [
    "#check for missing value, unique etc\n",
    "FileNameDesc = pd.DataFrame(columns = ['column_name','missing_count','percent_missing','unique_count'])\n",
    "for col in list(data.columns.values):\n",
    "    sum_missing = data[col].isnull().sum()\n",
    "    percent_missing = sum_missing/len(data)*100\n",
    "    uniq_count = (data.groupby([col])[col].count()).count()\n",
    "    FileNameDesc = FileNameDesc.append({'column_name':col,'missing_count':sum_missing,\n",
    "                                        'percent_missing':percent_missing,'unique_count':uniq_count},\n",
    "                                       ignore_index = True)"
   ]
  },
  {
   "cell_type": "code",
   "execution_count": 37,
   "metadata": {},
   "outputs": [
    {
     "data": {
      "text/html": [
       "<div>\n",
       "<style scoped>\n",
       "    .dataframe tbody tr th:only-of-type {\n",
       "        vertical-align: middle;\n",
       "    }\n",
       "\n",
       "    .dataframe tbody tr th {\n",
       "        vertical-align: top;\n",
       "    }\n",
       "\n",
       "    .dataframe thead th {\n",
       "        text-align: right;\n",
       "    }\n",
       "</style>\n",
       "<table border=\"1\" class=\"dataframe\">\n",
       "  <thead>\n",
       "    <tr style=\"text-align: right;\">\n",
       "      <th></th>\n",
       "      <th>column_name</th>\n",
       "      <th>missing_count</th>\n",
       "      <th>percent_missing</th>\n",
       "      <th>unique_count</th>\n",
       "    </tr>\n",
       "  </thead>\n",
       "  <tbody>\n",
       "    <tr>\n",
       "      <th>0</th>\n",
       "      <td>LotFrontage</td>\n",
       "      <td>259</td>\n",
       "      <td>17.739726</td>\n",
       "      <td>110</td>\n",
       "    </tr>\n",
       "    <tr>\n",
       "      <th>1</th>\n",
       "      <td>LotArea</td>\n",
       "      <td>0</td>\n",
       "      <td>0.000000</td>\n",
       "      <td>1073</td>\n",
       "    </tr>\n",
       "    <tr>\n",
       "      <th>2</th>\n",
       "      <td>MasVnrArea</td>\n",
       "      <td>8</td>\n",
       "      <td>0.547945</td>\n",
       "      <td>327</td>\n",
       "    </tr>\n",
       "    <tr>\n",
       "      <th>3</th>\n",
       "      <td>1stFlrSF</td>\n",
       "      <td>0</td>\n",
       "      <td>0.000000</td>\n",
       "      <td>753</td>\n",
       "    </tr>\n",
       "    <tr>\n",
       "      <th>4</th>\n",
       "      <td>2ndFlrSF</td>\n",
       "      <td>0</td>\n",
       "      <td>0.000000</td>\n",
       "      <td>417</td>\n",
       "    </tr>\n",
       "    <tr>\n",
       "      <th>5</th>\n",
       "      <td>GrLivArea</td>\n",
       "      <td>0</td>\n",
       "      <td>0.000000</td>\n",
       "      <td>861</td>\n",
       "    </tr>\n",
       "    <tr>\n",
       "      <th>6</th>\n",
       "      <td>GarageType</td>\n",
       "      <td>81</td>\n",
       "      <td>5.547945</td>\n",
       "      <td>6</td>\n",
       "    </tr>\n",
       "    <tr>\n",
       "      <th>7</th>\n",
       "      <td>GarageArea</td>\n",
       "      <td>0</td>\n",
       "      <td>0.000000</td>\n",
       "      <td>441</td>\n",
       "    </tr>\n",
       "    <tr>\n",
       "      <th>8</th>\n",
       "      <td>SalePrice</td>\n",
       "      <td>0</td>\n",
       "      <td>0.000000</td>\n",
       "      <td>663</td>\n",
       "    </tr>\n",
       "  </tbody>\n",
       "</table>\n",
       "</div>"
      ],
      "text/plain": [
       "   column_name missing_count  percent_missing unique_count\n",
       "0  LotFrontage           259        17.739726          110\n",
       "1      LotArea             0         0.000000         1073\n",
       "2   MasVnrArea             8         0.547945          327\n",
       "3     1stFlrSF             0         0.000000          753\n",
       "4     2ndFlrSF             0         0.000000          417\n",
       "5    GrLivArea             0         0.000000          861\n",
       "6   GarageType            81         5.547945            6\n",
       "7   GarageArea             0         0.000000          441\n",
       "8    SalePrice             0         0.000000          663"
      ]
     },
     "execution_count": 37,
     "metadata": {},
     "output_type": "execute_result"
    }
   ],
   "source": [
    "FileNameDesc"
   ]
  },
  {
   "cell_type": "code",
   "execution_count": 38,
   "metadata": {},
   "outputs": [
    {
     "data": {
      "text/html": [
       "<div>\n",
       "<style scoped>\n",
       "    .dataframe tbody tr th:only-of-type {\n",
       "        vertical-align: middle;\n",
       "    }\n",
       "\n",
       "    .dataframe tbody tr th {\n",
       "        vertical-align: top;\n",
       "    }\n",
       "\n",
       "    .dataframe thead th {\n",
       "        text-align: right;\n",
       "    }\n",
       "</style>\n",
       "<table border=\"1\" class=\"dataframe\">\n",
       "  <thead>\n",
       "    <tr style=\"text-align: right;\">\n",
       "      <th></th>\n",
       "      <th>GarageType</th>\n",
       "    </tr>\n",
       "    <tr>\n",
       "      <th>GarageType</th>\n",
       "      <th></th>\n",
       "    </tr>\n",
       "  </thead>\n",
       "  <tbody>\n",
       "    <tr>\n",
       "      <th>2Types</th>\n",
       "      <td>6</td>\n",
       "    </tr>\n",
       "    <tr>\n",
       "      <th>Attchd</th>\n",
       "      <td>870</td>\n",
       "    </tr>\n",
       "    <tr>\n",
       "      <th>Basment</th>\n",
       "      <td>19</td>\n",
       "    </tr>\n",
       "    <tr>\n",
       "      <th>BuiltIn</th>\n",
       "      <td>88</td>\n",
       "    </tr>\n",
       "    <tr>\n",
       "      <th>CarPort</th>\n",
       "      <td>9</td>\n",
       "    </tr>\n",
       "    <tr>\n",
       "      <th>Detchd</th>\n",
       "      <td>387</td>\n",
       "    </tr>\n",
       "  </tbody>\n",
       "</table>\n",
       "</div>"
      ],
      "text/plain": [
       "            GarageType\n",
       "GarageType            \n",
       "2Types               6\n",
       "Attchd             870\n",
       "Basment             19\n",
       "BuiltIn             88\n",
       "CarPort              9\n",
       "Detchd             387"
      ]
     },
     "execution_count": 38,
     "metadata": {},
     "output_type": "execute_result"
    }
   ],
   "source": [
    "#Apply Mode strategy to populate the categorical data\n",
    "data.groupby('GarageType').agg({'GarageType': np.size})"
   ]
  },
  {
   "cell_type": "code",
   "execution_count": 39,
   "metadata": {},
   "outputs": [],
   "source": [
    "data[\"GarageType\"]=data[\"GarageType\"].fillna('Attchd')\n",
    "data[\"GarageType\"] = data[\"GarageType\"].astype('category')\n",
    "data[\"GarageType\"] = data[\"GarageType\"].cat.codes"
   ]
  },
  {
   "cell_type": "code",
   "execution_count": 40,
   "metadata": {},
   "outputs": [],
   "source": [
    "#outlier treatment using quartile"
   ]
  },
  {
   "cell_type": "code",
   "execution_count": 41,
   "metadata": {},
   "outputs": [
    {
     "data": {
      "text/plain": [
       "<matplotlib.axes._subplots.AxesSubplot at 0x23d73749948>"
      ]
     },
     "execution_count": 41,
     "metadata": {},
     "output_type": "execute_result"
    },
    {
     "data": {
      "image/png": "[encoded data removed]",
      "text/plain": [
       "<Figure size 432x288 with 1 Axes>"
      ]
     },
     "metadata": {
      "needs_background": "light"
     },
     "output_type": "display_data"
    }
   ],
   "source": [
    "data.boxplot(column=['LotFrontage'])"
   ]
  },
  {
   "cell_type": "code",
   "execution_count": 42,
   "metadata": {},
   "outputs": [
    {
     "data": {
      "text/plain": [
       "<matplotlib.axes._subplots.AxesSubplot at 0x23d73ae7448>"
      ]
     },
     "execution_count": 42,
     "metadata": {},
     "output_type": "execute_result"
    },
    {
     "data": {
      "image/png": "[encoded data removed]",
      "text/plain": [
       "<Figure size 432x288 with 1 Axes>"
      ]
     },
     "metadata": {
      "needs_background": "light"
     },
     "output_type": "display_data"
    }
   ],
   "source": [
    "data.boxplot(column=['MasVnrArea'])"
   ]
  },
  {
   "cell_type": "code",
   "execution_count": 43,
   "metadata": {},
   "outputs": [
    {
     "data": {
      "text/plain": [
       "<matplotlib.axes._subplots.AxesSubplot at 0x23d73b53e48>"
      ]
     },
     "execution_count": 43,
     "metadata": {},
     "output_type": "execute_result"
    },
    {
     "data": {
      "image/png": "[encoded data removed]",
      "text/plain": [
       "<Figure size 288x288 with 1 Axes>"
      ]
     },
     "metadata": {
      "needs_background": "light"
     },
     "output_type": "display_data"
    }
   ],
   "source": [
    "data[\"LotFrontage\"].hist(bins=25, figsize=(4,4))"
   ]
  },
  {
   "cell_type": "code",
   "execution_count": 44,
   "metadata": {},
   "outputs": [
    {
     "data": {
      "text/plain": [
       "<matplotlib.axes._subplots.AxesSubplot at 0x23d73acc2c8>"
      ]
     },
     "execution_count": 44,
     "metadata": {},
     "output_type": "execute_result"
    },
    {
     "data": {
      "image/png": "[encoded data removed]",
      "text/plain": [
       "<Figure size 288x288 with 1 Axes>"
      ]
     },
     "metadata": {
      "needs_background": "light"
     },
     "output_type": "display_data"
    }
   ],
   "source": [
    "data[\"MasVnrArea\"].hist(bins=25, figsize=(4,4))"
   ]
  },
  {
   "cell_type": "code",
   "execution_count": 45,
   "metadata": {},
   "outputs": [],
   "source": [
    "#filling up the missing numerical data with mean\n",
    "data[\"LotFrontage\"].fillna(data[\"LotFrontage\"].mean(), inplace=True)"
   ]
  },
  {
   "cell_type": "code",
   "execution_count": 46,
   "metadata": {},
   "outputs": [],
   "source": [
    "#Mean strategy to populate the quantitative variable\n",
    "data[\"LotFrontage\"].fillna(data[\"LotFrontage\"].mean(), inplace=True)"
   ]
  },
  {
   "cell_type": "code",
   "execution_count": 47,
   "metadata": {},
   "outputs": [],
   "source": [
    "#Median strategy to populate the quantitative variable\n",
    "data[\"MasVnrArea\"].fillna(data[\"MasVnrArea\"].median(), inplace=True)"
   ]
  },
  {
   "cell_type": "code",
   "execution_count": 48,
   "metadata": {},
   "outputs": [],
   "source": [
    "data = pd.get_dummies(data, columns=['GarageType'], drop_first=True)"
   ]
  },
  {
   "cell_type": "code",
   "execution_count": 49,
   "metadata": {},
   "outputs": [],
   "source": [
    "df1=data['SalePrice']"
   ]
  },
  {
   "cell_type": "code",
   "execution_count": 50,
   "metadata": {},
   "outputs": [],
   "source": [
    "data.drop(['SalePrice'], axis = 1, inplace = True)"
   ]
  },
  {
   "cell_type": "code",
   "execution_count": 51,
   "metadata": {},
   "outputs": [],
   "source": [
    "data=pd.concat([data,df1],axis=1)"
   ]
  },
  {
   "cell_type": "code",
   "execution_count": 52,
   "metadata": {},
   "outputs": [
    {
     "data": {
      "text/plain": [
       "LotFrontage     0\n",
       "LotArea         0\n",
       "MasVnrArea      0\n",
       "1stFlrSF        0\n",
       "2ndFlrSF        0\n",
       "GrLivArea       0\n",
       "GarageArea      0\n",
       "GarageType_1    0\n",
       "GarageType_2    0\n",
       "GarageType_3    0\n",
       "GarageType_4    0\n",
       "GarageType_5    0\n",
       "SalePrice       0\n",
       "dtype: int64"
      ]
     },
     "execution_count": 52,
     "metadata": {},
     "output_type": "execute_result"
    }
   ],
   "source": [
    "#Key data analysis\n",
    "len(data)\n",
    "data.head()\n",
    "data.isnull().any()\n",
    "data.isnull().sum()"
   ]
  },
  {
   "cell_type": "code",
   "execution_count": 53,
   "metadata": {},
   "outputs": [
    {
     "data": {
      "text/plain": [
       "Index(['LotFrontage', 'LotArea', 'MasVnrArea', '1stFlrSF', '2ndFlrSF',\n",
       "       'GrLivArea', 'GarageArea', 'GarageType_1', 'GarageType_2',\n",
       "       'GarageType_3', 'GarageType_4', 'GarageType_5', 'SalePrice'],\n",
       "      dtype='object')"
      ]
     },
     "execution_count": 53,
     "metadata": {},
     "output_type": "execute_result"
    }
   ],
   "source": [
    "data.columns"
   ]
  },
  {
   "cell_type": "code",
   "execution_count": 54,
   "metadata": {},
   "outputs": [],
   "source": [
    "#sns.pairplot(data)"
   ]
  },
  {
   "cell_type": "code",
   "execution_count": 55,
   "metadata": {},
   "outputs": [],
   "source": [
    "#sns.catplot(x='GrLivArea',\n",
    "   # y='SalePrice',\n",
    "    #data=data)"
   ]
  },
  {
   "cell_type": "code",
   "execution_count": 56,
   "metadata": {},
   "outputs": [
    {
     "data": {
      "text/plain": [
       "<matplotlib.axes._subplots.AxesSubplot at 0x23d73caffc8>"
      ]
     },
     "execution_count": 56,
     "metadata": {},
     "output_type": "execute_result"
    },
    {
     "data": {
      "image/png": "[encoded data removed]",
      "text/plain": [
       "<Figure size 432x288 with 2 Axes>"
      ]
     },
     "metadata": {
      "needs_background": "light"
     },
     "output_type": "display_data"
    }
   ],
   "source": [
    "data.corr()\n",
    "sns.heatmap(data.corr(),annot=False)"
   ]
  },
  {
   "cell_type": "code",
   "execution_count": 57,
   "metadata": {},
   "outputs": [
    {
     "data": {
      "text/plain": [
       "Index(['LotFrontage', 'LotArea', 'MasVnrArea', '1stFlrSF', '2ndFlrSF',\n",
       "       'GrLivArea', 'GarageArea', 'GarageType_1', 'GarageType_2',\n",
       "       'GarageType_3', 'GarageType_4', 'GarageType_5', 'SalePrice'],\n",
       "      dtype='object')"
      ]
     },
     "execution_count": 57,
     "metadata": {},
     "output_type": "execute_result"
    }
   ],
   "source": [
    "data.columns"
   ]
  },
  {
   "cell_type": "code",
   "execution_count": 58,
   "metadata": {},
   "outputs": [],
   "source": [
    "x = data.iloc[:,1:13]\n",
    "y = data.iloc[:,-1:]"
   ]
  },
  {
   "cell_type": "code",
   "execution_count": 59,
   "metadata": {},
   "outputs": [],
   "source": [
    "X=pd.DataFrame(x)"
   ]
  },
  {
   "cell_type": "code",
   "execution_count": 60,
   "metadata": {},
   "outputs": [
    {
     "data": {
      "text/html": [
       "<div>\n",
       "<style scoped>\n",
       "    .dataframe tbody tr th:only-of-type {\n",
       "        vertical-align: middle;\n",
       "    }\n",
       "\n",
       "    .dataframe tbody tr th {\n",
       "        vertical-align: top;\n",
       "    }\n",
       "\n",
       "    .dataframe thead th {\n",
       "        text-align: right;\n",
       "    }\n",
       "</style>\n",
       "<table border=\"1\" class=\"dataframe\">\n",
       "  <thead>\n",
       "    <tr style=\"text-align: right;\">\n",
       "      <th></th>\n",
       "      <th>LotArea</th>\n",
       "      <th>MasVnrArea</th>\n",
       "      <th>1stFlrSF</th>\n",
       "      <th>2ndFlrSF</th>\n",
       "      <th>GrLivArea</th>\n",
       "      <th>GarageArea</th>\n",
       "      <th>GarageType_1</th>\n",
       "      <th>GarageType_2</th>\n",
       "      <th>GarageType_3</th>\n",
       "      <th>GarageType_4</th>\n",
       "      <th>GarageType_5</th>\n",
       "      <th>SalePrice</th>\n",
       "    </tr>\n",
       "  </thead>\n",
       "  <tbody>\n",
       "    <tr>\n",
       "      <th>0</th>\n",
       "      <td>8450</td>\n",
       "      <td>196.0</td>\n",
       "      <td>856</td>\n",
       "      <td>854</td>\n",
       "      <td>1710</td>\n",
       "      <td>548</td>\n",
       "      <td>1</td>\n",
       "      <td>0</td>\n",
       "      <td>0</td>\n",
       "      <td>0</td>\n",
       "      <td>0</td>\n",
       "      <td>12.247699</td>\n",
       "    </tr>\n",
       "    <tr>\n",
       "      <th>1</th>\n",
       "      <td>9600</td>\n",
       "      <td>0.0</td>\n",
       "      <td>1262</td>\n",
       "      <td>0</td>\n",
       "      <td>1262</td>\n",
       "      <td>460</td>\n",
       "      <td>1</td>\n",
       "      <td>0</td>\n",
       "      <td>0</td>\n",
       "      <td>0</td>\n",
       "      <td>0</td>\n",
       "      <td>12.109016</td>\n",
       "    </tr>\n",
       "    <tr>\n",
       "      <th>2</th>\n",
       "      <td>11250</td>\n",
       "      <td>162.0</td>\n",
       "      <td>920</td>\n",
       "      <td>866</td>\n",
       "      <td>1786</td>\n",
       "      <td>608</td>\n",
       "      <td>1</td>\n",
       "      <td>0</td>\n",
       "      <td>0</td>\n",
       "      <td>0</td>\n",
       "      <td>0</td>\n",
       "      <td>12.317171</td>\n",
       "    </tr>\n",
       "    <tr>\n",
       "      <th>3</th>\n",
       "      <td>9550</td>\n",
       "      <td>0.0</td>\n",
       "      <td>961</td>\n",
       "      <td>756</td>\n",
       "      <td>1717</td>\n",
       "      <td>642</td>\n",
       "      <td>0</td>\n",
       "      <td>0</td>\n",
       "      <td>0</td>\n",
       "      <td>0</td>\n",
       "      <td>1</td>\n",
       "      <td>11.849405</td>\n",
       "    </tr>\n",
       "    <tr>\n",
       "      <th>4</th>\n",
       "      <td>14260</td>\n",
       "      <td>350.0</td>\n",
       "      <td>1145</td>\n",
       "      <td>1053</td>\n",
       "      <td>2198</td>\n",
       "      <td>836</td>\n",
       "      <td>1</td>\n",
       "      <td>0</td>\n",
       "      <td>0</td>\n",
       "      <td>0</td>\n",
       "      <td>0</td>\n",
       "      <td>12.429220</td>\n",
       "    </tr>\n",
       "    <tr>\n",
       "      <th>...</th>\n",
       "      <td>...</td>\n",
       "      <td>...</td>\n",
       "      <td>...</td>\n",
       "      <td>...</td>\n",
       "      <td>...</td>\n",
       "      <td>...</td>\n",
       "      <td>...</td>\n",
       "      <td>...</td>\n",
       "      <td>...</td>\n",
       "      <td>...</td>\n",
       "      <td>...</td>\n",
       "      <td>...</td>\n",
       "    </tr>\n",
       "    <tr>\n",
       "      <th>1455</th>\n",
       "      <td>7917</td>\n",
       "      <td>0.0</td>\n",
       "      <td>953</td>\n",
       "      <td>694</td>\n",
       "      <td>1647</td>\n",
       "      <td>460</td>\n",
       "      <td>1</td>\n",
       "      <td>0</td>\n",
       "      <td>0</td>\n",
       "      <td>0</td>\n",
       "      <td>0</td>\n",
       "      <td>12.072547</td>\n",
       "    </tr>\n",
       "    <tr>\n",
       "      <th>1456</th>\n",
       "      <td>13175</td>\n",
       "      <td>119.0</td>\n",
       "      <td>2073</td>\n",
       "      <td>0</td>\n",
       "      <td>2073</td>\n",
       "      <td>500</td>\n",
       "      <td>1</td>\n",
       "      <td>0</td>\n",
       "      <td>0</td>\n",
       "      <td>0</td>\n",
       "      <td>0</td>\n",
       "      <td>12.254868</td>\n",
       "    </tr>\n",
       "    <tr>\n",
       "      <th>1457</th>\n",
       "      <td>9042</td>\n",
       "      <td>0.0</td>\n",
       "      <td>1188</td>\n",
       "      <td>1152</td>\n",
       "      <td>2340</td>\n",
       "      <td>252</td>\n",
       "      <td>1</td>\n",
       "      <td>0</td>\n",
       "      <td>0</td>\n",
       "      <td>0</td>\n",
       "      <td>0</td>\n",
       "      <td>12.493133</td>\n",
       "    </tr>\n",
       "    <tr>\n",
       "      <th>1458</th>\n",
       "      <td>9717</td>\n",
       "      <td>0.0</td>\n",
       "      <td>1078</td>\n",
       "      <td>0</td>\n",
       "      <td>1078</td>\n",
       "      <td>240</td>\n",
       "      <td>1</td>\n",
       "      <td>0</td>\n",
       "      <td>0</td>\n",
       "      <td>0</td>\n",
       "      <td>0</td>\n",
       "      <td>11.864469</td>\n",
       "    </tr>\n",
       "    <tr>\n",
       "      <th>1459</th>\n",
       "      <td>9937</td>\n",
       "      <td>0.0</td>\n",
       "      <td>1256</td>\n",
       "      <td>0</td>\n",
       "      <td>1256</td>\n",
       "      <td>276</td>\n",
       "      <td>1</td>\n",
       "      <td>0</td>\n",
       "      <td>0</td>\n",
       "      <td>0</td>\n",
       "      <td>0</td>\n",
       "      <td>11.901590</td>\n",
       "    </tr>\n",
       "  </tbody>\n",
       "</table>\n",
       "<p>1460 rows × 12 columns</p>\n",
       "</div>"
      ],
      "text/plain": [
       "      LotArea  MasVnrArea  1stFlrSF  2ndFlrSF  GrLivArea  GarageArea  \\\n",
       "0        8450       196.0       856       854       1710         548   \n",
       "1        9600         0.0      1262         0       1262         460   \n",
       "2       11250       162.0       920       866       1786         608   \n",
       "3        9550         0.0       961       756       1717         642   \n",
       "4       14260       350.0      1145      1053       2198         836   \n",
       "...       ...         ...       ...       ...        ...         ...   \n",
       "1455     7917         0.0       953       694       1647         460   \n",
       "1456    13175       119.0      2073         0       2073         500   \n",
       "1457     9042         0.0      1188      1152       2340         252   \n",
       "1458     9717         0.0      1078         0       1078         240   \n",
       "1459     9937         0.0      1256         0       1256         276   \n",
       "\n",
       "      GarageType_1  GarageType_2  GarageType_3  GarageType_4  GarageType_5  \\\n",
       "0                1             0             0             0             0   \n",
       "1                1             0             0             0             0   \n",
       "2                1             0             0             0             0   \n",
       "3                0             0             0             0             1   \n",
       "4                1             0             0             0             0   \n",
       "...            ...           ...           ...           ...           ...   \n",
       "1455             1             0             0             0             0   \n",
       "1456             1             0             0             0             0   \n",
       "1457             1             0             0             0             0   \n",
       "1458             1             0             0             0             0   \n",
       "1459             1             0             0             0             0   \n",
       "\n",
       "      SalePrice  \n",
       "0     12.247699  \n",
       "1     12.109016  \n",
       "2     12.317171  \n",
       "3     11.849405  \n",
       "4     12.429220  \n",
       "...         ...  \n",
       "1455  12.072547  \n",
       "1456  12.254868  \n",
       "1457  12.493133  \n",
       "1458  11.864469  \n",
       "1459  11.901590  \n",
       "\n",
       "[1460 rows x 12 columns]"
      ]
     },
     "execution_count": 60,
     "metadata": {},
     "output_type": "execute_result"
    }
   ],
   "source": [
    "X"
   ]
  },
  {
   "cell_type": "code",
   "execution_count": 61,
   "metadata": {},
   "outputs": [
    {
     "data": {
      "text/html": [
       "<div>\n",
       "<style scoped>\n",
       "    .dataframe tbody tr th:only-of-type {\n",
       "        vertical-align: middle;\n",
       "    }\n",
       "\n",
       "    .dataframe tbody tr th {\n",
       "        vertical-align: top;\n",
       "    }\n",
       "\n",
       "    .dataframe thead th {\n",
       "        text-align: right;\n",
       "    }\n",
       "</style>\n",
       "<table border=\"1\" class=\"dataframe\">\n",
       "  <thead>\n",
       "    <tr style=\"text-align: right;\">\n",
       "      <th></th>\n",
       "      <th>SalePrice</th>\n",
       "    </tr>\n",
       "  </thead>\n",
       "  <tbody>\n",
       "    <tr>\n",
       "      <th>0</th>\n",
       "      <td>12.247699</td>\n",
       "    </tr>\n",
       "    <tr>\n",
       "      <th>1</th>\n",
       "      <td>12.109016</td>\n",
       "    </tr>\n",
       "    <tr>\n",
       "      <th>2</th>\n",
       "      <td>12.317171</td>\n",
       "    </tr>\n",
       "    <tr>\n",
       "      <th>3</th>\n",
       "      <td>11.849405</td>\n",
       "    </tr>\n",
       "    <tr>\n",
       "      <th>4</th>\n",
       "      <td>12.429220</td>\n",
       "    </tr>\n",
       "    <tr>\n",
       "      <th>...</th>\n",
       "      <td>...</td>\n",
       "    </tr>\n",
       "    <tr>\n",
       "      <th>1455</th>\n",
       "      <td>12.072547</td>\n",
       "    </tr>\n",
       "    <tr>\n",
       "      <th>1456</th>\n",
       "      <td>12.254868</td>\n",
       "    </tr>\n",
       "    <tr>\n",
       "      <th>1457</th>\n",
       "      <td>12.493133</td>\n",
       "    </tr>\n",
       "    <tr>\n",
       "      <th>1458</th>\n",
       "      <td>11.864469</td>\n",
       "    </tr>\n",
       "    <tr>\n",
       "      <th>1459</th>\n",
       "      <td>11.901590</td>\n",
       "    </tr>\n",
       "  </tbody>\n",
       "</table>\n",
       "<p>1460 rows × 1 columns</p>\n",
       "</div>"
      ],
      "text/plain": [
       "      SalePrice\n",
       "0     12.247699\n",
       "1     12.109016\n",
       "2     12.317171\n",
       "3     11.849405\n",
       "4     12.429220\n",
       "...         ...\n",
       "1455  12.072547\n",
       "1456  12.254868\n",
       "1457  12.493133\n",
       "1458  11.864469\n",
       "1459  11.901590\n",
       "\n",
       "[1460 rows x 1 columns]"
      ]
     },
     "execution_count": 61,
     "metadata": {},
     "output_type": "execute_result"
    }
   ],
   "source": [
    "y"
   ]
  },
  {
   "cell_type": "code",
   "execution_count": 62,
   "metadata": {},
   "outputs": [],
   "source": [
    "from sklearn.model_selection import train_test_split\n",
    "X_train, X_test, y_train, y_test= train_test_split(x,y,test_size=0.20, random_state=0)"
   ]
  },
  {
   "cell_type": "code",
   "execution_count": 63,
   "metadata": {},
   "outputs": [
    {
     "data": {
      "text/plain": [
       "LinearRegression()"
      ]
     },
     "execution_count": 63,
     "metadata": {},
     "output_type": "execute_result"
    }
   ],
   "source": [
    "from sklearn.linear_model import LinearRegression\n",
    "regressor=LinearRegression()\n",
    "regressor.fit(X_train,y_train)"
   ]
  },
  {
   "cell_type": "code",
   "execution_count": 64,
   "metadata": {},
   "outputs": [],
   "source": [
    "y_pred=regressor.predict(X_test)"
   ]
  },
  {
   "cell_type": "code",
   "execution_count": 65,
   "metadata": {},
   "outputs": [
    {
     "data": {
      "text/plain": [
       "array([[12.20919277],\n",
       "       [11.79811193],\n",
       "       [11.60824474],\n",
       "       [12.16525586],\n",
       "       [11.38510346],\n",
       "       [11.3504183 ],\n",
       "       [12.55293005],\n",
       "       [11.85652226],\n",
       "       [13.52114084],\n",
       "       [11.91036512],\n",
       "       [12.24961573],\n",
       "       [11.82704984],\n",
       "       [12.32386013],\n",
       "       [11.71994776],\n",
       "       [11.68856642],\n",
       "       [11.88449592],\n",
       "       [12.15478461],\n",
       "       [11.72481391],\n",
       "       [11.91405452],\n",
       "       [11.95118685],\n",
       "       [12.01974909],\n",
       "       [11.88104171],\n",
       "       [11.60824474],\n",
       "       [12.06681633],\n",
       "       [12.12811651],\n",
       "       [12.03172521],\n",
       "       [12.08673152],\n",
       "       [11.34451865],\n",
       "       [12.6760794 ],\n",
       "       [11.68267668],\n",
       "       [11.60824474],\n",
       "       [12.26905214],\n",
       "       [11.9576177 ],\n",
       "       [12.4292202 ],\n",
       "       [12.827995  ],\n",
       "       [12.07254697],\n",
       "       [12.53357982],\n",
       "       [11.63071739],\n",
       "       [12.47991311],\n",
       "       [12.69158354],\n",
       "       [12.40082084],\n",
       "       [11.77529742],\n",
       "       [12.01364621],\n",
       "       [12.54254845],\n",
       "       [12.90669432],\n",
       "       [11.68688718],\n",
       "       [11.73607702],\n",
       "       [11.76135462],\n",
       "       [12.05815831],\n",
       "       [11.34924115],\n",
       "       [12.92999391],\n",
       "       [11.9576177 ],\n",
       "       [12.0311298 ],\n",
       "       [11.51293546],\n",
       "       [12.52453001],\n",
       "       [11.71994776],\n",
       "       [11.79056478],\n",
       "       [12.38798162],\n",
       "       [11.84223641],\n",
       "       [11.6526961 ],\n",
       "       [11.83138647],\n",
       "       [11.81303746],\n",
       "       [11.8089551 ],\n",
       "       [12.1034916 ],\n",
       "       [12.17303796],\n",
       "       [11.96081768],\n",
       "       [11.79056478],\n",
       "       [12.32163544],\n",
       "       [11.84223641],\n",
       "       [12.32386013],\n",
       "       [12.14685859],\n",
       "       [11.67844838],\n",
       "       [11.31448672],\n",
       "       [12.87901967],\n",
       "       [11.62626308],\n",
       "       [12.42481051],\n",
       "       [11.80932691],\n",
       "       [11.28352488],\n",
       "       [12.6760794 ],\n",
       "       [11.97035664],\n",
       "       [11.84940484],\n",
       "       [11.82408722],\n",
       "       [11.58525543],\n",
       "       [11.88449592],\n",
       "       [12.20857451],\n",
       "       [12.12811651],\n",
       "       [11.56172515],\n",
       "       [12.21931458],\n",
       "       [12.13350733],\n",
       "       [11.82041752],\n",
       "       [12.20857451],\n",
       "       [12.15478461],\n",
       "       [12.14153946],\n",
       "       [12.20607765],\n",
       "       [12.05815831],\n",
       "       [11.96400745],\n",
       "       [12.26905214],\n",
       "       [12.12811651],\n",
       "       [11.73206903],\n",
       "       [12.00089793],\n",
       "       [12.46844076],\n",
       "       [12.19854942],\n",
       "       [11.69525536],\n",
       "       [11.97980547],\n",
       "       [11.57025997],\n",
       "       [12.46844076],\n",
       "       [11.8706069 ],\n",
       "       [11.57590965],\n",
       "       [12.09458786],\n",
       "       [11.75195024],\n",
       "       [11.41145736],\n",
       "       [11.68267668],\n",
       "       [12.15478461],\n",
       "       [11.69442168],\n",
       "       [12.12215285],\n",
       "       [11.95118685],\n",
       "       [12.8642427 ],\n",
       "       [11.79811193],\n",
       "       [12.17303796],\n",
       "       [12.50618094],\n",
       "       [11.85652226],\n",
       "       [11.89136875],\n",
       "       [11.76369197],\n",
       "       [12.07824496],\n",
       "       [12.27373597],\n",
       "       [12.31043717],\n",
       "       [12.93675402],\n",
       "       [12.1428719 ],\n",
       "       [12.20557752],\n",
       "       [12.10071769],\n",
       "       [12.23709155],\n",
       "       [12.17561859],\n",
       "       [11.87027818],\n",
       "       [12.1167003 ],\n",
       "       [11.66178503],\n",
       "       [12.27022515],\n",
       "       [11.84582705],\n",
       "       [12.09514667],\n",
       "       [11.58896942],\n",
       "       [12.07767662],\n",
       "       [11.97351618],\n",
       "       [11.88449592],\n",
       "       [12.28765724],\n",
       "       [11.92172501],\n",
       "       [11.59873612],\n",
       "       [12.01733656],\n",
       "       [12.21106516],\n",
       "       [11.88793824],\n",
       "       [12.67576685],\n",
       "       [12.27839796],\n",
       "       [12.1034916 ],\n",
       "       [12.81392062],\n",
       "       [12.38422302],\n",
       "       [11.89068359],\n",
       "       [11.98916586],\n",
       "       [12.4292202 ],\n",
       "       [11.40168101],\n",
       "       [12.34583894],\n",
       "       [11.89819467],\n",
       "       [12.00701787],\n",
       "       [11.48247657],\n",
       "       [11.86358938],\n",
       "       [12.19096408],\n",
       "       [11.76757544],\n",
       "       [12.35449696],\n",
       "       [11.6526961 ],\n",
       "       [12.07254697],\n",
       "       [12.48748888],\n",
       "       [12.2404789 ],\n",
       "       [12.10625784],\n",
       "       [12.07824496],\n",
       "       [12.04942468],\n",
       "       [12.18587504],\n",
       "       [12.07824496],\n",
       "       [11.63515195],\n",
       "       [11.84223641],\n",
       "       [11.81303746],\n",
       "       [12.38839837],\n",
       "       [11.62626308],\n",
       "       [11.80560254],\n",
       "       [12.66539758],\n",
       "       [12.0435596 ],\n",
       "       [11.66135409],\n",
       "       [12.63134365],\n",
       "       [11.32056569],\n",
       "       [12.07254697],\n",
       "       [11.57120381],\n",
       "       [12.17561859],\n",
       "       [12.17665413],\n",
       "       [11.95697647],\n",
       "       [11.83501621],\n",
       "       [12.08391066],\n",
       "       [12.27373597],\n",
       "       [11.90497431],\n",
       "       [11.75195024],\n",
       "       [11.8671043 ],\n",
       "       [11.28979441],\n",
       "       [11.88449592],\n",
       "       [12.04942468],\n",
       "       [11.71587447],\n",
       "       [11.84223641],\n",
       "       [12.14950759],\n",
       "       [11.69941333],\n",
       "       [11.72804491],\n",
       "       [11.98293534],\n",
       "       [12.20607765],\n",
       "       [11.98293534],\n",
       "       [12.65396166],\n",
       "       [12.52453001],\n",
       "       [11.11246282],\n",
       "       [11.97666577],\n",
       "       [12.4332122 ],\n",
       "       [11.43928969],\n",
       "       [11.60368896],\n",
       "       [12.86100121],\n",
       "       [11.76757544],\n",
       "       [11.32056569],\n",
       "       [12.61486887],\n",
       "       [12.42801948],\n",
       "       [11.30221678],\n",
       "       [12.14153946],\n",
       "       [11.60824474],\n",
       "       [11.66993776],\n",
       "       [11.76369197],\n",
       "       [12.27134996],\n",
       "       [12.55673304],\n",
       "       [12.34801048],\n",
       "       [12.15478461],\n",
       "       [11.81303746],\n",
       "       [11.93164238],\n",
       "       [11.3794055 ],\n",
       "       [11.95118685],\n",
       "       [11.6526961 ],\n",
       "       [11.87757552],\n",
       "       [12.42118806],\n",
       "       [11.79434547],\n",
       "       [11.82041752],\n",
       "       [11.66993776],\n",
       "       [11.31448672],\n",
       "       [11.96718709],\n",
       "       [11.60824474],\n",
       "       [12.10625784],\n",
       "       [12.16785663],\n",
       "       [12.31717117],\n",
       "       [12.10901644],\n",
       "       [12.0435596 ],\n",
       "       [12.14153946],\n",
       "       [12.13296955],\n",
       "       [11.98293534],\n",
       "       [12.16525586],\n",
       "       [12.11121786],\n",
       "       [12.49125535],\n",
       "       [11.51193497],\n",
       "       [12.99175571],\n",
       "       [12.34347093],\n",
       "       [12.28690581],\n",
       "       [11.61277985],\n",
       "       [12.07767662],\n",
       "       [13.1956157 ],\n",
       "       [11.98293534],\n",
       "       [12.05815831],\n",
       "       [11.58989577],\n",
       "       [11.78676974],\n",
       "       [11.5735595 ],\n",
       "       [12.86100121],\n",
       "       [12.82363114],\n",
       "       [12.75130259],\n",
       "       [11.13460362],\n",
       "       [12.4292202 ],\n",
       "       [12.41044512],\n",
       "       [11.73607702],\n",
       "       [12.36308067],\n",
       "       [11.88449592],\n",
       "       [12.10625784],\n",
       "       [11.55215579],\n",
       "       [12.35879802],\n",
       "       [12.0076278 ],\n",
       "       [12.29911207],\n",
       "       [12.18075997],\n",
       "       [11.58989577],\n",
       "       [11.91773036],\n",
       "       [12.66033109],\n",
       "       [12.08673152],\n",
       "       [11.84940484],\n",
       "       [12.17499469],\n",
       "       [11.83429132],\n",
       "       [11.67844838],\n",
       "       [12.68850188],\n",
       "       [13.22672519],\n",
       "       [11.82041752],\n",
       "       [11.32056569],\n",
       "       [11.5228857 ]])"
      ]
     },
     "execution_count": 65,
     "metadata": {},
     "output_type": "execute_result"
    }
   ],
   "source": [
    "y_pred"
   ]
  },
  {
   "cell_type": "code",
   "execution_count": 66,
   "metadata": {},
   "outputs": [
    {
     "name": "stdout",
     "output_type": "stream",
     "text": [
      "r2 score: 1.0\n"
     ]
    }
   ],
   "source": [
    "from sklearn.metrics import r2_score\n",
    "print('r2 score:',r2_score(y_test,y_pred))"
   ]
  },
  {
   "cell_type": "code",
   "execution_count": 67,
   "metadata": {},
   "outputs": [
    {
     "data": {
      "text/plain": [
       "array([[ 2.56735746e-18,  2.16840434e-19, -1.05330241e-16,\n",
       "        -1.03609070e-16,  1.01264483e-16,  6.77626358e-18,\n",
       "         1.88982341e-16,  4.67342836e-16, -5.65145991e-17,\n",
       "         1.61002095e-16,  3.92617294e-16,  1.00000000e+00]])"
      ]
     },
     "execution_count": 67,
     "metadata": {},
     "output_type": "execute_result"
    }
   ],
   "source": [
    "regressor.coef_"
   ]
  },
  {
   "cell_type": "code",
   "execution_count": 68,
   "metadata": {},
   "outputs": [
    {
     "data": {
      "text/plain": [
       "array([-4.26325641e-14])"
      ]
     },
     "execution_count": 68,
     "metadata": {},
     "output_type": "execute_result"
    }
   ],
   "source": [
    "regressor.intercept_"
   ]
  },
  {
   "cell_type": "code",
   "execution_count": 69,
   "metadata": {},
   "outputs": [],
   "source": [
    "coefficients = pd.concat([pd.DataFrame(X_train.columns),pd.DataFrame(np.transpose(regressor.coef_))], axis = 1)"
   ]
  },
  {
   "cell_type": "code",
   "execution_count": 70,
   "metadata": {},
   "outputs": [],
   "source": [
    "y_pred = regressor.predict(X_test)"
   ]
  },
  {
   "cell_type": "code",
   "execution_count": 71,
   "metadata": {},
   "outputs": [
    {
     "data": {
      "text/plain": [
       "1.0"
      ]
     },
     "execution_count": 71,
     "metadata": {},
     "output_type": "execute_result"
    }
   ],
   "source": [
    "from sklearn.metrics import r2_score\n",
    "r2_score(y_test,y_pred)"
   ]
  },
  {
   "cell_type": "code",
   "execution_count": 72,
   "metadata": {},
   "outputs": [
    {
     "data": {
      "text/plain": [
       "DecisionTreeRegressor()"
      ]
     },
     "execution_count": 72,
     "metadata": {},
     "output_type": "execute_result"
    }
   ],
   "source": [
    "#applying decision tree algo\n",
    "from sklearn.tree import DecisionTreeRegressor\n",
    "regressor =DecisionTreeRegressor()\n",
    "regressor.fit(X_train,y_train)"
   ]
  },
  {
   "cell_type": "code",
   "execution_count": 73,
   "metadata": {},
   "outputs": [],
   "source": [
    "y_pred =regressor.predict(X_test)"
   ]
  },
  {
   "cell_type": "code",
   "execution_count": 74,
   "metadata": {},
   "outputs": [
    {
     "data": {
      "text/plain": [
       "array([12.21106516, 11.79811193, 11.60824474, 12.16525586, 11.38510346,\n",
       "       11.3504183 , 12.55673304, 11.86006206, 13.53447435, 11.9117083 ,\n",
       "       12.25248379, 11.82701332, 12.32386013, 11.71994776, 11.68688718,\n",
       "       11.88449592, 12.15478461, 11.72400453, 11.9117083 , 11.95118685,\n",
       "       12.01612811, 11.88104171, 11.60824474, 12.06681633, 12.12811651,\n",
       "       12.0311298 , 12.08673152, 11.34451865, 12.6760794 , 11.68267668,\n",
       "       11.60824474, 12.27373597, 11.9576177 , 12.4292202 , 12.82773188,\n",
       "       12.06968575, 12.53537999, 11.63071739, 12.48156573, 12.69158354,\n",
       "       12.4049276 , 11.77529742, 12.01370681, 12.54254845, 12.90420986,\n",
       "       11.68658461, 11.73607702, 11.75979336, 12.05815831, 11.3504183 ,\n",
       "       12.90420986, 11.9576177 , 12.0311298 , 11.51293546, 12.52453001,\n",
       "       11.71994776, 11.79056478, 12.38839837, 11.84223641, 11.6526961 ,\n",
       "       11.83138647, 11.81303746, 11.80560254, 12.1034916 , 12.17561859,\n",
       "       11.96400745, 11.79056478, 12.32341558, 11.84223641, 12.32386013,\n",
       "       12.14420256, 11.67844838, 11.31448672, 12.88029436, 11.62626308,\n",
       "       12.42250976, 11.80932691, 11.28854365, 12.6760794 , 11.97035664,\n",
       "       11.84940484, 11.82408722, 11.58525543, 11.88449592, 12.20657752,\n",
       "       12.12811651, 11.56077233, 12.2185001 , 12.13270056, 11.8185776 ,\n",
       "       12.20678239, 12.15478461, 12.14153946, 12.20607765, 12.05757844,\n",
       "       11.96400745, 12.27373597, 12.12811651, 11.73206903, 12.00151161,\n",
       "       12.46844076, 12.20056249, 11.69525536, 11.97980547, 11.57590965,\n",
       "       12.46844076, 11.8706069 , 11.57590965, 12.09514667, 11.75195024,\n",
       "       11.40200508, 11.68183245, 12.15478461, 11.69442168, 12.12269647,\n",
       "       11.95118685, 12.85055728, 11.79811193, 12.17561859, 12.50540286,\n",
       "       11.85652226, 11.89136875, 11.76369197, 12.07540002, 12.26905214,\n",
       "       12.31043717, 12.90634935, 12.14420256, 12.20557752, 12.10071769,\n",
       "       12.2356363 , 12.17561859, 11.8706069 , 12.11833919, 11.66135409,\n",
       "       12.26905214, 11.84654363, 12.09514667, 11.58989577, 12.07540002,\n",
       "       11.97603665, 11.88449592, 12.28535045, 11.92338475, 11.59911234,\n",
       "       12.01612811, 12.21106516, 11.88621856, 12.67294952, 12.27839796,\n",
       "       12.10625784, 12.82099068, 12.38422302, 11.89136875, 11.98916586,\n",
       "       12.4292202 , 11.40757606, 12.34583894, 11.89819467, 12.00756683,\n",
       "       11.48247657, 11.86358938, 12.19096408, 11.76757544, 12.35449696,\n",
       "       11.6526961 , 12.07254697, 12.48420804, 12.23539356, 12.10625784,\n",
       "       12.07540002, 12.04942468, 12.18587504, 12.07540002, 11.63071739,\n",
       "       11.84223641, 11.81303746, 12.38839837, 11.62626308, 11.80560254,\n",
       "       12.66033109, 12.0435596 , 11.66135409, 12.62807033, 11.32660793,\n",
       "       12.07254697, 11.57120381, 12.17561859, 12.17561859, 11.9576177 ,\n",
       "       11.83863282, 12.08391066, 12.27373597, 11.90497431, 11.74800549,\n",
       "       11.8671043 , 11.28979441, 11.88449592, 12.04942468, 11.71587447,\n",
       "       11.84223641, 12.14950759, 11.69941333, 11.72804491, 11.98916586,\n",
       "       12.20056249, 11.98293534, 12.65035133, 12.52453001, 11.11246282,\n",
       "       11.97603665, 12.4315375 , 11.44572741, 11.60368896, 12.85055728,\n",
       "       11.76757544, 11.32660793, 12.61818561, 12.4292202 , 11.30221678,\n",
       "       12.14153946, 11.60824474, 11.66993776, 11.76369197, 12.27373597,\n",
       "       12.55673304, 12.34583894, 12.15478461, 11.81303746, 11.93164238,\n",
       "       11.38510346, 11.95118685, 11.6526961 , 11.87757552, 12.42118806,\n",
       "       11.79434547, 11.8185776 , 11.66993776, 11.31448672, 11.96400745,\n",
       "       11.60824474, 12.1034916 , 12.16785663, 12.3194058 , 12.10699789,\n",
       "       12.0435596 , 12.14153946, 12.13270056, 11.98916586, 12.16525586,\n",
       "       12.11176746, 12.4911764 , 11.51293546, 13.0086615 , 12.34148165,\n",
       "       12.28535045, 11.61729449, 12.07540002, 13.12603264, 11.98293534,\n",
       "       12.05757844, 11.58989577, 11.78676974, 11.57590965, 12.85055728,\n",
       "       12.82099068, 12.76569129, 11.13314272, 12.4292202 , 12.4110563 ,\n",
       "       11.73607702, 12.36308067, 11.88449592, 12.1034916 , 11.54830226,\n",
       "       12.35952737, 12.00756683, 12.29779002, 12.18075997, 11.58989577,\n",
       "       11.91773036, 12.66033109, 12.08673152, 11.84940484, 12.17561859,\n",
       "       11.83863282, 11.67844838, 12.69158354, 13.22956979, 11.8185776 ,\n",
       "       11.32660793, 11.5327379 ])"
      ]
     },
     "execution_count": 74,
     "metadata": {},
     "output_type": "execute_result"
    }
   ],
   "source": [
    "y_pred"
   ]
  },
  {
   "cell_type": "code",
   "execution_count": 75,
   "metadata": {},
   "outputs": [
    {
     "data": {
      "text/html": [
       "<div>\n",
       "<style scoped>\n",
       "    .dataframe tbody tr th:only-of-type {\n",
       "        vertical-align: middle;\n",
       "    }\n",
       "\n",
       "    .dataframe tbody tr th {\n",
       "        vertical-align: top;\n",
       "    }\n",
       "\n",
       "    .dataframe thead th {\n",
       "        text-align: right;\n",
       "    }\n",
       "</style>\n",
       "<table border=\"1\" class=\"dataframe\">\n",
       "  <thead>\n",
       "    <tr style=\"text-align: right;\">\n",
       "      <th></th>\n",
       "      <th>SalePrice</th>\n",
       "    </tr>\n",
       "  </thead>\n",
       "  <tbody>\n",
       "    <tr>\n",
       "      <th>529</th>\n",
       "      <td>12.209193</td>\n",
       "    </tr>\n",
       "    <tr>\n",
       "      <th>491</th>\n",
       "      <td>11.798112</td>\n",
       "    </tr>\n",
       "    <tr>\n",
       "      <th>459</th>\n",
       "      <td>11.608245</td>\n",
       "    </tr>\n",
       "    <tr>\n",
       "      <th>279</th>\n",
       "      <td>12.165256</td>\n",
       "    </tr>\n",
       "    <tr>\n",
       "      <th>655</th>\n",
       "      <td>11.385103</td>\n",
       "    </tr>\n",
       "    <tr>\n",
       "      <th>...</th>\n",
       "      <td>...</td>\n",
       "    </tr>\n",
       "    <tr>\n",
       "      <th>326</th>\n",
       "      <td>12.688502</td>\n",
       "    </tr>\n",
       "    <tr>\n",
       "      <th>440</th>\n",
       "      <td>13.226725</td>\n",
       "    </tr>\n",
       "    <tr>\n",
       "      <th>1387</th>\n",
       "      <td>11.820418</td>\n",
       "    </tr>\n",
       "    <tr>\n",
       "      <th>1323</th>\n",
       "      <td>11.320566</td>\n",
       "    </tr>\n",
       "    <tr>\n",
       "      <th>61</th>\n",
       "      <td>11.522886</td>\n",
       "    </tr>\n",
       "  </tbody>\n",
       "</table>\n",
       "<p>292 rows × 1 columns</p>\n",
       "</div>"
      ],
      "text/plain": [
       "      SalePrice\n",
       "529   12.209193\n",
       "491   11.798112\n",
       "459   11.608245\n",
       "279   12.165256\n",
       "655   11.385103\n",
       "...         ...\n",
       "326   12.688502\n",
       "440   13.226725\n",
       "1387  11.820418\n",
       "1323  11.320566\n",
       "61    11.522886\n",
       "\n",
       "[292 rows x 1 columns]"
      ]
     },
     "execution_count": 75,
     "metadata": {},
     "output_type": "execute_result"
    }
   ],
   "source": [
    "y_test"
   ]
  },
  {
   "cell_type": "code",
   "execution_count": 76,
   "metadata": {},
   "outputs": [],
   "source": [
    "from sklearn.metrics import mean_squared_error\n",
    "\n",
    "rms = mean_squared_error(y_test, y_pred, squared=False)"
   ]
  },
  {
   "cell_type": "code",
   "execution_count": 77,
   "metadata": {},
   "outputs": [
    {
     "data": {
      "text/plain": [
       "0.0054736560646079496"
      ]
     },
     "execution_count": 77,
     "metadata": {},
     "output_type": "execute_result"
    }
   ],
   "source": [
    "rms"
   ]
  },
  {
   "cell_type": "code",
   "execution_count": 78,
   "metadata": {},
   "outputs": [
    {
     "data": {
      "text/html": [
       "<div>\n",
       "<style scoped>\n",
       "    .dataframe tbody tr th:only-of-type {\n",
       "        vertical-align: middle;\n",
       "    }\n",
       "\n",
       "    .dataframe tbody tr th {\n",
       "        vertical-align: top;\n",
       "    }\n",
       "\n",
       "    .dataframe thead th {\n",
       "        text-align: right;\n",
       "    }\n",
       "</style>\n",
       "<table border=\"1\" class=\"dataframe\">\n",
       "  <thead>\n",
       "    <tr style=\"text-align: right;\">\n",
       "      <th></th>\n",
       "      <th>SalePrice</th>\n",
       "      <th>0</th>\n",
       "    </tr>\n",
       "  </thead>\n",
       "  <tbody>\n",
       "    <tr>\n",
       "      <th>0</th>\n",
       "      <td>NaN</td>\n",
       "      <td>12.211065</td>\n",
       "    </tr>\n",
       "    <tr>\n",
       "      <th>1</th>\n",
       "      <td>12.109016</td>\n",
       "      <td>11.798112</td>\n",
       "    </tr>\n",
       "    <tr>\n",
       "      <th>2</th>\n",
       "      <td>12.317171</td>\n",
       "      <td>11.608245</td>\n",
       "    </tr>\n",
       "    <tr>\n",
       "      <th>3</th>\n",
       "      <td>NaN</td>\n",
       "      <td>12.165256</td>\n",
       "    </tr>\n",
       "    <tr>\n",
       "      <th>4</th>\n",
       "      <td>12.429220</td>\n",
       "      <td>11.385103</td>\n",
       "    </tr>\n",
       "    <tr>\n",
       "      <th>...</th>\n",
       "      <td>...</td>\n",
       "      <td>...</td>\n",
       "    </tr>\n",
       "    <tr>\n",
       "      <th>1415</th>\n",
       "      <td>12.077677</td>\n",
       "      <td>NaN</td>\n",
       "    </tr>\n",
       "    <tr>\n",
       "      <th>1427</th>\n",
       "      <td>11.849405</td>\n",
       "      <td>NaN</td>\n",
       "    </tr>\n",
       "    <tr>\n",
       "      <th>1429</th>\n",
       "      <td>12.116700</td>\n",
       "      <td>NaN</td>\n",
       "    </tr>\n",
       "    <tr>\n",
       "      <th>1450</th>\n",
       "      <td>11.820418</td>\n",
       "      <td>NaN</td>\n",
       "    </tr>\n",
       "    <tr>\n",
       "      <th>1452</th>\n",
       "      <td>11.884496</td>\n",
       "      <td>NaN</td>\n",
       "    </tr>\n",
       "  </tbody>\n",
       "</table>\n",
       "<p>524 rows × 2 columns</p>\n",
       "</div>"
      ],
      "text/plain": [
       "      SalePrice          0\n",
       "0           NaN  12.211065\n",
       "1     12.109016  11.798112\n",
       "2     12.317171  11.608245\n",
       "3           NaN  12.165256\n",
       "4     12.429220  11.385103\n",
       "...         ...        ...\n",
       "1415  12.077677        NaN\n",
       "1427  11.849405        NaN\n",
       "1429  12.116700        NaN\n",
       "1450  11.820418        NaN\n",
       "1452  11.884496        NaN\n",
       "\n",
       "[524 rows x 2 columns]"
      ]
     },
     "execution_count": 78,
     "metadata": {},
     "output_type": "execute_result"
    }
   ],
   "source": [
    "pd.concat([pd.DataFrame(y_test),pd.DataFrame(y_pred)],axis=1) #index joins of dataframe of actual and predicted dataset to compare"
   ]
  },
  {
   "cell_type": "code",
   "execution_count": 79,
   "metadata": {},
   "outputs": [
    {
     "name": "stderr",
     "output_type": "stream",
     "text": [
      "C:\\Users\\SHAILESH TIWARI\\anaconda3\\lib\\site-packages\\ipykernel_launcher.py:3: DataConversionWarning: A column-vector y was passed when a 1d array was expected. Please change the shape of y to (n_samples,), for example using ravel().\n",
      "  This is separate from the ipykernel package so we can avoid doing imports until\n"
     ]
    },
    {
     "data": {
      "text/plain": [
       "RandomForestRegressor(n_estimators=3)"
      ]
     },
     "execution_count": 79,
     "metadata": {},
     "output_type": "execute_result"
    }
   ],
   "source": [
    "from sklearn.ensemble import RandomForestRegressor  # random forest:creating multiple decision trees give better accuracy then decision tree\n",
    "regressor_rf = RandomForestRegressor(n_estimators=3) #creating three samples #grid search to choose best samples\n",
    "regressor_rf.fit(X_train,y_train)"
   ]
  },
  {
   "cell_type": "code",
   "execution_count": 80,
   "metadata": {},
   "outputs": [],
   "source": [
    "y_pred_rf = regressor_rf.predict(X_test)"
   ]
  },
  {
   "cell_type": "code",
   "execution_count": 81,
   "metadata": {},
   "outputs": [
    {
     "data": {
      "text/plain": [
       "array([12.21106516, 11.79811193, 11.61126132, 12.16525586, 11.38510346,\n",
       "       11.3504183 , 12.55194984, 11.85652226, 13.32814519, 11.9117083 ,\n",
       "       12.25040758, 11.82603795, 12.32386013, 11.72264681, 11.68688718,\n",
       "       11.88449592, 12.15478461, 11.72535132, 11.91461154, 11.95097173,\n",
       "       12.01471232, 11.88138938, 11.60824474, 12.06566547, 12.12811651,\n",
       "       12.0305332 , 12.08954445, 11.35235038, 12.67196361, 11.68239527,\n",
       "       11.60824474, 12.26575836, 11.9576177 , 12.43187624, 12.82548481,\n",
       "       12.07254425, 12.53537999, 11.63367376, 12.47764362, 12.69189109,\n",
       "       12.40574627, 11.77529742, 12.01350473, 12.54398938, 12.90492302,\n",
       "       11.68638833, 11.73607702, 11.76109289, 12.05815831, 11.3504183 ,\n",
       "       12.93215427, 11.95974762, 12.03370344, 11.51293546, 12.52509916,\n",
       "       11.72264681, 11.78929976, 12.3878398 , 11.84223641, 11.6526961 ,\n",
       "       11.83138647, 11.81303746, 11.80915835, 12.1034916 , 12.17045065,\n",
       "       11.96400745, 11.79056478, 12.32356376, 11.84223641, 12.32371195,\n",
       "       12.14950759, 11.67844838, 11.31448672, 12.88388045, 11.62626308,\n",
       "       12.41971184, 11.80915835, 11.28854365, 12.67405347, 11.96930012,\n",
       "       11.84940484, 11.82530598, 11.58494521, 11.88449592, 12.20740674,\n",
       "       12.12811651, 11.5645671 , 12.21932213, 12.13305659, 11.82031496,\n",
       "       12.20624427, 12.15478461, 12.14171529, 12.20574423, 12.05379468,\n",
       "       11.96400745, 12.26967716, 12.12811651, 11.73340502, 12.00151161,\n",
       "       12.46766866, 12.19552218, 11.69456019, 11.97944542, 11.57119639,\n",
       "       12.46844076, 11.8706069 , 11.57903219, 12.09428333, 11.75195024,\n",
       "       11.41308554, 11.68211386, 12.15478461, 11.69497746, 12.12142515,\n",
       "       11.95118685, 12.86429835, 11.79811193, 12.17561859, 12.50504437,\n",
       "       11.85652226, 11.89250834, 11.76627594, 12.0782369 , 12.27060607,\n",
       "       12.30591568, 12.95019584, 12.14420256, 12.20647919, 12.10071769,\n",
       "       12.23393333, 12.17045065, 11.8706069 , 12.12088242, 11.66135409,\n",
       "       12.2713968 , 11.84510995, 12.09663434, 11.58803877, 12.0782369 ,\n",
       "       11.97624635, 11.88334451, 12.28871557, 11.92371626, 11.59754279,\n",
       "       12.01572395, 12.20940266, 11.88850067, 12.67202754, 12.27839796,\n",
       "       12.10466036, 12.8269121 , 12.38422302, 11.89364794, 11.98916586,\n",
       "       12.42999263, 11.40385167, 12.34583894, 11.89819467, 12.00656935,\n",
       "       11.48419035, 11.86476102, 12.19011699, 11.76860642, 12.35463875,\n",
       "       11.6526961 , 12.07159323, 12.48653083, 12.24336992, 12.10625784,\n",
       "       12.07634833, 12.04841995, 12.18757139, 12.07634833, 11.63515195,\n",
       "       11.84223641, 11.81303746, 12.38811909, 11.62626308, 11.80808546,\n",
       "       12.6687401 , 12.03962647, 11.66278777, 12.63003464, 11.32860992,\n",
       "       12.07159323, 11.56961287, 12.17045065, 12.17045065, 11.95726495,\n",
       "       11.83622175, 12.08089671, 12.27060607, 11.90384628, 11.75195024,\n",
       "       11.86733813, 11.28896057, 11.88449592, 12.0474323 , 11.71831889,\n",
       "       11.84223641, 12.14950759, 11.69941333, 11.72804491, 11.98335175,\n",
       "       12.20574423, 11.98293534, 12.64946629, 12.52509916, 11.09481239,\n",
       "       11.97645606, 12.43431673, 11.44572741, 11.60368896, 12.85998172,\n",
       "       11.76731694, 11.3306119 , 12.62738384, 12.43187624, 11.29808885,\n",
       "       12.14011572, 11.61126132, 11.66993776, 11.76472796, 12.26888826,\n",
       "       12.55727381, 12.34583894, 12.15478461, 11.81303746, 11.93164238,\n",
       "       11.38510346, 11.95118685, 11.6526961 , 11.87757552, 12.42250976,\n",
       "       11.79434547, 11.81884654, 11.66993776, 11.31448672, 11.96993457,\n",
       "       11.6076384 , 12.10533576, 12.17216435, 12.31791604, 12.10650452,\n",
       "       12.04236202, 12.14082522, 12.13126448, 11.98335175, 12.16525586,\n",
       "       12.10741898, 12.49362689, 11.51293546, 13.10719824, 12.33911147,\n",
       "       12.28533798, 11.61246986, 12.0782369 , 13.21047723, 11.98293534,\n",
       "       12.05777173, 11.586795  , 11.7854999 , 11.56804426, 12.86209813,\n",
       "       12.82773188, 12.75418861, 11.15254703, 12.42999263, 12.40792825,\n",
       "       11.73607702, 12.36079756, 11.88449592, 12.1071723 , 11.55148708,\n",
       "       12.35961313, 12.00760438, 12.29942982, 12.17904838, 11.586795  ,\n",
       "       11.91773036, 12.66085977, 12.08954445, 11.84940484, 12.17045065,\n",
       "       11.83622175, 11.67844838, 12.69528572, 13.18062248, 11.82092939,\n",
       "       11.3306119 , 11.54045234])"
      ]
     },
     "execution_count": 81,
     "metadata": {},
     "output_type": "execute_result"
    }
   ],
   "source": [
    "y_pred_rf"
   ]
  },
  {
   "cell_type": "code",
   "execution_count": 82,
   "metadata": {},
   "outputs": [
    {
     "data": {
      "text/html": [
       "<div>\n",
       "<style scoped>\n",
       "    .dataframe tbody tr th:only-of-type {\n",
       "        vertical-align: middle;\n",
       "    }\n",
       "\n",
       "    .dataframe tbody tr th {\n",
       "        vertical-align: top;\n",
       "    }\n",
       "\n",
       "    .dataframe thead th {\n",
       "        text-align: right;\n",
       "    }\n",
       "</style>\n",
       "<table border=\"1\" class=\"dataframe\">\n",
       "  <thead>\n",
       "    <tr style=\"text-align: right;\">\n",
       "      <th></th>\n",
       "      <th>SalePrice</th>\n",
       "    </tr>\n",
       "  </thead>\n",
       "  <tbody>\n",
       "    <tr>\n",
       "      <th>529</th>\n",
       "      <td>12.209193</td>\n",
       "    </tr>\n",
       "    <tr>\n",
       "      <th>491</th>\n",
       "      <td>11.798112</td>\n",
       "    </tr>\n",
       "    <tr>\n",
       "      <th>459</th>\n",
       "      <td>11.608245</td>\n",
       "    </tr>\n",
       "    <tr>\n",
       "      <th>279</th>\n",
       "      <td>12.165256</td>\n",
       "    </tr>\n",
       "    <tr>\n",
       "      <th>655</th>\n",
       "      <td>11.385103</td>\n",
       "    </tr>\n",
       "    <tr>\n",
       "      <th>...</th>\n",
       "      <td>...</td>\n",
       "    </tr>\n",
       "    <tr>\n",
       "      <th>326</th>\n",
       "      <td>12.688502</td>\n",
       "    </tr>\n",
       "    <tr>\n",
       "      <th>440</th>\n",
       "      <td>13.226725</td>\n",
       "    </tr>\n",
       "    <tr>\n",
       "      <th>1387</th>\n",
       "      <td>11.820418</td>\n",
       "    </tr>\n",
       "    <tr>\n",
       "      <th>1323</th>\n",
       "      <td>11.320566</td>\n",
       "    </tr>\n",
       "    <tr>\n",
       "      <th>61</th>\n",
       "      <td>11.522886</td>\n",
       "    </tr>\n",
       "  </tbody>\n",
       "</table>\n",
       "<p>292 rows × 1 columns</p>\n",
       "</div>"
      ],
      "text/plain": [
       "      SalePrice\n",
       "529   12.209193\n",
       "491   11.798112\n",
       "459   11.608245\n",
       "279   12.165256\n",
       "655   11.385103\n",
       "...         ...\n",
       "326   12.688502\n",
       "440   13.226725\n",
       "1387  11.820418\n",
       "1323  11.320566\n",
       "61    11.522886\n",
       "\n",
       "[292 rows x 1 columns]"
      ]
     },
     "execution_count": 82,
     "metadata": {},
     "output_type": "execute_result"
    }
   ],
   "source": [
    "y_test"
   ]
  },
  {
   "cell_type": "code",
   "execution_count": 83,
   "metadata": {},
   "outputs": [],
   "source": [
    "from sklearn.metrics import mean_squared_error\n",
    "\n",
    "rms = mean_squared_error(y_test, y_pred_rf, squared=False)"
   ]
  },
  {
   "cell_type": "code",
   "execution_count": 84,
   "metadata": {},
   "outputs": [
    {
     "data": {
      "text/plain": [
       "0.013821622825530809"
      ]
     },
     "execution_count": 84,
     "metadata": {},
     "output_type": "execute_result"
    }
   ],
   "source": [
    "rms"
   ]
  },
  {
   "cell_type": "code",
   "execution_count": 85,
   "metadata": {},
   "outputs": [
    {
     "data": {
      "text/html": [
       "<div>\n",
       "<style scoped>\n",
       "    .dataframe tbody tr th:only-of-type {\n",
       "        vertical-align: middle;\n",
       "    }\n",
       "\n",
       "    .dataframe tbody tr th {\n",
       "        vertical-align: top;\n",
       "    }\n",
       "\n",
       "    .dataframe thead th {\n",
       "        text-align: right;\n",
       "    }\n",
       "</style>\n",
       "<table border=\"1\" class=\"dataframe\">\n",
       "  <thead>\n",
       "    <tr style=\"text-align: right;\">\n",
       "      <th></th>\n",
       "      <th>SalePrice</th>\n",
       "      <th>0</th>\n",
       "      <th>0</th>\n",
       "    </tr>\n",
       "  </thead>\n",
       "  <tbody>\n",
       "    <tr>\n",
       "      <th>0</th>\n",
       "      <td>NaN</td>\n",
       "      <td>12.211065</td>\n",
       "      <td>12.211065</td>\n",
       "    </tr>\n",
       "    <tr>\n",
       "      <th>1</th>\n",
       "      <td>12.109016</td>\n",
       "      <td>11.798112</td>\n",
       "      <td>11.798112</td>\n",
       "    </tr>\n",
       "    <tr>\n",
       "      <th>2</th>\n",
       "      <td>12.317171</td>\n",
       "      <td>11.608245</td>\n",
       "      <td>11.611261</td>\n",
       "    </tr>\n",
       "    <tr>\n",
       "      <th>3</th>\n",
       "      <td>NaN</td>\n",
       "      <td>12.165256</td>\n",
       "      <td>12.165256</td>\n",
       "    </tr>\n",
       "    <tr>\n",
       "      <th>4</th>\n",
       "      <td>12.429220</td>\n",
       "      <td>11.385103</td>\n",
       "      <td>11.385103</td>\n",
       "    </tr>\n",
       "    <tr>\n",
       "      <th>...</th>\n",
       "      <td>...</td>\n",
       "      <td>...</td>\n",
       "      <td>...</td>\n",
       "    </tr>\n",
       "    <tr>\n",
       "      <th>1415</th>\n",
       "      <td>12.077677</td>\n",
       "      <td>NaN</td>\n",
       "      <td>NaN</td>\n",
       "    </tr>\n",
       "    <tr>\n",
       "      <th>1427</th>\n",
       "      <td>11.849405</td>\n",
       "      <td>NaN</td>\n",
       "      <td>NaN</td>\n",
       "    </tr>\n",
       "    <tr>\n",
       "      <th>1429</th>\n",
       "      <td>12.116700</td>\n",
       "      <td>NaN</td>\n",
       "      <td>NaN</td>\n",
       "    </tr>\n",
       "    <tr>\n",
       "      <th>1450</th>\n",
       "      <td>11.820418</td>\n",
       "      <td>NaN</td>\n",
       "      <td>NaN</td>\n",
       "    </tr>\n",
       "    <tr>\n",
       "      <th>1452</th>\n",
       "      <td>11.884496</td>\n",
       "      <td>NaN</td>\n",
       "      <td>NaN</td>\n",
       "    </tr>\n",
       "  </tbody>\n",
       "</table>\n",
       "<p>524 rows × 3 columns</p>\n",
       "</div>"
      ],
      "text/plain": [
       "      SalePrice          0          0\n",
       "0           NaN  12.211065  12.211065\n",
       "1     12.109016  11.798112  11.798112\n",
       "2     12.317171  11.608245  11.611261\n",
       "3           NaN  12.165256  12.165256\n",
       "4     12.429220  11.385103  11.385103\n",
       "...         ...        ...        ...\n",
       "1415  12.077677        NaN        NaN\n",
       "1427  11.849405        NaN        NaN\n",
       "1429  12.116700        NaN        NaN\n",
       "1450  11.820418        NaN        NaN\n",
       "1452  11.884496        NaN        NaN\n",
       "\n",
       "[524 rows x 3 columns]"
      ]
     },
     "execution_count": 85,
     "metadata": {},
     "output_type": "execute_result"
    }
   ],
   "source": [
    "pd.concat([pd.DataFrame(y_test),pd.DataFrame(y_pred), pd.DataFrame(y_pred_rf)],axis=1)"
   ]
  },
  {
   "cell_type": "code",
   "execution_count": null,
   "metadata": {},
   "outputs": [],
   "source": []
  },
  {
   "cell_type": "code",
   "execution_count": 86,
   "metadata": {},
   "outputs": [
    {
     "name": "stderr",
     "output_type": "stream",
     "text": [
      "C:\\Users\\SHAILESH TIWARI\\anaconda3\\lib\\site-packages\\statsmodels\\tsa\\tsatools.py:142: FutureWarning: In a future version of pandas all arguments of concat except for the argument 'objs' will be keyword-only\n",
      "  x = pd.concat(x[::order], 1)\n"
     ]
    }
   ],
   "source": [
    "import statsmodels.api as sma\n",
    "x_train = sma.add_constant(X_train) ## let's add an intercept (beta_0) to our model\n",
    "x_test = sma.add_constant(X_test) "
   ]
  },
  {
   "cell_type": "code",
   "execution_count": 87,
   "metadata": {},
   "outputs": [
    {
     "data": {
      "text/plain": [
       "[2759.04393677355,\n",
       " 1.0988107065145796,\n",
       " 1.2756120378484321,\n",
       " 58.56274184831924,\n",
       " 79.20700428599659,\n",
       " 103.62240688818748,\n",
       " 2.047079360026735,\n",
       " 48.07826868507134,\n",
       " 3.424668611747407,\n",
       " 13.468666592389638,\n",
       " 1.860474962628535,\n",
       " 41.20880219439848,\n",
       " 3.7180087540994884]"
      ]
     },
     "execution_count": 87,
     "metadata": {},
     "output_type": "execute_result"
    }
   ],
   "source": [
    "from statsmodels.stats.outliers_influence import variance_inflation_factor\n",
    "[variance_inflation_factor(x_train.values, j) for j in range(x_train.shape[1])]"
   ]
  },
  {
   "cell_type": "code",
   "execution_count": 88,
   "metadata": {},
   "outputs": [
    {
     "name": "stdout",
     "output_type": "stream",
     "text": [
      "Iteration no.\n",
      "1\n",
      "[2759.04393677355, 1.0988107065145796, 1.2756120378484321, 58.56274184831924, 79.20700428599659, 103.62240688818748, 2.047079360026735, 48.07826868507134, 3.424668611747407, 13.468666592389638, 1.860474962628535, 41.20880219439848, 3.7180087540994884]\n",
      "Max VIF is for variable no.:\n",
      "0\n",
      "Iteration no.\n",
      "2\n",
      "[2.1649006504347823, 1.6493943897832302, 619.5300012560865, 129.59973630619686, 1009.9392839190791, 10.23149542140689, 134.66796877675233, 3.4099153429401152, 14.307114742636898, 1.8287350796908661, 55.31993567703952, 268.8815749395829]\n",
      "Max VIF is for variable no.:\n",
      "4\n",
      "Iteration no.\n",
      "3\n",
      "[2.164860504059394, 1.6422008286853034, 20.79026363564855, 2.3692090066696907, 10.209151773134094, 134.6679394345588, 3.40729462885666, 14.30537123392986, 1.8287109944049034, 55.303920164027375, 268.8639842313094]\n",
      "Max VIF is for variable no.:\n",
      "10\n",
      "Iteration no.\n",
      "4\n",
      "[2.1582524678119865, 1.6341707663726224, 18.84830989024906, 2.258609655669944, 9.056873382230918, 10.087579361028052, 1.1933737037611192, 2.2414856850599953, 1.0519227863729297, 3.682518229324435]\n",
      "Max VIF is for variable no.:\n",
      "2\n",
      "Iteration no.\n",
      "5\n",
      "[2.039694865483292, 1.5616311660849411, 1.9770839558593538, 6.788681743324047, 4.736703117294864, 1.0592004955233352, 1.760831114204433, 1.0184232157412965, 2.2677487196001143]\n",
      "Max VIF is for variable no.:\n",
      "3\n",
      "Iteration no.\n",
      "6\n",
      "[1.995152063194066, 1.4123214879677908, 1.9619582843641674, 2.1984945550059387, 1.0156457834071375, 1.4514031314064986, 1.0047890503498171, 1.3566617820676792]\n",
      "Max VIF is for variable no.:\n",
      "3\n"
     ]
    }
   ],
   "source": [
    "def calculate_vif(x):\n",
    "    thresh = 5.0\n",
    "    output = pd.DataFrame()\n",
    "    k = x.shape[1]\n",
    "    vif = [variance_inflation_factor(x.values, j) for j in range(x.shape[1])]\n",
    "    for i in range(1,k):\n",
    "        print(\"Iteration no.\")\n",
    "        print(i)\n",
    "        print(vif)\n",
    "        a = np.argmax(vif)\n",
    "        print(\"Max VIF is for variable no.:\")\n",
    "        print(a)\n",
    "        if vif[a] <= thresh :\n",
    "            break\n",
    "        if i == 1 :          \n",
    "            output = x.drop(x.columns[a], axis = 1)\n",
    "            vif = [variance_inflation_factor(output.values, j) for j in range(output.shape[1])]\n",
    "        elif i > 1 :\n",
    "            output = output.drop(output.columns[a],axis = 1)\n",
    "            vif = [variance_inflation_factor(output.values, j) for j in range(output.shape[1])]\n",
    "    return(output)\n",
    "train_out = calculate_vif(x_train) "
   ]
  },
  {
   "cell_type": "code",
   "execution_count": 89,
   "metadata": {},
   "outputs": [
    {
     "data": {
      "text/html": [
       "<div>\n",
       "<style scoped>\n",
       "    .dataframe tbody tr th:only-of-type {\n",
       "        vertical-align: middle;\n",
       "    }\n",
       "\n",
       "    .dataframe tbody tr th {\n",
       "        vertical-align: top;\n",
       "    }\n",
       "\n",
       "    .dataframe thead th {\n",
       "        text-align: right;\n",
       "    }\n",
       "</style>\n",
       "<table border=\"1\" class=\"dataframe\">\n",
       "  <thead>\n",
       "    <tr style=\"text-align: right;\">\n",
       "      <th></th>\n",
       "      <th>LotArea</th>\n",
       "      <th>MasVnrArea</th>\n",
       "      <th>2ndFlrSF</th>\n",
       "      <th>GarageType_1</th>\n",
       "      <th>GarageType_2</th>\n",
       "      <th>GarageType_3</th>\n",
       "      <th>GarageType_4</th>\n",
       "      <th>GarageType_5</th>\n",
       "    </tr>\n",
       "  </thead>\n",
       "  <tbody>\n",
       "    <tr>\n",
       "      <th>618</th>\n",
       "      <td>11694</td>\n",
       "      <td>452.0</td>\n",
       "      <td>0</td>\n",
       "      <td>1</td>\n",
       "      <td>0</td>\n",
       "      <td>0</td>\n",
       "      <td>0</td>\n",
       "      <td>0</td>\n",
       "    </tr>\n",
       "    <tr>\n",
       "      <th>870</th>\n",
       "      <td>6600</td>\n",
       "      <td>0.0</td>\n",
       "      <td>0</td>\n",
       "      <td>0</td>\n",
       "      <td>0</td>\n",
       "      <td>0</td>\n",
       "      <td>0</td>\n",
       "      <td>1</td>\n",
       "    </tr>\n",
       "    <tr>\n",
       "      <th>92</th>\n",
       "      <td>13360</td>\n",
       "      <td>0.0</td>\n",
       "      <td>0</td>\n",
       "      <td>0</td>\n",
       "      <td>0</td>\n",
       "      <td>0</td>\n",
       "      <td>0</td>\n",
       "      <td>1</td>\n",
       "    </tr>\n",
       "    <tr>\n",
       "      <th>817</th>\n",
       "      <td>13265</td>\n",
       "      <td>148.0</td>\n",
       "      <td>0</td>\n",
       "      <td>1</td>\n",
       "      <td>0</td>\n",
       "      <td>0</td>\n",
       "      <td>0</td>\n",
       "      <td>0</td>\n",
       "    </tr>\n",
       "    <tr>\n",
       "      <th>302</th>\n",
       "      <td>13704</td>\n",
       "      <td>150.0</td>\n",
       "      <td>0</td>\n",
       "      <td>1</td>\n",
       "      <td>0</td>\n",
       "      <td>0</td>\n",
       "      <td>0</td>\n",
       "      <td>0</td>\n",
       "    </tr>\n",
       "  </tbody>\n",
       "</table>\n",
       "</div>"
      ],
      "text/plain": [
       "     LotArea  MasVnrArea  2ndFlrSF  GarageType_1  GarageType_2  GarageType_3  \\\n",
       "618    11694       452.0         0             1             0             0   \n",
       "870     6600         0.0         0             0             0             0   \n",
       "92     13360         0.0         0             0             0             0   \n",
       "817    13265       148.0         0             1             0             0   \n",
       "302    13704       150.0         0             1             0             0   \n",
       "\n",
       "     GarageType_4  GarageType_5  \n",
       "618             0             0  \n",
       "870             0             1  \n",
       "92              0             1  \n",
       "817             0             0  \n",
       "302             0             0  "
      ]
     },
     "execution_count": 89,
     "metadata": {},
     "output_type": "execute_result"
    }
   ],
   "source": [
    "train_out.head()"
   ]
  },
  {
   "cell_type": "code",
   "execution_count": null,
   "metadata": {},
   "outputs": [],
   "source": []
  },
  {
   "cell_type": "code",
   "execution_count": null,
   "metadata": {},
   "outputs": [],
   "source": []
  }
 ],
 "metadata": {
  "kernelspec": {
   "display_name": "Python 3",
   "language": "python",
   "name": "python3"
  },
  "language_info": {
   "codemirror_mode": {
    "name": "ipython",
    "version": 3
   },
   "file_extension": ".py",
   "mimetype": "text/x-python",
   "name": "python",
   "nbconvert_exporter": "python",
   "pygments_lexer": "ipython3",
   "version": "3.7.6"
  }
 },
 "nbformat": 4,
 "nbformat_minor": 4
}
