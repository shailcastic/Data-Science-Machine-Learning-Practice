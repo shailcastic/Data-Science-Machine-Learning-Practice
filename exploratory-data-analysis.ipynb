{
 "cells": [
  {
   "cell_type": "markdown",
   "metadata": {
    "id": "K_ODdHLQCFAb"
   },
   "source": [
    "<table align=\"center\" width=100%>\n",
    "    <tr>\n",
    "        <td width=\"15%\">\n",
    "            <img src=\"edaicon.png\">\n",
    "        </td>\n",
    "        <td>\n",
    "            <div align=\"center\">\n",
    "                <font color=\"#21618C\" size=24px>\n",
    "                    <b>Exploratory Data Analysis\n",
    "                    </b>\n",
    "                </font>\n",
    "            </div>\n",
    "        </td>\n",
    "    </tr>\n",
    "</table>"
   ]
  },
  {
   "cell_type": "markdown",
   "metadata": {
    "id": "XJpSC2QDCFAe"
   },
   "source": [
    "## Problem Statement\n",
    "\n",
    "The zomato exploratory data analysis is for the foodies to find the best restaurants, value for money restaurants in their locality. It also helps to find their required cuisines in their locality.  "
   ]
  },
  {
   "cell_type": "markdown",
   "metadata": {
    "id": "a0NdrF5rCFAg"
   },
   "source": [
    "## Data Definition\n",
    "\n",
    "**res_id**: The code given to a restaurant (Categorical) \n",
    "\n",
    "**name**: Name of the restaurant (Categorical)\n",
    "\n",
    "**establishment**: Represents the type of establishment (Categorical)\n",
    "\n",
    "**url**: The website of the restaurant (Categorical)\n",
    "\n",
    "**address**: The address of the restaurant (Categorical)\n",
    "\n",
    "**city**: City in which the restaurant located (Categorical)\n",
    "\n",
    "**city_id**: The code given to a city (Categorical)\n",
    "\n",
    "**locality**: Locality of the restaurant (Categorical)\n",
    "\n",
    "**latitude**: Latitude of the restaurant (Categorical)\n",
    "\n",
    "**longitude**: Longitude of the restaurant (Categorical)\n",
    "\n",
    "**zipcode**: Zipcode of the city in which the restaurant located (Categorical)\n",
    "\n",
    "**country_id**: Country code in which the restaurant located (Categorical)\n",
    "\n",
    "**locality_verbose**: Locality along with the city in which the restaurant located (Categorical)\n",
    "\n",
    "**cuisines**: The cuisines a restaurant serves (Categorical)\n",
    "\n",
    "**timings**: The working hours of a restaurant (Categorical)\n",
    "\n",
    "**average_cost_for_two**: The average amount expected for 2 people (Numerical)\n",
    "\n",
    "**price_range**: The categories for average cost (Categories - 1,2,3,4) (Categorical)\n",
    "\n",
    "**currency**: The currency in which a customer pays (Categorical)\n",
    "\n",
    "**highlights**: The facilities of the restaurant (Categorical)\n",
    "\n",
    "**aggregate_rating**: The overall rating a restaurant has got (Numerical) \n",
    "\n",
    "**rating_text**: Categorized ratings (Categorical)\n",
    "\n",
    "**votes**: Number of votes received by the restaurant from customers (Numerical)\n",
    "\n",
    "**photo_count**: The number of photos of a restaurant (Numerical)\n",
    "\n",
    "**opentable_support**: Restaurant reservation from Opentable (Categorical)\n",
    "\n",
    "**delivery**: The restaurant deliver an order or not (Categorical)\n",
    "\n",
    "**takeaway**: The restaurant allows  a 'takeaway' of an order or not (Categorical)"
   ]
  },
  {
   "cell_type": "markdown",
   "metadata": {
    "id": "81ICQhnGCFAh"
   },
   "source": [
    "## Table of Contents\n",
    "\n",
    "1. **[Import Libraries](#import_lib)** \n",
    "2. **[Set Options](#set_options)** \n",
    "3. **[Read Data](#Read_Data)** \n",
    "4. **[Understand  and Prepare the Data](#Understand_Data)**\n",
    "5. **[Understand the variables](#Understanding_variables)**\n",
    "6. **[Check for Missing Values](#missing)**\n",
    "7. **[Study Correlation](#correlation)**\n",
    "8. **[Detect Outliers](#outliers)**\n",
    "9. **[Create a new variable 'region'](#region)**\n",
    "10. **[Some more analysis](#more)** \n"
   ]
  },
  {
   "cell_type": "markdown",
   "metadata": {
    "id": "wBd82phICFAj"
   },
   "source": [
    "<a id='import_lib'></a>\n",
    "## 1. Import Libraries"
   ]
  },
  {
   "cell_type": "markdown",
   "metadata": {
    "id": "2qIHupI7CFAk"
   },
   "source": [
    "<table align =\"left\">\n",
    "    <tr>\n",
    "        <td width=\"8%\">\n",
    "            <img src=\"todo.png\">\n",
    "        </td>\n",
    "        <td>\n",
    "            <div align=\"left\", style=\"font-size:120%\">\n",
    "                <font color=\"#21618C\">\n",
    "                    <b> Import the required libraries and functions\n",
    "                    </b>\n",
    "                </font>\n",
    "            </div>\n",
    "        </td>\n",
    "    </tr>\n",
    "</table>"
   ]
  },
  {
   "cell_type": "code",
   "execution_count": 0,
   "metadata": {
    "id": "cscSfwIOCFAl"
   },
   "outputs": [],
   "source": [
    "import pandas as pd\n",
    "import numpy as np "
   ]
  },
  {
   "cell_type": "markdown",
   "metadata": {
    "id": "Akro9n-zCFAr"
   },
   "source": [
    "Inference- \n",
    "Importing the needed libraries namely numpy,pandas,geopandas, matplotlib"
   ]
  },
  {
   "cell_type": "markdown",
   "metadata": {
    "id": "_QjNzuWrCFAs"
   },
   "source": [
    "<a id='set_options'></a>\n",
    "## 2. Set Options"
   ]
  },
  {
   "cell_type": "markdown",
   "metadata": {
    "id": "7nTDiMwGCFAu"
   },
   "source": [
    "<table align=\"left\">\n",
    "    <tr>\n",
    "        <td width=\"8%\">\n",
    "            <img src=\"todo.png\">\n",
    "        </td>\n",
    "        <td>\n",
    "            <div align=\"left\", style=\"font-size:120%\">\n",
    "                <font color=\"#21618C\">\n",
    "                    <b>Make necessary changes to :<br><br>\n",
    "Set the working directory              \n",
    "                    </b>\n",
    "                </font>\n",
    "            </div>\n",
    "        </td>\n",
    "    </tr>\n",
    "</table>"
   ]
  },
  {
   "cell_type": "code",
   "execution_count": 0,
   "metadata": {
    "id": "eiWI_OOUCFAv"
   },
   "outputs": [],
   "source": [
    "!type pip\n",
    "!type python"
   ]
  },
  {
   "cell_type": "markdown",
   "metadata": {
    "id": "fMhsWV8eCFA1"
   },
   "source": [
    "Inference- \n",
    "The directory was already set and hence no changes were needed to be \n",
    "I checked for the location of pip and python on the system."
   ]
  },
  {
   "cell_type": "markdown",
   "metadata": {
    "id": "xkPk2qTRCFA2"
   },
   "source": [
    "<a id='Read_Data'></a>\n",
    "## 3. Read Data"
   ]
  },
  {
   "cell_type": "code",
   "execution_count": null,
   "metadata": {
    "id": "nYUz-t9cCFA3",
    "outputId": "7718fba7-1c35-4d6f-cf43-09f757089ae7"
   },
   "outputs": [],
   "source": [
    "data=pd.read_csv(\"ZomatoRestaurantsIndia.csv\")\n",
    "data"
   ]
  },
  {
   "cell_type": "markdown",
   "metadata": {
    "id": "hukz3msGCFA8"
   },
   "source": [
    "Inference- Reading the data"
   ]
  },
  {
   "cell_type": "markdown",
   "metadata": {
    "id": "3yLMTF0ACFA9"
   },
   "source": [
    "<a id='Understand_Data'></a>\n",
    "## 4. Understand  and Prepare the Data"
   ]
  },
  {
   "cell_type": "markdown",
   "metadata": {
    "id": "l_jpObioCFA-"
   },
   "source": [
    "A well-prepared data proves beneficial for analysis as it limits errors and inaccuracies that can occur during analysis. The processed data is more accessible to users.<br> <br>\n",
    "                         Data understanding is the process of getting familiar with the data, to identify data type, to discover first insights into the data, or to detect interesting subsets to form hypotheses about hidden information. Whereas, data preparation is the process of cleaning and transforming raw data before analysis. It is an important step before processing and often involves reformatting data, making corrections to data. <br> <br>\n",
    "                        Data preparation is often a lengthy process, but it is essential as a prerequisite to put data in context to get insights and eliminate bias resulting from poor data quality."
   ]
  },
  {
   "cell_type": "markdown",
   "metadata": {
    "id": "lg0uS1OaCFA_"
   },
   "source": [
    "<table align=\"left\">\n",
    "    <tr>\n",
    "        <td width=\"8%\">\n",
    "            <img src=\"todo.png\">\n",
    "        </td>\n",
    "        <td>\n",
    "            <div align=\"left\", style=\"font-size:120%\">\n",
    "                <font color=\"#21618C\">\n",
    "                    <b> Analyze and prepare data:<br>\n",
    "                        1. Check dimensions of the dataframe <br>\n",
    "                        2. View the head of the data<br>\n",
    "                        3. Note the redundant variables and drop them <br>\n",
    "                        4. Check the data types. Refer to data definition to ensure your data types are correct. If data types are not as per business context, change the data types as per requirement <br>\n",
    "                        5. Check for duplicates<br>\n",
    "                        Note: It is an art to explore data and one will need more and more practice to gain expertise in this area\n",
    "                    </b>\n",
    "                </font>\n",
    "            </div>\n",
    "        </td>\n",
    "    </tr>\n",
    "</table>"
   ]
  },
  {
   "cell_type": "markdown",
   "metadata": {
    "id": "qhPSJ9yWCFBB"
   },
   "source": [
    "### -------------------------*** Provide the inference's from the output of every code executed.***----------------------------"
   ]
  },
  {
   "cell_type": "markdown",
   "metadata": {
    "id": "X4vrEGQSCFBC"
   },
   "source": [
    "**1. Check dimensions of the dataframe in terms of rows and columns**"
   ]
  },
  {
   "cell_type": "code",
   "execution_count": null,
   "metadata": {
    "id": "u0yaggJOCFBD",
    "outputId": "9e99682b-bddb-4e4b-a9ed-75f2cb63eae2"
   },
   "outputs": [],
   "source": [
    "data.shape"
   ]
  },
  {
   "cell_type": "markdown",
   "metadata": {
    "id": "kEMtUUGRCFBG"
   },
   "source": [
    "Inference drawn: \n",
    "    * The no.of rows are 211944\n",
    "    * The no.of columns are 26"
   ]
  },
  {
   "cell_type": "markdown",
   "metadata": {
    "id": "OAJpxlJCCFBH"
   },
   "source": [
    "**2. View the head of the data**"
   ]
  },
  {
   "cell_type": "code",
   "execution_count": null,
   "metadata": {
    "id": "JDHnCA1yCFBJ",
    "outputId": "55e50eb6-d981-4ae6-dfad-92e0f74b40b9"
   },
   "outputs": [],
   "source": [
    "data.head(5)\n",
    "# data.locality_verbose"
   ]
  },
  {
   "cell_type": "markdown",
   "metadata": {
    "id": "7z2l49QeCFBO"
   },
   "source": [
    "Inference -\n",
    "\n",
    "*There are 26 different columns in the dataset with data related to various aspects of sales related to Zomato\n",
    "\n",
    "*The focus has is only on data related to the Indian subcontinent"
   ]
  },
  {
   "cell_type": "markdown",
   "metadata": {
    "id": "Hno55tbbCFBP"
   },
   "source": [
    "**3. Note the redundant variables and drop them**"
   ]
  },
  {
   "cell_type": "code",
   "execution_count": 0,
   "metadata": {
    "id": "nGmPkpQvCFBQ",
    "scrolled": true
   },
   "outputs": [],
   "source": [
    "data.columns\n",
    "\n",
    "#country_id\n",
    "#city\n",
    "#country_id\n",
    "#locality_verbose\n",
    "#currency\n",
    "#opentable_support\n",
    "\n",
    "data=data.drop(['country_id','locality_verbose','currency','opentable_support'],axis=1)\n"
   ]
  },
  {
   "cell_type": "markdown",
   "metadata": {
    "id": "Tk8yraRuCFBT"
   },
   "source": [
    "The variables are \n",
    "\n",
    "1) country_id - since focus is only for the country India and hence country_id is same everywhere\n",
    "\n",
    "2) locality_verbose - address parameter is already given \n",
    "\n",
    "3) currency - since it is only for India, the currency is constant\n",
    "\n",
    "4) Opentable_support - all various are 0 hence can be dropped"
   ]
  },
  {
   "cell_type": "code",
   "execution_count": null,
   "metadata": {
    "id": "ipqwoZAiCFBU",
    "outputId": "f1d940a5-6f7f-490e-82f6-87e35435aa87"
   },
   "outputs": [],
   "source": [
    "data.shape"
   ]
  },
  {
   "cell_type": "markdown",
   "metadata": {
    "id": "eqcDT1W_CFBX"
   },
   "source": [
    "Inference- \n",
    "\n",
    "checking to undersand if the columns were droppped or not\n",
    "We can see that the columns reduced to 22 from 26"
   ]
  },
  {
   "cell_type": "markdown",
   "metadata": {
    "id": "iVDc2oN5CFBY"
   },
   "source": [
    "**4. Check the data types. Refer to data definition to ensure your data types are correct. If data types are not as per business context, change the data types as per requirement**\n"
   ]
  },
  {
   "cell_type": "code",
   "execution_count": null,
   "metadata": {
    "id": "Z8h90-WOCFBZ",
    "outputId": "7c170a05-b1b4-4a2a-ae67-5fe7bfb9fd62"
   },
   "outputs": [],
   "source": [
    "data\n",
    "data.dtypes"
   ]
  },
  {
   "cell_type": "markdown",
   "metadata": {
    "id": "jJh5RN2uCFBd"
   },
   "source": [
    "Inference- \n",
    "\n",
    "checking the datatype of the dataset"
   ]
  },
  {
   "cell_type": "markdown",
   "metadata": {
    "id": "yk46joIRCFBe"
   },
   "source": [
    "#### Change the incorrect data type"
   ]
  },
  {
   "cell_type": "code",
   "execution_count": null,
   "metadata": {
    "id": "L617v7FmCFBf",
    "outputId": "2b0ec082-5317-4e1b-ab89-471fe4c4a883"
   },
   "outputs": [],
   "source": [
    "#TO CATEGORICAL FORMAT\n",
    "\n",
    "data=data.astype('category')\n",
    "\n",
    "#TO NUMERICAL FORMAT\n",
    "\n",
    "# average_cost_for_two\n",
    "# aggregate_rating\n",
    "# photo_count\n",
    "# votes\n",
    "\n",
    "data.average_cost_for_two=data.average_cost_for_two.astype('int64')\n",
    "data.aggregate_rating=data.aggregate_rating.astype('float64')\n",
    "data.photo_count=data.photo_count.astype('int64')\n",
    "data.votes=data.votes.astype('int64')\n",
    "\n",
    "\n",
    "\n",
    "data.dtypes"
   ]
  },
  {
   "cell_type": "markdown",
   "metadata": {
    "id": "kfRoEg2wCFBj"
   },
   "source": [
    "Inference- \n",
    "\n",
    "* the datatypes were changed according to the business requirements into the two types- categorial/numerical"
   ]
  },
  {
   "cell_type": "markdown",
   "metadata": {
    "id": "j-mgC1TRCFBk"
   },
   "source": [
    "**5. Check for Duplicates**"
   ]
  },
  {
   "cell_type": "code",
   "execution_count": null,
   "metadata": {
    "id": "rQSAzhamCFBl",
    "outputId": "86d12365-074e-41ee-a16c-d6a9d1831a3c"
   },
   "outputs": [],
   "source": [
    "#this is done based on all columns in the data\n",
    "data_duplicated=data[data.duplicated()]\n",
    "data_duplicated"
   ]
  },
  {
   "cell_type": "markdown",
   "metadata": {
    "id": "7aZB6aVJCFBo"
   },
   "source": [
    "Inference-\n",
    "    \n",
    "    We can understand that there are about 151533 rows in the dataset having some/all values as repeated values "
   ]
  },
  {
   "cell_type": "code",
   "execution_count": null,
   "metadata": {
    "id": "ccDG-JwVCFBp",
    "outputId": "093b5d0b-a813-49b1-de37-bb66c3b267f4"
   },
   "outputs": [],
   "source": [
    "#let us do for city column \n",
    "\n",
    "data_city_dup=data[data['city'].duplicated()]\n",
    "data_city_dup"
   ]
  },
  {
   "cell_type": "markdown",
   "metadata": {
    "id": "FYIEeda3CFBw"
   },
   "source": [
    "Inference-\n",
    " \n",
    "We can observe that since there are only 98 unique cities in the dataset, and there are 211944 values , there rest i.e (211944-98) are duplicated values"
   ]
  },
  {
   "cell_type": "markdown",
   "metadata": {
    "id": "baI-EEWPCFBx"
   },
   "source": [
    "<a id = 'Understanding_variables'> </a>\n",
    "## 5. Understand the variables"
   ]
  },
  {
   "cell_type": "markdown",
   "metadata": {
    "id": "sq261si6CFBy"
   },
   "source": [
    "**1. Variable 'name'**"
   ]
  },
  {
   "cell_type": "code",
   "execution_count": null,
   "metadata": {
    "id": "WL9DMusYCFBz",
    "outputId": "f48184b9-019c-47c8-974b-86452985612d"
   },
   "outputs": [],
   "source": [
    "data.name"
   ]
  },
  {
   "cell_type": "markdown",
   "metadata": {
    "id": "vQr_deHlCFB2"
   },
   "source": [
    "Inference- \n",
    "    \n",
    "    This column states the names of all the restaurants registered with zomato in india "
   ]
  },
  {
   "cell_type": "markdown",
   "metadata": {
    "id": "Po7XeMPkCFB3"
   },
   "source": [
    "**2. Variable 'establishment'**"
   ]
  },
  {
   "cell_type": "code",
   "execution_count": null,
   "metadata": {
    "id": "U65znnqZCFB4",
    "outputId": "e65c6ad6-1cd9-42e1-dc4c-50c0a4238700"
   },
   "outputs": [],
   "source": [
    "data.establishment"
   ]
  },
  {
   "cell_type": "markdown",
   "metadata": {
    "id": "QHTKVfKQCFB7"
   },
   "source": [
    "Inference- \n",
    "    \n",
    "    This shows what type of restaurant is it namely quick biting, casual dining, cafe and so on"
   ]
  },
  {
   "cell_type": "markdown",
   "metadata": {
    "id": "t-jnkQYZCFB8"
   },
   "source": [
    "**3. Variable 'city'**"
   ]
  },
  {
   "cell_type": "code",
   "execution_count": null,
   "metadata": {
    "id": "sbQiVMz2CFB9",
    "outputId": "a91ff873-b01a-4d22-dd2c-9ef6de8fcd65"
   },
   "outputs": [],
   "source": [
    "data.city"
   ]
  },
  {
   "cell_type": "markdown",
   "metadata": {
    "id": "1yWuwx7qCFCA"
   },
   "source": [
    "Inference-\n",
    "        \n",
    "    Understanding the names of the cities in the dataset\n",
    "        "
   ]
  },
  {
   "cell_type": "markdown",
   "metadata": {
    "id": "9viJKAiuCFCB"
   },
   "source": [
    "**Let us find the count of restaurants in each city**"
   ]
  },
  {
   "cell_type": "code",
   "execution_count": null,
   "metadata": {
    "id": "J5t2HgvmCFCC",
    "outputId": "1a3b10ec-e574-4e0d-95bc-25540b5acb91"
   },
   "outputs": [],
   "source": [
    "data.city.value_counts()\n"
   ]
  },
  {
   "cell_type": "markdown",
   "metadata": {
    "id": "hvOMjPiACFCF"
   },
   "source": [
    "Inference-\n",
    "\n",
    "      Counting the no.of restaurants in a specific city in india with the help of value_counts() function of pandas"
   ]
  },
  {
   "cell_type": "markdown",
   "metadata": {
    "id": "OfgT6nX2CFCG"
   },
   "source": [
    "**4. Variable 'locality'**"
   ]
  },
  {
   "cell_type": "code",
   "execution_count": null,
   "metadata": {
    "id": "fxM5c-1OCFCH",
    "outputId": "242477e4-ff13-4801-978a-f7ec2e6f238a"
   },
   "outputs": [],
   "source": [
    "data.locality"
   ]
  },
  {
   "cell_type": "markdown",
   "metadata": {
    "id": "v6lwhPg0CFCK"
   },
   "source": [
    "Inference-\n",
    "\n",
    "        Understanding the locality where the restaurant is situated"
   ]
  },
  {
   "cell_type": "markdown",
   "metadata": {
    "id": "WOOdATYxCFCK"
   },
   "source": [
    "**4. Variable 'latitude'**\n",
    "\n",
    "From the variable 'latitude', we know the latitudinal location of the restaurant\n",
    "\n",
    "The Latitudinal extent of India 8º4‛N to 37º6‛ N. \n",
    "\n",
    "We must check whether we have any points beyond this extent."
   ]
  },
  {
   "cell_type": "markdown",
   "metadata": {
    "id": "YijSrjwzCFCL"
   },
   "source": [
    "- We need to replace all these values with NaN's."
   ]
  },
  {
   "cell_type": "markdown",
   "metadata": {
    "id": "J5fa44LwCFCM"
   },
   "source": [
    "- check if the values are replace by NaN's"
   ]
  },
  {
   "cell_type": "markdown",
   "metadata": {
    "id": "OHHzMAcSCFCN"
   },
   "source": [
    "- We see all the values are replaced by NaN's"
   ]
  },
  {
   "cell_type": "code",
   "execution_count": null,
   "metadata": {
    "id": "5Ast038jCFCO",
    "outputId": "e0efa512-0ec0-490c-f429-af6dadece513"
   },
   "outputs": [],
   "source": [
    "data.latitude"
   ]
  },
  {
   "cell_type": "markdown",
   "metadata": {
    "id": "s9Exq7h9CFCR"
   },
   "source": [
    "Inference-\n",
    "\n",
    "        reading the latitudes"
   ]
  },
  {
   "cell_type": "code",
   "execution_count": null,
   "metadata": {
    "id": "YY9HQqgJCFCS",
    "outputId": "517f0930-e42b-4dde-f09d-e473488ab0dc"
   },
   "outputs": [],
   "source": [
    "data.latitude.isna().sum()"
   ]
  },
  {
   "cell_type": "code",
   "execution_count": 0,
   "metadata": {
    "id": "cdQR895LCFCV"
   },
   "outputs": [],
   "source": [
    "data.latitude=data.latitude.astype('Float64')\n",
    "data.loc[(data.latitude<8.4)| (data.latitude >37.6),['latitude']]=None"
   ]
  },
  {
   "cell_type": "markdown",
   "metadata": {
    "id": "CrMc_ez0CFCZ"
   },
   "source": [
    "Inference-\n",
    "\n",
    "        This shows that if a latitude is not within the given paramaters we can say that it does not lie in the indian subcontinent and hence we can replace those values by null values since they are not benificial for us"
   ]
  },
  {
   "cell_type": "code",
   "execution_count": null,
   "metadata": {
    "id": "5WcLvOJ6CFCa",
    "outputId": "02232dac-2059-474f-d9ac-d6a54f86d5ef"
   },
   "outputs": [],
   "source": [
    "data.latitude.isna().sum()"
   ]
  },
  {
   "cell_type": "markdown",
   "metadata": {
    "id": "2HfvFZZ8CFCe"
   },
   "source": [
    "**5. Variable 'longitude'**\n",
    "\n",
    "From the variable 'longitude', we know the longitudinal location of the restaurant\n",
    "\n",
    "The Longitudinal extent of India is from 68°7'E to 97°25'E\n",
    "\n",
    "We must check whether we have any points beyond this extent."
   ]
  },
  {
   "cell_type": "markdown",
   "metadata": {
    "id": "rr1DLEshCFCf"
   },
   "source": [
    "- We need to replace all these values with NaN's."
   ]
  },
  {
   "cell_type": "markdown",
   "metadata": {
    "id": "wjVuVLzJCFCg"
   },
   "source": [
    "- Check if the values are replace by NaN's"
   ]
  },
  {
   "cell_type": "markdown",
   "metadata": {
    "id": "8jovVs1CCFCh"
   },
   "source": [
    "- From variable 'latitude' and 'longitude', plot the location of restaurants."
   ]
  },
  {
   "cell_type": "code",
   "execution_count": null,
   "metadata": {
    "id": "Xv0_q7W2CFCi",
    "outputId": "21f74689-535f-4f35-a099-d6e1d8f25e24",
    "scrolled": true
   },
   "outputs": [],
   "source": [
    "data.longitude"
   ]
  },
  {
   "cell_type": "markdown",
   "metadata": {
    "id": "qMXDwhfwCFCr"
   },
   "source": [
    "Inference-\n",
    "\n",
    "        reading the longtitude"
   ]
  },
  {
   "cell_type": "code",
   "execution_count": null,
   "metadata": {
    "id": "TVYqdp1XCFCs",
    "outputId": "38ff92f6-7541-483e-fc9d-05b2d19b0a24"
   },
   "outputs": [],
   "source": [
    "data.longitude.isna().sum()"
   ]
  },
  {
   "cell_type": "code",
   "execution_count": 0,
   "metadata": {
    "id": "H6Wgtl3XCFCv"
   },
   "outputs": [],
   "source": [
    "data.longitude=data.longitude.astype('Float64')\n",
    "data.loc[(data.longitude<68.7)| (data.longitude >97.25),['longitude']]=None"
   ]
  },
  {
   "cell_type": "markdown",
   "metadata": {
    "id": "VEbgZZBGCFCy"
   },
   "source": [
    "Inference-\n",
    "\n",
    "        This shows that if a longitude is not within the given paramaters we can say that it does not lie in the indian subcontinent and hence we can replace those values by null values since they are not benificial for us"
   ]
  },
  {
   "cell_type": "code",
   "execution_count": null,
   "metadata": {
    "id": "v3U2UKNLCFCz",
    "outputId": "59bc8142-60cb-4104-a3f6-f0763de7a89d"
   },
   "outputs": [],
   "source": [
    "data.longitude.isna().sum()"
   ]
  },
  {
   "cell_type": "code",
   "execution_count": null,
   "metadata": {
    "id": "HdpVleF-CFC2",
    "outputId": "1fb5e850-6f53-42d7-b2dc-facdce1825e9"
   },
   "outputs": [],
   "source": [
    "!pip install git+git://github.com/geopandas/geopandas.git"
   ]
  },
  {
   "cell_type": "code",
   "execution_count": null,
   "metadata": {
    "id": "tgcF0TzqCFC7",
    "outputId": "1cb35aa8-34ae-4a76-c19c-fe87e214fecc"
   },
   "outputs": [],
   "source": [
    "import matplotlib.pyplot as plt\n",
    "import geopandas\n",
    "\n",
    "gdf = geopandas.GeoDataFrame(\n",
    "    data, geometry=geopandas.points_from_xy(data.longitude, data.latitude))\n",
    "gdf\n",
    "\n",
    "world = geopandas.read_file(geopandas.datasets.get_path('naturalearth_lowres'))\n",
    "ax = world[world.name == 'India'].plot(\n",
    "    color='black', edgecolor='white')\n",
    "gdf.plot(ax=ax, color='yellow',figsize=(50,50))\n"
   ]
  },
  {
   "cell_type": "markdown",
   "metadata": {
    "id": "q0FgzwOZCFDA"
   },
   "source": [
    "Inference- \n",
    "\n",
    "        *Plotting the various coordinates of the restaurants across India \n",
    "        *The yellow dots indicate the various locations where the restaurants are situated"
   ]
  },
  {
   "cell_type": "markdown",
   "metadata": {
    "id": "t1cTUQDmCFDA"
   },
   "source": [
    "**6. Variable 'cuisines'**"
   ]
  },
  {
   "cell_type": "code",
   "execution_count": null,
   "metadata": {
    "id": "wERqzKBcCFDG",
    "outputId": "d8325129-3402-4324-f46e-110e1ce9f78c"
   },
   "outputs": [],
   "source": [
    "data.cuisines"
   ]
  },
  {
   "cell_type": "markdown",
   "metadata": {
    "id": "H2hVtcK1CFDJ"
   },
   "source": [
    "Inference- \n",
    "\n",
    "        *Cuisines are the various types of foods offered by the various restaurants"
   ]
  },
  {
   "cell_type": "markdown",
   "metadata": {
    "id": "c4xx1cYcCFDJ"
   },
   "source": [
    "- To find the unique cusines we write a small user defined function.\n",
    "\n"
   ]
  },
  {
   "cell_type": "code",
   "execution_count": 0,
   "metadata": {
    "id": "OqJJ5rU0CFDK"
   },
   "outputs": [],
   "source": [
    "def cuisines(x):\n",
    "    save_cuisines=(list(map(str,(x))))\n",
    "    result_cuisines=set()\n",
    "    for i in save_cuisines:\n",
    "        inter=(i.split(\", \"))\n",
    "        for j in inter:\n",
    "            result_cuisines.add(j)\n",
    "\n",
    "\n",
    "    return (result_cuisines)\n",
    "\n"
   ]
  },
  {
   "cell_type": "markdown",
   "metadata": {
    "id": "ezKrd9vMCFDO"
   },
   "source": [
    "Inference- \n",
    "\n",
    "        Function for finding out unique cuisines"
   ]
  },
  {
   "cell_type": "markdown",
   "metadata": {
    "id": "rxZkFbdCCFDO"
   },
   "source": [
    "- find out the frequency of each cuisine"
   ]
  },
  {
   "cell_type": "code",
   "execution_count": null,
   "metadata": {
    "id": "LhLPX6ZECFDP",
    "outputId": "c672fc2d-45a1-4081-93f5-41e8aa577c23"
   },
   "outputs": [],
   "source": [
    "result_cuisines=cuisines(data.cuisines)\n",
    "\n",
    "print(result_cuisines)"
   ]
  },
  {
   "cell_type": "markdown",
   "metadata": {
    "id": "egaDTZNQCFDS"
   },
   "source": [
    "Inference- \n",
    "\n",
    "        these are the various unique cuisines offered by the restaurants pan India "
   ]
  },
  {
   "cell_type": "code",
   "execution_count": null,
   "metadata": {
    "id": "H29Ew3HjCFDT",
    "outputId": "b059c657-06cb-452d-974c-4efb93f381b7"
   },
   "outputs": [],
   "source": [
    "store_cuisine_inter=[]\n",
    "\n",
    "df_cuisine=pd.DataFrame(result_cuisines,columns=['Cuisines'])\n",
    "for i in result_cuisines:\n",
    "    store_cuisine_inter.append(data['cuisines'].str.count(i).sum())\n",
    "\n",
    "\n",
    "df_cuisine['frequency']=store_cuisine_inter\n",
    "df_cuisine"
   ]
  },
  {
   "cell_type": "markdown",
   "metadata": {
    "id": "PmbH8tIQCFDZ"
   },
   "source": [
    "Inference- \n",
    "\n",
    "        *finding the top cuisines over india \n",
    "        *showing the top cuisines based on the no.of restaurants that offer them (i.e their frequency)"
   ]
  },
  {
   "cell_type": "markdown",
   "metadata": {
    "id": "Hu8kBNYNCFDa"
   },
   "source": [
    "**8. Variable 'average_cost_for_two'**"
   ]
  },
  {
   "cell_type": "code",
   "execution_count": null,
   "metadata": {
    "id": "gCSimqbtCFDb",
    "outputId": "aab1da04-4c98-44fd-f65c-b693c96f0b42"
   },
   "outputs": [],
   "source": [
    "data.average_cost_for_two"
   ]
  },
  {
   "cell_type": "markdown",
   "metadata": {
    "id": "vigJKhgUCFDg"
   },
   "source": [
    "Inference- \n",
    "\n",
    "        Getting the idea how much would it cost for two people to have food at that restaurant"
   ]
  },
  {
   "cell_type": "markdown",
   "metadata": {
    "id": "Fwxlc7DQCFDh"
   },
   "source": [
    "**9. Variable 'price_range'**"
   ]
  },
  {
   "cell_type": "code",
   "execution_count": null,
   "metadata": {
    "id": "AJlh5WVHCFDi",
    "outputId": "1ed2c287-1bcf-4124-ace6-9904e023cffe"
   },
   "outputs": [],
   "source": [
    "data.price_range"
   ]
  },
  {
   "cell_type": "markdown",
   "metadata": {
    "id": "NWJ7g-qjCFDl"
   },
   "source": [
    "Inference- \n",
    "\n",
    "        understanding the price range and trying to make an better understanding of how costly is the restaurant"
   ]
  },
  {
   "cell_type": "markdown",
   "metadata": {
    "id": "gNVcYoCMCFDm"
   },
   "source": [
    "- visualize a exploded pie chart."
   ]
  },
  {
   "cell_type": "code",
   "execution_count": null,
   "metadata": {
    "id": "WywOLJeOCFDm",
    "outputId": "e3de2114-fd4e-4aa5-cb4c-d2e21b206568"
   },
   "outputs": [],
   "source": [
    "data.price_range.value_counts().plot.pie()"
   ]
  },
  {
   "cell_type": "markdown",
   "metadata": {
    "id": "nXFDdh_XCFDp"
   },
   "source": [
    "Inference- \n",
    "\n",
    "        understanding the price range of the restaurants and analysing the no.of restaurants in a particular price range"
   ]
  },
  {
   "cell_type": "markdown",
   "metadata": {
    "id": "ZpvO-6rHCFDr"
   },
   "source": [
    "**10. Variable 'highlights'**"
   ]
  },
  {
   "cell_type": "code",
   "execution_count": null,
   "metadata": {
    "id": "vK4CZxFiCFDs",
    "outputId": "96857a81-83fc-432a-ee41-ff02cca3aba1"
   },
   "outputs": [],
   "source": [
    "data.highlights"
   ]
  },
  {
   "cell_type": "markdown",
   "metadata": {
    "id": "oevSutDfCFDv"
   },
   "source": [
    "Inference- \n",
    "\n",
    "        Understanding the various important aspects of the restaurant"
   ]
  },
  {
   "cell_type": "markdown",
   "metadata": {
    "id": "b_TI5uRSCFDw"
   },
   "source": [
    "\n",
    "\n",
    "- write a small function to know the number of times a facility has appeared in the 'Highlights'."
   ]
  },
  {
   "cell_type": "code",
   "execution_count": 0,
   "metadata": {
    "id": "Fkcqh6mjCFDw"
   },
   "outputs": [],
   "source": [
    "def highlights(x):\n",
    "    save_highlights=(list(map(str,(x))))\n",
    "    result_highlights=set()\n",
    "    for i in save_highlights:\n",
    "        inter=(i.split(\", \"))\n",
    "        for j in inter:\n",
    "            result_highlights.add(j)\n",
    "\n",
    "\n",
    "    return (result_highlights)"
   ]
  },
  {
   "cell_type": "markdown",
   "metadata": {
    "id": "KrFJsFtQCFDz"
   },
   "source": [
    "Inference- \n",
    "\n",
    "        Function for getting the unique cuisines all over India"
   ]
  },
  {
   "cell_type": "code",
   "execution_count": null,
   "metadata": {
    "id": "9vjuqVAECFDz",
    "outputId": "e504e977-af49-4235-d6e8-f4c287857fb8"
   },
   "outputs": [],
   "source": [
    "ans_highlights=highlights(data.highlights)\n",
    "store_inter=[]\n",
    "\n",
    "df_highlights=pd.DataFrame(ans_highlights,columns=['Facility'])\n",
    "for i in ans_highlights:\n",
    "    store_inter.append(data['highlights'].str.count(i).sum())\n",
    "\n",
    "\n",
    "df_highlights"
   ]
  },
  {
   "cell_type": "code",
   "execution_count": null,
   "metadata": {
    "id": "TdAVIG1QCFD2",
    "outputId": "24e64988-7d3d-46df-f37a-8d2391a19a61"
   },
   "outputs": [],
   "source": [
    "# print(store_inter)\n",
    "df_highlights['frequency']=store_inter\n",
    "df_highlights"
   ]
  },
  {
   "cell_type": "markdown",
   "metadata": {
    "id": "y3ALL997CFD5"
   },
   "source": [
    "Inference- \n",
    "\n",
    "        Finding the frequency of the various facilities offered by the restaurants over India"
   ]
  },
  {
   "cell_type": "markdown",
   "metadata": {
    "id": "LMwKMVp7CFD5"
   },
   "source": [
    "- Now we find out which facility occurs most number of in the data."
   ]
  },
  {
   "cell_type": "code",
   "execution_count": null,
   "metadata": {
    "id": "-67zWWq8CFD6",
    "outputId": "ee798e1f-b3c0-46b8-cc65-46966dcb83ca"
   },
   "outputs": [],
   "source": [
    "save_df=df_highlights.sort_values(by=['frequency'],ascending=False).head(1)\n",
    "save_df['Facility'].head(1)"
   ]
  },
  {
   "cell_type": "markdown",
   "metadata": {
    "id": "COJkY6uGCFD9"
   },
   "source": [
    "Inference- \n",
    "\n",
    "        we understand that cash is the most frequent facility offered by the restaurants"
   ]
  },
  {
   "cell_type": "markdown",
   "metadata": {
    "id": "2Ti6O52UCFD-"
   },
   "source": [
    "**11. Variable 'aggregate_rating'** \n",
    "\n"
   ]
  },
  {
   "cell_type": "code",
   "execution_count": null,
   "metadata": {
    "id": "KJVInXbRCFD-",
    "outputId": "e418d1ea-ba23-4406-b051-95fdbf0ff033"
   },
   "outputs": [],
   "source": [
    "data.aggregate_rating"
   ]
  },
  {
   "cell_type": "markdown",
   "metadata": {
    "id": "DaIr5T7GCFEE"
   },
   "source": [
    "Inference- \n",
    "\n",
    "        Understanding the rating of the restaurants on a scale of 1-5 "
   ]
  },
  {
   "cell_type": "markdown",
   "metadata": {
    "id": "G03RnXZPCFEE"
   },
   "source": [
    "**12. Variable 'rating_text'**\n",
    "\n"
   ]
  },
  {
   "cell_type": "code",
   "execution_count": null,
   "metadata": {
    "id": "m4rvv6PmCFEF",
    "outputId": "34a8d186-f937-4707-dee1-b8a5f5a6f761"
   },
   "outputs": [],
   "source": [
    "data.rating_text"
   ]
  },
  {
   "cell_type": "markdown",
   "metadata": {
    "id": "YgBSPtuvCFEH"
   },
   "source": [
    "Inference- \n",
    "\n",
    "        understanding the rating of the restaurant in descriptive format"
   ]
  },
  {
   "cell_type": "markdown",
   "metadata": {
    "id": "DJ87zKu2CFEJ"
   },
   "source": [
    "Creating a New feature for better understanding of ratings\n"
   ]
  },
  {
   "cell_type": "code",
   "execution_count": null,
   "metadata": {
    "id": "z62YJegnCFEL",
    "outputId": "e15c4532-9fd2-4eb6-e083-586d8b0d897e"
   },
   "outputs": [],
   "source": [
    "data.rating_text.unique()\n",
    "\n",
    "data.loc[((data.aggregate_rating>=0) & (data.aggregate_rating<=1)),'rating_text_new']='poor'\n",
    "data.loc[((data.aggregate_rating>=1) & (data.aggregate_rating<=2)),'rating_text_new']='average'\n",
    "data.loc[((data.aggregate_rating>=2) & (data.aggregate_rating<=3)),'rating_text_new']='good'\n",
    "data.loc[((data.aggregate_rating>=3) & (data.aggregate_rating<=4)),'rating_text_new']='very good'\n",
    "data.loc[((data.aggregate_rating>=4) & (data.aggregate_rating<=5)),'rating_text_new']='excellent'\n",
    "data['rating_text_new'].unique()"
   ]
  },
  {
   "cell_type": "markdown",
   "metadata": {
    "id": "vqPmydt5CFEO"
   },
   "source": [
    "Inference- \n",
    "        \n",
    "        Creating a new column with range defined from 0 to 5 in five parts and assining each range an ordinal value"
   ]
  },
  {
   "cell_type": "markdown",
   "metadata": {
    "id": "durHixh7CFEO"
   },
   "source": [
    "**13. Variable 'votes'**"
   ]
  },
  {
   "cell_type": "code",
   "execution_count": null,
   "metadata": {
    "id": "JKaSnvZECFEP",
    "outputId": "13e4288b-7359-4205-9e8d-1231f29f2c35"
   },
   "outputs": [],
   "source": [
    "data.votes"
   ]
  },
  {
   "cell_type": "markdown",
   "metadata": {
    "id": "BJc-SxwWCFES"
   },
   "source": [
    "Inference- \n",
    "    \n",
    "    This shows the votes that are given to the restaurants by the customers visiting it"
   ]
  },
  {
   "cell_type": "markdown",
   "metadata": {
    "id": "FTvjfc5sCFEZ"
   },
   "source": [
    "**14. Variable 'photo_count'**"
   ]
  },
  {
   "cell_type": "code",
   "execution_count": null,
   "metadata": {
    "id": "dE5Kj6T1CFEa",
    "outputId": "509d0170-d11c-4d8e-a9ef-3d3d8db94c6b"
   },
   "outputs": [],
   "source": [
    "data.photo_count"
   ]
  },
  {
   "cell_type": "markdown",
   "metadata": {
    "id": "n8rn19rDCFEi"
   },
   "source": [
    "Inference- \n",
    "    \n",
    "    This shows what are the no.of photos that uploaded by the customers visting the restaurant"
   ]
  },
  {
   "cell_type": "markdown",
   "metadata": {
    "id": "Hrg-2JTDCFEj"
   },
   "source": [
    "**15. Variable 'delivery'**"
   ]
  },
  {
   "cell_type": "code",
   "execution_count": null,
   "metadata": {
    "id": "_r2XQSQRCFEk",
    "outputId": "f33bdc55-50f7-493f-ec1e-7e1319596374"
   },
   "outputs": [],
   "source": [
    "data.delivery"
   ]
  },
  {
   "cell_type": "markdown",
   "metadata": {
    "id": "AnVt6J3KCFEl"
   },
   "source": [
    "Inference- \n",
    "    \n",
    "    This shows what type of restaurant is it namely does it delivery (1) or it does not deliver (-1)"
   ]
  },
  {
   "cell_type": "markdown",
   "metadata": {
    "id": "TOcRVejDCFEm"
   },
   "source": [
    "<a id ='missing'></a>\n",
    "## 6. Check for missing values"
   ]
  },
  {
   "cell_type": "code",
   "execution_count": null,
   "metadata": {
    "id": "qgwOIQhyCFEm",
    "outputId": "1fb19a37-fbb9-46fb-9f75-7d1fbff26c8f"
   },
   "outputs": [],
   "source": [
    "data.isna().sum()"
   ]
  },
  {
   "cell_type": "markdown",
   "metadata": {
    "id": "vvBYfZlRCFEo"
   },
   "source": [
    "Inference- \n",
    "    \n",
    "    This shows what are the various values in the dataset having null values\n",
    "    \n",
    "    *one can observe the zipcode column has 163187 null values which is about 2/3rd of the dataset \n",
    "    \n",
    "    *highlights, estabhlishment can be replaced with the help of mode value \n",
    "    \n",
    "    *latitude & longtitude have null val showing out of India range\n",
    "    \n",
    "    *some of the addresses are also not there"
   ]
  },
  {
   "cell_type": "markdown",
   "metadata": {
    "id": "FLD6pEBiCFEp"
   },
   "source": [
    "**6. Study summary statistics**"
   ]
  },
  {
   "cell_type": "markdown",
   "metadata": {
    "id": "le10dI5mCFEq"
   },
   "source": [
    "Let us check the summary statistics for numerical variables."
   ]
  },
  {
   "cell_type": "code",
   "execution_count": null,
   "metadata": {
    "id": "96zXK6kCCFEr",
    "outputId": "afa28598-0f73-4a67-9f9a-4a6877df4046",
    "scrolled": true
   },
   "outputs": [],
   "source": [
    "data.describe()"
   ]
  },
  {
   "cell_type": "markdown",
   "metadata": {
    "id": "FdFLhpKNCFEt"
   },
   "source": [
    "Inference- \n",
    "    \n",
    "    This shows what are the the most extreme values in the data set (the maximum and minimum values), the lower and upper quartiles, and the median"
   ]
  },
  {
   "cell_type": "markdown",
   "metadata": {
    "id": "AXfGqVgGCFEu"
   },
   "source": [
    "<a id = 'correlation'> </a>\n",
    "## 7. Study correlation"
   ]
  },
  {
   "cell_type": "code",
   "execution_count": null,
   "metadata": {
    "id": "1kcdPjFWCFEv",
    "outputId": "801cec1a-c077-4157-d318-69845432edfe"
   },
   "outputs": [],
   "source": [
    "import seaborn as sns\n",
    "corr=data.corr()\n",
    "sns.heatmap(corr,annot=True)\n"
   ]
  },
  {
   "cell_type": "markdown",
   "metadata": {
    "id": "Ci8Yd37ZCFEx"
   },
   "source": [
    "Inference- \n",
    "    \n",
    "    This shows what is the correlation between the various columns in the dataset \n",
    "    for example -\n",
    "    \n",
    "    *photo counts and votes are highly correlated\n",
    "    \n",
    "    *votes and latitude are negative correlated\n",
    "    \n",
    "    *votes and average cost for two people have a low correlation"
   ]
  },
  {
   "cell_type": "markdown",
   "metadata": {
    "id": "RuBKi2m0CFEz"
   },
   "source": [
    "\n",
    "## 8. Detect outliers"
   ]
  },
  {
   "cell_type": "code",
   "execution_count": null,
   "metadata": {
    "id": "7yZufqoyCFE5",
    "outputId": "ed41384d-ba64-41cd-a76d-5ced56a2f76d"
   },
   "outputs": [],
   "source": [
    "data.plot.box()"
   ]
  },
  {
   "cell_type": "markdown",
   "metadata": {
    "id": "7F6JXXcPCFE7"
   },
   "source": [
    "Inference- \n",
    "    \n",
    "    it helps us understanding what how is data distributed"
   ]
  },
  {
   "cell_type": "code",
   "execution_count": null,
   "metadata": {
    "id": "dt8ygDbRCFE8",
    "outputId": "3c3f724d-60fd-4a5b-d9be-94e17edfc718"
   },
   "outputs": [],
   "source": [
    "\n",
    "data.res_id=data.res_id.astype('int64')\n",
    "data['res_id'].plot.box()"
   ]
  },
  {
   "cell_type": "markdown",
   "metadata": {
    "id": "ECrXmaaVCFE_"
   },
   "source": [
    "Inference- \n",
    "    \n",
    "    This shows res_id does not have outliers"
   ]
  },
  {
   "cell_type": "code",
   "execution_count": null,
   "metadata": {
    "id": "hHJCe9wcCFE_",
    "outputId": "f23a6ea5-356a-454a-bbc2-e84a9102508a"
   },
   "outputs": [],
   "source": [
    "data['photo_count'].plot.box()"
   ]
  },
  {
   "cell_type": "markdown",
   "metadata": {
    "id": "7b7mygamCFFC"
   },
   "source": [
    "Inference- \n",
    "    \n",
    "    This shows photo count has alot of outliers"
   ]
  },
  {
   "cell_type": "code",
   "execution_count": null,
   "metadata": {
    "id": "k62LKQImCFFD",
    "outputId": "cda7da48-5f5b-4246-cf2b-72e92e60779c",
    "scrolled": true
   },
   "outputs": [],
   "source": [
    "data['votes'].plot.box()"
   ]
  },
  {
   "cell_type": "markdown",
   "metadata": {
    "id": "WVvjJ10DCFFF"
   },
   "source": [
    "Inference- \n",
    "    \n",
    "    This shows votes have alot of outliers"
   ]
  },
  {
   "cell_type": "code",
   "execution_count": null,
   "metadata": {
    "id": "jjo1Y-sbCFFF",
    "outputId": "302baa97-03bf-42df-d8a9-e80acd650d25"
   },
   "outputs": [],
   "source": [
    "data['aggregate_rating'].plot.box()"
   ]
  },
  {
   "cell_type": "markdown",
   "metadata": {
    "id": "GC8vibiUCFFI"
   },
   "source": [
    "Inference- \n",
    "    \n",
    "    This shows aggregate rating has a few outliers rest of the data is in the interquantile range"
   ]
  },
  {
   "cell_type": "markdown",
   "metadata": {
    "id": "TssDYssqCFFJ"
   },
   "source": [
    "<a id='region'> </a>\n",
    "## 9. Create a new variable 'region'\n"
   ]
  },
  {
   "cell_type": "code",
   "execution_count": 0,
   "metadata": {
    "id": "IMhUksUICFFK"
   },
   "outputs": [],
   "source": [
    "east_zone=['Arunachal Pradesh', 'Assam', 'Manipur', 'Meghalaya', 'Mizoram', 'Nagaland', 'Sikkim' , 'Tripura','Bihar', 'Orissa', 'Jharkhand', 'West Bengal ']\n",
    "\n",
    "west_zone=['Rajasthan' , 'Gujarat', 'Goa', 'Maharashtra', 'Daman and Diu',\n",
    "'Dadra and Nagar Haveli','Madhya Pradesh','Chhattisgarh']\n",
    "\n",
    "north_zone=['Jammu and Kashmir', 'Himachal Pradesh','Chandigarh','Delhi', 'Punjab', 'Uttarakhand' , 'Uttar Pradesh','Haryana']\n",
    "\n",
    "south_zone=['Andhra Pradesh', 'Karnataka', 'Kerala','Tamil Nadu','Telangana','puducherry']\n",
    "\n",
    "\n",
    "# data.locality"
   ]
  },
  {
   "cell_type": "markdown",
   "metadata": {
    "id": "sgjmB4OcCFFM"
   },
   "source": [
    "Inference- \n",
    "    \n",
    "    Understanding the various states in each zone"
   ]
  },
  {
   "cell_type": "markdown",
   "metadata": {
    "id": "sJIAWuruCFFM"
   },
   "source": [
    "Create a variable 'region' with four categories 'northern','eastern', 'southern', 'western' and 'central'. To do so, use the 'city' column, group all cities belonging to the same region. "
   ]
  },
  {
   "cell_type": "code",
   "execution_count": 0,
   "metadata": {
    "id": "cntBuHvvCFFN"
   },
   "outputs": [],
   "source": [
    "dict_region={'Agra':\"north\", 'Ahmedabad':'west', 'Ajmer':'west', 'Alappuzha':'south', 'Allahabad':'north', 'Amravati':\"west\",\n",
    "       'Amritsar':'north', 'Aurangabad':'west', 'Bangalore':'south', 'Bhopal':'west', 'Bhubaneshwar':'east',\n",
    "       'Chandigarh':'north', 'Chennai':'south', 'Coimbatore':'south', 'Cuttack':'east', 'Darjeeling':'east',\n",
    "       'Dehradun':'north', 'Dharamshala':'north', 'Faridabad':\"north\", 'Gandhinagar':\"west\", 'Gangtok':'east',\n",
    "       'Ghaziabad':\"north\", 'Goa':\"west\", 'Gorakhpur':\"north\", 'Greater Noida':\"north\", 'Guntur':\"south\",\n",
    "       'Gurgaon':\"north\", 'Guwahati':\"east\", 'Gwalior':\"east\", 'Haridwar':\"north\", 'Howrah':\"east\",\n",
    "       'Hyderabad':\"south\", 'Indore':\"west\", 'Jabalpur':\"west\", 'Jaipur':\"west\", 'Jalandhar':\"north\", 'Jammu':\"north\",\n",
    "       'Jamnagar':\"west\", 'Jamshedpur':\"east\", 'Jhansi':\"north\", 'Jodhpur':\"west\", 'Junagadh':\"west\",\n",
    "       'Kanpur':\"north\", 'Kharagpur':\"east\", 'Kochi':\"south\", 'Kolhapur':\"west\", 'Kolkata':\"east\", 'Kota':\"west\",\n",
    "       'Lucknow':\"north\", 'Ludhiana':\"north\", 'Madurai':\"south\", 'Manali':\"north\", 'Mangalore':\"south\", 'Manipal':\"south\",\n",
    "       'Meerut':\"north\", 'Mohali':\"north\", 'Mumbai':\"west\", 'Mussoorie':\"north\", 'Mysore':\"south\", 'Nagpur':\"west\",\n",
    "       'Nainital':\"north\", 'Nashik':\"west\", 'Navi Mumbai':\"west\", 'Nayagaon':\"north\", 'Neemrana':\"west\",\n",
    "       'New Delhi':\"north\", 'Noida':\"north\", 'Ooty':\"south\", 'Palakkad':\"south\", 'Panchkula':\"north\", 'Patiala':\"north\",\n",
    "       'Patna':\"north\", 'Puducherry':\"south\", 'Pune':\"west\", 'Pushkar':\"west\", 'Raipur':\"west\", 'Rajkot':\"west\",\n",
    "       'Ranchi':\"east\", 'Rishikesh':\"north\", 'Salem':\"south\", 'Secunderabad':\"south\", 'Shimla':\"north\",\n",
    "       'Siliguri':\"east\", 'Srinagar':\"north\", 'Surat':\"west\", 'Thane':\"west\", 'Thrissur':\"south\", 'Tirupati':\"south\",\n",
    "       'Trichy':'south', 'Trivandrum':'south', 'Udaipur':'west', 'Udupi':\"south\", 'Vadodara':\"west\", 'Varanasi':\"north\",\n",
    "       'Vellore':\"south\", 'Vijayawada':\"south\", 'Vizag':\"south\", 'Zirakpur':\"north\"}"
   ]
  },
  {
   "cell_type": "markdown",
   "metadata": {
    "id": "uhfpaHJ-CFFP"
   },
   "source": [
    "Inference- \n",
    "    \n",
    "    creating a mapping of city -> region "
   ]
  },
  {
   "cell_type": "code",
   "execution_count": 0,
   "metadata": {
    "id": "fF1cMLuZCFFP"
   },
   "outputs": [],
   "source": [
    "data.drop(data[data.city=='north'].index,inplace=True)\n",
    "save_region=[]\n",
    "for i in data.city:\n",
    "    save_region.append(dict_region[i])"
   ]
  },
  {
   "cell_type": "code",
   "execution_count": null,
   "metadata": {
    "id": "85xJXAYBCFFR",
    "outputId": "0f440ce7-9962-46a4-b2dd-61101eeeb8d2"
   },
   "outputs": [],
   "source": [
    "# print(len(save_region))\n",
    "data['region']=save_region\n",
    "data\n"
   ]
  },
  {
   "cell_type": "markdown",
   "metadata": {
    "id": "-XFk1KvzCFFT"
   },
   "source": [
    "Inference- \n",
    "    \n",
    "    This shows creating a new column named as REGION depecting the region in which the city is situated"
   ]
  },
  {
   "cell_type": "code",
   "execution_count": null,
   "metadata": {
    "id": "K7CVtNjmCFFT",
    "outputId": "465e56ed-f3fb-4261-9fdb-5e17d4a39322"
   },
   "outputs": [],
   "source": [
    "city_data=data.groupby('region')['city'].unique()\n",
    "city_data"
   ]
  },
  {
   "cell_type": "markdown",
   "metadata": {
    "id": "Pv-WWg2MCFFX"
   },
   "source": [
    "Inference- \n",
    "    \n",
    "    This groups the cities lying in the same region together"
   ]
  },
  {
   "cell_type": "markdown",
   "metadata": {
    "id": "t4nhlvrGCFFY"
   },
   "source": [
    "<a id='more'> </a>\n",
    "## 10. Some more Analysis"
   ]
  },
  {
   "cell_type": "markdown",
   "metadata": {
    "id": "sQHCPF0jCFFY"
   },
   "source": [
    "<b>Lets us explore the data some more now that we have extrapolated and removed the missing values <br>\n",
    "We now conduct analysis to compare the regions.</b>"
   ]
  },
  {
   "cell_type": "markdown",
   "metadata": {
    "id": "5kZbNNJ8CFFZ"
   },
   "source": [
    "### 1. To find which cities have expensive restaurants \n",
    "\n",
    "-  plot the cities which have costliest restaurants. "
   ]
  },
  {
   "cell_type": "code",
   "execution_count": null,
   "metadata": {
    "id": "U59txrv8CFFa",
    "outputId": "375301ed-2861-4f08-83b3-86cbfad27df5"
   },
   "outputs": [],
   "source": [
    "data[['name','city','average_cost_for_two','price_range']].head(100)"
   ]
  },
  {
   "cell_type": "markdown",
   "metadata": {
    "id": "3ytNdir1CFFc"
   },
   "source": [
    "Inference- \n",
    "    \n",
    "    This shows getting the name of the restaurant, the city, the average cost, the price range"
   ]
  },
  {
   "cell_type": "code",
   "execution_count": null,
   "metadata": {
    "id": "hTcHNH1ACFFd",
    "outputId": "cd0077c4-ecc7-4856-e206-bd6b9a258c53",
    "scrolled": true
   },
   "outputs": [],
   "source": [
    "save_costly=data[['city','average_cost_for_two']].groupby(['city']).mean()\n",
    "\n",
    "values_for_graph=save_costly.sort_values(by=['average_cost_for_two'],ascending=False).head(5)\n",
    "\n",
    "values_for_graph['city']=values_for_graph.index\n",
    "\n",
    "values_for_graph"
   ]
  },
  {
   "cell_type": "markdown",
   "metadata": {
    "id": "XtZQJyxQCFFf"
   },
   "source": [
    "Inference-\n",
    "\n",
    "        Obtaining the top5 cities having the highest avgerage cost for two people"
   ]
  },
  {
   "cell_type": "code",
   "execution_count": null,
   "metadata": {
    "id": "QmXQyiz8CFFf",
    "outputId": "dcf85759-5e7b-4752-8c91-3a1061147d4f"
   },
   "outputs": [],
   "source": [
    "sns.barplot(x='city',y='average_cost_for_two',data=values_for_graph)"
   ]
  },
  {
   "cell_type": "markdown",
   "metadata": {
    "id": "V7FqrcfsCFFj"
   },
   "source": [
    "Inference-\n",
    "\n",
    "        plotting a graph for better understanding"
   ]
  },
  {
   "cell_type": "markdown",
   "metadata": {
    "id": "213gm0JWCFFk"
   },
   "source": [
    "### 2.  Comparing regions"
   ]
  },
  {
   "cell_type": "markdown",
   "metadata": {
    "id": "vVrBol4LCFFk"
   },
   "source": [
    "### 2a. Highlights available in restaurants for different regions"
   ]
  },
  {
   "cell_type": "markdown",
   "metadata": {
    "id": "2tPUNu0sCFFl"
   },
   "source": [
    "To cater our analysis we define the regions as nothern, eastern, western and southern."
   ]
  },
  {
   "cell_type": "markdown",
   "metadata": {
    "id": "fDedI7ltCFFl"
   },
   "source": [
    "We first need to select the unique facilities available in each region and sort according to their frequencies."
   ]
  },
  {
   "cell_type": "markdown",
   "metadata": {
    "id": "j3ttxS9ACFFl"
   },
   "source": [
    "**Highlights of the northern region**"
   ]
  },
  {
   "cell_type": "code",
   "execution_count": null,
   "metadata": {
    "id": "u-wxub0xCFFm",
    "outputId": "979f8031-c5e5-45b2-bd5b-781117cc335b"
   },
   "outputs": [],
   "source": [
    "data_high_north=(data[['highlights']][data.region=='north'])\n",
    "ans_north=(highlights(data_high_north.highlights))\n",
    "store_inter_north=[]\n",
    "\n",
    "df_highlights_north=pd.DataFrame(ans_north,columns=['Facility'])\n",
    "\n",
    "for i in ans_north:\n",
    "    store_inter_north.append(data_high_north['highlights'].str.count(i).sum())\n",
    "\n",
    "df_highlights_north['frequency']=store_inter_north\n",
    "df_highlights_north.sort_values(by=['frequency'],ascending=False)"
   ]
  },
  {
   "cell_type": "markdown",
   "metadata": {
    "id": "e5xSfT1ECFFo"
   },
   "source": [
    "Inference-\n",
    "\n",
    "        Getting the highest frequency facility used in North region "
   ]
  },
  {
   "cell_type": "markdown",
   "metadata": {
    "id": "fqLcOHz3CFFo"
   },
   "source": [
    "**Highlights of the eastern region**"
   ]
  },
  {
   "cell_type": "code",
   "execution_count": null,
   "metadata": {
    "id": "Se7AjmHzCFFp",
    "outputId": "35297ad0-33bf-4e93-fa28-8a741dc6f3c8"
   },
   "outputs": [],
   "source": [
    "data_high_east=(data[['highlights']][data.region=='east'])\n",
    "ans_east=(highlights(data_high_east.highlights))\n",
    "store_inter_east=[]\n",
    "\n",
    "df_highlights_east=pd.DataFrame(ans_east,columns=['Facility'])\n",
    "for i in ans_east:\n",
    "    store_inter_east.append(data_high_east['highlights'].str.count(i).sum())\n",
    "\n",
    "df_highlights_east['frequency']=store_inter_east\n",
    "df_highlights_east.sort_values(by=['frequency'],ascending=False)"
   ]
  },
  {
   "cell_type": "markdown",
   "metadata": {
    "id": "FaF19Wq3CFFr"
   },
   "source": [
    "Inference-\n",
    "\n",
    "        Getting the highest frequency facility used in east region "
   ]
  },
  {
   "cell_type": "markdown",
   "metadata": {
    "id": "jt4KG0kOCFFr"
   },
   "source": [
    "**Highlights of the southern region**"
   ]
  },
  {
   "cell_type": "code",
   "execution_count": null,
   "metadata": {
    "id": "7cnUNEOiCFFr",
    "outputId": "9aa224ae-8fb9-497d-d657-1d460a9c336f"
   },
   "outputs": [],
   "source": [
    "data_high_south=(data[['highlights']][data.region=='south'])\n",
    "ans_south=(highlights(data_high_south.highlights))\n",
    "store_inter_south=[]\n",
    "\n",
    "df_highlights_south=pd.DataFrame(ans_south,columns=['Facility'])\n",
    "for i in ans_south:\n",
    "    store_inter_south.append(data_high_south['highlights'].str.count(i).sum())\n",
    "\n",
    "df_highlights_south['frequency']=store_inter_south\n",
    "df_highlights_south.sort_values(by=['frequency'],ascending=False)"
   ]
  },
  {
   "cell_type": "markdown",
   "metadata": {
    "id": "wx2PQq0gCFFu"
   },
   "source": [
    "Inference-\n",
    "\n",
    "        Getting the highest frequency used in south region "
   ]
  },
  {
   "cell_type": "markdown",
   "metadata": {
    "id": "-m8n2ZB2CFFu"
   },
   "source": [
    "**Highlights of the western region**"
   ]
  },
  {
   "cell_type": "code",
   "execution_count": null,
   "metadata": {
    "id": "rKUnXUpbCFFv",
    "outputId": "0245c2f6-21ed-4c4f-fbd8-5fbd7b6ad2da"
   },
   "outputs": [],
   "source": [
    "data_high_west=(data[['highlights']][data.region=='west'])\n",
    "ans_west=(highlights(data_high_west.highlights))\n",
    "store_inter_west=[]\n",
    "\n",
    "df_highlights_west=pd.DataFrame(ans_west,columns=['Facility'])\n",
    "for i in ans_west:\n",
    "    store_inter_west.append(data_high_west['highlights'].str.count(i).sum())\n",
    "\n",
    "df_highlights_west['frequency']=store_inter_west\n",
    "df_highlights_west.sort_values(by=['frequency'],ascending=False)"
   ]
  },
  {
   "cell_type": "markdown",
   "metadata": {
    "id": "lwrHPNtECFFx"
   },
   "source": [
    "Inference-\n",
    "\n",
    "        Getting the highest frequency facility used in west region "
   ]
  },
  {
   "cell_type": "markdown",
   "metadata": {
    "id": "IHSY0Xj_CFFx"
   },
   "source": [
    "#### Plot the barplot for different regions"
   ]
  },
  {
   "cell_type": "markdown",
   "metadata": {
    "id": "PsLa1i1QCFFy"
   },
   "source": [
    "We shall now plot the graphs for top 10 highlights."
   ]
  },
  {
   "cell_type": "code",
   "execution_count": null,
   "metadata": {
    "id": "L_2JbARQCFFy",
    "outputId": "9ffc2c22-e027-4c04-8d64-589f210d8703"
   },
   "outputs": [],
   "source": [
    "#for NORTH\n",
    "\n",
    "import seaborn as sns\n",
    "save_north=df_highlights_north.sort_values(by=['frequency'],ascending=False).head(10)\n",
    "sns.barplot(x='Facility',y='frequency',data=save_north)"
   ]
  },
  {
   "cell_type": "code",
   "execution_count": null,
   "metadata": {
    "id": "NWt2t9bmCFF0",
    "outputId": "366daefe-3389-410d-d2ca-3510d12937eb"
   },
   "outputs": [],
   "source": [
    "#for EAST\n",
    "\n",
    "import seaborn as sns\n",
    "save_east=df_highlights_east.sort_values(by=['frequency'],ascending=False).head(10)\n",
    "sns.barplot(x='Facility',y='frequency',data=save_east)"
   ]
  },
  {
   "cell_type": "code",
   "execution_count": null,
   "metadata": {
    "id": "aDsYrfVCCFF2",
    "outputId": "23cb18b3-8a2d-4809-f3fb-a0ca94e4452b"
   },
   "outputs": [],
   "source": [
    "#for SOUTH\n",
    "import seaborn as sns\n",
    "save_south=df_highlights_south.sort_values(by=['frequency'],ascending=False).head(10)\n",
    "sns.barplot(x='Facility',y='frequency',data=save_south)"
   ]
  },
  {
   "cell_type": "code",
   "execution_count": null,
   "metadata": {
    "id": "I_reEcmUCFF3",
    "outputId": "18e22622-6e7b-4802-d9ca-b4c382473814"
   },
   "outputs": [],
   "source": [
    "#for WEST\n",
    "import seaborn as sns\n",
    "save_west=df_highlights_west.sort_values(by=['frequency'],ascending=False).head(10)\n",
    "sns.barplot(x='Facility',y='frequency',data=save_west)"
   ]
  },
  {
   "cell_type": "markdown",
   "metadata": {
    "id": "-X31bTktCFF5"
   },
   "source": [
    "Inference-\n",
    "\n",
    "        Plotting the graphs for the respective regions namely - NORTH,SOUTH,EAST,WEST for top 10 facilities used in these regions"
   ]
  },
  {
   "cell_type": "markdown",
   "metadata": {
    "id": "zk1d5j3nCFF5"
   },
   "source": [
    "\n",
    "### 2b. Cuisines available in restaurants for different regions"
   ]
  },
  {
   "cell_type": "markdown",
   "metadata": {
    "id": "lIWdgQLMCFF6"
   },
   "source": [
    "**Cuisines in the northern region**"
   ]
  },
  {
   "cell_type": "code",
   "execution_count": null,
   "metadata": {
    "id": "esl3U2xTCFF6",
    "outputId": "c319da03-c381-4f0c-a57a-20037eb15072",
    "scrolled": true
   },
   "outputs": [],
   "source": [
    "data_cui_north=(data[['cuisines']][data.region=='north'])\n",
    "ans_north=(cuisines(data_cui_north.cuisines))\n",
    "store_inter_north=[]\n",
    "\n",
    "df_cui_north=pd.DataFrame(ans_north,columns=['cuisines'])\n",
    "\n",
    "for i in ans_north:\n",
    "    store_inter_north.append(data_cui_north['cuisines'].str.count(i).sum())\n",
    "\n",
    "df_cui_north['frequency']=store_inter_north\n",
    "df_cui_north.sort_values(by=['frequency'],ascending=False)"
   ]
  },
  {
   "cell_type": "markdown",
   "metadata": {
    "id": "RJaYydP8CFF8"
   },
   "source": [
    "Inference-\n",
    "\n",
    "        Getting the highest frequency of cuisine in north region "
   ]
  },
  {
   "cell_type": "markdown",
   "metadata": {
    "id": "yITChtw9CFF8"
   },
   "source": [
    "**Cuisines in the eastern region**"
   ]
  },
  {
   "cell_type": "code",
   "execution_count": null,
   "metadata": {
    "id": "_lFHh2ILCFF9",
    "outputId": "506ec4c7-e5a5-4124-df70-fde00fe06c9b"
   },
   "outputs": [],
   "source": [
    "data_cui_east=(data[['cuisines']][data.region=='east'])\n",
    "ans_east=(cuisines(data_cui_east.cuisines))\n",
    "store_inter_east=[]\n",
    "\n",
    "df_cui_east=pd.DataFrame(ans_east,columns=['cuisines'])\n",
    "for i in ans_east:\n",
    "    store_inter_east.append(data_cui_east['cuisines'].str.count(i).sum())\n",
    "\n",
    "df_cui_east['frequency']=store_inter_east\n",
    "df_cui_east.sort_values(by=['frequency'],ascending=False)"
   ]
  },
  {
   "cell_type": "markdown",
   "metadata": {
    "id": "GPNrZpIjCFGA"
   },
   "source": [
    "Inference-\n",
    "\n",
    "        Getting the highest frequency of cuisine in east region "
   ]
  },
  {
   "cell_type": "markdown",
   "metadata": {
    "id": "MFAvZ49nCFGA"
   },
   "source": [
    "**Cuisines in the southern region**"
   ]
  },
  {
   "cell_type": "code",
   "execution_count": null,
   "metadata": {
    "id": "4vgfSi8qCFGA",
    "outputId": "45e4d861-774e-41f3-ab39-6042fe0a7b07"
   },
   "outputs": [],
   "source": [
    "data_cui_south=(data[['cuisines']][data.region=='south'])\n",
    "ans_south=(highlights(data_cui_south.cuisines))\n",
    "store_inter_south=[]\n",
    "\n",
    "df_cui_south=pd.DataFrame(ans_south,columns=['cuisines'])\n",
    "for i in ans_south:\n",
    "    store_inter_south.append(data_cui_south['cuisines'].str.count(i).sum())\n",
    "\n",
    "df_cui_south['frequency']=store_inter_south\n",
    "df_cui_south.sort_values(by=['frequency'],ascending=False)"
   ]
  },
  {
   "cell_type": "markdown",
   "metadata": {
    "id": "u_uE21BmCFGC"
   },
   "source": [
    "Inference-\n",
    "\n",
    "        Getting the highest frequency of cuisine in south region "
   ]
  },
  {
   "cell_type": "markdown",
   "metadata": {
    "id": "FsnZWmlHCFGD"
   },
   "source": [
    "**Cuisines in the western region** "
   ]
  },
  {
   "cell_type": "code",
   "execution_count": null,
   "metadata": {
    "id": "aFekesX9CFGE",
    "outputId": "a9d250fe-67e0-492c-ee45-8a16da905537"
   },
   "outputs": [],
   "source": [
    "data_cui_west=(data[['cuisines']][data.region=='west'])\n",
    "ans_west=(cuisines(data_cui_west.cuisines))\n",
    "store_inter_west=[]\n",
    "\n",
    "df_cui_west=pd.DataFrame(ans_west,columns=['cuisines'])\n",
    "for i in ans_west:\n",
    "    store_inter_west.append(data_cui_west['cuisines'].str.count(i).sum())\n",
    "\n",
    "df_cui_west['frequency']=store_inter_west\n",
    "df_cui_west.sort_values(by=['frequency'],ascending=False)"
   ]
  },
  {
   "cell_type": "markdown",
   "metadata": {
    "id": "llFqRniBCFGH"
   },
   "source": [
    "Inference-\n",
    "\n",
    "        Getting the highest frequency of cuisine in west region "
   ]
  },
  {
   "cell_type": "markdown",
   "metadata": {
    "id": "6oVKRBjXCFGI"
   },
   "source": [
    "- Plot the barplot for top 10 cuisines served in the four regions"
   ]
  },
  {
   "cell_type": "code",
   "execution_count": null,
   "metadata": {
    "id": "Nx1TNW3pCFGJ",
    "outputId": "7ce94222-4de4-4ac5-df70-45963b6ec209"
   },
   "outputs": [],
   "source": [
    "#for NORTH\n",
    "\n",
    "import seaborn as sns\n",
    "save_north=df_cui_north.sort_values(by=['frequency'],ascending=False).head(10)\n",
    "sns.barplot(x='cuisines',y='frequency',data=save_north)"
   ]
  },
  {
   "cell_type": "code",
   "execution_count": null,
   "metadata": {
    "id": "zFpmVhkQCFGL",
    "outputId": "a48a2c6d-fd54-43c8-c67a-f1d439d9c41a"
   },
   "outputs": [],
   "source": [
    "#for EAST\n",
    "\n",
    "import seaborn as sns\n",
    "save_east=df_cui_east.sort_values(by=['frequency'],ascending=False).head(10)\n",
    "sns.barplot(x='cuisines',y='frequency',data=save_east)"
   ]
  },
  {
   "cell_type": "code",
   "execution_count": null,
   "metadata": {
    "id": "goLB1nkjCFGR",
    "outputId": "520a3b5c-5ac7-4865-9d87-f94db678124d"
   },
   "outputs": [],
   "source": [
    "#for SOUTH\n",
    "\n",
    "import seaborn as sns\n",
    "save_south=df_cui_south.sort_values(by=['frequency'],ascending=False).head(10)\n",
    "sns.barplot(x='cuisines',y='frequency',data=save_south)"
   ]
  },
  {
   "cell_type": "code",
   "execution_count": null,
   "metadata": {
    "id": "Af_zN28iCFGT",
    "outputId": "61d7fac8-a63e-480a-e665-251dba2ce56d"
   },
   "outputs": [],
   "source": [
    "#for WEST\n",
    "\n",
    "import seaborn as sns\n",
    "save_west=df_cui_west.sort_values(by=['frequency'],ascending=False).head(10)\n",
    "sns.barplot(x='cuisines',y='frequency',data=save_west)\n"
   ]
  },
  {
   "cell_type": "markdown",
   "metadata": {
    "id": "Djgyb1DoCFGV"
   },
   "source": [
    "Inference-\n",
    "\n",
    "        Plotting the graphs for the respective regions namely - NORTH,SOUTH,EAST,WEST for top 10 cuisines used in these regions"
   ]
  },
  {
   "cell_type": "markdown",
   "metadata": {
    "id": "oLhWJlbsCFGW"
   },
   "source": [
    "###  3. The Northern Region"
   ]
  },
  {
   "cell_type": "markdown",
   "metadata": {
    "id": "xG91tTa5CFGW"
   },
   "source": [
    "**Now we shall consider only the northern region**"
   ]
  },
  {
   "cell_type": "markdown",
   "metadata": {
    "id": "0urMxEMMCFGX"
   },
   "source": [
    "**1. The top 10 cuisines served in Restaurants** "
   ]
  },
  {
   "cell_type": "code",
   "execution_count": null,
   "metadata": {
    "id": "bhtFJAA6CFGX",
    "outputId": "5029c9bc-586b-41bc-9a66-8cb0b3b8f822"
   },
   "outputs": [],
   "source": [
    "df_cui_north.sort_values(by=['frequency'],ascending=False).head(10)"
   ]
  },
  {
   "cell_type": "markdown",
   "metadata": {
    "id": "DyyipI6yCFGY"
   },
   "source": [
    "Inference-\n",
    "\n",
    "        Getting the highest frequency of cuisine in north region "
   ]
  },
  {
   "cell_type": "markdown",
   "metadata": {
    "id": "knPA-HbSCFGa"
   },
   "source": [
    "**2. Do restaurants with more photo counts and votes have better rating?**"
   ]
  },
  {
   "cell_type": "code",
   "execution_count": null,
   "metadata": {
    "id": "G2Qtl9nxCFGa",
    "outputId": "943a9987-a93d-4fd9-8e4f-8ab2ef22f18e"
   },
   "outputs": [],
   "source": [
    "data_north=data[data.region=='north']\n",
    "data_north.head(5)\n",
    "\n",
    "data_north[['aggregate_rating','rating_text','photo_count','votes']].sort_values(by=['photo_count','votes'],ascending=False).head(50)"
   ]
  },
  {
   "cell_type": "markdown",
   "metadata": {
    "id": "sH56FA9iCFGc"
   },
   "source": [
    "Inference- \n",
    "            \n",
    "            By observing the table above one can understand that if the photo counts and votes are higher than the rating text is either - \"Very good\" or \"Excellent\" and also the rating is above 4.2 which is a high rating.\n",
    "\n",
    "    Hence,it is safe to say restaurants with more photo counts and votes have better rating."
   ]
  },
  {
   "cell_type": "markdown",
   "metadata": {
    "id": "ADt3de4_CFGc"
   },
   "source": [
    "- Plot a boxplots for the above table"
   ]
  },
  {
   "cell_type": "code",
   "execution_count": null,
   "metadata": {
    "id": "SMqIxWINCFGd",
    "outputId": "38232280-66b1-4e81-fae8-c5004e186434"
   },
   "outputs": [],
   "source": [
    "data_for_boxplot=data_north[['aggregate_rating','photo_count','votes']]\n",
    "ax = sns.boxplot(data=data_for_boxplot, orient=\"h\", palette=\"Set2\")"
   ]
  },
  {
   "cell_type": "code",
   "execution_count": null,
   "metadata": {
    "id": "f1ysw8noCFGe",
    "outputId": "950dcec4-8ea9-48b9-da8f-f7b6f2ae3361"
   },
   "outputs": [],
   "source": [
    "sns.boxplot(x='photo_count',y='aggregate_rating',data=data_for_boxplot)"
   ]
  },
  {
   "cell_type": "code",
   "execution_count": null,
   "metadata": {
    "id": "pugTPilSCFGh",
    "outputId": "379b0bfe-6abc-4ff7-e66a-c56cd4ed1a4f"
   },
   "outputs": [],
   "source": [
    "sns.boxplot(x='votes',y='aggregate_rating',data=data_for_boxplot)"
   ]
  },
  {
   "cell_type": "markdown",
   "metadata": {
    "id": "k3qeCQJbCFGj"
   },
   "source": [
    "Inference- \n",
    "        \n",
    "    plotting the various boxplot to understand the relationship between the photo count, votes and their individual influence on the aggregate rating of the restaurant"
   ]
  },
  {
   "cell_type": "markdown",
   "metadata": {
    "id": "af8VpZABCFGj"
   },
   "source": [
    "### 4. The Mumbai city"
   ]
  },
  {
   "cell_type": "markdown",
   "metadata": {
    "id": "frior_hLCFGk"
   },
   "source": [
    "consider the city mumbai and get a better insights of restuarants in Mumbai."
   ]
  },
  {
   "cell_type": "code",
   "execution_count": null,
   "metadata": {
    "id": "Y9fAkzsfCFGk",
    "outputId": "b053aa89-a6ce-4bb0-dff7-2748bf4c7de4"
   },
   "outputs": [],
   "source": [
    "df_mum=data[data.city=='Mumbai']\n",
    "df_mum.head()"
   ]
  },
  {
   "cell_type": "markdown",
   "metadata": {
    "id": "sbmy0Zb3CFGn"
   },
   "source": [
    "Inference-\n",
    "\n",
    "        Getting data only related to mumbai"
   ]
  },
  {
   "cell_type": "markdown",
   "metadata": {
    "id": "_Ju79DA-CFGn"
   },
   "source": [
    "**1. Expensive restaurants in Mumbai**\n",
    "\n",
    "-  Define the costliest restaurants whose average cost of two people exceeds Rs.5000 .\n",
    "-  Plot the restaurants which are costliest based on their average cost for two .\n",
    "\n",
    "\n"
   ]
  },
  {
   "cell_type": "code",
   "execution_count": null,
   "metadata": {
    "id": "kcgAyvm_CFGn",
    "outputId": "9f0a85b5-8a67-4ec6-b3f6-2318a5ffe567"
   },
   "outputs": [],
   "source": [
    "df_mum['name'][df_mum.average_cost_for_two>5000].head()"
   ]
  },
  {
   "cell_type": "code",
   "execution_count": null,
   "metadata": {
    "id": "OK3xj7J7CFGq",
    "outputId": "8c49fa36-d427-4fe9-9b44-bccc662d26f3"
   },
   "outputs": [],
   "source": [
    "save_ans=df_mum[['name','average_cost_for_two']].sort_values(by=['average_cost_for_two'],ascending=False).drop_duplicates().head(5)\n",
    "save_ans"
   ]
  },
  {
   "cell_type": "markdown",
   "metadata": {
    "id": "1q9VGlf6CFGt"
   },
   "source": [
    "Inference-\n",
    "\n",
    "        getting the costliest  restaurants whose average cost of two people exceeds Rs.5000 ."
   ]
  },
  {
   "cell_type": "code",
   "execution_count": null,
   "metadata": {
    "id": "w3W-TU02CFGt",
    "outputId": "9c66897b-4410-47c2-962a-cd312c274b1c"
   },
   "outputs": [],
   "source": [
    "# sns.barplot(x='name',y='average_cost_for_two',data=save_ans)\n",
    "\n",
    "ans_plot=save_ans.plot.bar(x='name',y='average_cost_for_two')\n",
    "ans_plot"
   ]
  },
  {
   "cell_type": "markdown",
   "metadata": {
    "id": "WFf7-aSACFGz"
   },
   "source": [
    "Inference-\n",
    "\n",
    "        plotting the values on graph for better understanding"
   ]
  },
  {
   "cell_type": "markdown",
   "metadata": {
    "id": "mXs7WPUhCFG0"
   },
   "source": [
    "**2.To find the top 20 cuisines of Mumbai**"
   ]
  },
  {
   "cell_type": "markdown",
   "metadata": {
    "id": "u9z3ALVbCFG1"
   },
   "source": [
    "- select unique cuisines available at restaurants in Mumbai\n",
    "\n",
    "\n",
    "- sort cuisines based on frequency\n"
   ]
  },
  {
   "cell_type": "code",
   "execution_count": null,
   "metadata": {
    "id": "qM47fYtiCFG1",
    "outputId": "8cf4294f-e47e-413a-b24f-29ddc9622b2d"
   },
   "outputs": [],
   "source": [
    "mumbai_cuisines=cuisines(df_mum['cuisines'])\n",
    "print(mumbai_cuisines)\n"
   ]
  },
  {
   "cell_type": "markdown",
   "metadata": {
    "id": "9AseicyQCFG3"
   },
   "source": [
    "Inference-\n",
    "\n",
    "        getting the unique cuisine in Mumbai region"
   ]
  },
  {
   "cell_type": "code",
   "execution_count": null,
   "metadata": {
    "id": "6uaO2a13CFG3",
    "outputId": "8915e3f4-1fdb-4dec-b023-d353939e43a0"
   },
   "outputs": [],
   "source": [
    "store_cuisine_inter_mum=[]\n",
    "\n",
    "df_cuisine_mumbai=pd.DataFrame(mumbai_cuisines,columns=['Cuisines_Of_Mumbai'])\n",
    "for i in mumbai_cuisines:\n",
    "    store_cuisine_inter_mum.append(df_mum['cuisines'].str.count(i).sum())\n",
    "\n",
    "\n",
    "df_cuisine_mumbai['frequency']=store_cuisine_inter_mum\n",
    "df_cuisine_mumbai.sort_values(by=['frequency'],ascending=False).head(20)"
   ]
  },
  {
   "cell_type": "markdown",
   "metadata": {
    "id": "KTLbAChSCFG5"
   },
   "source": [
    "Inference-\n",
    "\n",
    "        getting the frequency of the top 20 cuisines in the mumbai region"
   ]
  },
  {
   "cell_type": "markdown",
   "metadata": {
    "id": "Di3iu3qSCFG5"
   },
   "source": [
    "**3. To find the popular localities in Mumbai**"
   ]
  },
  {
   "cell_type": "code",
   "execution_count": null,
   "metadata": {
    "id": "GTqI_ybACFG5",
    "outputId": "f4e59fe8-132b-4fb3-d4a5-a53cdb2ab542"
   },
   "outputs": [],
   "source": [
    "df_mum_local=df_mum[['locality']]\n",
    "df_mum_local['locality'].value_counts().head(5)"
   ]
  },
  {
   "cell_type": "markdown",
   "metadata": {
    "id": "3BfCENHeCFG7"
   },
   "source": [
    "Inference-\n",
    "\n",
    "        getting the top5 popular localities in mumbai "
   ]
  },
  {
   "cell_type": "markdown",
   "metadata": {
    "id": "GalojriwCFG8"
   },
   "source": [
    "**4. Check for relationship between 'aggregate_rating' and 'average_cost_for_two'**"
   ]
  },
  {
   "cell_type": "code",
   "execution_count": null,
   "metadata": {
    "id": "troWJtuOCFG9",
    "outputId": "69613e15-ba11-4a38-edf3-8f5debfd56cc"
   },
   "outputs": [],
   "source": [
    "import seaborn as sns\n",
    "new_corr=df_mum[['aggregate_rating','average_cost_for_two']]\n",
    "corr_new=new_corr.corr()\n",
    "sns.heatmap(corr_new,annot=True)\n",
    "sns.set(rc={'figure.figsize':(11,8)})"
   ]
  },
  {
   "cell_type": "markdown",
   "metadata": {
    "id": "zT6AnYrUCFHA"
   },
   "source": [
    "Inference-\n",
    "\n",
    "        getting the correlation btwn aggregate_rating and average cost for two"
   ]
  },
  {
   "cell_type": "markdown",
   "metadata": {
    "id": "62dP8mfpCFHA"
   },
   "source": [
    "**5. Multiple box plot for photo_counts based on establishment type.**\n",
    "\n"
   ]
  },
  {
   "cell_type": "code",
   "execution_count": null,
   "metadata": {
    "id": "aiF5w4ucCFHA",
    "outputId": "7a117d25-2309-47ed-f59b-a0b4d6cbe76c"
   },
   "outputs": [],
   "source": [
    "sns.boxplot(x='photo_count',y='establishment',data=data)\n",
    "sns.set(rc={'figure.figsize':(30,1)})"
   ]
  },
  {
   "cell_type": "markdown",
   "metadata": {
    "id": "yWNMWb81CFHC"
   },
   "source": [
    "Inference-\n",
    "\n",
    "        plotting box plot for the photo counts and the "
   ]
  },
  {
   "cell_type": "markdown",
   "metadata": {
    "id": "9kN8PN4zCFHC"
   },
   "source": [
    "**6. Check for payments method offered in restaurants**"
   ]
  },
  {
   "cell_type": "markdown",
   "metadata": {
    "id": "sc7UmQM9CFHD"
   },
   "source": [
    "- select unique facilities available at restaurants in western region\n",
    "- sort facilities based on frequency\n"
   ]
  },
  {
   "cell_type": "code",
   "execution_count": 0,
   "metadata": {
    "id": "FIckLYlOCFHD"
   },
   "outputs": [],
   "source": [
    "#for WEST\n",
    "data_high_west=(data[['highlights']][data.region=='west'])\n",
    "ans_west=(highlights(data_high_west.highlights))\n",
    "store_inter_west=[]\n",
    "\n",
    "df_highlights_west=pd.DataFrame(ans_west,columns=['Facility'])\n",
    "for i in ans_west:\n",
    "    store_inter_west.append(data_high_west['highlights'].str.count(i).sum())\n",
    "\n",
    "df_highlights_west['frequency']=store_inter_west\n",
    "df_highlights_west.sort_values(by=['frequency'],ascending=False)\n",
    "\n",
    "\n",
    "import seaborn as sns\n",
    "save_west=df_highlights_west.sort_values(by=['frequency'],ascending=False).head(10)"
   ]
  },
  {
   "cell_type": "code",
   "execution_count": null,
   "metadata": {
    "id": "PojJYG88CFHI",
    "outputId": "cba24844-e7b0-4240-dd39-ae79467d43d3"
   },
   "outputs": [],
   "source": [
    "sns.barplot(x='Facility',y='frequency',data=save_west)\n",
    "sns.set(rc={'figure.figsize':(30,10)})"
   ]
  },
  {
   "cell_type": "markdown",
   "metadata": {
    "id": "G-L8qoe-CFHJ"
   },
   "source": [
    "Inference-\n",
    "\n",
    "        *getting the unique facilities in the western region \n",
    "        * sorting it wrt the frequency by which they are used\n"
   ]
  },
  {
   "cell_type": "markdown",
   "metadata": {
    "id": "peyF7azlCFHK"
   },
   "source": []
  },
  {
   "cell_type": "code",
   "execution_count": 0,
   "metadata": {
    "id": "zfxdFFSvCFHK"
   },
   "outputs": [],
   "source": []
  }
 ],
 "metadata": {
  "colab": {
   "name": "DarshanGandhi-4.ipynb",
   "provenance": []
  },
  "kernelspec": {
   "display_name": "Python 3",
   "language": "python",
   "name": "python3"
  },
  "language_info": {
   "codemirror_mode": {
    "name": "ipython",
    "version": 3
   },
   "file_extension": ".py",
   "mimetype": "text/x-python",
   "name": "python",
   "nbconvert_exporter": "python",
   "pygments_lexer": "ipython3",
   "version": "3.7.6"
  }
 },
 "nbformat": 4,
 "nbformat_minor": 4
}
