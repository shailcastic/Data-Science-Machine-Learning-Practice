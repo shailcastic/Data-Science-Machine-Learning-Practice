{
 "cells": [
  {
   "cell_type": "code",
   "execution_count": 21,
   "metadata": {},
   "outputs": [],
   "source": [
    "# 1. Missing value treatment (see screenshot for treatment)\n",
    "# 2. Outliers treatment\n",
    "# a.remove the outliers\n",
    "# b.transform the data\n",
    "# (square root, cube root and log transformation)\n",
    "# 3. Feature scaling\n",
    "# standardisation(commonly used)\n",
    "# normalisation(rarely used)"
   ]
  },
  {
   "cell_type": "code",
   "execution_count": null,
   "metadata": {},
   "outputs": [],
   "source": [
    "# label encoding\n",
    "# One hot encoding"
   ]
  },
  {
   "cell_type": "code",
   "execution_count": 20,
   "metadata": {},
   "outputs": [],
   "source": [
    "import os\n",
    "os.getcwd()\n",
    "os.chdir('C:\\\\Users\\\\Shailesh\\\\PycharmProjects\\\\DataScience-With-Python\\\\Edureka\\\\Edureka-17082019-DSPY\\\\DataSources')"
   ]
  },
  {
   "cell_type": "code",
   "execution_count": 22,
   "metadata": {},
   "outputs": [],
   "source": [
    "import pandas as pd\n",
    "import numpy as np\n",
    "import seaborn as sns"
   ]
  },
  {
   "cell_type": "code",
   "execution_count": 3,
   "metadata": {},
   "outputs": [],
   "source": [
    "dataset = pd.read_excel('Employee_Data.xls')"
   ]
  },
  {
   "cell_type": "code",
   "execution_count": 23,
   "metadata": {},
   "outputs": [
    {
     "data": {
      "text/html": [
       "<div>\n",
       "<style scoped>\n",
       "    .dataframe tbody tr th:only-of-type {\n",
       "        vertical-align: middle;\n",
       "    }\n",
       "\n",
       "    .dataframe tbody tr th {\n",
       "        vertical-align: top;\n",
       "    }\n",
       "\n",
       "    .dataframe thead th {\n",
       "        text-align: right;\n",
       "    }\n",
       "</style>\n",
       "<table border=\"1\" class=\"dataframe\">\n",
       "  <thead>\n",
       "    <tr style=\"text-align: right;\">\n",
       "      <th></th>\n",
       "      <th>Employee Id</th>\n",
       "      <th>First Name</th>\n",
       "      <th>Last Name</th>\n",
       "      <th>Department</th>\n",
       "      <th>Age</th>\n",
       "      <th>Experience</th>\n",
       "      <th>Salary</th>\n",
       "    </tr>\n",
       "  </thead>\n",
       "  <tbody>\n",
       "    <tr>\n",
       "      <th>0</th>\n",
       "      <td>1</td>\n",
       "      <td>Camden</td>\n",
       "      <td>Savage</td>\n",
       "      <td>Asset Management</td>\n",
       "      <td>38.0</td>\n",
       "      <td>23.0</td>\n",
       "      <td>46975</td>\n",
       "    </tr>\n",
       "    <tr>\n",
       "      <th>1</th>\n",
       "      <td>2</td>\n",
       "      <td>Justina</td>\n",
       "      <td>Mcconnell</td>\n",
       "      <td>Customer Service</td>\n",
       "      <td>26.0</td>\n",
       "      <td>10.0</td>\n",
       "      <td>30711</td>\n",
       "    </tr>\n",
       "    <tr>\n",
       "      <th>2</th>\n",
       "      <td>3</td>\n",
       "      <td>Stewart</td>\n",
       "      <td>Moon</td>\n",
       "      <td>Human Resources</td>\n",
       "      <td>NaN</td>\n",
       "      <td>14.0</td>\n",
       "      <td>25049</td>\n",
       "    </tr>\n",
       "    <tr>\n",
       "      <th>3</th>\n",
       "      <td>4</td>\n",
       "      <td>Tobias</td>\n",
       "      <td>Fletcher</td>\n",
       "      <td>Public Relations</td>\n",
       "      <td>NaN</td>\n",
       "      <td>12.0</td>\n",
       "      <td>33309</td>\n",
       "    </tr>\n",
       "    <tr>\n",
       "      <th>4</th>\n",
       "      <td>5</td>\n",
       "      <td>Raja</td>\n",
       "      <td>Sims</td>\n",
       "      <td>Customer Service</td>\n",
       "      <td>NaN</td>\n",
       "      <td>13.0</td>\n",
       "      <td>25274</td>\n",
       "    </tr>\n",
       "  </tbody>\n",
       "</table>\n",
       "</div>"
      ],
      "text/plain": [
       "   Employee Id First Name  Last Name        Department   Age  Experience  \\\n",
       "0            1     Camden     Savage  Asset Management  38.0        23.0   \n",
       "1            2    Justina  Mcconnell  Customer Service  26.0        10.0   \n",
       "2            3    Stewart       Moon   Human Resources   NaN        14.0   \n",
       "3            4     Tobias   Fletcher  Public Relations   NaN        12.0   \n",
       "4            5       Raja       Sims  Customer Service   NaN        13.0   \n",
       "\n",
       "   Salary  \n",
       "0   46975  \n",
       "1   30711  \n",
       "2   25049  \n",
       "3   33309  \n",
       "4   25274  "
      ]
     },
     "execution_count": 23,
     "metadata": {},
     "output_type": "execute_result"
    }
   ],
   "source": [
    "dataset.head()"
   ]
  },
  {
   "cell_type": "code",
   "execution_count": 4,
   "metadata": {},
   "outputs": [
    {
     "data": {
      "text/plain": [
       "Employee Id     0\n",
       "First Name      0\n",
       "Last Name       0\n",
       "Department      9\n",
       "Age             6\n",
       "Experience     13\n",
       "Salary          0\n",
       "dtype: int64"
      ]
     },
     "execution_count": 4,
     "metadata": {},
     "output_type": "execute_result"
    }
   ],
   "source": [
    "dataset.isnull().sum()   # to show all the colums"
   ]
  },
  {
   "cell_type": "code",
   "execution_count": 5,
   "metadata": {},
   "outputs": [
    {
     "data": {
      "text/html": [
       "<div>\n",
       "<style scoped>\n",
       "    .dataframe tbody tr th:only-of-type {\n",
       "        vertical-align: middle;\n",
       "    }\n",
       "\n",
       "    .dataframe tbody tr th {\n",
       "        vertical-align: top;\n",
       "    }\n",
       "\n",
       "    .dataframe thead th {\n",
       "        text-align: right;\n",
       "    }\n",
       "</style>\n",
       "<table border=\"1\" class=\"dataframe\">\n",
       "  <thead>\n",
       "    <tr style=\"text-align: right;\">\n",
       "      <th></th>\n",
       "      <th>Employee Id</th>\n",
       "      <th>First Name</th>\n",
       "      <th>Last Name</th>\n",
       "      <th>Department</th>\n",
       "      <th>Age</th>\n",
       "      <th>Experience</th>\n",
       "      <th>Salary</th>\n",
       "    </tr>\n",
       "  </thead>\n",
       "  <tbody>\n",
       "    <tr>\n",
       "      <th>0</th>\n",
       "      <td>1</td>\n",
       "      <td>Camden</td>\n",
       "      <td>Savage</td>\n",
       "      <td>Asset Management</td>\n",
       "      <td>38.0</td>\n",
       "      <td>23.0</td>\n",
       "      <td>46975</td>\n",
       "    </tr>\n",
       "    <tr>\n",
       "      <th>1</th>\n",
       "      <td>2</td>\n",
       "      <td>Justina</td>\n",
       "      <td>Mcconnell</td>\n",
       "      <td>Customer Service</td>\n",
       "      <td>26.0</td>\n",
       "      <td>10.0</td>\n",
       "      <td>30711</td>\n",
       "    </tr>\n",
       "    <tr>\n",
       "      <th>2</th>\n",
       "      <td>3</td>\n",
       "      <td>Stewart</td>\n",
       "      <td>Moon</td>\n",
       "      <td>Human Resources</td>\n",
       "      <td>NaN</td>\n",
       "      <td>14.0</td>\n",
       "      <td>25049</td>\n",
       "    </tr>\n",
       "    <tr>\n",
       "      <th>3</th>\n",
       "      <td>4</td>\n",
       "      <td>Tobias</td>\n",
       "      <td>Fletcher</td>\n",
       "      <td>Public Relations</td>\n",
       "      <td>NaN</td>\n",
       "      <td>12.0</td>\n",
       "      <td>33309</td>\n",
       "    </tr>\n",
       "    <tr>\n",
       "      <th>4</th>\n",
       "      <td>5</td>\n",
       "      <td>Raja</td>\n",
       "      <td>Sims</td>\n",
       "      <td>Customer Service</td>\n",
       "      <td>NaN</td>\n",
       "      <td>13.0</td>\n",
       "      <td>25274</td>\n",
       "    </tr>\n",
       "    <tr>\n",
       "      <th>5</th>\n",
       "      <td>6</td>\n",
       "      <td>Kirsten</td>\n",
       "      <td>Douglas</td>\n",
       "      <td>Advertising</td>\n",
       "      <td>NaN</td>\n",
       "      <td>9.0</td>\n",
       "      <td>48583</td>\n",
       "    </tr>\n",
       "    <tr>\n",
       "      <th>6</th>\n",
       "      <td>7</td>\n",
       "      <td>Kylee</td>\n",
       "      <td>Lindsay</td>\n",
       "      <td>Research and Development</td>\n",
       "      <td>NaN</td>\n",
       "      <td>24.0</td>\n",
       "      <td>39697</td>\n",
       "    </tr>\n",
       "    <tr>\n",
       "      <th>7</th>\n",
       "      <td>8</td>\n",
       "      <td>Deborah</td>\n",
       "      <td>Price</td>\n",
       "      <td>Asset Management</td>\n",
       "      <td>NaN</td>\n",
       "      <td>2.0</td>\n",
       "      <td>24163</td>\n",
       "    </tr>\n",
       "    <tr>\n",
       "      <th>8</th>\n",
       "      <td>9</td>\n",
       "      <td>Imogene</td>\n",
       "      <td>Ochoa</td>\n",
       "      <td>Legal Department</td>\n",
       "      <td>40.0</td>\n",
       "      <td>30.0</td>\n",
       "      <td>17160</td>\n",
       "    </tr>\n",
       "    <tr>\n",
       "      <th>9</th>\n",
       "      <td>10</td>\n",
       "      <td>Justin</td>\n",
       "      <td>Keith</td>\n",
       "      <td>Advertising</td>\n",
       "      <td>24.0</td>\n",
       "      <td>23.0</td>\n",
       "      <td>35218</td>\n",
       "    </tr>\n",
       "    <tr>\n",
       "      <th>10</th>\n",
       "      <td>11</td>\n",
       "      <td>Daniel</td>\n",
       "      <td>Hughes</td>\n",
       "      <td>Legal Department</td>\n",
       "      <td>35.0</td>\n",
       "      <td>3.0</td>\n",
       "      <td>10378</td>\n",
       "    </tr>\n",
       "    <tr>\n",
       "      <th>11</th>\n",
       "      <td>12</td>\n",
       "      <td>Josephine</td>\n",
       "      <td>Kirk</td>\n",
       "      <td>NaN</td>\n",
       "      <td>31.0</td>\n",
       "      <td>NaN</td>\n",
       "      <td>18054</td>\n",
       "    </tr>\n",
       "    <tr>\n",
       "      <th>12</th>\n",
       "      <td>13</td>\n",
       "      <td>Linus</td>\n",
       "      <td>Mendez</td>\n",
       "      <td>NaN</td>\n",
       "      <td>58.0</td>\n",
       "      <td>NaN</td>\n",
       "      <td>20950</td>\n",
       "    </tr>\n",
       "    <tr>\n",
       "      <th>13</th>\n",
       "      <td>14</td>\n",
       "      <td>Paloma</td>\n",
       "      <td>Ryan</td>\n",
       "      <td>NaN</td>\n",
       "      <td>51.0</td>\n",
       "      <td>NaN</td>\n",
       "      <td>27707</td>\n",
       "    </tr>\n",
       "    <tr>\n",
       "      <th>14</th>\n",
       "      <td>15</td>\n",
       "      <td>Colin</td>\n",
       "      <td>Boyd</td>\n",
       "      <td>NaN</td>\n",
       "      <td>27.0</td>\n",
       "      <td>NaN</td>\n",
       "      <td>18543</td>\n",
       "    </tr>\n",
       "    <tr>\n",
       "      <th>15</th>\n",
       "      <td>16</td>\n",
       "      <td>Linda</td>\n",
       "      <td>Burke</td>\n",
       "      <td>NaN</td>\n",
       "      <td>54.0</td>\n",
       "      <td>NaN</td>\n",
       "      <td>16556</td>\n",
       "    </tr>\n",
       "    <tr>\n",
       "      <th>16</th>\n",
       "      <td>17</td>\n",
       "      <td>Sarah</td>\n",
       "      <td>Page</td>\n",
       "      <td>NaN</td>\n",
       "      <td>55.0</td>\n",
       "      <td>NaN</td>\n",
       "      <td>24624</td>\n",
       "    </tr>\n",
       "    <tr>\n",
       "      <th>17</th>\n",
       "      <td>18</td>\n",
       "      <td>Casey</td>\n",
       "      <td>Parks</td>\n",
       "      <td>Media Relations</td>\n",
       "      <td>58.0</td>\n",
       "      <td>NaN</td>\n",
       "      <td>26379</td>\n",
       "    </tr>\n",
       "    <tr>\n",
       "      <th>18</th>\n",
       "      <td>19</td>\n",
       "      <td>Blair</td>\n",
       "      <td>Skinner</td>\n",
       "      <td>Research and Development</td>\n",
       "      <td>59.0</td>\n",
       "      <td>NaN</td>\n",
       "      <td>28668</td>\n",
       "    </tr>\n",
       "    <tr>\n",
       "      <th>19</th>\n",
       "      <td>20</td>\n",
       "      <td>Melinda</td>\n",
       "      <td>Bray</td>\n",
       "      <td>Media Relations</td>\n",
       "      <td>45.0</td>\n",
       "      <td>4.0</td>\n",
       "      <td>47896</td>\n",
       "    </tr>\n",
       "    <tr>\n",
       "      <th>20</th>\n",
       "      <td>21</td>\n",
       "      <td>Roary</td>\n",
       "      <td>Gomez</td>\n",
       "      <td>Sales and Marketing</td>\n",
       "      <td>50.0</td>\n",
       "      <td>2.0</td>\n",
       "      <td>10446</td>\n",
       "    </tr>\n",
       "    <tr>\n",
       "      <th>21</th>\n",
       "      <td>22</td>\n",
       "      <td>Devin</td>\n",
       "      <td>Silva</td>\n",
       "      <td>Advertising</td>\n",
       "      <td>55.0</td>\n",
       "      <td>19.0</td>\n",
       "      <td>47970</td>\n",
       "    </tr>\n",
       "    <tr>\n",
       "      <th>22</th>\n",
       "      <td>23</td>\n",
       "      <td>Charles</td>\n",
       "      <td>Bradshaw</td>\n",
       "      <td>Tech Support</td>\n",
       "      <td>40.0</td>\n",
       "      <td>20.0</td>\n",
       "      <td>38705</td>\n",
       "    </tr>\n",
       "    <tr>\n",
       "      <th>23</th>\n",
       "      <td>24</td>\n",
       "      <td>Yolanda</td>\n",
       "      <td>Carroll</td>\n",
       "      <td>Advertising</td>\n",
       "      <td>51.0</td>\n",
       "      <td>21.0</td>\n",
       "      <td>44061</td>\n",
       "    </tr>\n",
       "    <tr>\n",
       "      <th>24</th>\n",
       "      <td>25</td>\n",
       "      <td>Illana</td>\n",
       "      <td>Whitley</td>\n",
       "      <td>Media Relations</td>\n",
       "      <td>24.0</td>\n",
       "      <td>12.0</td>\n",
       "      <td>47644</td>\n",
       "    </tr>\n",
       "    <tr>\n",
       "      <th>25</th>\n",
       "      <td>26</td>\n",
       "      <td>Chastity</td>\n",
       "      <td>Clarke</td>\n",
       "      <td>Asset Management</td>\n",
       "      <td>57.0</td>\n",
       "      <td>25.0</td>\n",
       "      <td>44466</td>\n",
       "    </tr>\n",
       "    <tr>\n",
       "      <th>26</th>\n",
       "      <td>27</td>\n",
       "      <td>Liberty</td>\n",
       "      <td>Strong</td>\n",
       "      <td>Legal Department</td>\n",
       "      <td>24.0</td>\n",
       "      <td>9.0</td>\n",
       "      <td>43138</td>\n",
       "    </tr>\n",
       "    <tr>\n",
       "      <th>27</th>\n",
       "      <td>28</td>\n",
       "      <td>Ulla</td>\n",
       "      <td>Ballard</td>\n",
       "      <td>Public Relations</td>\n",
       "      <td>46.0</td>\n",
       "      <td>6.0</td>\n",
       "      <td>17115</td>\n",
       "    </tr>\n",
       "    <tr>\n",
       "      <th>28</th>\n",
       "      <td>29</td>\n",
       "      <td>Steven</td>\n",
       "      <td>Byrd</td>\n",
       "      <td>Asset Management</td>\n",
       "      <td>29.0</td>\n",
       "      <td>26.0</td>\n",
       "      <td>26752</td>\n",
       "    </tr>\n",
       "    <tr>\n",
       "      <th>29</th>\n",
       "      <td>30</td>\n",
       "      <td>Chantale</td>\n",
       "      <td>Burks</td>\n",
       "      <td>Customer Relations</td>\n",
       "      <td>46.0</td>\n",
       "      <td>13.0</td>\n",
       "      <td>38742</td>\n",
       "    </tr>\n",
       "  </tbody>\n",
       "</table>\n",
       "</div>"
      ],
      "text/plain": [
       "    Employee Id First Name  Last Name                Department   Age  \\\n",
       "0             1     Camden     Savage          Asset Management  38.0   \n",
       "1             2    Justina  Mcconnell          Customer Service  26.0   \n",
       "2             3    Stewart       Moon           Human Resources   NaN   \n",
       "3             4     Tobias   Fletcher          Public Relations   NaN   \n",
       "4             5       Raja       Sims          Customer Service   NaN   \n",
       "5             6    Kirsten    Douglas               Advertising   NaN   \n",
       "6             7      Kylee    Lindsay  Research and Development   NaN   \n",
       "7             8    Deborah      Price          Asset Management   NaN   \n",
       "8             9    Imogene      Ochoa          Legal Department  40.0   \n",
       "9            10     Justin      Keith               Advertising  24.0   \n",
       "10           11     Daniel     Hughes          Legal Department  35.0   \n",
       "11           12  Josephine       Kirk                       NaN  31.0   \n",
       "12           13      Linus     Mendez                       NaN  58.0   \n",
       "13           14     Paloma       Ryan                       NaN  51.0   \n",
       "14           15      Colin       Boyd                       NaN  27.0   \n",
       "15           16      Linda      Burke                       NaN  54.0   \n",
       "16           17      Sarah       Page                       NaN  55.0   \n",
       "17           18      Casey      Parks           Media Relations  58.0   \n",
       "18           19      Blair    Skinner  Research and Development  59.0   \n",
       "19           20    Melinda       Bray           Media Relations  45.0   \n",
       "20           21      Roary      Gomez       Sales and Marketing  50.0   \n",
       "21           22      Devin      Silva               Advertising  55.0   \n",
       "22           23    Charles   Bradshaw              Tech Support  40.0   \n",
       "23           24    Yolanda    Carroll               Advertising  51.0   \n",
       "24           25     Illana    Whitley           Media Relations  24.0   \n",
       "25           26   Chastity     Clarke          Asset Management  57.0   \n",
       "26           27    Liberty     Strong          Legal Department  24.0   \n",
       "27           28       Ulla    Ballard          Public Relations  46.0   \n",
       "28           29     Steven       Byrd          Asset Management  29.0   \n",
       "29           30   Chantale      Burks        Customer Relations  46.0   \n",
       "\n",
       "    Experience  Salary  \n",
       "0         23.0   46975  \n",
       "1         10.0   30711  \n",
       "2         14.0   25049  \n",
       "3         12.0   33309  \n",
       "4         13.0   25274  \n",
       "5          9.0   48583  \n",
       "6         24.0   39697  \n",
       "7          2.0   24163  \n",
       "8         30.0   17160  \n",
       "9         23.0   35218  \n",
       "10         3.0   10378  \n",
       "11         NaN   18054  \n",
       "12         NaN   20950  \n",
       "13         NaN   27707  \n",
       "14         NaN   18543  \n",
       "15         NaN   16556  \n",
       "16         NaN   24624  \n",
       "17         NaN   26379  \n",
       "18         NaN   28668  \n",
       "19         4.0   47896  \n",
       "20         2.0   10446  \n",
       "21        19.0   47970  \n",
       "22        20.0   38705  \n",
       "23        21.0   44061  \n",
       "24        12.0   47644  \n",
       "25        25.0   44466  \n",
       "26         9.0   43138  \n",
       "27         6.0   17115  \n",
       "28        26.0   26752  \n",
       "29        13.0   38742  "
      ]
     },
     "execution_count": 5,
     "metadata": {},
     "output_type": "execute_result"
    }
   ],
   "source": [
    "dataset.head(30)"
   ]
  },
  {
   "cell_type": "code",
   "execution_count": 24,
   "metadata": {},
   "outputs": [
    {
     "data": {
      "text/plain": [
       "<matplotlib.axes._subplots.AxesSubplot at 0x268a3cff9b0>"
      ]
     },
     "execution_count": 24,
     "metadata": {},
     "output_type": "execute_result"
    },
    {
     "data": {
      "image/png": "[encoded data removed]",
      "text/plain": [
       "<Figure size 432x288 with 1 Axes>"
      ]
     },
     "metadata": {
      "needs_background": "light"
     },
     "output_type": "display_data"
    }
   ],
   "source": [
    "import seaborn as sns\n",
    "sns.boxplot(y='Age', data=dataset)  # to find the outliers both mean and median could be used with no outliers and median in other case"
   ]
  },
  {
   "cell_type": "code",
   "execution_count": 7,
   "metadata": {},
   "outputs": [
    {
     "data": {
      "text/plain": [
       "<matplotlib.axes._subplots.AxesSubplot at 0x268a2601ef0>"
      ]
     },
     "execution_count": 7,
     "metadata": {},
     "output_type": "execute_result"
    },
    {
     "data": {
      "image/png": "[encoded data removed]",
      "text/plain": [
       "<Figure size 432x288 with 1 Axes>"
      ]
     },
     "metadata": {
      "needs_background": "light"
     },
     "output_type": "display_data"
    }
   ],
   "source": [
    "sns.boxplot(y='Experience', data=dataset) # to find the outliers"
   ]
  },
  {
   "cell_type": "code",
   "execution_count": 25,
   "metadata": {},
   "outputs": [
    {
     "name": "stdout",
     "output_type": "stream",
     "text": [
      "<class 'pandas.core.frame.DataFrame'>\n",
      "RangeIndex: 100 entries, 0 to 99\n",
      "Data columns (total 7 columns):\n",
      "Employee Id    100 non-null int64\n",
      "First Name     100 non-null object\n",
      "Last Name      100 non-null object\n",
      "Department     91 non-null object\n",
      "Age            94 non-null float64\n",
      "Experience     87 non-null float64\n",
      "Salary         100 non-null int64\n",
      "dtypes: float64(2), int64(2), object(3)\n",
      "memory usage: 5.5+ KB\n"
     ]
    }
   ],
   "source": [
    "dataset.info()"
   ]
  },
  {
   "cell_type": "code",
   "execution_count": 8,
   "metadata": {},
   "outputs": [],
   "source": [
    "x=dataset.iloc[:,3:6].values  # index location"
   ]
  },
  {
   "cell_type": "code",
   "execution_count": 9,
   "metadata": {
    "scrolled": true
   },
   "outputs": [
    {
     "data": {
      "text/plain": [
       "array([['Asset Management', 38.0, 23.0],\n",
       "       ['Customer Service', 26.0, 10.0],\n",
       "       ['Human Resources', nan, 14.0],\n",
       "       ['Public Relations', nan, 12.0],\n",
       "       ['Customer Service', nan, 13.0],\n",
       "       ['Advertising', nan, 9.0],\n",
       "       ['Research and Development', nan, 24.0],\n",
       "       ['Asset Management', nan, 2.0],\n",
       "       ['Legal Department', 40.0, 30.0],\n",
       "       ['Advertising', 24.0, 23.0],\n",
       "       ['Legal Department', 35.0, 3.0],\n",
       "       [nan, 31.0, nan],\n",
       "       [nan, 58.0, nan],\n",
       "       [nan, 51.0, nan],\n",
       "       [nan, 27.0, nan],\n",
       "       [nan, 54.0, nan],\n",
       "       [nan, 55.0, nan],\n",
       "       ['Media Relations', 58.0, nan],\n",
       "       ['Research and Development', 59.0, nan],\n",
       "       ['Media Relations', 45.0, 4.0],\n",
       "       ['Sales and Marketing', 50.0, 2.0],\n",
       "       ['Advertising', 55.0, 19.0],\n",
       "       ['Tech Support', 40.0, 20.0],\n",
       "       ['Advertising', 51.0, 21.0],\n",
       "       ['Media Relations', 24.0, 12.0],\n",
       "       ['Asset Management', 57.0, 25.0],\n",
       "       ['Legal Department', 24.0, 9.0],\n",
       "       ['Public Relations', 46.0, 6.0],\n",
       "       ['Asset Management', 29.0, 26.0],\n",
       "       ['Customer Relations', 46.0, 13.0],\n",
       "       ['Quality Assurance', 30.0, 29.0],\n",
       "       ['Accounting', 57.0, nan],\n",
       "       [nan, 47.0, nan],\n",
       "       [nan, 41.0, nan],\n",
       "       [nan, 50.0, nan],\n",
       "       ['Public Relations', 49.0, nan],\n",
       "       ['Customer Relations', 28.0, 6.0],\n",
       "       ['Public Relations', 44.0, 29.0],\n",
       "       ['Finances', 40.0, 19.0],\n",
       "       ['Advertising', 30.0, 25.0],\n",
       "       ['Finances', 56.0, 21.0],\n",
       "       ['Accounting', 26.0, 24.0],\n",
       "       ['Finances', 44.0, 16.0],\n",
       "       ['Payroll', 36.0, 28.0],\n",
       "       ['Tech Support', 43.0, 24.0],\n",
       "       ['Finances', 47.0, 15.0],\n",
       "       ['Finances', 29.0, 11.0],\n",
       "       ['Customer Service', 52.0, 7.0],\n",
       "       ['Customer Relations', 42.0, 23.0],\n",
       "       ['Tech Support', 44.0, 5.0],\n",
       "       ['Finances', 23.0, 8.0],\n",
       "       ['Payroll', 57.0, 16.0],\n",
       "       ['Asset Management', 40.0, 9.0],\n",
       "       ['Media Relations', 28.0, 24.0],\n",
       "       ['Advertising', 53.0, 7.0],\n",
       "       ['Accounting', 56.0, 3.0],\n",
       "       ['Customer Relations', 48.0, 20.0],\n",
       "       ['Customer Service', 54.0, 7.0],\n",
       "       ['Media Relations', 37.0, 2.0],\n",
       "       ['Advertising', 57.0, 8.0],\n",
       "       ['Human Resources', 50.0, 17.0],\n",
       "       ['Legal Department', 46.0, 9.0],\n",
       "       ['Media Relations', 28.0, 3.0],\n",
       "       ['Legal Department', 26.0, 14.0],\n",
       "       ['Payroll', 54.0, 11.0],\n",
       "       ['Public Relations', 31.0, 18.0],\n",
       "       ['Legal Department', 33.0, 2.0],\n",
       "       ['Media Relations', 48.0, 27.0],\n",
       "       ['Quality Assurance', 41.0, 20.0],\n",
       "       ['Human Resources', 44.0, 1.0],\n",
       "       ['Tech Support', 38.0, 28.0],\n",
       "       ['Accounting', 34.0, 11.0],\n",
       "       ['Quality Assurance', 28.0, 27.0],\n",
       "       ['Advertising', 23.0, 23.0],\n",
       "       ['Customer Relations', 52.0, 12.0],\n",
       "       ['Finances', 33.0, 22.0],\n",
       "       ['Human Resources', 45.0, 28.0],\n",
       "       ['Legal Department', 37.0, 30.0],\n",
       "       ['Research and Development', 26.0, 27.0],\n",
       "       ['Asset Management', 54.0, 19.0],\n",
       "       ['Tech Support', 51.0, 29.0],\n",
       "       ['Quality Assurance', 26.0, 20.0],\n",
       "       ['Accounting', 26.0, 10.0],\n",
       "       ['Customer Service', 35.0, 4.0],\n",
       "       ['Sales and Marketing', 38.0, 23.0],\n",
       "       ['Tech Support', 33.0, 14.0],\n",
       "       ['Advertising', 38.0, 17.0],\n",
       "       ['Accounting', 43.0, 21.0],\n",
       "       ['Accounting', 32.0, 7.0],\n",
       "       ['Media Relations', 32.0, 15.0],\n",
       "       ['Human Resources', 51.0, 7.0],\n",
       "       ['Public Relations', 25.0, 4.0],\n",
       "       ['Asset Management', 58.0, 23.0],\n",
       "       ['Accounting', 41.0, 25.0],\n",
       "       ['Finances', 25.0, 24.0],\n",
       "       ['Tech Support', 52.0, 16.0],\n",
       "       ['Customer Relations', 52.0, 3.0],\n",
       "       ['Quality Assurance', 30.0, 5.0],\n",
       "       ['Research and Development', 32.0, 27.0],\n",
       "       ['Quality Assurance', 46.0, 24.0]], dtype=object)"
      ]
     },
     "execution_count": 9,
     "metadata": {},
     "output_type": "execute_result"
    }
   ],
   "source": [
    "x"
   ]
  },
  {
   "cell_type": "code",
   "execution_count": 10,
   "metadata": {},
   "outputs": [
    {
     "name": "stderr",
     "output_type": "stream",
     "text": [
      "C:\\Users\\Shailesh\\Anaconda3\\lib\\site-packages\\sklearn\\utils\\deprecation.py:66: DeprecationWarning: Class Imputer is deprecated; Imputer was deprecated in version 0.20 and will be removed in 0.22. Import impute.SimpleImputer from sklearn instead.\n",
      "  warnings.warn(msg, category=DeprecationWarning)\n"
     ]
    }
   ],
   "source": [
    "from sklearn.preprocessing import Imputer\n",
    "imputer = Imputer(missing_values = 'NaN', strategy='mean', axis=0)\n",
    "imputer = imputer.fit(x[:,1:3])\n",
    "x[:,1:3] = imputer.transform(x[:,1:3])"
   ]
  },
  {
   "cell_type": "code",
   "execution_count": 11,
   "metadata": {},
   "outputs": [
    {
     "data": {
      "text/plain": [
       "array([['Asset Management', 38.0, 23.0],\n",
       "       ['Customer Service', 26.0, 10.0],\n",
       "       ['Human Resources', 40.93617021276596, 14.0],\n",
       "       ['Public Relations', 40.93617021276596, 12.0],\n",
       "       ['Customer Service', 40.93617021276596, 13.0],\n",
       "       ['Advertising', 40.93617021276596, 9.0],\n",
       "       ['Research and Development', 40.93617021276596, 24.0],\n",
       "       ['Asset Management', 40.93617021276596, 2.0],\n",
       "       ['Legal Department', 40.0, 30.0],\n",
       "       ['Advertising', 24.0, 23.0],\n",
       "       ['Legal Department', 35.0, 3.0],\n",
       "       [nan, 31.0, 15.781609195402298],\n",
       "       [nan, 58.0, 15.781609195402298],\n",
       "       [nan, 51.0, 15.781609195402298],\n",
       "       [nan, 27.0, 15.781609195402298],\n",
       "       [nan, 54.0, 15.781609195402298],\n",
       "       [nan, 55.0, 15.781609195402298],\n",
       "       ['Media Relations', 58.0, 15.781609195402298],\n",
       "       ['Research and Development', 59.0, 15.781609195402298],\n",
       "       ['Media Relations', 45.0, 4.0],\n",
       "       ['Sales and Marketing', 50.0, 2.0],\n",
       "       ['Advertising', 55.0, 19.0],\n",
       "       ['Tech Support', 40.0, 20.0],\n",
       "       ['Advertising', 51.0, 21.0],\n",
       "       ['Media Relations', 24.0, 12.0],\n",
       "       ['Asset Management', 57.0, 25.0],\n",
       "       ['Legal Department', 24.0, 9.0],\n",
       "       ['Public Relations', 46.0, 6.0],\n",
       "       ['Asset Management', 29.0, 26.0],\n",
       "       ['Customer Relations', 46.0, 13.0],\n",
       "       ['Quality Assurance', 30.0, 29.0],\n",
       "       ['Accounting', 57.0, 15.781609195402298],\n",
       "       [nan, 47.0, 15.781609195402298],\n",
       "       [nan, 41.0, 15.781609195402298],\n",
       "       [nan, 50.0, 15.781609195402298],\n",
       "       ['Public Relations', 49.0, 15.781609195402298],\n",
       "       ['Customer Relations', 28.0, 6.0],\n",
       "       ['Public Relations', 44.0, 29.0],\n",
       "       ['Finances', 40.0, 19.0],\n",
       "       ['Advertising', 30.0, 25.0],\n",
       "       ['Finances', 56.0, 21.0],\n",
       "       ['Accounting', 26.0, 24.0],\n",
       "       ['Finances', 44.0, 16.0],\n",
       "       ['Payroll', 36.0, 28.0],\n",
       "       ['Tech Support', 43.0, 24.0],\n",
       "       ['Finances', 47.0, 15.0],\n",
       "       ['Finances', 29.0, 11.0],\n",
       "       ['Customer Service', 52.0, 7.0],\n",
       "       ['Customer Relations', 42.0, 23.0],\n",
       "       ['Tech Support', 44.0, 5.0],\n",
       "       ['Finances', 23.0, 8.0],\n",
       "       ['Payroll', 57.0, 16.0],\n",
       "       ['Asset Management', 40.0, 9.0],\n",
       "       ['Media Relations', 28.0, 24.0],\n",
       "       ['Advertising', 53.0, 7.0],\n",
       "       ['Accounting', 56.0, 3.0],\n",
       "       ['Customer Relations', 48.0, 20.0],\n",
       "       ['Customer Service', 54.0, 7.0],\n",
       "       ['Media Relations', 37.0, 2.0],\n",
       "       ['Advertising', 57.0, 8.0],\n",
       "       ['Human Resources', 50.0, 17.0],\n",
       "       ['Legal Department', 46.0, 9.0],\n",
       "       ['Media Relations', 28.0, 3.0],\n",
       "       ['Legal Department', 26.0, 14.0],\n",
       "       ['Payroll', 54.0, 11.0],\n",
       "       ['Public Relations', 31.0, 18.0],\n",
       "       ['Legal Department', 33.0, 2.0],\n",
       "       ['Media Relations', 48.0, 27.0],\n",
       "       ['Quality Assurance', 41.0, 20.0],\n",
       "       ['Human Resources', 44.0, 1.0],\n",
       "       ['Tech Support', 38.0, 28.0],\n",
       "       ['Accounting', 34.0, 11.0],\n",
       "       ['Quality Assurance', 28.0, 27.0],\n",
       "       ['Advertising', 23.0, 23.0],\n",
       "       ['Customer Relations', 52.0, 12.0],\n",
       "       ['Finances', 33.0, 22.0],\n",
       "       ['Human Resources', 45.0, 28.0],\n",
       "       ['Legal Department', 37.0, 30.0],\n",
       "       ['Research and Development', 26.0, 27.0],\n",
       "       ['Asset Management', 54.0, 19.0],\n",
       "       ['Tech Support', 51.0, 29.0],\n",
       "       ['Quality Assurance', 26.0, 20.0],\n",
       "       ['Accounting', 26.0, 10.0],\n",
       "       ['Customer Service', 35.0, 4.0],\n",
       "       ['Sales and Marketing', 38.0, 23.0],\n",
       "       ['Tech Support', 33.0, 14.0],\n",
       "       ['Advertising', 38.0, 17.0],\n",
       "       ['Accounting', 43.0, 21.0],\n",
       "       ['Accounting', 32.0, 7.0],\n",
       "       ['Media Relations', 32.0, 15.0],\n",
       "       ['Human Resources', 51.0, 7.0],\n",
       "       ['Public Relations', 25.0, 4.0],\n",
       "       ['Asset Management', 58.0, 23.0],\n",
       "       ['Accounting', 41.0, 25.0],\n",
       "       ['Finances', 25.0, 24.0],\n",
       "       ['Tech Support', 52.0, 16.0],\n",
       "       ['Customer Relations', 52.0, 3.0],\n",
       "       ['Quality Assurance', 30.0, 5.0],\n",
       "       ['Research and Development', 32.0, 27.0],\n",
       "       ['Quality Assurance', 46.0, 24.0]], dtype=object)"
      ]
     },
     "execution_count": 11,
     "metadata": {},
     "output_type": "execute_result"
    }
   ],
   "source": [
    "x"
   ]
  },
  {
   "cell_type": "code",
   "execution_count": 12,
   "metadata": {},
   "outputs": [
    {
     "name": "stderr",
     "output_type": "stream",
     "text": [
      "C:\\Users\\Shailesh\\Anaconda3\\lib\\site-packages\\sklearn\\utils\\deprecation.py:66: DeprecationWarning: Class Imputer is deprecated; Imputer was deprecated in version 0.20 and will be removed in 0.22. Import impute.SimpleImputer from sklearn instead.\n",
      "  warnings.warn(msg, category=DeprecationWarning)\n"
     ]
    }
   ],
   "source": [
    "from sklearn.preprocessing import Imputer\n",
    "imputer = Imputer(missing_values = 'NaN', strategy='median', axis=0)\n",
    "imputer = imputer.fit(x[:,1:3])\n",
    "x[:,1:3] = imputer.transform(x[:,1:3])"
   ]
  },
  {
   "cell_type": "code",
   "execution_count": 13,
   "metadata": {
    "scrolled": true
   },
   "outputs": [
    {
     "data": {
      "text/plain": [
       "array([['Asset Management', 38.0, 23.0],\n",
       "       ['Customer Service', 26.0, 10.0],\n",
       "       ['Human Resources', 40.93617021276596, 14.0],\n",
       "       ['Public Relations', 40.93617021276596, 12.0],\n",
       "       ['Customer Service', 40.93617021276596, 13.0],\n",
       "       ['Advertising', 40.93617021276596, 9.0],\n",
       "       ['Research and Development', 40.93617021276596, 24.0],\n",
       "       ['Asset Management', 40.93617021276596, 2.0],\n",
       "       ['Legal Department', 40.0, 30.0],\n",
       "       ['Advertising', 24.0, 23.0],\n",
       "       ['Legal Department', 35.0, 3.0],\n",
       "       [nan, 31.0, 15.781609195402298],\n",
       "       [nan, 58.0, 15.781609195402298],\n",
       "       [nan, 51.0, 15.781609195402298],\n",
       "       [nan, 27.0, 15.781609195402298],\n",
       "       [nan, 54.0, 15.781609195402298],\n",
       "       [nan, 55.0, 15.781609195402298],\n",
       "       ['Media Relations', 58.0, 15.781609195402298],\n",
       "       ['Research and Development', 59.0, 15.781609195402298],\n",
       "       ['Media Relations', 45.0, 4.0],\n",
       "       ['Sales and Marketing', 50.0, 2.0],\n",
       "       ['Advertising', 55.0, 19.0],\n",
       "       ['Tech Support', 40.0, 20.0],\n",
       "       ['Advertising', 51.0, 21.0],\n",
       "       ['Media Relations', 24.0, 12.0],\n",
       "       ['Asset Management', 57.0, 25.0],\n",
       "       ['Legal Department', 24.0, 9.0],\n",
       "       ['Public Relations', 46.0, 6.0],\n",
       "       ['Asset Management', 29.0, 26.0],\n",
       "       ['Customer Relations', 46.0, 13.0],\n",
       "       ['Quality Assurance', 30.0, 29.0],\n",
       "       ['Accounting', 57.0, 15.781609195402298],\n",
       "       [nan, 47.0, 15.781609195402298],\n",
       "       [nan, 41.0, 15.781609195402298],\n",
       "       [nan, 50.0, 15.781609195402298],\n",
       "       ['Public Relations', 49.0, 15.781609195402298],\n",
       "       ['Customer Relations', 28.0, 6.0],\n",
       "       ['Public Relations', 44.0, 29.0],\n",
       "       ['Finances', 40.0, 19.0],\n",
       "       ['Advertising', 30.0, 25.0],\n",
       "       ['Finances', 56.0, 21.0],\n",
       "       ['Accounting', 26.0, 24.0],\n",
       "       ['Finances', 44.0, 16.0],\n",
       "       ['Payroll', 36.0, 28.0],\n",
       "       ['Tech Support', 43.0, 24.0],\n",
       "       ['Finances', 47.0, 15.0],\n",
       "       ['Finances', 29.0, 11.0],\n",
       "       ['Customer Service', 52.0, 7.0],\n",
       "       ['Customer Relations', 42.0, 23.0],\n",
       "       ['Tech Support', 44.0, 5.0],\n",
       "       ['Finances', 23.0, 8.0],\n",
       "       ['Payroll', 57.0, 16.0],\n",
       "       ['Asset Management', 40.0, 9.0],\n",
       "       ['Media Relations', 28.0, 24.0],\n",
       "       ['Advertising', 53.0, 7.0],\n",
       "       ['Accounting', 56.0, 3.0],\n",
       "       ['Customer Relations', 48.0, 20.0],\n",
       "       ['Customer Service', 54.0, 7.0],\n",
       "       ['Media Relations', 37.0, 2.0],\n",
       "       ['Advertising', 57.0, 8.0],\n",
       "       ['Human Resources', 50.0, 17.0],\n",
       "       ['Legal Department', 46.0, 9.0],\n",
       "       ['Media Relations', 28.0, 3.0],\n",
       "       ['Legal Department', 26.0, 14.0],\n",
       "       ['Payroll', 54.0, 11.0],\n",
       "       ['Public Relations', 31.0, 18.0],\n",
       "       ['Legal Department', 33.0, 2.0],\n",
       "       ['Media Relations', 48.0, 27.0],\n",
       "       ['Quality Assurance', 41.0, 20.0],\n",
       "       ['Human Resources', 44.0, 1.0],\n",
       "       ['Tech Support', 38.0, 28.0],\n",
       "       ['Accounting', 34.0, 11.0],\n",
       "       ['Quality Assurance', 28.0, 27.0],\n",
       "       ['Advertising', 23.0, 23.0],\n",
       "       ['Customer Relations', 52.0, 12.0],\n",
       "       ['Finances', 33.0, 22.0],\n",
       "       ['Human Resources', 45.0, 28.0],\n",
       "       ['Legal Department', 37.0, 30.0],\n",
       "       ['Research and Development', 26.0, 27.0],\n",
       "       ['Asset Management', 54.0, 19.0],\n",
       "       ['Tech Support', 51.0, 29.0],\n",
       "       ['Quality Assurance', 26.0, 20.0],\n",
       "       ['Accounting', 26.0, 10.0],\n",
       "       ['Customer Service', 35.0, 4.0],\n",
       "       ['Sales and Marketing', 38.0, 23.0],\n",
       "       ['Tech Support', 33.0, 14.0],\n",
       "       ['Advertising', 38.0, 17.0],\n",
       "       ['Accounting', 43.0, 21.0],\n",
       "       ['Accounting', 32.0, 7.0],\n",
       "       ['Media Relations', 32.0, 15.0],\n",
       "       ['Human Resources', 51.0, 7.0],\n",
       "       ['Public Relations', 25.0, 4.0],\n",
       "       ['Asset Management', 58.0, 23.0],\n",
       "       ['Accounting', 41.0, 25.0],\n",
       "       ['Finances', 25.0, 24.0],\n",
       "       ['Tech Support', 52.0, 16.0],\n",
       "       ['Customer Relations', 52.0, 3.0],\n",
       "       ['Quality Assurance', 30.0, 5.0],\n",
       "       ['Research and Development', 32.0, 27.0],\n",
       "       ['Quality Assurance', 46.0, 24.0]], dtype=object)"
      ]
     },
     "execution_count": 13,
     "metadata": {},
     "output_type": "execute_result"
    }
   ],
   "source": [
    "x"
   ]
  },
  {
   "cell_type": "code",
   "execution_count": 26,
   "metadata": {},
   "outputs": [],
   "source": [
    "from sklearn.impute import SimpleImputer\n",
    "imp = SimpleImputer(strategy='most_frequent')"
   ]
  },
  {
   "cell_type": "code",
   "execution_count": 27,
   "metadata": {},
   "outputs": [],
   "source": [
    "x[:,0:1] = imp.fit_transform(x[:,0:1])"
   ]
  },
  {
   "cell_type": "code",
   "execution_count": 28,
   "metadata": {},
   "outputs": [
    {
     "data": {
      "text/plain": [
       "array([['Asset Management', 38.0, 23.0],\n",
       "       ['Customer Service', 26.0, 10.0],\n",
       "       ['Human Resources', 40.93617021276596, 14.0],\n",
       "       ['Public Relations', 40.93617021276596, 12.0],\n",
       "       ['Customer Service', 40.93617021276596, 13.0],\n",
       "       ['Advertising', 40.93617021276596, 9.0],\n",
       "       ['Research and Development', 40.93617021276596, 24.0],\n",
       "       ['Asset Management', 40.93617021276596, 2.0],\n",
       "       ['Legal Department', 40.0, 30.0],\n",
       "       ['Advertising', 24.0, 23.0],\n",
       "       ['Legal Department', 35.0, 3.0],\n",
       "       ['Advertising', 31.0, 15.781609195402298],\n",
       "       ['Advertising', 58.0, 15.781609195402298],\n",
       "       ['Advertising', 51.0, 15.781609195402298],\n",
       "       ['Advertising', 27.0, 15.781609195402298],\n",
       "       ['Advertising', 54.0, 15.781609195402298],\n",
       "       ['Advertising', 55.0, 15.781609195402298],\n",
       "       ['Media Relations', 58.0, 15.781609195402298],\n",
       "       ['Research and Development', 59.0, 15.781609195402298],\n",
       "       ['Media Relations', 45.0, 4.0],\n",
       "       ['Sales and Marketing', 50.0, 2.0],\n",
       "       ['Advertising', 55.0, 19.0],\n",
       "       ['Tech Support', 40.0, 20.0],\n",
       "       ['Advertising', 51.0, 21.0],\n",
       "       ['Media Relations', 24.0, 12.0],\n",
       "       ['Asset Management', 57.0, 25.0],\n",
       "       ['Legal Department', 24.0, 9.0],\n",
       "       ['Public Relations', 46.0, 6.0],\n",
       "       ['Asset Management', 29.0, 26.0],\n",
       "       ['Customer Relations', 46.0, 13.0],\n",
       "       ['Quality Assurance', 30.0, 29.0],\n",
       "       ['Accounting', 57.0, 15.781609195402298],\n",
       "       ['Advertising', 47.0, 15.781609195402298],\n",
       "       ['Advertising', 41.0, 15.781609195402298],\n",
       "       ['Advertising', 50.0, 15.781609195402298],\n",
       "       ['Public Relations', 49.0, 15.781609195402298],\n",
       "       ['Customer Relations', 28.0, 6.0],\n",
       "       ['Public Relations', 44.0, 29.0],\n",
       "       ['Finances', 40.0, 19.0],\n",
       "       ['Advertising', 30.0, 25.0],\n",
       "       ['Finances', 56.0, 21.0],\n",
       "       ['Accounting', 26.0, 24.0],\n",
       "       ['Finances', 44.0, 16.0],\n",
       "       ['Payroll', 36.0, 28.0],\n",
       "       ['Tech Support', 43.0, 24.0],\n",
       "       ['Finances', 47.0, 15.0],\n",
       "       ['Finances', 29.0, 11.0],\n",
       "       ['Customer Service', 52.0, 7.0],\n",
       "       ['Customer Relations', 42.0, 23.0],\n",
       "       ['Tech Support', 44.0, 5.0],\n",
       "       ['Finances', 23.0, 8.0],\n",
       "       ['Payroll', 57.0, 16.0],\n",
       "       ['Asset Management', 40.0, 9.0],\n",
       "       ['Media Relations', 28.0, 24.0],\n",
       "       ['Advertising', 53.0, 7.0],\n",
       "       ['Accounting', 56.0, 3.0],\n",
       "       ['Customer Relations', 48.0, 20.0],\n",
       "       ['Customer Service', 54.0, 7.0],\n",
       "       ['Media Relations', 37.0, 2.0],\n",
       "       ['Advertising', 57.0, 8.0],\n",
       "       ['Human Resources', 50.0, 17.0],\n",
       "       ['Legal Department', 46.0, 9.0],\n",
       "       ['Media Relations', 28.0, 3.0],\n",
       "       ['Legal Department', 26.0, 14.0],\n",
       "       ['Payroll', 54.0, 11.0],\n",
       "       ['Public Relations', 31.0, 18.0],\n",
       "       ['Legal Department', 33.0, 2.0],\n",
       "       ['Media Relations', 48.0, 27.0],\n",
       "       ['Quality Assurance', 41.0, 20.0],\n",
       "       ['Human Resources', 44.0, 1.0],\n",
       "       ['Tech Support', 38.0, 28.0],\n",
       "       ['Accounting', 34.0, 11.0],\n",
       "       ['Quality Assurance', 28.0, 27.0],\n",
       "       ['Advertising', 23.0, 23.0],\n",
       "       ['Customer Relations', 52.0, 12.0],\n",
       "       ['Finances', 33.0, 22.0],\n",
       "       ['Human Resources', 45.0, 28.0],\n",
       "       ['Legal Department', 37.0, 30.0],\n",
       "       ['Research and Development', 26.0, 27.0],\n",
       "       ['Asset Management', 54.0, 19.0],\n",
       "       ['Tech Support', 51.0, 29.0],\n",
       "       ['Quality Assurance', 26.0, 20.0],\n",
       "       ['Accounting', 26.0, 10.0],\n",
       "       ['Customer Service', 35.0, 4.0],\n",
       "       ['Sales and Marketing', 38.0, 23.0],\n",
       "       ['Tech Support', 33.0, 14.0],\n",
       "       ['Advertising', 38.0, 17.0],\n",
       "       ['Accounting', 43.0, 21.0],\n",
       "       ['Accounting', 32.0, 7.0],\n",
       "       ['Media Relations', 32.0, 15.0],\n",
       "       ['Human Resources', 51.0, 7.0],\n",
       "       ['Public Relations', 25.0, 4.0],\n",
       "       ['Asset Management', 58.0, 23.0],\n",
       "       ['Accounting', 41.0, 25.0],\n",
       "       ['Finances', 25.0, 24.0],\n",
       "       ['Tech Support', 52.0, 16.0],\n",
       "       ['Customer Relations', 52.0, 3.0],\n",
       "       ['Quality Assurance', 30.0, 5.0],\n",
       "       ['Research and Development', 32.0, 27.0],\n",
       "       ['Quality Assurance', 46.0, 24.0]], dtype=object)"
      ]
     },
     "execution_count": 28,
     "metadata": {},
     "output_type": "execute_result"
    }
   ],
   "source": [
    "x"
   ]
  },
  {
   "cell_type": "code",
   "execution_count": 29,
   "metadata": {},
   "outputs": [
    {
     "data": {
      "text/plain": [
       "numpy.ndarray"
      ]
     },
     "execution_count": 29,
     "metadata": {},
     "output_type": "execute_result"
    }
   ],
   "source": [
    "type(x)"
   ]
  },
  {
   "cell_type": "code",
   "execution_count": 17,
   "metadata": {},
   "outputs": [
    {
     "ename": "NameError",
     "evalue": "name 'dataset_2' is not defined",
     "output_type": "error",
     "traceback": [
      "\u001b[1;31m---------------------------------------------------------------------------\u001b[0m",
      "\u001b[1;31mNameError\u001b[0m                                 Traceback (most recent call last)",
      "\u001b[1;32m<ipython-input-17-9be539fc0f8e>\u001b[0m in \u001b[0;36m<module>\u001b[1;34m\u001b[0m\n\u001b[1;32m----> 1\u001b[1;33m \u001b[0mround\u001b[0m\u001b[1;33m(\u001b[0m\u001b[0mdataset_2\u001b[0m\u001b[1;33m.\u001b[0m\u001b[0miloc\u001b[0m\u001b[1;33m[\u001b[0m\u001b[1;33m:\u001b[0m\u001b[1;33m,\u001b[0m\u001b[1;36m5\u001b[0m\u001b[1;33m:\u001b[0m\u001b[1;36m6\u001b[0m\u001b[1;33m]\u001b[0m\u001b[1;33m,\u001b[0m\u001b[1;36m3\u001b[0m\u001b[1;33m)\u001b[0m\u001b[1;33m\u001b[0m\u001b[1;33m\u001b[0m\u001b[0m\n\u001b[0m",
      "\u001b[1;31mNameError\u001b[0m: name 'dataset_2' is not defined"
     ]
    }
   ],
   "source": [
    "round(dataset_2.iloc[:,5:6],3)"
   ]
  },
  {
   "cell_type": "code",
   "execution_count": null,
   "metadata": {},
   "outputs": [],
   "source": [
    "dataset.groupby('Department').size()"
   ]
  },
  {
   "cell_type": "code",
   "execution_count": null,
   "metadata": {},
   "outputs": [],
   "source": [
    "dataset_2=dataset"
   ]
  },
  {
   "cell_type": "code",
   "execution_count": null,
   "metadata": {},
   "outputs": [],
   "source": [
    "type(dataset_2)"
   ]
  },
  {
   "cell_type": "code",
   "execution_count": null,
   "metadata": {},
   "outputs": [],
   "source": [
    "dataset_2['Department'] = dataset_2['Department'].fillna('Sales and Marketing')"
   ]
  },
  {
   "cell_type": "code",
   "execution_count": null,
   "metadata": {},
   "outputs": [],
   "source": [
    "dataset_2['Age'] = dataset_2['Age'].fillna(dataset_2['Age'].mean())"
   ]
  },
  {
   "cell_type": "code",
   "execution_count": null,
   "metadata": {},
   "outputs": [],
   "source": [
    "dataset_2['Experience'] = dataset_2['Experience'].fillna(dataset_2['Experience'].mean())"
   ]
  },
  {
   "cell_type": "code",
   "execution_count": null,
   "metadata": {},
   "outputs": [],
   "source": [
    "dataset_2"
   ]
  },
  {
   "cell_type": "code",
   "execution_count": null,
   "metadata": {},
   "outputs": [],
   "source": [
    "#Outlier Treatment"
   ]
  },
  {
   "cell_type": "code",
   "execution_count": null,
   "metadata": {},
   "outputs": [],
   "source": [
    "os.chdir('C:\\\\Users\\\\HP\\\\Desktop\\\\Data Science - Course - Reusable component\\\\Outlier Treatment\\\\')"
   ]
  },
  {
   "cell_type": "code",
   "execution_count": null,
   "metadata": {},
   "outputs": [],
   "source": [
    "dataset = pd.read_excel('OutlierData.xlsx')"
   ]
  },
  {
   "cell_type": "code",
   "execution_count": null,
   "metadata": {},
   "outputs": [],
   "source": [
    "dataset"
   ]
  },
  {
   "cell_type": "code",
   "execution_count": null,
   "metadata": {},
   "outputs": [],
   "source": [
    "Q1 = dataset.quantile(0.25)\n",
    "Q3 = dataset.quantile(0.75)"
   ]
  },
  {
   "cell_type": "code",
   "execution_count": null,
   "metadata": {},
   "outputs": [],
   "source": [
    "Q1"
   ]
  },
  {
   "cell_type": "code",
   "execution_count": null,
   "metadata": {},
   "outputs": [],
   "source": [
    "Q3"
   ]
  },
  {
   "cell_type": "code",
   "execution_count": null,
   "metadata": {},
   "outputs": [],
   "source": [
    "IQR = Q3-Q1"
   ]
  },
  {
   "cell_type": "code",
   "execution_count": null,
   "metadata": {},
   "outputs": [],
   "source": [
    "IQR"
   ]
  },
  {
   "cell_type": "code",
   "execution_count": null,
   "metadata": {},
   "outputs": [],
   "source": [
    "dataset['Department'] = dataset['Department'].astype('category')\n",
    "dataset['Department'] = dataset['Department'].cat.codes"
   ]
  },
  {
   "cell_type": "code",
   "execution_count": null,
   "metadata": {},
   "outputs": [],
   "source": [
    "dataset.info()"
   ]
  },
  {
   "cell_type": "code",
   "execution_count": null,
   "metadata": {},
   "outputs": [],
   "source": [
    "dataset"
   ]
  },
  {
   "cell_type": "code",
   "execution_count": null,
   "metadata": {},
   "outputs": [],
   "source": [
    "dataset[~((dataset < (Q1 - 1.5*IQR))| (dataset> (Q3 + 1.5*IQR))).any(axis=1)]  #it removes the outlier through tilda in the dataset"
   ]
  },
  {
   "cell_type": "code",
   "execution_count": null,
   "metadata": {},
   "outputs": [],
   "source": [
    "dataset[((dataset < (Q1 - 1.5*IQR))| (dataset> (Q3 + 1.5*IQR))).any(axis=1)]"
   ]
  },
  {
   "cell_type": "code",
   "execution_count": null,
   "metadata": {},
   "outputs": [],
   "source": []
  },
  {
   "cell_type": "code",
   "execution_count": null,
   "metadata": {},
   "outputs": [],
   "source": [
    "#encoding formats into numbers"
   ]
  },
  {
   "cell_type": "code",
   "execution_count": null,
   "metadata": {},
   "outputs": [],
   "source": [
    "os.chdir('C:\\\\Users\\\\HP\\\\Desktop\\\\Data_Preprocessing\\\\')"
   ]
  },
  {
   "cell_type": "code",
   "execution_count": null,
   "metadata": {},
   "outputs": [],
   "source": [
    "dataset = pd.read_csv('data.csv')"
   ]
  },
  {
   "cell_type": "code",
   "execution_count": null,
   "metadata": {},
   "outputs": [],
   "source": [
    "dataset"
   ]
  },
  {
   "cell_type": "code",
   "execution_count": null,
   "metadata": {},
   "outputs": [],
   "source": [
    "x=dataset.iloc[:,1:3].values"
   ]
  },
  {
   "cell_type": "code",
   "execution_count": null,
   "metadata": {},
   "outputs": [],
   "source": [
    "np.log10(x)"
   ]
  },
  {
   "cell_type": "code",
   "execution_count": null,
   "metadata": {},
   "outputs": [],
   "source": [
    "y = dataset.iloc[:,3].values"
   ]
  },
  {
   "cell_type": "code",
   "execution_count": null,
   "metadata": {},
   "outputs": [],
   "source": [
    "y"
   ]
  },
  {
   "cell_type": "code",
   "execution_count": null,
   "metadata": {},
   "outputs": [],
   "source": [
    "from sklearn.preprocessing import LabelEncoder, OneHotEncoder\n",
    "labelencoder_x = LabelEncoder()\n",
    "x[:,0] = labelencoder_x.fit_transform(x[:,0])\n",
    "labelencoder_y = LabelEncoder()\n",
    "y = labelencoder_y.fit_transform(y)"
   ]
  },
  {
   "cell_type": "code",
   "execution_count": null,
   "metadata": {},
   "outputs": [],
   "source": [
    "onehotencoder = OneHotEncoder(categorical_features=[0])\n",
    "x = onehotencoder.fit_transform(x).toarray()"
   ]
  },
  {
   "cell_type": "code",
   "execution_count": null,
   "metadata": {},
   "outputs": [],
   "source": [
    "pd.DataFrame(x)"
   ]
  },
  {
   "cell_type": "code",
   "execution_count": null,
   "metadata": {},
   "outputs": [],
   "source": [
    "#feature scaling"
   ]
  },
  {
   "cell_type": "code",
   "execution_count": null,
   "metadata": {},
   "outputs": [],
   "source": [
    "from sklearn.preprocessing import StandardScaler\n",
    "sc_x = StandardScaler()"
   ]
  },
  {
   "cell_type": "code",
   "execution_count": null,
   "metadata": {},
   "outputs": [],
   "source": [
    "pd.DataFrame(x)"
   ]
  },
  {
   "cell_type": "code",
   "execution_count": null,
   "metadata": {},
   "outputs": [],
   "source": [
    "x_stand = sc_x.fit_transform(x)"
   ]
  },
  {
   "cell_type": "code",
   "execution_count": null,
   "metadata": {},
   "outputs": [],
   "source": [
    "pd.DataFrame(x_stand)"
   ]
  },
  {
   "cell_type": "code",
   "execution_count": null,
   "metadata": {},
   "outputs": [],
   "source": [
    "np.cbrt(x)"
   ]
  },
  {
   "cell_type": "code",
   "execution_count": null,
   "metadata": {},
   "outputs": [],
   "source": [
    "from sklearn.preprocessing import Normalizer  #any of the method could be used\n",
    "nm_x = Normalizer()\n",
    "x_norm[:,0:2] = nm_x.fit_transform(x_norm[:,0:2])"
   ]
  },
  {
   "cell_type": "code",
   "execution_count": null,
   "metadata": {},
   "outputs": [],
   "source": [
    "x_norm=nm_x.fit_transform(x)"
   ]
  },
  {
   "cell_type": "code",
   "execution_count": null,
   "metadata": {},
   "outputs": [],
   "source": [
    "pd.DataFrame(x_norm)"
   ]
  }
 ],
 "metadata": {
  "kernelspec": {
   "display_name": "Python 3",
   "language": "python",
   "name": "python3"
  },
  "language_info": {
   "codemirror_mode": {
    "name": "ipython",
    "version": 3
   },
   "file_extension": ".py",
   "mimetype": "text/x-python",
   "name": "python",
   "nbconvert_exporter": "python",
   "pygments_lexer": "ipython3",
   "version": "3.7.6"
  }
 },
 "nbformat": 4,
 "nbformat_minor": 2
}
